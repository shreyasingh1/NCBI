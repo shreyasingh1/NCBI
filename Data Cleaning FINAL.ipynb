{
 "cells": [
  {
   "cell_type": "markdown",
   "metadata": {},
   "source": [
    "# ***RUN NOTEBOOK IN ORDER"
   ]
  },
  {
   "cell_type": "markdown",
   "metadata": {},
   "source": [
    "# Dealing with multicomponent compounds"
   ]
  },
  {
   "cell_type": "markdown",
   "metadata": {},
   "source": [
    "# Data Cleaning Full (antag)"
   ]
  },
  {
   "cell_type": "code",
   "execution_count": 1,
   "metadata": {},
   "outputs": [],
   "source": [
    "import numpy as np\n",
    "import pandas as pd\n",
    "import matplotlib.pyplot as plt\n",
    "import seaborn as sns\n",
    "import requests\n",
    "from requests import exceptions\n",
    "import re\n",
    "%matplotlib inline\n",
    "\n",
    "import urllib\n",
    "from urllib.request import urlopen\n",
    "from bs4 import BeautifulSoup\n",
    "\n",
    "#hiding warning messages\n",
    "import warnings\n",
    "warnings.filterwarnings(\"ignore\")\n"
   ]
  },
  {
   "cell_type": "markdown",
   "metadata": {},
   "source": [
    "Read the antagonist assay data into a data frame"
   ]
  },
  {
   "cell_type": "code",
   "execution_count": 2,
   "metadata": {},
   "outputs": [
    {
     "data": {
      "text/html": [
       "<div>\n",
       "<style scoped>\n",
       "    .dataframe tbody tr th:only-of-type {\n",
       "        vertical-align: middle;\n",
       "    }\n",
       "\n",
       "    .dataframe tbody tr th {\n",
       "        vertical-align: top;\n",
       "    }\n",
       "\n",
       "    .dataframe thead th {\n",
       "        text-align: right;\n",
       "    }\n",
       "</style>\n",
       "<table border=\"1\" class=\"dataframe\">\n",
       "  <thead>\n",
       "    <tr style=\"text-align: right;\">\n",
       "      <th></th>\n",
       "      <th>PUBCHEM_RESULT_TAG</th>\n",
       "      <th>PUBCHEM_SID</th>\n",
       "      <th>PUBCHEM_CID</th>\n",
       "      <th>PUBCHEM_ACTIVITY_OUTCOME</th>\n",
       "      <th>PUBCHEM_ACTIVITY_SCORE</th>\n",
       "      <th>PUBCHEM_ACTIVITY_URL</th>\n",
       "      <th>PUBCHEM_ASSAYDATA_COMMENT</th>\n",
       "      <th>Activity Summary</th>\n",
       "      <th>Ratio Activity</th>\n",
       "      <th>Ratio Potency (uM)</th>\n",
       "      <th>...</th>\n",
       "      <th>530 nm Activity</th>\n",
       "      <th>530 nm Potency (uM)</th>\n",
       "      <th>530 nm Efficacy (%)</th>\n",
       "      <th>460 nm Activity</th>\n",
       "      <th>460 nm Potency (uM)</th>\n",
       "      <th>460 nm Efficacy (%)</th>\n",
       "      <th>Viability Activity</th>\n",
       "      <th>Viability Potency (uM)</th>\n",
       "      <th>Viability Efficacy (%)</th>\n",
       "      <th>Sample Source</th>\n",
       "    </tr>\n",
       "  </thead>\n",
       "  <tbody>\n",
       "    <tr>\n",
       "      <th>10486</th>\n",
       "      <td>10484</td>\n",
       "      <td>144214047.0</td>\n",
       "      <td>5794.0</td>\n",
       "      <td>Inactive</td>\n",
       "      <td>0.0</td>\n",
       "      <td>NaN</td>\n",
       "      <td>NaN</td>\n",
       "      <td>inactive</td>\n",
       "      <td>inactive</td>\n",
       "      <td>NaN</td>\n",
       "      <td>...</td>\n",
       "      <td>inactive</td>\n",
       "      <td>NaN</td>\n",
       "      <td>0</td>\n",
       "      <td>inactive</td>\n",
       "      <td>NaN</td>\n",
       "      <td>0</td>\n",
       "      <td>inactive</td>\n",
       "      <td>NaN</td>\n",
       "      <td>0</td>\n",
       "      <td>LightBiologicals</td>\n",
       "    </tr>\n",
       "    <tr>\n",
       "      <th>10487</th>\n",
       "      <td>10485</td>\n",
       "      <td>144214048.0</td>\n",
       "      <td>3034285.0</td>\n",
       "      <td>Inconclusive</td>\n",
       "      <td>10.0</td>\n",
       "      <td>NaN</td>\n",
       "      <td>NaN</td>\n",
       "      <td>inconclusive agonist</td>\n",
       "      <td>inconclusive agonist</td>\n",
       "      <td>23.4434</td>\n",
       "      <td>...</td>\n",
       "      <td>inactive</td>\n",
       "      <td>NaN</td>\n",
       "      <td>0</td>\n",
       "      <td>inconclusive agonist</td>\n",
       "      <td>6.53319</td>\n",
       "      <td>77.9241</td>\n",
       "      <td>inactive</td>\n",
       "      <td>NaN</td>\n",
       "      <td>0</td>\n",
       "      <td>LightBiologicals</td>\n",
       "    </tr>\n",
       "    <tr>\n",
       "      <th>10488</th>\n",
       "      <td>10486</td>\n",
       "      <td>144214049.0</td>\n",
       "      <td>6623.0</td>\n",
       "      <td>Active</td>\n",
       "      <td>48.0</td>\n",
       "      <td>NaN</td>\n",
       "      <td>NaN</td>\n",
       "      <td>active antagonist</td>\n",
       "      <td>active antagonist</td>\n",
       "      <td>40.0017</td>\n",
       "      <td>...</td>\n",
       "      <td>inactive</td>\n",
       "      <td>NaN</td>\n",
       "      <td>0</td>\n",
       "      <td>inconclusive antagonist</td>\n",
       "      <td>40.3064</td>\n",
       "      <td>-89.3918</td>\n",
       "      <td>inactive</td>\n",
       "      <td>NaN</td>\n",
       "      <td>0</td>\n",
       "      <td>SIGMA</td>\n",
       "    </tr>\n",
       "  </tbody>\n",
       "</table>\n",
       "<p>3 rows × 21 columns</p>\n",
       "</div>"
      ],
      "text/plain": [
       "      PUBCHEM_RESULT_TAG  PUBCHEM_SID  PUBCHEM_CID PUBCHEM_ACTIVITY_OUTCOME  \\\n",
       "10486              10484  144214047.0       5794.0                 Inactive   \n",
       "10487              10485  144214048.0    3034285.0             Inconclusive   \n",
       "10488              10486  144214049.0       6623.0                   Active   \n",
       "\n",
       "       PUBCHEM_ACTIVITY_SCORE  PUBCHEM_ACTIVITY_URL  \\\n",
       "10486                     0.0                   NaN   \n",
       "10487                    10.0                   NaN   \n",
       "10488                    48.0                   NaN   \n",
       "\n",
       "       PUBCHEM_ASSAYDATA_COMMENT      Activity Summary        Ratio Activity  \\\n",
       "10486                        NaN              inactive              inactive   \n",
       "10487                        NaN  inconclusive agonist  inconclusive agonist   \n",
       "10488                        NaN     active antagonist     active antagonist   \n",
       "\n",
       "      Ratio Potency (uM)  ... 530 nm Activity 530 nm Potency (uM)  \\\n",
       "10486                NaN  ...        inactive                 NaN   \n",
       "10487            23.4434  ...        inactive                 NaN   \n",
       "10488            40.0017  ...        inactive                 NaN   \n",
       "\n",
       "      530 nm Efficacy (%)          460 nm Activity 460 nm Potency (uM)  \\\n",
       "10486                   0                 inactive                 NaN   \n",
       "10487                   0     inconclusive agonist             6.53319   \n",
       "10488                   0  inconclusive antagonist             40.3064   \n",
       "\n",
       "      460 nm Efficacy (%) Viability Activity Viability Potency (uM)  \\\n",
       "10486                   0           inactive                    NaN   \n",
       "10487             77.9241           inactive                    NaN   \n",
       "10488            -89.3918           inactive                    NaN   \n",
       "\n",
       "      Viability Efficacy (%)     Sample Source  \n",
       "10486                      0  LightBiologicals  \n",
       "10487                      0  LightBiologicals  \n",
       "10488                      0             SIGMA  \n",
       "\n",
       "[3 rows x 21 columns]"
      ]
     },
     "execution_count": 2,
     "metadata": {},
     "output_type": "execute_result"
    }
   ],
   "source": [
    "#Reading in Summary ANTAGONIST CSV\n",
    "antag_pre = pd.read_csv('AID_720725_datatable_all.csv')\n",
    "antag_pre = antag_pre.iloc[3:]\n",
    "antag_pre.tail(3)"
   ]
  },
  {
   "cell_type": "code",
   "execution_count": 3,
   "metadata": {},
   "outputs": [
    {
     "data": {
      "text/html": [
       "<div>\n",
       "<style scoped>\n",
       "    .dataframe tbody tr th:only-of-type {\n",
       "        vertical-align: middle;\n",
       "    }\n",
       "\n",
       "    .dataframe tbody tr th {\n",
       "        vertical-align: top;\n",
       "    }\n",
       "\n",
       "    .dataframe thead th {\n",
       "        text-align: right;\n",
       "    }\n",
       "</style>\n",
       "<table border=\"1\" class=\"dataframe\">\n",
       "  <thead>\n",
       "    <tr style=\"text-align: right;\">\n",
       "      <th></th>\n",
       "      <th>PUBCHEM_CID</th>\n",
       "      <th>PUBCHEM_ACTIVITY_OUTCOME</th>\n",
       "      <th>Activity Summary</th>\n",
       "      <th>Ratio Potency (uM)</th>\n",
       "      <th>Ratio Efficacy (%)</th>\n",
       "    </tr>\n",
       "  </thead>\n",
       "  <tbody>\n",
       "    <tr>\n",
       "      <th>10486</th>\n",
       "      <td>5794.0</td>\n",
       "      <td>Inactive</td>\n",
       "      <td>inactive</td>\n",
       "      <td>NaN</td>\n",
       "      <td>0</td>\n",
       "    </tr>\n",
       "    <tr>\n",
       "      <th>10487</th>\n",
       "      <td>3034285.0</td>\n",
       "      <td>Inconclusive</td>\n",
       "      <td>inconclusive agonist</td>\n",
       "      <td>23.4434</td>\n",
       "      <td>91.4381</td>\n",
       "    </tr>\n",
       "    <tr>\n",
       "      <th>10488</th>\n",
       "      <td>6623.0</td>\n",
       "      <td>Active</td>\n",
       "      <td>active antagonist</td>\n",
       "      <td>40.0017</td>\n",
       "      <td>-90.7806</td>\n",
       "    </tr>\n",
       "  </tbody>\n",
       "</table>\n",
       "</div>"
      ],
      "text/plain": [
       "       PUBCHEM_CID PUBCHEM_ACTIVITY_OUTCOME      Activity Summary  \\\n",
       "10486       5794.0                 Inactive              inactive   \n",
       "10487    3034285.0             Inconclusive  inconclusive agonist   \n",
       "10488       6623.0                   Active     active antagonist   \n",
       "\n",
       "      Ratio Potency (uM) Ratio Efficacy (%)  \n",
       "10486                NaN                  0  \n",
       "10487            23.4434            91.4381  \n",
       "10488            40.0017           -90.7806  "
      ]
     },
     "execution_count": 3,
     "metadata": {},
     "output_type": "execute_result"
    }
   ],
   "source": [
    "antag_pre = antag_pre[['PUBCHEM_CID', 'PUBCHEM_ACTIVITY_OUTCOME', 'Activity Summary', 'Ratio Potency (uM)', 'Ratio Efficacy (%)']]\n",
    "antag_pre.tail(3)"
   ]
  },
  {
   "cell_type": "markdown",
   "metadata": {},
   "source": [
    "Deal with the NULL values: remove the rows without CIDs."
   ]
  },
  {
   "cell_type": "code",
   "execution_count": 4,
   "metadata": {},
   "outputs": [
    {
     "data": {
      "text/plain": [
       "PUBCHEM_CID                  149\n",
       "PUBCHEM_ACTIVITY_OUTCOME       0\n",
       "Activity Summary               0\n",
       "Ratio Potency (uM)          8433\n",
       "Ratio Efficacy (%)             0\n",
       "dtype: int64"
      ]
     },
     "execution_count": 4,
     "metadata": {},
     "output_type": "execute_result"
    }
   ],
   "source": [
    "antag_pre.isnull().sum()"
   ]
  },
  {
   "cell_type": "code",
   "execution_count": 5,
   "metadata": {},
   "outputs": [
    {
     "data": {
      "text/plain": [
       "(10337, 5)"
      ]
     },
     "execution_count": 5,
     "metadata": {},
     "output_type": "execute_result"
    }
   ],
   "source": [
    "antag_pre = antag_pre[ antag_pre['PUBCHEM_CID'].notnull() ]\n",
    "antag_pre.shape"
   ]
  },
  {
   "cell_type": "markdown",
   "metadata": {},
   "source": [
    "Convert the PUBCHEM_CID (floats) into an integer type."
   ]
  },
  {
   "cell_type": "code",
   "execution_count": 6,
   "metadata": {},
   "outputs": [
    {
     "data": {
      "text/html": [
       "<div>\n",
       "<style scoped>\n",
       "    .dataframe tbody tr th:only-of-type {\n",
       "        vertical-align: middle;\n",
       "    }\n",
       "\n",
       "    .dataframe tbody tr th {\n",
       "        vertical-align: top;\n",
       "    }\n",
       "\n",
       "    .dataframe thead th {\n",
       "        text-align: right;\n",
       "    }\n",
       "</style>\n",
       "<table border=\"1\" class=\"dataframe\">\n",
       "  <thead>\n",
       "    <tr style=\"text-align: right;\">\n",
       "      <th></th>\n",
       "      <th>PUBCHEM_CID</th>\n",
       "      <th>PUBCHEM_ACTIVITY_OUTCOME</th>\n",
       "      <th>Activity Summary</th>\n",
       "      <th>Ratio Potency (uM)</th>\n",
       "      <th>Ratio Efficacy (%)</th>\n",
       "    </tr>\n",
       "  </thead>\n",
       "  <tbody>\n",
       "    <tr>\n",
       "      <th>3</th>\n",
       "      <td>12850184</td>\n",
       "      <td>Inactive</td>\n",
       "      <td>inactive</td>\n",
       "      <td>NaN</td>\n",
       "      <td>0</td>\n",
       "    </tr>\n",
       "    <tr>\n",
       "      <th>4</th>\n",
       "      <td>89753</td>\n",
       "      <td>Inactive</td>\n",
       "      <td>inactive</td>\n",
       "      <td>NaN</td>\n",
       "      <td>0</td>\n",
       "    </tr>\n",
       "    <tr>\n",
       "      <th>5</th>\n",
       "      <td>9403</td>\n",
       "      <td>Active</td>\n",
       "      <td>active antagonist</td>\n",
       "      <td>7.56242</td>\n",
       "      <td>-104.384</td>\n",
       "    </tr>\n",
       "  </tbody>\n",
       "</table>\n",
       "</div>"
      ],
      "text/plain": [
       "   PUBCHEM_CID PUBCHEM_ACTIVITY_OUTCOME   Activity Summary Ratio Potency (uM)  \\\n",
       "3     12850184                 Inactive           inactive                NaN   \n",
       "4        89753                 Inactive           inactive                NaN   \n",
       "5         9403                   Active  active antagonist            7.56242   \n",
       "\n",
       "  Ratio Efficacy (%)  \n",
       "3                  0  \n",
       "4                  0  \n",
       "5           -104.384  "
      ]
     },
     "execution_count": 6,
     "metadata": {},
     "output_type": "execute_result"
    }
   ],
   "source": [
    "antag_pre['PUBCHEM_CID'] = antag_pre['PUBCHEM_CID'].astype(int)\n",
    "antag_pre.head(3)"
   ]
  },
  {
   "cell_type": "code",
   "execution_count": 7,
   "metadata": {},
   "outputs": [
    {
     "data": {
      "text/plain": [
       "inactive                               7640\n",
       "inconclusive                           1025\n",
       "active antagonist                       451\n",
       "inconclusive antagonist (cytotoxic)     397\n",
       "active agonist                          268\n",
       "inconclusive agonist                    257\n",
       "inconclusive antagonist                 242\n",
       "inconclusive agonist (cytotoxic)         57\n",
       "Name: Activity Summary, dtype: int64"
      ]
     },
     "execution_count": 7,
     "metadata": {},
     "output_type": "execute_result"
    }
   ],
   "source": [
    "antag_pre['Activity Summary'].value_counts()"
   ]
  },
  {
   "cell_type": "code",
   "execution_count": 8,
   "metadata": {},
   "outputs": [
    {
     "data": {
      "text/plain": [
       "Inactive        7640\n",
       "Inconclusive    2246\n",
       "Active           451\n",
       "Name: PUBCHEM_ACTIVITY_OUTCOME, dtype: int64"
      ]
     },
     "execution_count": 8,
     "metadata": {},
     "output_type": "execute_result"
    }
   ],
   "source": [
    "antag_pre['PUBCHEM_ACTIVITY_OUTCOME'].value_counts()"
   ]
  },
  {
   "cell_type": "code",
   "execution_count": 9,
   "metadata": {},
   "outputs": [
    {
     "data": {
      "text/plain": [
       "(10337, 5)"
      ]
     },
     "execution_count": 9,
     "metadata": {},
     "output_type": "execute_result"
    }
   ],
   "source": [
    "antag_pre.shape"
   ]
  },
  {
   "cell_type": "code",
   "execution_count": 10,
   "metadata": {},
   "outputs": [
    {
     "data": {
      "text/html": [
       "<div>\n",
       "<style scoped>\n",
       "    .dataframe tbody tr th:only-of-type {\n",
       "        vertical-align: middle;\n",
       "    }\n",
       "\n",
       "    .dataframe tbody tr th {\n",
       "        vertical-align: top;\n",
       "    }\n",
       "\n",
       "    .dataframe thead th {\n",
       "        text-align: right;\n",
       "    }\n",
       "</style>\n",
       "<table border=\"1\" class=\"dataframe\">\n",
       "  <thead>\n",
       "    <tr style=\"text-align: right;\">\n",
       "      <th></th>\n",
       "      <th>PUBCHEM_CID</th>\n",
       "      <th>PUBCHEM_ACTIVITY_OUTCOME</th>\n",
       "      <th>Activity Summary</th>\n",
       "      <th>Ratio Potency (uM)</th>\n",
       "      <th>Ratio Efficacy (%)</th>\n",
       "    </tr>\n",
       "  </thead>\n",
       "  <tbody>\n",
       "    <tr>\n",
       "      <th>3</th>\n",
       "      <td>12850184</td>\n",
       "      <td>Inactive</td>\n",
       "      <td>inactive</td>\n",
       "      <td>NaN</td>\n",
       "      <td>0</td>\n",
       "    </tr>\n",
       "    <tr>\n",
       "      <th>4</th>\n",
       "      <td>89753</td>\n",
       "      <td>Inactive</td>\n",
       "      <td>inactive</td>\n",
       "      <td>NaN</td>\n",
       "      <td>0</td>\n",
       "    </tr>\n",
       "    <tr>\n",
       "      <th>5</th>\n",
       "      <td>9403</td>\n",
       "      <td>Active</td>\n",
       "      <td>active antagonist</td>\n",
       "      <td>7.56242</td>\n",
       "      <td>-104.384</td>\n",
       "    </tr>\n",
       "  </tbody>\n",
       "</table>\n",
       "</div>"
      ],
      "text/plain": [
       "   PUBCHEM_CID PUBCHEM_ACTIVITY_OUTCOME   Activity Summary Ratio Potency (uM)  \\\n",
       "3     12850184                 Inactive           inactive                NaN   \n",
       "4        89753                 Inactive           inactive                NaN   \n",
       "5         9403                   Active  active antagonist            7.56242   \n",
       "\n",
       "  Ratio Efficacy (%)  \n",
       "3                  0  \n",
       "4                  0  \n",
       "5           -104.384  "
      ]
     },
     "execution_count": 10,
     "metadata": {},
     "output_type": "execute_result"
    }
   ],
   "source": [
    "antag_pre.head(3)"
   ]
  },
  {
   "cell_type": "markdown",
   "metadata": {},
   "source": [
    "# Identifying Covalent Unit Count (antag)"
   ]
  },
  {
   "cell_type": "markdown",
   "metadata": {},
   "source": [
    "Compute the number of CID chunks based on the number of CIDs and the chunk size."
   ]
  },
  {
   "cell_type": "code",
   "execution_count": 11,
   "metadata": {},
   "outputs": [
    {
     "name": "stdout",
     "output_type": "stream",
     "text": [
      "# CIDs =  10337\n",
      "# CID Chunks =  52 (chunked by  200 )\n"
     ]
    }
   ],
   "source": [
    "chunk_size = 200\n",
    "num_cids = len(antag_pre['PUBCHEM_CID'])\n",
    "\n",
    "if num_cids % chunk_size == 0 :\n",
    "    num_chunks = int( num_cids / chunk_size )\n",
    "else :\n",
    "    num_chunks = int( num_cids / chunk_size ) + 1\n",
    "\n",
    "print(\"# CIDs = \", num_cids)\n",
    "print(\"# CID Chunks = \", num_chunks, \"(chunked by \", chunk_size, \")\")"
   ]
  },
  {
   "cell_type": "markdown",
   "metadata": {},
   "source": [
    "Retrieve the covalent unit counts for each chunk of CIDs."
   ]
  },
  {
   "cell_type": "code",
   "execution_count": 12,
   "metadata": {},
   "outputs": [
    {
     "name": "stdout",
     "output_type": "stream",
     "text": [
      "(10337, 1)\n"
     ]
    }
   ],
   "source": [
    "import time\n",
    "\n",
    "frames = []  # temporary list to store data frames from each PUG-REST request.\n",
    "\n",
    "#print(\"chunkid\", 'idx1', 'idx2', 'length', sep=\"\\t\")\n",
    "\n",
    "for i in range(0, num_chunks) :\n",
    "    \n",
    "    idx1 = chunk_size * i\n",
    "    idx2 = chunk_size * (i + 1)\n",
    "    cidstr = \",\".join(antag_pre.PUBCHEM_CID[idx1:idx2].astype(str).tolist())\n",
    "\n",
    "    url = ('https://pubchem.ncbi.nlm.nih.gov/rest/pug/compound/cid/' + cidstr + '/property/CovalentUnitCount/TXT')\n",
    "    data = pd.read_csv( urllib.request.urlopen(url), header=None, names=['cov_units'] )\n",
    "    frames.append(data)\n",
    "    \n",
    "    # Uncomment this line to check the progress\n",
    "    #print(i, idx1, idx2, len(data), sep=\"\\t\")\n",
    "    \n",
    "    if (i % 5 == 0 ) :\n",
    "        time.sleep(1)  # To comply with the PubChem usage polocy (no more than 5 requests per sec)\n",
    "\n",
    "#    if ( i == 2 ) : break  #- for debugging\n",
    "\n",
    "cov_units = pd.concat(frames,ignore_index=True)\n",
    "print(cov_units.shape)"
   ]
  },
  {
   "cell_type": "markdown",
   "metadata": {},
   "source": [
    "# Dealing with multicomponent molecules (antag)"
   ]
  },
  {
   "cell_type": "code",
   "execution_count": 13,
   "metadata": {},
   "outputs": [
    {
     "data": {
      "text/plain": [
       "0"
      ]
     },
     "execution_count": 13,
     "metadata": {},
     "output_type": "execute_result"
    }
   ],
   "source": [
    "antag_pre['CovalentUnitCount'] = cov_units.cov_units.tolist()\n",
    "antag_pre.CovalentUnitCount.isnull().sum()"
   ]
  },
  {
   "cell_type": "code",
   "execution_count": 14,
   "metadata": {},
   "outputs": [
    {
     "data": {
      "text/plain": [
       "1     8308\n",
       "2     1560\n",
       "3      348\n",
       "5       49\n",
       "4       43\n",
       "6       10\n",
       "9        6\n",
       "7        5\n",
       "12       2\n",
       "11       2\n",
       "8        2\n",
       "10       1\n",
       "41       1\n",
       "Name: CovalentUnitCount, dtype: int64"
      ]
     },
     "execution_count": 14,
     "metadata": {},
     "output_type": "execute_result"
    }
   ],
   "source": [
    "antag_pre['CovalentUnitCount'].value_counts()"
   ]
  },
  {
   "cell_type": "code",
   "execution_count": 15,
   "metadata": {},
   "outputs": [
    {
     "data": {
      "text/plain": [
       "2029"
      ]
     },
     "execution_count": 15,
     "metadata": {},
     "output_type": "execute_result"
    }
   ],
   "source": [
    "cid_multicompo = antag_pre[ antag_pre.CovalentUnitCount > 1 ].PUBCHEM_CID.tolist()\n",
    "len(cid_multicompo)"
   ]
  },
  {
   "cell_type": "markdown",
   "metadata": {},
   "source": [
    "The multicomponent CID list has some duplicate CIDs.  Removing them will reduce the number of PUG-REST requests later."
   ]
  },
  {
   "cell_type": "code",
   "execution_count": 16,
   "metadata": {},
   "outputs": [
    {
     "name": "stdout",
     "output_type": "stream",
     "text": [
      "238\n",
      "[2767, 5795, 5807, 5935, 5946, 5963, 5974, 6014, 6099, 8152, 8478, 8638, 8667, 8691, 8715, 8722, 8753, 8813, 8816, 8870, 8980, 9279, 9280, 9351, 9373, 9409, 9703, 9787, 10866, 11048, 11057, 11065, 11224, 11313, 11545, 11693, 11933, 12447, 12456, 12484, 12525, 13144, 13266, 13506, 14184, 14250, 14710, 14842, 15106, 16013, 16015, 16230, 16961, 17170, 17730, 18340, 18487, 19379, 19458, 19518, 19604, 22420, 22584, 22960, 22985, 23392, 23394, 24434, 24482, 24502, 24633, 24639, 26041, 26758, 27461, 27503, 27872, 31202, 31280, 32731, 33286, 33557, 36605, 38852, 39424, 44072, 54891, 54900, 54911, 55182, 56704, 60496, 60560, 60714, 60754, 60822, 60934, 60962, 61100, 61444, 62311, 62581, 62655, 62882, 62884, 62935, 64142, 64927, 66245, 68589, 68624, 71412, 71587, 75311, 83823, 90473, 92151, 92965, 102428, 107882, 108005, 108938, 135242, 155434, 161803, 164457, 166033, 235227, 441244, 441308, 441325, 441337, 441374, 443939, 516871, 516919, 517121, 517326, 517383, 517414, 517546, 522325, 533728, 560256, 657201, 2723598, 2723770, 2723816, 2723854, 2724411, 2733525, 2734161, 2734171, 2734956, 3005572, 3082221, 3084014, 3270262, 3423265, 3571582, 4110039, 4343483, 4445035, 5018304, 5281064, 5284363, 5284366, 5284416, 5284441, 5284443, 5284452, 5284483, 5388983, 5462355, 5486830, 6419941, 6419978, 6420013, 6420042, 6432394, 6433339, 6435335, 6603108, 6604122, 6917728, 6918126, 6918580, 9887053, 9889168, 11074431, 11769095, 11956149, 11957572, 14720269, 15008962, 16051954, 16052011, 16220118, 16682993, 16684434, 16759173, 20055509, 23662354, 23662383, 23663403, 23665728, 23665759, 23665772, 23667299, 23667638, 23667648, 23668192, 23668193, 23668196, 23672302, 23673837, 23676704, 23676814, 23677963, 23688977, 23692768, 23702994, 23707968, 23716429, 25150753, 53316406, 54680691, 54680782, 54682468, 54685925, 54704426, 60196281, 60196285, 60196296, 60196338, 60196348, 60196372, 135465076]\n"
     ]
    }
   ],
   "source": [
    "cid_multicompo.sort()\n",
    " \n",
    "cid_multicompo_uniq = sorted( set(cid_multicompo) )\n",
    "cid_multicompo_dup = []\n",
    "    \n",
    "for mycid in cid_multicompo_uniq:\n",
    "        if ( cid_multicompo.count( mycid ) > 1 ):\n",
    "            cid_multicompo_dup.append( mycid )\n",
    "\n",
    "print(len(cid_multicompo_dup))\n",
    "print(cid_multicompo_dup)\n",
    "\n",
    "cid_multicompo = cid_multicompo_uniq"
   ]
  },
  {
   "cell_type": "markdown",
   "metadata": {},
   "source": [
    "Because downloading parent compound information through PUG-REST takes a long time, we want to store the data in a file when they are downloaded for later use. When the cell is run next time, it will read the data from the file, rather than downloading them from PubChem."
   ]
  },
  {
   "cell_type": "code",
   "execution_count": 17,
   "metadata": {},
   "outputs": [
    {
     "name": "stdout",
     "output_type": "stream",
     "text": [
      "# len(cid_parent): 1748\n"
     ]
    }
   ],
   "source": [
    "import os.path\n",
    "import json\n",
    "\n",
    "cid_parent= {}\n",
    "file_parent = 'cid_parent.json'\n",
    "\n",
    "if os.path.isfile(file_parent) and os.path.getsize(file_parent) :\n",
    "    \n",
    "    with open('cid_parent.json') as f:\n",
    "        cid_parent = json.load(f)\n",
    "\n",
    "    # By default, the keys will be loaded as strings, but\n",
    "    # they are expected to be integers later in the notebook.\n",
    "    cid_parent = { int(k):v for k,v in cid_parent.items()}\n",
    "        \n",
    "    if ( len(cid_parent) != len(cid_multicompo) ) :\n",
    "        print(\"CID counts mismatch:\", len(cid_multicompo), \"cid_multicompo\", len(cid_parent), \"cid_parent\")\n",
    "\n",
    "else:\n",
    "\n",
    "    for i in range(0, len(cid_multicompo)) :\n",
    "\n",
    "        try:\n",
    "        \n",
    "            mycid = cid_multicompo[i]\n",
    "            url = ('https://pubchem.ncbi.nlm.nih.gov/rest/pug/compound/cid/' + str(mycid) + '/cids/TXT?cids_type=parent')\n",
    "            res = urllib.request.urlopen(url)\n",
    "            parent = res.read()\n",
    "            cid_parent[ mycid ] = int(parent.decode().rstrip())\n",
    "    \n",
    "        except:\n",
    "    \n",
    "            cid_parent[ mycid ] = None\n",
    "    \n",
    "        if (i % 5 == 0 ) : time.sleep(1)\n",
    "        if (i % 200 == 0 ) : print(\"processing \", i , \"of \", len(cid_multicompo))\n",
    "\n",
    "    print(\"# Download of parent CIDs has been complete\")\n",
    "\n",
    "    with open('cid_parent.json', 'w') as f:\n",
    "        json.dump(cid_parent, f)\n",
    "    \n",
    "print(\"# len(cid_parent):\", len(cid_parent) )"
   ]
  },
  {
   "cell_type": "code",
   "execution_count": 18,
   "metadata": {},
   "outputs": [
    {
     "name": "stdout",
     "output_type": "stream",
     "text": [
      "207\n"
     ]
    }
   ],
   "source": [
    "# Store CIDs without parent compounds.\n",
    "cid_noparent = [ key for key,val in cid_parent.items() if not val  ]\n",
    "print(len(cid_noparent))"
   ]
  },
  {
   "cell_type": "code",
   "execution_count": 19,
   "metadata": {},
   "outputs": [],
   "source": [
    "# Loop over each row in the data frame\n",
    "for idx, row in antag_pre.iterrows() :\n",
    "    if ( row['CovalentUnitCount'] > 1 ) :\n",
    "        antag_pre.loc[ idx, 'PUBCHEM_CID' ] = cid_parent[ row['PUBCHEM_CID'] ]"
   ]
  },
  {
   "cell_type": "code",
   "execution_count": 20,
   "metadata": {},
   "outputs": [
    {
     "data": {
      "text/html": [
       "<div>\n",
       "<style scoped>\n",
       "    .dataframe tbody tr th:only-of-type {\n",
       "        vertical-align: middle;\n",
       "    }\n",
       "\n",
       "    .dataframe tbody tr th {\n",
       "        vertical-align: top;\n",
       "    }\n",
       "\n",
       "    .dataframe thead th {\n",
       "        text-align: right;\n",
       "    }\n",
       "</style>\n",
       "<table border=\"1\" class=\"dataframe\">\n",
       "  <thead>\n",
       "    <tr style=\"text-align: right;\">\n",
       "      <th></th>\n",
       "      <th>PUBCHEM_CID</th>\n",
       "      <th>PUBCHEM_ACTIVITY_OUTCOME</th>\n",
       "      <th>Activity Summary</th>\n",
       "      <th>Ratio Potency (uM)</th>\n",
       "      <th>Ratio Efficacy (%)</th>\n",
       "      <th>CovalentUnitCount</th>\n",
       "    </tr>\n",
       "  </thead>\n",
       "  <tbody>\n",
       "    <tr>\n",
       "      <th>3</th>\n",
       "      <td>5460352.0</td>\n",
       "      <td>Inactive</td>\n",
       "      <td>inactive</td>\n",
       "      <td>NaN</td>\n",
       "      <td>0</td>\n",
       "      <td>3</td>\n",
       "    </tr>\n",
       "    <tr>\n",
       "      <th>4</th>\n",
       "      <td>10690.0</td>\n",
       "      <td>Inactive</td>\n",
       "      <td>inactive</td>\n",
       "      <td>NaN</td>\n",
       "      <td>0</td>\n",
       "      <td>3</td>\n",
       "    </tr>\n",
       "    <tr>\n",
       "      <th>5</th>\n",
       "      <td>9403.0</td>\n",
       "      <td>Active</td>\n",
       "      <td>active antagonist</td>\n",
       "      <td>7.56242</td>\n",
       "      <td>-104.384</td>\n",
       "      <td>1</td>\n",
       "    </tr>\n",
       "  </tbody>\n",
       "</table>\n",
       "</div>"
      ],
      "text/plain": [
       "   PUBCHEM_CID PUBCHEM_ACTIVITY_OUTCOME   Activity Summary Ratio Potency (uM)  \\\n",
       "3    5460352.0                 Inactive           inactive                NaN   \n",
       "4      10690.0                 Inactive           inactive                NaN   \n",
       "5       9403.0                   Active  active antagonist            7.56242   \n",
       "\n",
       "  Ratio Efficacy (%)  CovalentUnitCount  \n",
       "3                  0                  3  \n",
       "4                  0                  3  \n",
       "5           -104.384                  1  "
      ]
     },
     "execution_count": 20,
     "metadata": {},
     "output_type": "execute_result"
    }
   ],
   "source": [
    "antag_pre.head(3)"
   ]
  },
  {
   "cell_type": "code",
   "execution_count": 21,
   "metadata": {},
   "outputs": [
    {
     "name": "stdout",
     "output_type": "stream",
     "text": [
      "All multicomponent compounds have been replaced!\n"
     ]
    }
   ],
   "source": [
    "# Double check if the substitution has been done correctly.\n",
    "count_no_sub = 0\n",
    "for mycid in cid_multicompo :\n",
    "    x = antag_pre[ antag_pre['PUBCHEM_CID'] == mycid ]\n",
    "    if ( len(x) != 0 ) :\n",
    "        print(\"Warning:\", mycid, \"is still found\", len(x))\n",
    "        count_no_sub += 1\n",
    "\n",
    "if ( count_no_sub == 0 ) :\n",
    "    print(\"All multicomponent compounds have been replaced!\")\n",
    "else :\n",
    "    print(\"Warning:\", count_no_sub, \"compound(s) have not been replaced\")"
   ]
  },
  {
   "cell_type": "code",
   "execution_count": 22,
   "metadata": {},
   "outputs": [
    {
     "data": {
      "text/plain": [
       "(10101, 6)"
      ]
     },
     "execution_count": 22,
     "metadata": {},
     "output_type": "execute_result"
    }
   ],
   "source": [
    "antag_pre = antag_pre[ antag_pre['PUBCHEM_CID'].notnull() ]\n",
    "antag_pre['PUBCHEM_CID'] = antag_pre['PUBCHEM_CID'].astype(int)\n",
    "antag_pre.shape"
   ]
  },
  {
   "cell_type": "code",
   "execution_count": 23,
   "metadata": {},
   "outputs": [
    {
     "data": {
      "text/html": [
       "<div>\n",
       "<style scoped>\n",
       "    .dataframe tbody tr th:only-of-type {\n",
       "        vertical-align: middle;\n",
       "    }\n",
       "\n",
       "    .dataframe tbody tr th {\n",
       "        vertical-align: top;\n",
       "    }\n",
       "\n",
       "    .dataframe thead th {\n",
       "        text-align: right;\n",
       "    }\n",
       "</style>\n",
       "<table border=\"1\" class=\"dataframe\">\n",
       "  <thead>\n",
       "    <tr style=\"text-align: right;\">\n",
       "      <th></th>\n",
       "      <th>PUBCHEM_CID</th>\n",
       "      <th>PUBCHEM_ACTIVITY_OUTCOME</th>\n",
       "      <th>Activity Summary</th>\n",
       "      <th>Ratio Potency (uM)</th>\n",
       "      <th>Ratio Efficacy (%)</th>\n",
       "      <th>CovalentUnitCount</th>\n",
       "    </tr>\n",
       "  </thead>\n",
       "  <tbody>\n",
       "    <tr>\n",
       "      <th>3</th>\n",
       "      <td>5460352</td>\n",
       "      <td>Inactive</td>\n",
       "      <td>inactive</td>\n",
       "      <td>NaN</td>\n",
       "      <td>0</td>\n",
       "      <td>3</td>\n",
       "    </tr>\n",
       "    <tr>\n",
       "      <th>4</th>\n",
       "      <td>10690</td>\n",
       "      <td>Inactive</td>\n",
       "      <td>inactive</td>\n",
       "      <td>NaN</td>\n",
       "      <td>0</td>\n",
       "      <td>3</td>\n",
       "    </tr>\n",
       "    <tr>\n",
       "      <th>5</th>\n",
       "      <td>9403</td>\n",
       "      <td>Active</td>\n",
       "      <td>active antagonist</td>\n",
       "      <td>7.56242</td>\n",
       "      <td>-104.384</td>\n",
       "      <td>1</td>\n",
       "    </tr>\n",
       "  </tbody>\n",
       "</table>\n",
       "</div>"
      ],
      "text/plain": [
       "   PUBCHEM_CID PUBCHEM_ACTIVITY_OUTCOME   Activity Summary Ratio Potency (uM)  \\\n",
       "3      5460352                 Inactive           inactive                NaN   \n",
       "4        10690                 Inactive           inactive                NaN   \n",
       "5         9403                   Active  active antagonist            7.56242   \n",
       "\n",
       "  Ratio Efficacy (%)  CovalentUnitCount  \n",
       "3                  0                  3  \n",
       "4                  0                  3  \n",
       "5           -104.384                  1  "
      ]
     },
     "execution_count": 23,
     "metadata": {},
     "output_type": "execute_result"
    }
   ],
   "source": [
    "antag_pre.head(3)"
   ]
  },
  {
   "cell_type": "markdown",
   "metadata": {},
   "source": [
    "# Dealing with conflicts (antag)"
   ]
  },
  {
   "cell_type": "code",
   "execution_count": 24,
   "metadata": {},
   "outputs": [
    {
     "data": {
      "text/plain": [
       "PUBCHEM_CID                    0\n",
       "PUBCHEM_ACTIVITY_OUTCOME       0\n",
       "Activity Summary               0\n",
       "Ratio Potency (uM)          8119\n",
       "Ratio Efficacy (%)             0\n",
       "CovalentUnitCount              0\n",
       "dtype: int64"
      ]
     },
     "execution_count": 24,
     "metadata": {},
     "output_type": "execute_result"
    }
   ],
   "source": [
    "antag_pre.isnull().sum()"
   ]
  },
  {
   "cell_type": "code",
   "execution_count": 25,
   "metadata": {},
   "outputs": [
    {
     "data": {
      "text/plain": [
       "Inactive        7449\n",
       "Inconclusive    2205\n",
       "Active           447\n",
       "Name: PUBCHEM_ACTIVITY_OUTCOME, dtype: int64"
      ]
     },
     "execution_count": 25,
     "metadata": {},
     "output_type": "execute_result"
    }
   ],
   "source": [
    "antag_pre['PUBCHEM_ACTIVITY_OUTCOME'].value_counts()"
   ]
  },
  {
   "cell_type": "code",
   "execution_count": 26,
   "metadata": {},
   "outputs": [
    {
     "data": {
      "text/plain": [
       "inactive                               7449\n",
       "inconclusive                           1008\n",
       "active antagonist                       447\n",
       "inconclusive antagonist (cytotoxic)     386\n",
       "active agonist                          266\n",
       "inconclusive agonist                    252\n",
       "inconclusive antagonist                 237\n",
       "inconclusive agonist (cytotoxic)         56\n",
       "Name: Activity Summary, dtype: int64"
      ]
     },
     "execution_count": 26,
     "metadata": {},
     "output_type": "execute_result"
    }
   ],
   "source": [
    "antag_pre['Activity Summary'].value_counts()"
   ]
  },
  {
   "cell_type": "code",
   "execution_count": 27,
   "metadata": {},
   "outputs": [
    {
     "data": {
      "text/plain": [
       "3      5460352\n",
       "4        10690\n",
       "5         9403\n",
       "6     13218779\n",
       "8        16043\n",
       "9        16043\n",
       "10       11295\n",
       "11     2724372\n",
       "12      637566\n",
       "13         994\n",
       "Name: PUBCHEM_CID, dtype: int32"
      ]
     },
     "execution_count": 27,
     "metadata": {},
     "output_type": "execute_result"
    }
   ],
   "source": [
    "antag_pre[ 'PUBCHEM_CID'].head(10)"
   ]
  },
  {
   "cell_type": "code",
   "execution_count": 28,
   "metadata": {},
   "outputs": [
    {
     "data": {
      "text/plain": [
       "{'inactive'}"
      ]
     },
     "execution_count": 28,
     "metadata": {},
     "output_type": "execute_result"
    }
   ],
   "source": [
    "set(antag_pre[ antag_pre['PUBCHEM_CID'] == 994 ].loc[:,'Activity Summary'].tolist())"
   ]
  },
  {
   "cell_type": "code",
   "execution_count": null,
   "metadata": {},
   "outputs": [],
   "source": []
  },
  {
   "cell_type": "code",
   "execution_count": 29,
   "metadata": {},
   "outputs": [],
   "source": [
    "# Generate unique CID list\n",
    "antag_cid = antag_pre['PUBCHEM_CID'].tolist()\n",
    "\n",
    "# Drop the CIDs with conflicting activity declaration.\n",
    "for mycid in antag_cid :\n",
    "    \n",
    "    activities = set( antag_pre[ antag_pre['PUBCHEM_CID'] == mycid].loc[:,'Activity Summary'].tolist())\n",
    "    if ( len(activities) > 1 ):\n",
    "        #print(mycid, len(activities), activities)\n",
    "        antag_pre = antag_pre[ antag_pre['PUBCHEM_CID'] != mycid ]"
   ]
  },
  {
   "cell_type": "code",
   "execution_count": 30,
   "metadata": {},
   "outputs": [
    {
     "data": {
      "text/html": [
       "<div>\n",
       "<style scoped>\n",
       "    .dataframe tbody tr th:only-of-type {\n",
       "        vertical-align: middle;\n",
       "    }\n",
       "\n",
       "    .dataframe tbody tr th {\n",
       "        vertical-align: top;\n",
       "    }\n",
       "\n",
       "    .dataframe thead th {\n",
       "        text-align: right;\n",
       "    }\n",
       "</style>\n",
       "<table border=\"1\" class=\"dataframe\">\n",
       "  <thead>\n",
       "    <tr style=\"text-align: right;\">\n",
       "      <th></th>\n",
       "      <th>PUBCHEM_CID</th>\n",
       "      <th>PUBCHEM_ACTIVITY_OUTCOME</th>\n",
       "      <th>Activity Summary</th>\n",
       "      <th>Ratio Potency (uM)</th>\n",
       "      <th>Ratio Efficacy (%)</th>\n",
       "      <th>CovalentUnitCount</th>\n",
       "    </tr>\n",
       "  </thead>\n",
       "  <tbody>\n",
       "    <tr>\n",
       "      <th>3</th>\n",
       "      <td>5460352</td>\n",
       "      <td>Inactive</td>\n",
       "      <td>inactive</td>\n",
       "      <td>NaN</td>\n",
       "      <td>0</td>\n",
       "      <td>3</td>\n",
       "    </tr>\n",
       "    <tr>\n",
       "      <th>4</th>\n",
       "      <td>10690</td>\n",
       "      <td>Inactive</td>\n",
       "      <td>inactive</td>\n",
       "      <td>NaN</td>\n",
       "      <td>0</td>\n",
       "      <td>3</td>\n",
       "    </tr>\n",
       "    <tr>\n",
       "      <th>5</th>\n",
       "      <td>9403</td>\n",
       "      <td>Active</td>\n",
       "      <td>active antagonist</td>\n",
       "      <td>7.56242</td>\n",
       "      <td>-104.384</td>\n",
       "      <td>1</td>\n",
       "    </tr>\n",
       "  </tbody>\n",
       "</table>\n",
       "</div>"
      ],
      "text/plain": [
       "   PUBCHEM_CID PUBCHEM_ACTIVITY_OUTCOME   Activity Summary Ratio Potency (uM)  \\\n",
       "3      5460352                 Inactive           inactive                NaN   \n",
       "4        10690                 Inactive           inactive                NaN   \n",
       "5         9403                   Active  active antagonist            7.56242   \n",
       "\n",
       "  Ratio Efficacy (%)  CovalentUnitCount  \n",
       "3                  0                  3  \n",
       "4                  0                  3  \n",
       "5           -104.384                  1  "
      ]
     },
     "execution_count": 30,
     "metadata": {},
     "output_type": "execute_result"
    }
   ],
   "source": [
    "antag_pre.head(3)"
   ]
  },
  {
   "cell_type": "code",
   "execution_count": 31,
   "metadata": {},
   "outputs": [
    {
     "data": {
      "text/plain": [
       "(8816, 6)"
      ]
     },
     "execution_count": 31,
     "metadata": {},
     "output_type": "execute_result"
    }
   ],
   "source": [
    "antag_pre.shape"
   ]
  },
  {
   "cell_type": "code",
   "execution_count": 32,
   "metadata": {},
   "outputs": [
    {
     "data": {
      "text/plain": [
       "inactive                               6949\n",
       "inconclusive                            681\n",
       "active antagonist                       341\n",
       "inconclusive antagonist (cytotoxic)     289\n",
       "active agonist                          222\n",
       "inconclusive agonist                    153\n",
       "inconclusive antagonist                 143\n",
       "inconclusive agonist (cytotoxic)         38\n",
       "Name: Activity Summary, dtype: int64"
      ]
     },
     "execution_count": 32,
     "metadata": {},
     "output_type": "execute_result"
    }
   ],
   "source": [
    "antag_pre['Activity Summary'].value_counts()"
   ]
  },
  {
   "cell_type": "markdown",
   "metadata": {},
   "source": [
    "# Data Cleaning Full (ag)"
   ]
  },
  {
   "cell_type": "markdown",
   "metadata": {},
   "source": [
    "Read the antagonist assay data into a data frame"
   ]
  },
  {
   "cell_type": "code",
   "execution_count": 33,
   "metadata": {},
   "outputs": [
    {
     "data": {
      "text/html": [
       "<div>\n",
       "<style scoped>\n",
       "    .dataframe tbody tr th:only-of-type {\n",
       "        vertical-align: middle;\n",
       "    }\n",
       "\n",
       "    .dataframe tbody tr th {\n",
       "        vertical-align: top;\n",
       "    }\n",
       "\n",
       "    .dataframe thead th {\n",
       "        text-align: right;\n",
       "    }\n",
       "</style>\n",
       "<table border=\"1\" class=\"dataframe\">\n",
       "  <thead>\n",
       "    <tr style=\"text-align: right;\">\n",
       "      <th></th>\n",
       "      <th>PUBCHEM_RESULT_TAG</th>\n",
       "      <th>PUBCHEM_SID</th>\n",
       "      <th>PUBCHEM_CID</th>\n",
       "      <th>PUBCHEM_ACTIVITY_OUTCOME</th>\n",
       "      <th>PUBCHEM_ACTIVITY_SCORE</th>\n",
       "      <th>PUBCHEM_ACTIVITY_URL</th>\n",
       "      <th>PUBCHEM_ASSAYDATA_COMMENT</th>\n",
       "      <th>Activity Summary</th>\n",
       "      <th>Ratio Activity</th>\n",
       "      <th>Ratio Potency (uM)</th>\n",
       "      <th>Ratio Efficacy (%)</th>\n",
       "      <th>530 nm Activity</th>\n",
       "      <th>530 nm Potency (uM)</th>\n",
       "      <th>530 nm Efficacy (%)</th>\n",
       "      <th>460 nm Activity</th>\n",
       "      <th>460 nm Potency (uM)</th>\n",
       "      <th>460 nm Efficacy (%)</th>\n",
       "      <th>Blue (460 nm) auto fluorescence outcome</th>\n",
       "      <th>Sample Source</th>\n",
       "    </tr>\n",
       "  </thead>\n",
       "  <tbody>\n",
       "    <tr>\n",
       "      <th>10487</th>\n",
       "      <td>10484</td>\n",
       "      <td>144214047.0</td>\n",
       "      <td>5794.0</td>\n",
       "      <td>Inactive</td>\n",
       "      <td>0.0</td>\n",
       "      <td>NaN</td>\n",
       "      <td>NaN</td>\n",
       "      <td>inactive</td>\n",
       "      <td>inactive</td>\n",
       "      <td>NaN</td>\n",
       "      <td>0</td>\n",
       "      <td>inactive</td>\n",
       "      <td>NaN</td>\n",
       "      <td>0</td>\n",
       "      <td>inactive</td>\n",
       "      <td>NaN</td>\n",
       "      <td>0</td>\n",
       "      <td>inactive</td>\n",
       "      <td>LightBiologicals</td>\n",
       "    </tr>\n",
       "    <tr>\n",
       "      <th>10488</th>\n",
       "      <td>10485</td>\n",
       "      <td>144214048.0</td>\n",
       "      <td>3034285.0</td>\n",
       "      <td>Inactive</td>\n",
       "      <td>0.0</td>\n",
       "      <td>NaN</td>\n",
       "      <td>NaN</td>\n",
       "      <td>inactive</td>\n",
       "      <td>inactive</td>\n",
       "      <td>NaN</td>\n",
       "      <td>0</td>\n",
       "      <td>inactive</td>\n",
       "      <td>NaN</td>\n",
       "      <td>0</td>\n",
       "      <td>inactive</td>\n",
       "      <td>NaN</td>\n",
       "      <td>0</td>\n",
       "      <td>inactive</td>\n",
       "      <td>LightBiologicals</td>\n",
       "    </tr>\n",
       "    <tr>\n",
       "      <th>10489</th>\n",
       "      <td>10486</td>\n",
       "      <td>144214049.0</td>\n",
       "      <td>6623.0</td>\n",
       "      <td>Inactive</td>\n",
       "      <td>0.0</td>\n",
       "      <td>NaN</td>\n",
       "      <td>NaN</td>\n",
       "      <td>inactive</td>\n",
       "      <td>inactive</td>\n",
       "      <td>NaN</td>\n",
       "      <td>0</td>\n",
       "      <td>inactive</td>\n",
       "      <td>NaN</td>\n",
       "      <td>0</td>\n",
       "      <td>inactive</td>\n",
       "      <td>NaN</td>\n",
       "      <td>0</td>\n",
       "      <td>inactive</td>\n",
       "      <td>SIGMA</td>\n",
       "    </tr>\n",
       "  </tbody>\n",
       "</table>\n",
       "</div>"
      ],
      "text/plain": [
       "      PUBCHEM_RESULT_TAG  PUBCHEM_SID  PUBCHEM_CID PUBCHEM_ACTIVITY_OUTCOME  \\\n",
       "10487              10484  144214047.0       5794.0                 Inactive   \n",
       "10488              10485  144214048.0    3034285.0                 Inactive   \n",
       "10489              10486  144214049.0       6623.0                 Inactive   \n",
       "\n",
       "       PUBCHEM_ACTIVITY_SCORE  PUBCHEM_ACTIVITY_URL  \\\n",
       "10487                     0.0                   NaN   \n",
       "10488                     0.0                   NaN   \n",
       "10489                     0.0                   NaN   \n",
       "\n",
       "       PUBCHEM_ASSAYDATA_COMMENT Activity Summary Ratio Activity  \\\n",
       "10487                        NaN         inactive       inactive   \n",
       "10488                        NaN         inactive       inactive   \n",
       "10489                        NaN         inactive       inactive   \n",
       "\n",
       "      Ratio Potency (uM) Ratio Efficacy (%) 530 nm Activity  \\\n",
       "10487                NaN                  0        inactive   \n",
       "10488                NaN                  0        inactive   \n",
       "10489                NaN                  0        inactive   \n",
       "\n",
       "      530 nm Potency (uM) 530 nm Efficacy (%) 460 nm Activity  \\\n",
       "10487                 NaN                   0        inactive   \n",
       "10488                 NaN                   0        inactive   \n",
       "10489                 NaN                   0        inactive   \n",
       "\n",
       "      460 nm Potency (uM) 460 nm Efficacy (%)  \\\n",
       "10487                 NaN                   0   \n",
       "10488                 NaN                   0   \n",
       "10489                 NaN                   0   \n",
       "\n",
       "      Blue (460 nm) auto fluorescence outcome     Sample Source  \n",
       "10487                                inactive  LightBiologicals  \n",
       "10488                                inactive  LightBiologicals  \n",
       "10489                                inactive             SIGMA  "
      ]
     },
     "execution_count": 33,
     "metadata": {},
     "output_type": "execute_result"
    }
   ],
   "source": [
    "#Reading in Summary ANTAGONIST CSV\n",
    "ag_pre = pd.read_csv('AID_720719_datatable_all.csv')\n",
    "ag_pre = ag_pre.iloc[3:]\n",
    "ag_pre.tail(3)"
   ]
  },
  {
   "cell_type": "code",
   "execution_count": 34,
   "metadata": {},
   "outputs": [
    {
     "data": {
      "text/html": [
       "<div>\n",
       "<style scoped>\n",
       "    .dataframe tbody tr th:only-of-type {\n",
       "        vertical-align: middle;\n",
       "    }\n",
       "\n",
       "    .dataframe tbody tr th {\n",
       "        vertical-align: top;\n",
       "    }\n",
       "\n",
       "    .dataframe thead th {\n",
       "        text-align: right;\n",
       "    }\n",
       "</style>\n",
       "<table border=\"1\" class=\"dataframe\">\n",
       "  <thead>\n",
       "    <tr style=\"text-align: right;\">\n",
       "      <th></th>\n",
       "      <th>PUBCHEM_CID</th>\n",
       "      <th>PUBCHEM_ACTIVITY_OUTCOME</th>\n",
       "      <th>Activity Summary</th>\n",
       "      <th>Ratio Potency (uM)</th>\n",
       "      <th>Ratio Efficacy (%)</th>\n",
       "    </tr>\n",
       "  </thead>\n",
       "  <tbody>\n",
       "    <tr>\n",
       "      <th>10487</th>\n",
       "      <td>5794.0</td>\n",
       "      <td>Inactive</td>\n",
       "      <td>inactive</td>\n",
       "      <td>NaN</td>\n",
       "      <td>0</td>\n",
       "    </tr>\n",
       "    <tr>\n",
       "      <th>10488</th>\n",
       "      <td>3034285.0</td>\n",
       "      <td>Inactive</td>\n",
       "      <td>inactive</td>\n",
       "      <td>NaN</td>\n",
       "      <td>0</td>\n",
       "    </tr>\n",
       "    <tr>\n",
       "      <th>10489</th>\n",
       "      <td>6623.0</td>\n",
       "      <td>Inactive</td>\n",
       "      <td>inactive</td>\n",
       "      <td>NaN</td>\n",
       "      <td>0</td>\n",
       "    </tr>\n",
       "  </tbody>\n",
       "</table>\n",
       "</div>"
      ],
      "text/plain": [
       "       PUBCHEM_CID PUBCHEM_ACTIVITY_OUTCOME Activity Summary  \\\n",
       "10487       5794.0                 Inactive         inactive   \n",
       "10488    3034285.0                 Inactive         inactive   \n",
       "10489       6623.0                 Inactive         inactive   \n",
       "\n",
       "      Ratio Potency (uM) Ratio Efficacy (%)  \n",
       "10487                NaN                  0  \n",
       "10488                NaN                  0  \n",
       "10489                NaN                  0  "
      ]
     },
     "execution_count": 34,
     "metadata": {},
     "output_type": "execute_result"
    }
   ],
   "source": [
    "ag_pre = ag_pre[['PUBCHEM_CID', 'PUBCHEM_ACTIVITY_OUTCOME', 'Activity Summary', 'Ratio Potency (uM)', 'Ratio Efficacy (%)']]\n",
    "ag_pre.tail(3)"
   ]
  },
  {
   "cell_type": "markdown",
   "metadata": {},
   "source": [
    "Deal with the NULL values: remove the rows without CIDs."
   ]
  },
  {
   "cell_type": "code",
   "execution_count": 35,
   "metadata": {},
   "outputs": [
    {
     "data": {
      "text/plain": [
       "PUBCHEM_CID                  150\n",
       "PUBCHEM_ACTIVITY_OUTCOME       1\n",
       "Activity Summary               1\n",
       "Ratio Potency (uM)          9685\n",
       "Ratio Efficacy (%)             1\n",
       "dtype: int64"
      ]
     },
     "execution_count": 35,
     "metadata": {},
     "output_type": "execute_result"
    }
   ],
   "source": [
    "ag_pre.isnull().sum()"
   ]
  },
  {
   "cell_type": "code",
   "execution_count": 36,
   "metadata": {},
   "outputs": [
    {
     "data": {
      "text/plain": [
       "(10337, 5)"
      ]
     },
     "execution_count": 36,
     "metadata": {},
     "output_type": "execute_result"
    }
   ],
   "source": [
    "ag_pre = ag_pre[ ag_pre['PUBCHEM_CID'].notnull() ]\n",
    "ag_pre.shape"
   ]
  },
  {
   "cell_type": "markdown",
   "metadata": {},
   "source": [
    "Convert the PUBCHEM_CID (floats) into an integer type."
   ]
  },
  {
   "cell_type": "code",
   "execution_count": 37,
   "metadata": {},
   "outputs": [
    {
     "data": {
      "text/html": [
       "<div>\n",
       "<style scoped>\n",
       "    .dataframe tbody tr th:only-of-type {\n",
       "        vertical-align: middle;\n",
       "    }\n",
       "\n",
       "    .dataframe tbody tr th {\n",
       "        vertical-align: top;\n",
       "    }\n",
       "\n",
       "    .dataframe thead th {\n",
       "        text-align: right;\n",
       "    }\n",
       "</style>\n",
       "<table border=\"1\" class=\"dataframe\">\n",
       "  <thead>\n",
       "    <tr style=\"text-align: right;\">\n",
       "      <th></th>\n",
       "      <th>PUBCHEM_CID</th>\n",
       "      <th>PUBCHEM_ACTIVITY_OUTCOME</th>\n",
       "      <th>Activity Summary</th>\n",
       "      <th>Ratio Potency (uM)</th>\n",
       "      <th>Ratio Efficacy (%)</th>\n",
       "    </tr>\n",
       "  </thead>\n",
       "  <tbody>\n",
       "    <tr>\n",
       "      <th>4</th>\n",
       "      <td>12850184</td>\n",
       "      <td>Inactive</td>\n",
       "      <td>inactive</td>\n",
       "      <td>NaN</td>\n",
       "      <td>0</td>\n",
       "    </tr>\n",
       "    <tr>\n",
       "      <th>5</th>\n",
       "      <td>89753</td>\n",
       "      <td>Inactive</td>\n",
       "      <td>inactive</td>\n",
       "      <td>NaN</td>\n",
       "      <td>0</td>\n",
       "    </tr>\n",
       "    <tr>\n",
       "      <th>6</th>\n",
       "      <td>9403</td>\n",
       "      <td>Inconclusive</td>\n",
       "      <td>inconclusive</td>\n",
       "      <td>NaN</td>\n",
       "      <td>0</td>\n",
       "    </tr>\n",
       "  </tbody>\n",
       "</table>\n",
       "</div>"
      ],
      "text/plain": [
       "   PUBCHEM_CID PUBCHEM_ACTIVITY_OUTCOME Activity Summary Ratio Potency (uM)  \\\n",
       "4     12850184                 Inactive         inactive                NaN   \n",
       "5        89753                 Inactive         inactive                NaN   \n",
       "6         9403             Inconclusive     inconclusive                NaN   \n",
       "\n",
       "  Ratio Efficacy (%)  \n",
       "4                  0  \n",
       "5                  0  \n",
       "6                  0  "
      ]
     },
     "execution_count": 37,
     "metadata": {},
     "output_type": "execute_result"
    }
   ],
   "source": [
    "ag_pre['PUBCHEM_CID'] = ag_pre['PUBCHEM_CID'].astype(int)\n",
    "ag_pre.head(3)"
   ]
  },
  {
   "cell_type": "code",
   "execution_count": 38,
   "metadata": {},
   "outputs": [
    {
     "data": {
      "text/plain": [
       "inactive                              9043\n",
       "inconclusive                           882\n",
       "active agonist                         211\n",
       "inconclusive agonist                    81\n",
       "active antagonist                       53\n",
       "inconclusive antagonist                 44\n",
       "inconclusive agonist (fluorescent)      23\n",
       "Name: Activity Summary, dtype: int64"
      ]
     },
     "execution_count": 38,
     "metadata": {},
     "output_type": "execute_result"
    }
   ],
   "source": [
    "ag_pre['Activity Summary'].value_counts()"
   ]
  },
  {
   "cell_type": "code",
   "execution_count": 39,
   "metadata": {},
   "outputs": [
    {
     "data": {
      "text/plain": [
       "Inactive        9043\n",
       "Inconclusive    1083\n",
       "Active           211\n",
       "Name: PUBCHEM_ACTIVITY_OUTCOME, dtype: int64"
      ]
     },
     "execution_count": 39,
     "metadata": {},
     "output_type": "execute_result"
    }
   ],
   "source": [
    "ag_pre['PUBCHEM_ACTIVITY_OUTCOME'].value_counts()"
   ]
  },
  {
   "cell_type": "code",
   "execution_count": 40,
   "metadata": {},
   "outputs": [
    {
     "data": {
      "text/plain": [
       "(10337, 5)"
      ]
     },
     "execution_count": 40,
     "metadata": {},
     "output_type": "execute_result"
    }
   ],
   "source": [
    "ag_pre.shape"
   ]
  },
  {
   "cell_type": "code",
   "execution_count": 41,
   "metadata": {},
   "outputs": [
    {
     "data": {
      "text/html": [
       "<div>\n",
       "<style scoped>\n",
       "    .dataframe tbody tr th:only-of-type {\n",
       "        vertical-align: middle;\n",
       "    }\n",
       "\n",
       "    .dataframe tbody tr th {\n",
       "        vertical-align: top;\n",
       "    }\n",
       "\n",
       "    .dataframe thead th {\n",
       "        text-align: right;\n",
       "    }\n",
       "</style>\n",
       "<table border=\"1\" class=\"dataframe\">\n",
       "  <thead>\n",
       "    <tr style=\"text-align: right;\">\n",
       "      <th></th>\n",
       "      <th>PUBCHEM_CID</th>\n",
       "      <th>PUBCHEM_ACTIVITY_OUTCOME</th>\n",
       "      <th>Activity Summary</th>\n",
       "      <th>Ratio Potency (uM)</th>\n",
       "      <th>Ratio Efficacy (%)</th>\n",
       "    </tr>\n",
       "  </thead>\n",
       "  <tbody>\n",
       "    <tr>\n",
       "      <th>4</th>\n",
       "      <td>12850184</td>\n",
       "      <td>Inactive</td>\n",
       "      <td>inactive</td>\n",
       "      <td>NaN</td>\n",
       "      <td>0</td>\n",
       "    </tr>\n",
       "    <tr>\n",
       "      <th>5</th>\n",
       "      <td>89753</td>\n",
       "      <td>Inactive</td>\n",
       "      <td>inactive</td>\n",
       "      <td>NaN</td>\n",
       "      <td>0</td>\n",
       "    </tr>\n",
       "    <tr>\n",
       "      <th>6</th>\n",
       "      <td>9403</td>\n",
       "      <td>Inconclusive</td>\n",
       "      <td>inconclusive</td>\n",
       "      <td>NaN</td>\n",
       "      <td>0</td>\n",
       "    </tr>\n",
       "  </tbody>\n",
       "</table>\n",
       "</div>"
      ],
      "text/plain": [
       "   PUBCHEM_CID PUBCHEM_ACTIVITY_OUTCOME Activity Summary Ratio Potency (uM)  \\\n",
       "4     12850184                 Inactive         inactive                NaN   \n",
       "5        89753                 Inactive         inactive                NaN   \n",
       "6         9403             Inconclusive     inconclusive                NaN   \n",
       "\n",
       "  Ratio Efficacy (%)  \n",
       "4                  0  \n",
       "5                  0  \n",
       "6                  0  "
      ]
     },
     "execution_count": 41,
     "metadata": {},
     "output_type": "execute_result"
    }
   ],
   "source": [
    "ag_pre.head(3)"
   ]
  },
  {
   "cell_type": "markdown",
   "metadata": {},
   "source": [
    "# Identifying Covalent Unit Count (ag)"
   ]
  },
  {
   "cell_type": "markdown",
   "metadata": {},
   "source": [
    "Compute the number of CID chunks based on the number of CIDs and the chunk size."
   ]
  },
  {
   "cell_type": "code",
   "execution_count": 42,
   "metadata": {},
   "outputs": [
    {
     "name": "stdout",
     "output_type": "stream",
     "text": [
      "# CIDs =  10337\n",
      "# CID Chunks =  52 (chunked by  200 )\n"
     ]
    }
   ],
   "source": [
    "chunk_size = 200\n",
    "num_cids = len(ag_pre['PUBCHEM_CID'])\n",
    "\n",
    "if num_cids % chunk_size == 0 :\n",
    "    num_chunks = int( num_cids / chunk_size )\n",
    "else :\n",
    "    num_chunks = int( num_cids / chunk_size ) + 1\n",
    "\n",
    "print(\"# CIDs = \", num_cids)\n",
    "print(\"# CID Chunks = \", num_chunks, \"(chunked by \", chunk_size, \")\")"
   ]
  },
  {
   "cell_type": "markdown",
   "metadata": {},
   "source": [
    "Retrieve the covalent unit counts for each chunk of CIDs."
   ]
  },
  {
   "cell_type": "code",
   "execution_count": 43,
   "metadata": {},
   "outputs": [
    {
     "name": "stdout",
     "output_type": "stream",
     "text": [
      "(10337, 1)\n"
     ]
    }
   ],
   "source": [
    "import time\n",
    "\n",
    "frames = []  # temporary list to store data frames from each PUG-REST request.\n",
    "\n",
    "#print(\"chunkid\", 'idx1', 'idx2', 'length', sep=\"\\t\")\n",
    "\n",
    "for i in range(0, num_chunks) :\n",
    "    \n",
    "    idx1 = chunk_size * i\n",
    "    idx2 = chunk_size * (i + 1)\n",
    "    cidstr = \",\".join(ag_pre.PUBCHEM_CID[idx1:idx2].astype(str).tolist())\n",
    "\n",
    "    url = ('https://pubchem.ncbi.nlm.nih.gov/rest/pug/compound/cid/' + cidstr + '/property/CovalentUnitCount/TXT')\n",
    "    data = pd.read_csv( urllib.request.urlopen(url), header=None, names=['cov_units'] )\n",
    "    frames.append(data)\n",
    "    \n",
    "    # Uncomment this line to check the progress\n",
    "    #print(i, idx1, idx2, len(data), sep=\"\\t\")\n",
    "    \n",
    "    if (i % 5 == 0 ) :\n",
    "        time.sleep(1)  # To comply with the PubChem usage polocy (no more than 5 requests per sec)\n",
    "\n",
    "#    if ( i == 2 ) : break  #- for debugging\n",
    "\n",
    "cov_units = pd.concat(frames,ignore_index=True)\n",
    "print(cov_units.shape)"
   ]
  },
  {
   "cell_type": "markdown",
   "metadata": {},
   "source": [
    "# Dealing with Multicomponent Molecules (ag)"
   ]
  },
  {
   "cell_type": "code",
   "execution_count": 44,
   "metadata": {},
   "outputs": [
    {
     "data": {
      "text/plain": [
       "0"
      ]
     },
     "execution_count": 44,
     "metadata": {},
     "output_type": "execute_result"
    }
   ],
   "source": [
    "ag_pre['CovalentUnitCount'] = cov_units.cov_units.tolist()\n",
    "ag_pre.CovalentUnitCount.isnull().sum()"
   ]
  },
  {
   "cell_type": "code",
   "execution_count": 45,
   "metadata": {},
   "outputs": [
    {
     "data": {
      "text/plain": [
       "1     8308\n",
       "2     1560\n",
       "3      348\n",
       "5       49\n",
       "4       43\n",
       "6       10\n",
       "9        6\n",
       "7        5\n",
       "12       2\n",
       "11       2\n",
       "8        2\n",
       "10       1\n",
       "41       1\n",
       "Name: CovalentUnitCount, dtype: int64"
      ]
     },
     "execution_count": 45,
     "metadata": {},
     "output_type": "execute_result"
    }
   ],
   "source": [
    "ag_pre['CovalentUnitCount'].value_counts()"
   ]
  },
  {
   "cell_type": "code",
   "execution_count": 46,
   "metadata": {},
   "outputs": [
    {
     "data": {
      "text/plain": [
       "2029"
      ]
     },
     "execution_count": 46,
     "metadata": {},
     "output_type": "execute_result"
    }
   ],
   "source": [
    "cid_multicompo = ag_pre[ ag_pre.CovalentUnitCount > 1 ].PUBCHEM_CID.tolist()\n",
    "len(cid_multicompo)"
   ]
  },
  {
   "cell_type": "markdown",
   "metadata": {},
   "source": [
    "The multicomponent CID list has some duplicate CIDs.  Removing them will reduce the number of PUG-REST requests later."
   ]
  },
  {
   "cell_type": "code",
   "execution_count": 47,
   "metadata": {},
   "outputs": [
    {
     "name": "stdout",
     "output_type": "stream",
     "text": [
      "238\n",
      "[2767, 5795, 5807, 5935, 5946, 5963, 5974, 6014, 6099, 8152, 8478, 8638, 8667, 8691, 8715, 8722, 8753, 8813, 8816, 8870, 8980, 9279, 9280, 9351, 9373, 9409, 9703, 9787, 10866, 11048, 11057, 11065, 11224, 11313, 11545, 11693, 11933, 12447, 12456, 12484, 12525, 13144, 13266, 13506, 14184, 14250, 14710, 14842, 15106, 16013, 16015, 16230, 16961, 17170, 17730, 18340, 18487, 19379, 19458, 19518, 19604, 22420, 22584, 22960, 22985, 23392, 23394, 24434, 24482, 24502, 24633, 24639, 26041, 26758, 27461, 27503, 27872, 31202, 31280, 32731, 33286, 33557, 36605, 38852, 39424, 44072, 54891, 54900, 54911, 55182, 56704, 60496, 60560, 60714, 60754, 60822, 60934, 60962, 61100, 61444, 62311, 62581, 62655, 62882, 62884, 62935, 64142, 64927, 66245, 68589, 68624, 71412, 71587, 75311, 83823, 90473, 92151, 92965, 102428, 107882, 108005, 108938, 135242, 155434, 161803, 164457, 166033, 235227, 441244, 441308, 441325, 441337, 441374, 443939, 516871, 516919, 517121, 517326, 517383, 517414, 517546, 522325, 533728, 560256, 657201, 2723598, 2723770, 2723816, 2723854, 2724411, 2733525, 2734161, 2734171, 2734956, 3005572, 3082221, 3084014, 3270262, 3423265, 3571582, 4110039, 4343483, 4445035, 5018304, 5281064, 5284363, 5284366, 5284416, 5284441, 5284443, 5284452, 5284483, 5388983, 5462355, 5486830, 6419941, 6419978, 6420013, 6420042, 6432394, 6433339, 6435335, 6603108, 6604122, 6917728, 6918126, 6918580, 9887053, 9889168, 11074431, 11769095, 11956149, 11957572, 14720269, 15008962, 16051954, 16052011, 16220118, 16682993, 16684434, 16759173, 20055509, 23662354, 23662383, 23663403, 23665728, 23665759, 23665772, 23667299, 23667638, 23667648, 23668192, 23668193, 23668196, 23672302, 23673837, 23676704, 23676814, 23677963, 23688977, 23692768, 23702994, 23707968, 23716429, 25150753, 53316406, 54680691, 54680782, 54682468, 54685925, 54704426, 60196281, 60196285, 60196296, 60196338, 60196348, 60196372, 135465076]\n"
     ]
    }
   ],
   "source": [
    "cid_multicompo.sort()\n",
    " \n",
    "cid_multicompo_uniq = sorted( set(cid_multicompo) )\n",
    "cid_multicompo_dup = []\n",
    "    \n",
    "for mycid in cid_multicompo_uniq:\n",
    "        if ( cid_multicompo.count( mycid ) > 1 ):\n",
    "            cid_multicompo_dup.append( mycid )\n",
    "\n",
    "print(len(cid_multicompo_dup))\n",
    "print(cid_multicompo_dup)\n",
    "\n",
    "cid_multicompo = cid_multicompo_uniq"
   ]
  },
  {
   "cell_type": "markdown",
   "metadata": {},
   "source": [
    "Because downloading parent compound information through PUG-REST takes a long time, we want to store the data in a file when they are downloaded for later use. When the cell is run next time, it will read the data from the file, rather than downloading them from PubChem."
   ]
  },
  {
   "cell_type": "code",
   "execution_count": 48,
   "metadata": {},
   "outputs": [
    {
     "name": "stdout",
     "output_type": "stream",
     "text": [
      "# len(cid_parent): 1748\n"
     ]
    }
   ],
   "source": [
    "import os.path\n",
    "import json\n",
    "\n",
    "cid_parent= {}\n",
    "file_parent = 'cid_parent_ag.json'\n",
    "\n",
    "if os.path.isfile(file_parent) and os.path.getsize(file_parent) :\n",
    "    \n",
    "    with open(file_parent) as f:\n",
    "        cid_parent = json.load(f)\n",
    "\n",
    "    # By default, the keys will be loaded as strings, but\n",
    "    # they are expected to be integers later in the notebook.\n",
    "    cid_parent = { int(k):v for k,v in cid_parent.items()}\n",
    "        \n",
    "    if ( len(cid_parent) != len(cid_multicompo) ) :\n",
    "        print(\"CID counts mismatch:\", len(cid_multicompo), \"cid_multicompo\", len(cid_parent), \"cid_parent\")\n",
    "\n",
    "else:\n",
    "\n",
    "    for i in range(0, len(cid_multicompo)) :\n",
    "\n",
    "        try:\n",
    "        \n",
    "            mycid = cid_multicompo[i]\n",
    "            url = ('https://pubchem.ncbi.nlm.nih.gov/rest/pug/compound/cid/' + str(mycid) + '/cids/TXT?cids_type=parent')\n",
    "            res = urllib.request.urlopen(url)\n",
    "            parent = res.read()\n",
    "            cid_parent[ mycid ] = int(parent.decode().rstrip())\n",
    "    \n",
    "        except:\n",
    "    \n",
    "            cid_parent[ mycid ] = None\n",
    "    \n",
    "        if (i % 5 == 0 ) : time.sleep(1)\n",
    "        if (i % 200 == 0 ) : print(\"processing \", i , \"of \", len(cid_multicompo))\n",
    "\n",
    "    print(\"# Download of parent CIDs has been complete\")\n",
    "\n",
    "    with open(file_parent, 'w') as f:\n",
    "        json.dump(cid_parent, f)\n",
    "    \n",
    "print(\"# len(cid_parent):\", len(cid_parent) )"
   ]
  },
  {
   "cell_type": "code",
   "execution_count": 49,
   "metadata": {},
   "outputs": [
    {
     "name": "stdout",
     "output_type": "stream",
     "text": [
      "220\n"
     ]
    }
   ],
   "source": [
    "# Store CIDs without parent compounds.\n",
    "cid_noparent = [ key for key,val in cid_parent.items() if not val  ]\n",
    "print(len(cid_noparent))"
   ]
  },
  {
   "cell_type": "code",
   "execution_count": 50,
   "metadata": {},
   "outputs": [],
   "source": [
    "# Loop over each row in the data frame\n",
    "for idx, row in ag_pre.iterrows() :\n",
    "    if ( row['CovalentUnitCount'] > 1 ) :\n",
    "        ag_pre.loc[ idx, 'PUBCHEM_CID' ] = cid_parent[ row['PUBCHEM_CID'] ]"
   ]
  },
  {
   "cell_type": "code",
   "execution_count": 51,
   "metadata": {},
   "outputs": [
    {
     "data": {
      "text/html": [
       "<div>\n",
       "<style scoped>\n",
       "    .dataframe tbody tr th:only-of-type {\n",
       "        vertical-align: middle;\n",
       "    }\n",
       "\n",
       "    .dataframe tbody tr th {\n",
       "        vertical-align: top;\n",
       "    }\n",
       "\n",
       "    .dataframe thead th {\n",
       "        text-align: right;\n",
       "    }\n",
       "</style>\n",
       "<table border=\"1\" class=\"dataframe\">\n",
       "  <thead>\n",
       "    <tr style=\"text-align: right;\">\n",
       "      <th></th>\n",
       "      <th>PUBCHEM_CID</th>\n",
       "      <th>PUBCHEM_ACTIVITY_OUTCOME</th>\n",
       "      <th>Activity Summary</th>\n",
       "      <th>Ratio Potency (uM)</th>\n",
       "      <th>Ratio Efficacy (%)</th>\n",
       "      <th>CovalentUnitCount</th>\n",
       "    </tr>\n",
       "  </thead>\n",
       "  <tbody>\n",
       "    <tr>\n",
       "      <th>4</th>\n",
       "      <td>5460352.0</td>\n",
       "      <td>Inactive</td>\n",
       "      <td>inactive</td>\n",
       "      <td>NaN</td>\n",
       "      <td>0</td>\n",
       "      <td>3</td>\n",
       "    </tr>\n",
       "    <tr>\n",
       "      <th>5</th>\n",
       "      <td>10690.0</td>\n",
       "      <td>Inactive</td>\n",
       "      <td>inactive</td>\n",
       "      <td>NaN</td>\n",
       "      <td>0</td>\n",
       "      <td>3</td>\n",
       "    </tr>\n",
       "    <tr>\n",
       "      <th>6</th>\n",
       "      <td>9403.0</td>\n",
       "      <td>Inconclusive</td>\n",
       "      <td>inconclusive</td>\n",
       "      <td>NaN</td>\n",
       "      <td>0</td>\n",
       "      <td>1</td>\n",
       "    </tr>\n",
       "  </tbody>\n",
       "</table>\n",
       "</div>"
      ],
      "text/plain": [
       "   PUBCHEM_CID PUBCHEM_ACTIVITY_OUTCOME Activity Summary Ratio Potency (uM)  \\\n",
       "4    5460352.0                 Inactive         inactive                NaN   \n",
       "5      10690.0                 Inactive         inactive                NaN   \n",
       "6       9403.0             Inconclusive     inconclusive                NaN   \n",
       "\n",
       "  Ratio Efficacy (%)  CovalentUnitCount  \n",
       "4                  0                  3  \n",
       "5                  0                  3  \n",
       "6                  0                  1  "
      ]
     },
     "execution_count": 51,
     "metadata": {},
     "output_type": "execute_result"
    }
   ],
   "source": [
    "ag_pre.head(3)"
   ]
  },
  {
   "cell_type": "code",
   "execution_count": 52,
   "metadata": {},
   "outputs": [
    {
     "name": "stdout",
     "output_type": "stream",
     "text": [
      "All multicomponent compounds have been replaced!\n"
     ]
    }
   ],
   "source": [
    "# Double check if the substitution has been done correctly.\n",
    "count_no_sub = 0\n",
    "for mycid in cid_multicompo :\n",
    "    x = ag_pre[ ag_pre['PUBCHEM_CID'] == mycid ]\n",
    "    if ( len(x) != 0 ) :\n",
    "        print(\"Warning:\", mycid, \"is still found\", len(x))\n",
    "        count_no_sub += 1\n",
    "\n",
    "if ( count_no_sub == 0 ) :\n",
    "    print(\"All multicomponent compounds have been replaced!\")\n",
    "else :\n",
    "    print(\"Warning:\", count_no_sub, \"compound(s) have not been replaced\")"
   ]
  },
  {
   "cell_type": "code",
   "execution_count": 53,
   "metadata": {},
   "outputs": [
    {
     "data": {
      "text/plain": [
       "(10088, 6)"
      ]
     },
     "execution_count": 53,
     "metadata": {},
     "output_type": "execute_result"
    }
   ],
   "source": [
    "ag_pre = ag_pre[ ag_pre['PUBCHEM_CID'].notnull() ]\n",
    "ag_pre['PUBCHEM_CID'] = ag_pre['PUBCHEM_CID'].astype(int)\n",
    "ag_pre.shape"
   ]
  },
  {
   "cell_type": "code",
   "execution_count": 54,
   "metadata": {},
   "outputs": [
    {
     "data": {
      "text/html": [
       "<div>\n",
       "<style scoped>\n",
       "    .dataframe tbody tr th:only-of-type {\n",
       "        vertical-align: middle;\n",
       "    }\n",
       "\n",
       "    .dataframe tbody tr th {\n",
       "        vertical-align: top;\n",
       "    }\n",
       "\n",
       "    .dataframe thead th {\n",
       "        text-align: right;\n",
       "    }\n",
       "</style>\n",
       "<table border=\"1\" class=\"dataframe\">\n",
       "  <thead>\n",
       "    <tr style=\"text-align: right;\">\n",
       "      <th></th>\n",
       "      <th>PUBCHEM_CID</th>\n",
       "      <th>PUBCHEM_ACTIVITY_OUTCOME</th>\n",
       "      <th>Activity Summary</th>\n",
       "      <th>Ratio Potency (uM)</th>\n",
       "      <th>Ratio Efficacy (%)</th>\n",
       "      <th>CovalentUnitCount</th>\n",
       "    </tr>\n",
       "  </thead>\n",
       "  <tbody>\n",
       "    <tr>\n",
       "      <th>4</th>\n",
       "      <td>5460352</td>\n",
       "      <td>Inactive</td>\n",
       "      <td>inactive</td>\n",
       "      <td>NaN</td>\n",
       "      <td>0</td>\n",
       "      <td>3</td>\n",
       "    </tr>\n",
       "    <tr>\n",
       "      <th>5</th>\n",
       "      <td>10690</td>\n",
       "      <td>Inactive</td>\n",
       "      <td>inactive</td>\n",
       "      <td>NaN</td>\n",
       "      <td>0</td>\n",
       "      <td>3</td>\n",
       "    </tr>\n",
       "    <tr>\n",
       "      <th>6</th>\n",
       "      <td>9403</td>\n",
       "      <td>Inconclusive</td>\n",
       "      <td>inconclusive</td>\n",
       "      <td>NaN</td>\n",
       "      <td>0</td>\n",
       "      <td>1</td>\n",
       "    </tr>\n",
       "  </tbody>\n",
       "</table>\n",
       "</div>"
      ],
      "text/plain": [
       "   PUBCHEM_CID PUBCHEM_ACTIVITY_OUTCOME Activity Summary Ratio Potency (uM)  \\\n",
       "4      5460352                 Inactive         inactive                NaN   \n",
       "5        10690                 Inactive         inactive                NaN   \n",
       "6         9403             Inconclusive     inconclusive                NaN   \n",
       "\n",
       "  Ratio Efficacy (%)  CovalentUnitCount  \n",
       "4                  0                  3  \n",
       "5                  0                  3  \n",
       "6                  0                  1  "
      ]
     },
     "execution_count": 54,
     "metadata": {},
     "output_type": "execute_result"
    }
   ],
   "source": [
    "ag_pre.head(3)"
   ]
  },
  {
   "cell_type": "markdown",
   "metadata": {},
   "source": [
    "# Dealing with conflicts (ag)"
   ]
  },
  {
   "cell_type": "code",
   "execution_count": 55,
   "metadata": {},
   "outputs": [
    {
     "data": {
      "text/plain": [
       "PUBCHEM_CID                    0\n",
       "PUBCHEM_ACTIVITY_OUTCOME       0\n",
       "Activity Summary               0\n",
       "Ratio Potency (uM)          9352\n",
       "Ratio Efficacy (%)             0\n",
       "CovalentUnitCount              0\n",
       "dtype: int64"
      ]
     },
     "execution_count": 55,
     "metadata": {},
     "output_type": "execute_result"
    }
   ],
   "source": [
    "ag_pre.isnull().sum()"
   ]
  },
  {
   "cell_type": "code",
   "execution_count": 56,
   "metadata": {},
   "outputs": [
    {
     "data": {
      "text/plain": [
       "Inactive        8828\n",
       "Inconclusive    1057\n",
       "Active           203\n",
       "Name: PUBCHEM_ACTIVITY_OUTCOME, dtype: int64"
      ]
     },
     "execution_count": 56,
     "metadata": {},
     "output_type": "execute_result"
    }
   ],
   "source": [
    "ag_pre['PUBCHEM_ACTIVITY_OUTCOME'].value_counts()"
   ]
  },
  {
   "cell_type": "code",
   "execution_count": 57,
   "metadata": {},
   "outputs": [
    {
     "data": {
      "text/plain": [
       "inactive                              8828\n",
       "inconclusive                           862\n",
       "active agonist                         203\n",
       "inconclusive agonist                    80\n",
       "active antagonist                       48\n",
       "inconclusive antagonist                 44\n",
       "inconclusive agonist (fluorescent)      23\n",
       "Name: Activity Summary, dtype: int64"
      ]
     },
     "execution_count": 57,
     "metadata": {},
     "output_type": "execute_result"
    }
   ],
   "source": [
    "ag_pre['Activity Summary'].value_counts()"
   ]
  },
  {
   "cell_type": "code",
   "execution_count": 58,
   "metadata": {},
   "outputs": [
    {
     "data": {
      "text/plain": [
       "4      5460352\n",
       "5        10690\n",
       "6         9403\n",
       "7     13218779\n",
       "9        16043\n",
       "10       16043\n",
       "11       11295\n",
       "12     2724372\n",
       "13      637566\n",
       "14         994\n",
       "Name: PUBCHEM_CID, dtype: int32"
      ]
     },
     "execution_count": 58,
     "metadata": {},
     "output_type": "execute_result"
    }
   ],
   "source": [
    "ag_pre[ 'PUBCHEM_CID'].head(10)"
   ]
  },
  {
   "cell_type": "code",
   "execution_count": 59,
   "metadata": {},
   "outputs": [],
   "source": [
    "# Generate unique CID list\n",
    "ag_cid = ag_pre['PUBCHEM_CID'].tolist()\n",
    "\n",
    "# Drop the CIDs with conflicting activity declaration.\n",
    "for mycid in ag_cid :\n",
    "    \n",
    "    activities = set( ag_pre[ ag_pre['PUBCHEM_CID'] == mycid].loc[:,'Activity Summary'].tolist())\n",
    "    if ( len(activities) > 1 ):\n",
    "        #print(mycid, len(activities), activities)\n",
    "        ag_pre = ag_pre[ ag_pre['PUBCHEM_CID'] != mycid ]"
   ]
  },
  {
   "cell_type": "code",
   "execution_count": 60,
   "metadata": {},
   "outputs": [
    {
     "data": {
      "text/html": [
       "<div>\n",
       "<style scoped>\n",
       "    .dataframe tbody tr th:only-of-type {\n",
       "        vertical-align: middle;\n",
       "    }\n",
       "\n",
       "    .dataframe tbody tr th {\n",
       "        vertical-align: top;\n",
       "    }\n",
       "\n",
       "    .dataframe thead th {\n",
       "        text-align: right;\n",
       "    }\n",
       "</style>\n",
       "<table border=\"1\" class=\"dataframe\">\n",
       "  <thead>\n",
       "    <tr style=\"text-align: right;\">\n",
       "      <th></th>\n",
       "      <th>PUBCHEM_CID</th>\n",
       "      <th>PUBCHEM_ACTIVITY_OUTCOME</th>\n",
       "      <th>Activity Summary</th>\n",
       "      <th>Ratio Potency (uM)</th>\n",
       "      <th>Ratio Efficacy (%)</th>\n",
       "      <th>CovalentUnitCount</th>\n",
       "    </tr>\n",
       "  </thead>\n",
       "  <tbody>\n",
       "    <tr>\n",
       "      <th>4</th>\n",
       "      <td>5460352</td>\n",
       "      <td>Inactive</td>\n",
       "      <td>inactive</td>\n",
       "      <td>NaN</td>\n",
       "      <td>0</td>\n",
       "      <td>3</td>\n",
       "    </tr>\n",
       "    <tr>\n",
       "      <th>5</th>\n",
       "      <td>10690</td>\n",
       "      <td>Inactive</td>\n",
       "      <td>inactive</td>\n",
       "      <td>NaN</td>\n",
       "      <td>0</td>\n",
       "      <td>3</td>\n",
       "    </tr>\n",
       "    <tr>\n",
       "      <th>6</th>\n",
       "      <td>9403</td>\n",
       "      <td>Inconclusive</td>\n",
       "      <td>inconclusive</td>\n",
       "      <td>NaN</td>\n",
       "      <td>0</td>\n",
       "      <td>1</td>\n",
       "    </tr>\n",
       "  </tbody>\n",
       "</table>\n",
       "</div>"
      ],
      "text/plain": [
       "   PUBCHEM_CID PUBCHEM_ACTIVITY_OUTCOME Activity Summary Ratio Potency (uM)  \\\n",
       "4      5460352                 Inactive         inactive                NaN   \n",
       "5        10690                 Inactive         inactive                NaN   \n",
       "6         9403             Inconclusive     inconclusive                NaN   \n",
       "\n",
       "  Ratio Efficacy (%)  CovalentUnitCount  \n",
       "4                  0                  3  \n",
       "5                  0                  3  \n",
       "6                  0                  1  "
      ]
     },
     "execution_count": 60,
     "metadata": {},
     "output_type": "execute_result"
    }
   ],
   "source": [
    "ag_pre.head(3)"
   ]
  },
  {
   "cell_type": "code",
   "execution_count": 61,
   "metadata": {},
   "outputs": [
    {
     "data": {
      "text/plain": [
       "(9466, 6)"
      ]
     },
     "execution_count": 61,
     "metadata": {},
     "output_type": "execute_result"
    }
   ],
   "source": [
    "ag_pre.shape"
   ]
  },
  {
   "cell_type": "code",
   "execution_count": 62,
   "metadata": {},
   "outputs": [
    {
     "data": {
      "text/plain": [
       "inactive                              8525\n",
       "inconclusive                           651\n",
       "active agonist                         172\n",
       "inconclusive agonist                    50\n",
       "active antagonist                       31\n",
       "inconclusive agonist (fluorescent)      19\n",
       "inconclusive antagonist                 18\n",
       "Name: Activity Summary, dtype: int64"
      ]
     },
     "execution_count": 62,
     "metadata": {},
     "output_type": "execute_result"
    }
   ],
   "source": [
    "ag_pre['Activity Summary'].value_counts()"
   ]
  },
  {
   "cell_type": "markdown",
   "metadata": {},
   "source": [
    "# Combining Dataframes and Cleaning (both)"
   ]
  },
  {
   "cell_type": "markdown",
   "metadata": {},
   "source": [
    "## Method 1"
   ]
  },
  {
   "cell_type": "code",
   "execution_count": 63,
   "metadata": {},
   "outputs": [
    {
     "data": {
      "text/plain": [
       "7374"
      ]
     },
     "execution_count": 63,
     "metadata": {},
     "output_type": "execute_result"
    }
   ],
   "source": [
    "antag_cid = antag_pre['PUBCHEM_CID'].tolist()\n",
    "ag_cid = ag_pre['PUBCHEM_CID'].tolist()\n",
    "all_cid = list(set( antag_cid + ag_cid ))\n",
    "len(all_cid)"
   ]
  },
  {
   "cell_type": "code",
   "execution_count": 64,
   "metadata": {},
   "outputs": [
    {
     "data": {
      "text/plain": [
       "inactive             5639\n",
       "active agonist        104\n",
       "active antagonist      30\n",
       "Name: activity, dtype: int64"
      ]
     },
     "execution_count": 64,
     "metadata": {},
     "output_type": "execute_result"
    }
   ],
   "source": [
    "final_act = {}\n",
    "\n",
    "for mycid in list(all_cid) :\n",
    "    \n",
    "    antag_act = list(set( antag_pre[ antag_pre['PUBCHEM_CID'] == mycid].loc[:,'Activity Summary'].tolist()))\n",
    "    ag_act = list(set( ag_pre[ ag_pre['PUBCHEM_CID'] == mycid].loc[:,'Activity Summary'].tolist()))\n",
    "    all_act = list(set( antag_act + ag_act ))\n",
    "    \n",
    "    if ( len(all_act) == 1) :\n",
    "        final_act[ mycid ] = all_act[0]\n",
    "\n",
    "df_activity = pd.DataFrame(final_act.items(), columns=['cid', 'activity'])\n",
    "df_activity = df_activity.sort_values('cid').reset_index(drop=True)\n",
    "df_activity = df_activity[ (df_activity['activity'] == 'active agonist') | \\\n",
    "                           (df_activity['activity'] == 'active antagonist' ) | \\\n",
    "                           (df_activity['activity'] == 'inactive') ]\n",
    "df_activity.activity.value_counts()"
   ]
  },
  {
   "cell_type": "markdown",
   "metadata": {},
   "source": [
    "## Method 2 - USING"
   ]
  },
  {
   "cell_type": "code",
   "execution_count": 65,
   "metadata": {},
   "outputs": [],
   "source": [
    "#antag_cid_df = antag_pre[ antag_pre['Activity Summary'] == 'active antagonist' ]\n",
    "#ag_cid_df = ag_pre[ ag_pre['Activity Summary'] == 'active agonist' ]\n",
    "#inact_cid_df_antag = antag_pre[ antag_pre['Activity Summary'] == 'inactive' ]\n",
    "#inact_cid_df_ag = ag_pre[ ag_pre['Activity Summary'] == 'inactive' ]\n",
    "\n",
    "#df_activity2 = pd.concat([ antag_cid_df, ag_cid_df, inact_cid_df_antag, inact_cid_df_ag])"
   ]
  },
  {
   "cell_type": "code",
   "execution_count": 66,
   "metadata": {},
   "outputs": [
    {
     "data": {
      "text/plain": [
       "inactive             5263\n",
       "active antagonist     274\n",
       "active agonist        135\n",
       "Name: activity, dtype: int64"
      ]
     },
     "execution_count": 66,
     "metadata": {},
     "output_type": "execute_result"
    }
   ],
   "source": [
    "cids_ant = antag_pre[ antag_pre['Activity Summary'] == 'active antagonist' ].PUBCHEM_CID.tolist()\n",
    "cids_ago = ag_pre[ ag_pre['Activity Summary'] == 'active agonist' ].PUBCHEM_CID.tolist()\n",
    "cids_inact1 = antag_pre[ antag_pre['Activity Summary'] == 'inactive' ].PUBCHEM_CID.tolist()\n",
    "cids_inact2 = ag_pre[ ag_pre['Activity Summary'] == 'inactive' ].PUBCHEM_CID.tolist()\n",
    "\n",
    "cids_conflict = np.intersect1d(cids_ant, cids_ago)\n",
    "cids_ant = np.setdiff1d( cids_ant, cids_conflict )\n",
    "cids_ago = np.setdiff1d( cids_ago, cids_conflict )\n",
    "\n",
    "cids_inact = np.intersect1d(cids_inact1, cids_inact2)\n",
    "\n",
    "final_act = {}\n",
    "\n",
    "for mycid in cids_ant :\n",
    "    final_act[ mycid ] = 'active antagonist'\n",
    "    \n",
    "for mycid in cids_ago :\n",
    "    final_act[ mycid ] = 'active agonist'\n",
    "    \n",
    "for mycid in cids_inact :\n",
    "    final_act[ mycid ] = 'inactive'\n",
    "\n",
    "df_activity2 = pd.DataFrame(final_act.items(), columns=['cid', 'activity'])\n",
    "df_activity2 = df_activity2.sort_values('cid').reset_index(drop=True)\n",
    "df_activity2.activity.value_counts()"
   ]
  },
  {
   "cell_type": "code",
   "execution_count": 76,
   "metadata": {},
   "outputs": [],
   "source": [
    "df_activity2 = df_activity2.rename(columns = {'cid' : 'PUBCHEM_CID', 'activity' : 'Activity Summary'})"
   ]
  },
  {
   "cell_type": "code",
   "execution_count": 77,
   "metadata": {},
   "outputs": [],
   "source": [
    "#Writing df_activity2 to csv\n",
    "\n",
    "df_activity2.to_csv('FINAL_Merged_Cleaned_CSV_7-19', index = False)"
   ]
  },
  {
   "cell_type": "code",
   "execution_count": null,
   "metadata": {},
   "outputs": [],
   "source": []
  }
 ],
 "metadata": {
  "kernelspec": {
   "display_name": "Python 3",
   "language": "python",
   "name": "python3"
  },
  "language_info": {
   "codemirror_mode": {
    "name": "ipython",
    "version": 3
   },
   "file_extension": ".py",
   "mimetype": "text/x-python",
   "name": "python",
   "nbconvert_exporter": "python",
   "pygments_lexer": "ipython3",
   "version": "3.6.8"
  }
 },
 "nbformat": 4,
 "nbformat_minor": 2
}

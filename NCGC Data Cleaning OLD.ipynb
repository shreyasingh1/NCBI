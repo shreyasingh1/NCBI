{
 "cells": [
  {
   "cell_type": "markdown",
   "metadata": {},
   "source": [
    "# Dealing with multicomponent compounds"
   ]
  },
  {
   "cell_type": "markdown",
   "metadata": {},
   "source": [
    "# Data Cleaning Full (antag)"
   ]
  },
  {
   "cell_type": "code",
   "execution_count": 205,
   "metadata": {},
   "outputs": [],
   "source": [
    "import numpy as np\n",
    "import pandas as pd\n",
    "import matplotlib.pyplot as plt\n",
    "import seaborn as sns\n",
    "import requests\n",
    "from requests import exceptions\n",
    "import re\n",
    "%matplotlib inline\n",
    "\n",
    "import urllib\n",
    "from urllib.request import urlopen\n",
    "from bs4 import BeautifulSoup\n",
    "\n",
    "#hiding warning messages\n",
    "import warnings\n",
    "warnings.filterwarnings(\"ignore\")\n",
    "\n",
    "#Reading in Summary ANTAGONIST CSV\n",
    "antag_pre = pd.read_csv('AID_588533_datatable_all.csv')\n",
    "antag_pre = antag_pre.iloc[5:]\n",
    "list1 = antag_pre['PUBCHEM_CID']"
   ]
  },
  {
   "cell_type": "code",
   "execution_count": 206,
   "metadata": {},
   "outputs": [],
   "source": [
    "#Removing inconclusives\n",
    "antag_pre = antag_pre.drop(antag_pre.loc[antag_pre['Phenotype'] == 'Inconclusive'].index)\n",
    "antag_pre = antag_pre.drop(antag_pre.loc[antag_pre['Phenotype'] == 'Cytotoxic'].index)\n",
    "antag_pre = antag_pre.drop(antag_pre.loc[antag_pre['Phenotype'] == 'Fluorescent'].index)"
   ]
  },
  {
   "cell_type": "code",
   "execution_count": 207,
   "metadata": {},
   "outputs": [],
   "source": [
    "#Changing \"Phenotype\" Column to Activity Summary\n",
    "antag_pre = antag_pre.rename(index=str, columns={\"Phenotype\": \"Activity Summary\"})\n",
    "\n",
    "#Changing \"Potency\" Column to Ratio Potency (uMJ)\n",
    "antag_pre = antag_pre.rename(index=str, columns={\"Potency\": \"Ratio Potency (uM)\"})\n",
    "\n",
    "#Changing \"Efficacy\" Column to Ratio Efficacy (%)\n",
    "antag_pre = antag_pre.rename(index=str, columns={\"Efficacy\": \"Ratio Efficacy (%)\"})\n",
    "\n",
    "#Keeping only CID, Activity Summary, Ratio Potency (uM), and Ratio Efficacy\n",
    "antag_pre = antag_pre[['PUBCHEM_CID', 'Activity Summary', 'Ratio Potency (uM)', 'Ratio Efficacy (%)']]\n",
    "antag_pre.fillna(0, inplace = True)\n",
    "\n",
    "##Dropping values with no CID\n",
    "antag_pre = antag_pre.drop(antag_pre.loc[antag_pre['PUBCHEM_CID'] == 0].index)\n",
    "\n",
    "#Sorting CID's in ascending order\n",
    "antag_pre = antag_pre.sort_values(by = ['PUBCHEM_CID'], ascending = True, inplace = False)"
   ]
  },
  {
   "cell_type": "code",
   "execution_count": 208,
   "metadata": {
    "scrolled": true
   },
   "outputs": [],
   "source": [
    "#Replacing Inhibitor with active agonist title\n",
    "#Replacing Activator with active agonist title\n",
    "antag_pre = antag_pre.replace({'Inhibitor': 'active antagonist', 'Activator': 'active agonist', 'Inactive' : 'inactive'})"
   ]
  },
  {
   "cell_type": "markdown",
   "metadata": {},
   "source": [
    "# Identifying Covalent Unit Count (antag)"
   ]
  },
  {
   "cell_type": "code",
   "execution_count": 209,
   "metadata": {},
   "outputs": [
    {
     "data": {
      "text/plain": [
       "2307"
      ]
     },
     "execution_count": 209,
     "metadata": {},
     "output_type": "execute_result"
    }
   ],
   "source": [
    "#List of all CID's\n",
    "CID_list = antag_pre['PUBCHEM_CID'].tolist()\n",
    "\n",
    "#Making them integers (removing decimals)\n",
    "CID_list = [int(i) for i in CID_list]\n",
    "len(CID_list)"
   ]
  },
  {
   "cell_type": "code",
   "execution_count": 210,
   "metadata": {},
   "outputs": [],
   "source": [
    "#Splitting CID_list into smaller strings (800 is around the max size for the full url)\n",
    "list1 = CID_list[:800]\n",
    "list2 = CID_list[800:1500]\n",
    "list3 = CID_list[1500:2100]\n",
    "list4 = CID_list[2100:]\n",
    "\n",
    "#Changing list to str, dropping start/end brackets, removing spaces\n",
    "str1 = (str(list1)[1:-1])\n",
    "str1 = str1.replace(' ', '')\n",
    "str2 = (str(list2)[1:-1])\n",
    "str2 = str2.replace(' ', '')\n",
    "str3 = (str(list3)[1:-1])\n",
    "str3 = str3.replace(' ', '')\n",
    "str4 = (str(list4)[1:-1])\n",
    "str4 = str4.replace(' ', '')"
   ]
  },
  {
   "cell_type": "code",
   "execution_count": 211,
   "metadata": {},
   "outputs": [
    {
     "data": {
      "text/plain": [
       "2307"
      ]
     },
     "execution_count": 211,
     "metadata": {},
     "output_type": "execute_result"
    }
   ],
   "source": [
    "#Getting the CovalentUnitCount for each CID\n",
    "##IF it is greater than 1, it is a multicomponent compound\n",
    "\n",
    "#opening and reading the 16 CovalentUnitCount URLs\n",
    "url1 = ('https://pubchem.ncbi.nlm.nih.gov/rest/pug/compound/cid/' + str1 + '/property/CovalentUnitCount/TXT')\n",
    "html1 = urlopen(url1) \n",
    "soup1 = BeautifulSoup(html1, 'lxml')\n",
    "url2 = ('https://pubchem.ncbi.nlm.nih.gov/rest/pug/compound/cid/' + str2 + '/property/CovalentUnitCount/TXT')\n",
    "html2 = urlopen(url2) \n",
    "soup2 = BeautifulSoup(html2, 'lxml')\n",
    "url3 = ('https://pubchem.ncbi.nlm.nih.gov/rest/pug/compound/cid/' + str3 + '/property/CovalentUnitCount/TXT')\n",
    "html3 = urlopen(url3) \n",
    "soup3 = BeautifulSoup(html3, 'lxml')\n",
    "url4 = ('https://pubchem.ncbi.nlm.nih.gov/rest/pug/compound/cid/' + str4 + '/property/CovalentUnitCount/TXT')\n",
    "html4 = urlopen(url4) \n",
    "soup4 = BeautifulSoup(html4, 'lxml')\n",
    "\n",
    "cov_units1 = soup1.get_text()\n",
    "cov_units2 = soup2.get_text()\n",
    "cov_units3 = soup3.get_text()\n",
    "cov_units4 = soup4.get_text()\n",
    "\n",
    "#total cov_units string\n",
    "cov_units = cov_units1 + cov_units2 + cov_units3 + cov_units4\n",
    "\n",
    "#cov_units string to cov_units list\n",
    "cov_units = cov_units.split()\n",
    "len(cov_units)"
   ]
  },
  {
   "cell_type": "markdown",
   "metadata": {},
   "source": [
    "# Dealing with multicomponent molecules (antag)"
   ]
  },
  {
   "cell_type": "code",
   "execution_count": 214,
   "metadata": {},
   "outputs": [
    {
     "data": {
      "text/plain": [
       "(168, 5)"
      ]
     },
     "execution_count": 214,
     "metadata": {},
     "output_type": "execute_result"
    }
   ],
   "source": [
    "#adding cov_units column to antag\n",
    "antag_pre['CovalentUnitCount'] = cov_units\n",
    "\n",
    "#Making copy of antag_pre\n",
    "antag_cov = antag_pre\n",
    "\n",
    "#dropping rows where covalent unit count is = 1\n",
    "antag_cov = antag_cov[antag_cov.CovalentUnitCount != '1']\n",
    "antag_cov.shape\n",
    "#168 multicomponent CIDs (2307 total)"
   ]
  },
  {
   "cell_type": "code",
   "execution_count": 215,
   "metadata": {},
   "outputs": [],
   "source": [
    "#getting CID list of multicomponent compounds\n",
    "CID_list_multi = antag_cov['PUBCHEM_CID'].tolist()\n",
    "\n",
    "#Removing decimals\n",
    "CID_list_multi = [int(i) for i in CID_list_multi]"
   ]
  },
  {
   "cell_type": "code",
   "execution_count": 216,
   "metadata": {},
   "outputs": [
    {
     "data": {
      "text/plain": [
       "168"
      ]
     },
     "execution_count": 216,
     "metadata": {},
     "output_type": "execute_result"
    }
   ],
   "source": [
    "#Getting list of covalent unit number for the multicomponent compounds\n",
    "list_cov_multi = antag_cov['CovalentUnitCount'].tolist()\n",
    "\n",
    "parent_CID_list = []\n",
    "i = 0\n",
    "while i < len(CID_list_multi):\n",
    "    try:\n",
    "    # (list_cov_multi[i] == '2'):\n",
    "        url1 = 'https://pubchem.ncbi.nlm.nih.gov/rest/pug/compound/cid/' + str(CID_list_multi[i]) + '/cids/TXT?cids_type=parent'\n",
    "        html1 = urlopen(url1) \n",
    "        soup1 = BeautifulSoup(html1, 'lxml')\n",
    "        parent1 = soup1.get_text()\n",
    "        #print(parent1)\n",
    "        parent_CID_list.append(parent1)\n",
    "        i = i + 1\n",
    "       # else:\n",
    "        #    i = i + 1\n",
    "    except:\n",
    "        #contine\n",
    "        #print('eek')\n",
    "        #if err.code == ('404: PUGREST.NotFound'):\n",
    "        parent_CID_list.append('0')\n",
    "        i = i + 1\n",
    "        \n",
    "\n",
    "\n",
    "\n",
    "len(parent_CID_list)"
   ]
  },
  {
   "cell_type": "code",
   "execution_count": 217,
   "metadata": {},
   "outputs": [],
   "source": [
    "#Removing '\\n from the end of each CID in parent_CID_list'\n",
    "bad_chars = ['\\n']\n",
    "\n",
    "i = 0\n",
    "while i < len(parent_CID_list):\n",
    "    if parent_CID_list[i] == '0':\n",
    "        i = i + 1\n",
    "    else:\n",
    "        for j in bad_chars: \n",
    "            parent_CID_list[i] = parent_CID_list[i].replace(j, '')\n",
    "            i = i + 1"
   ]
  },
  {
   "cell_type": "code",
   "execution_count": 218,
   "metadata": {},
   "outputs": [],
   "source": [
    "#adding parent_CID's to antag_cov DF\n",
    "antag_cov['Parent_CIDs'] = parent_CID_list"
   ]
  },
  {
   "cell_type": "code",
   "execution_count": 219,
   "metadata": {},
   "outputs": [],
   "source": [
    "#now that we have a list of the parent compounds for each multiple component molecule we:\n",
    "#delete all values with a parent of 0\n",
    "#make a new df called antag_multi_to_parent\n",
    "antag_multi_to_parent = antag_cov.drop(antag_cov.loc[antag_cov['Parent_CIDs'] == '0'].index)\n",
    "\n",
    "##replace PUBCHEM_CID with parent CID's\n",
    "###Drop CID column and rename Parent_CID's to just PUBCHEM_CID\n",
    "antag_multi_to_parent = antag_multi_to_parent.drop(columns = ['PUBCHEM_CID'], axis = 1)\n",
    "antag_multi_to_parent = antag_multi_to_parent.rename(index=str, columns={\"Parent_CIDs\" : \"PUBCHEM_CID\"})"
   ]
  },
  {
   "cell_type": "code",
   "execution_count": 220,
   "metadata": {},
   "outputs": [],
   "source": [
    "#Removing all CID's with multicomponent compounds from antag_pre (original DF of all antag compounds)\n",
    "antag_pre_minus_multi = antag_pre[~antag_pre.PUBCHEM_CID.isin(CID_list_multi)]"
   ]
  },
  {
   "cell_type": "code",
   "execution_count": 221,
   "metadata": {},
   "outputs": [],
   "source": [
    "#Combining antag_pre with antag_multi_to_parent\n",
    "antag = antag_pre_minus_multi.append(antag_multi_to_parent)"
   ]
  },
  {
   "cell_type": "markdown",
   "metadata": {},
   "source": [
    "# Dealing with conflicts (antag)"
   ]
  },
  {
   "cell_type": "code",
   "execution_count": 222,
   "metadata": {},
   "outputs": [],
   "source": [
    "#Dropping duplicates from original antag dataframe\n",
    "antag_no_dups = antag.drop_duplicates(subset = 'PUBCHEM_CID', keep = False)"
   ]
  },
  {
   "cell_type": "code",
   "execution_count": 223,
   "metadata": {},
   "outputs": [],
   "source": [
    "##Finding DF of all duplicates\n",
    "antag_dups = antag[antag.duplicated('PUBCHEM_CID', keep = False)] \n",
    "antag_dups = antag_dups.sort_values(by = ['PUBCHEM_CID', 'Activity Summary'], ascending = True, inplace = False)"
   ]
  },
  {
   "cell_type": "code",
   "execution_count": 224,
   "metadata": {},
   "outputs": [],
   "source": [
    "#Creating two seperate datasets for the three different cases (third case is all deleted)"
   ]
  },
  {
   "cell_type": "code",
   "execution_count": 225,
   "metadata": {},
   "outputs": [],
   "source": [
    "##df_inactive = both activity scores inactive\n",
    "###Drop all active agonists and active antagonists, and drop any values that are no longer dups.  \n",
    "###This will leave CID dups with outcomes that are both inactive.\n",
    "df_inactive = antag_dups.drop(antag_dups.loc[antag_dups['Activity Summary'] == 'active agonist'].index)\n",
    "df_inactive = df_inactive.drop(df_inactive.loc[antag_dups['Activity Summary'] == 'active antagonist'].index)\n",
    "df_inactive = df_inactive[df_inactive.duplicated(subset = 'PUBCHEM_CID', keep = False)]\n",
    "\n",
    "#Only leaving one of each inactive value\n",
    "df_inactive_clean = df_inactive.drop_duplicates(subset = 'PUBCHEM_CID', keep = 'first')"
   ]
  },
  {
   "cell_type": "code",
   "execution_count": 226,
   "metadata": {},
   "outputs": [],
   "source": [
    "##df_active = both activity scores are active\n",
    "###Drop all inactive values and drop any values that are no longer dups\n",
    "\n",
    "df_active = antag_dups.drop(antag_dups.loc[antag_dups['Activity Summary'] == 'inactive'].index)\n",
    "df_active = df_active[df_active.duplicated(subset = 'PUBCHEM_CID', keep = False)]\n",
    "\n",
    "###Rank by ascending CID AND by ascending potency\n",
    "###Drop duplicates and leave the FIRST value, which is the lowest potency!!!!!\n",
    "df_active = df_active.sort_values(by = ['PUBCHEM_CID','Ratio Potency (uM)'], ascending = True, inplace = False)\n",
    "df_active_clean = df_active.drop_duplicates(subset = 'PUBCHEM_CID', keep = 'first')"
   ]
  },
  {
   "cell_type": "code",
   "execution_count": 227,
   "metadata": {},
   "outputs": [],
   "source": [
    "##df_disagree = the activity scores disagree\n",
    "##We removed all the rest because they didn't disagree"
   ]
  },
  {
   "cell_type": "code",
   "execution_count": 229,
   "metadata": {},
   "outputs": [
    {
     "data": {
      "text/plain": [
       "(1901, 5)"
      ]
     },
     "execution_count": 229,
     "metadata": {},
     "output_type": "execute_result"
    }
   ],
   "source": [
    "#Combining antag_no_dups with df_active_clean and df_inactive_clean to create the final database with no dups\n",
    "frames1 = [antag_no_dups, df_active_clean, df_inactive_clean]\n",
    "\n",
    "#FINAL CLEAN DF\n",
    "antag_clean = pd.concat(frames1)\n",
    "antag_clean.shape"
   ]
  },
  {
   "cell_type": "code",
   "execution_count": null,
   "metadata": {},
   "outputs": [],
   "source": []
  },
  {
   "cell_type": "markdown",
   "metadata": {},
   "source": [
    "# Data Cleaning Full (ag)"
   ]
  },
  {
   "cell_type": "code",
   "execution_count": 232,
   "metadata": {},
   "outputs": [],
   "source": [
    "#Data has no active antagonist values"
   ]
  },
  {
   "cell_type": "code",
   "execution_count": 233,
   "metadata": {},
   "outputs": [],
   "source": [
    "#Reading in Summary ANTAGONIST CSV\n",
    "ag_pre = pd.read_csv('AID_588532_datatable_all.csv')\n",
    "ag_pre = ag_pre.iloc[5:]\n",
    "list1 = ag_pre['PUBCHEM_CID']"
   ]
  },
  {
   "cell_type": "code",
   "execution_count": 234,
   "metadata": {},
   "outputs": [],
   "source": [
    "#Removing inconclusives\n",
    "ag_pre = ag_pre.drop(ag_pre.loc[ag_pre['Phenotype'] == 'Inconclusive'].index)\n",
    "ag_pre = ag_pre.drop(ag_pre.loc[ag_pre['Phenotype'] == 'Fluorescent'].index)"
   ]
  },
  {
   "cell_type": "code",
   "execution_count": 235,
   "metadata": {},
   "outputs": [],
   "source": [
    "#Changing \"Phenotype\" Column to Activity Summary\n",
    "ag_pre = ag_pre.rename(index=str, columns={\"Phenotype\": \"Activity Summary\"})\n",
    "\n",
    "#Changing \"Potency\" Column to Ratio Potency (uMJ)\n",
    "ag_pre = ag_pre.rename(index=str, columns={\"Potency\": \"Ratio Potency (uM)\"})\n",
    "\n",
    "#Changing \"Efficacy\" Column to Ratio Efficacy (%)\n",
    "ag_pre = ag_pre.rename(index=str, columns={\"Efficacy\": \"Ratio Efficacy (%)\"})\n",
    "\n",
    "#Keeping only CID, Activity Summary, Ratio Potency (uM), and Ratio Efficacy\n",
    "ag_pre = ag_pre[['PUBCHEM_CID', 'Activity Summary', 'Ratio Potency (uM)', 'Ratio Efficacy (%)']]\n",
    "ag_pre.fillna(0, inplace = True)\n",
    "\n",
    "##Dropping values with no CID\n",
    "ag_pre = ag_pre.drop(ag_pre.loc[ag_pre['PUBCHEM_CID'] == 0].index)\n",
    "\n",
    "#Sorting CID's in ascending order\n",
    "ag_pre = ag_pre.sort_values(by = ['PUBCHEM_CID'], ascending = True, inplace = False)"
   ]
  },
  {
   "cell_type": "code",
   "execution_count": 236,
   "metadata": {},
   "outputs": [],
   "source": [
    "#Replacing Activator with active agonist title\n",
    "ag_pre = ag_pre.replace({'Activator': 'active agonist', 'Inactive' : 'inactive'})"
   ]
  },
  {
   "cell_type": "markdown",
   "metadata": {},
   "source": [
    "# Identifying Covalent Unit Count (ag)"
   ]
  },
  {
   "cell_type": "code",
   "execution_count": 240,
   "metadata": {},
   "outputs": [
    {
     "data": {
      "text/plain": [
       "2421"
      ]
     },
     "execution_count": 240,
     "metadata": {},
     "output_type": "execute_result"
    }
   ],
   "source": [
    "#List of all CID's\n",
    "CID_list = ag_pre['PUBCHEM_CID'].tolist()\n",
    "\n",
    "#Making them integers (removing decimals)\n",
    "CID_list = [int(i) for i in CID_list]\n",
    "len(CID_list)"
   ]
  },
  {
   "cell_type": "code",
   "execution_count": 241,
   "metadata": {},
   "outputs": [],
   "source": [
    "#Splitting CID_list into smaller strings (800 is around the max size for the full url)\n",
    "list1 = CID_list[:800]\n",
    "list2 = CID_list[800:1500]\n",
    "list3 = CID_list[1500:2100]\n",
    "list4 = CID_list[2100:]\n",
    "\n",
    "#Changing list to str, dropping start/end brackets, removing spaces\n",
    "str1 = (str(list1)[1:-1])\n",
    "str1 = str1.replace(' ', '')\n",
    "str2 = (str(list2)[1:-1])\n",
    "str2 = str2.replace(' ', '')\n",
    "str3 = (str(list3)[1:-1])\n",
    "str3 = str3.replace(' ', '')\n",
    "str4 = (str(list4)[1:-1])\n",
    "str4 = str4.replace(' ', '')"
   ]
  },
  {
   "cell_type": "code",
   "execution_count": 242,
   "metadata": {},
   "outputs": [
    {
     "data": {
      "text/plain": [
       "2421"
      ]
     },
     "execution_count": 242,
     "metadata": {},
     "output_type": "execute_result"
    }
   ],
   "source": [
    "#Getting the CovalentUnitCount for each CID\n",
    "##IF it is greater than 1, it is a multicomponent compound\n",
    "\n",
    "#opening and reading the CovalentUnitCount URLs\n",
    "url1 = ('https://pubchem.ncbi.nlm.nih.gov/rest/pug/compound/cid/' + str1 + '/property/CovalentUnitCount/TXT')\n",
    "html1 = urlopen(url1) \n",
    "soup1 = BeautifulSoup(html1, 'lxml')\n",
    "url2 = ('https://pubchem.ncbi.nlm.nih.gov/rest/pug/compound/cid/' + str2 + '/property/CovalentUnitCount/TXT')\n",
    "html2 = urlopen(url2) \n",
    "soup2 = BeautifulSoup(html2, 'lxml')\n",
    "url3 = ('https://pubchem.ncbi.nlm.nih.gov/rest/pug/compound/cid/' + str3 + '/property/CovalentUnitCount/TXT')\n",
    "html3 = urlopen(url3) \n",
    "soup3 = BeautifulSoup(html3, 'lxml')\n",
    "url4 = ('https://pubchem.ncbi.nlm.nih.gov/rest/pug/compound/cid/' + str4 + '/property/CovalentUnitCount/TXT')\n",
    "html4 = urlopen(url4) \n",
    "soup4 = BeautifulSoup(html4, 'lxml')\n",
    "\n",
    "cov_units1 = soup1.get_text()\n",
    "cov_units2 = soup2.get_text()\n",
    "cov_units3 = soup3.get_text()\n",
    "cov_units4 = soup4.get_text()\n",
    "\n",
    "#total cov_units string\n",
    "cov_units = cov_units1 + cov_units2 + cov_units3 + cov_units4\n",
    "\n",
    "#cov_units string to cov_units list\n",
    "cov_units = cov_units.split()\n",
    "len(cov_units)"
   ]
  },
  {
   "cell_type": "markdown",
   "metadata": {},
   "source": [
    "# Dealing with multicomponent molecules (antag)"
   ]
  },
  {
   "cell_type": "code",
   "execution_count": 245,
   "metadata": {},
   "outputs": [
    {
     "data": {
      "text/plain": [
       "(182, 5)"
      ]
     },
     "execution_count": 245,
     "metadata": {},
     "output_type": "execute_result"
    }
   ],
   "source": [
    "#adding cov_units column to antag\n",
    "ag_pre['CovalentUnitCount'] = cov_units\n",
    "\n",
    "#Making copy of antag_pre\n",
    "ag_cov = ag_pre\n",
    "\n",
    "#dropping rows where covalent unit count is = 1\n",
    "ag_cov = ag_cov[ag_cov.CovalentUnitCount != '1']\n",
    "ag_cov.shape\n",
    "#182 multicomponent CIDs (2421 total)"
   ]
  },
  {
   "cell_type": "code",
   "execution_count": 246,
   "metadata": {},
   "outputs": [],
   "source": [
    "#getting CID list of multicomponent compounds\n",
    "CID_list_multi = ag_cov['PUBCHEM_CID'].tolist()\n",
    "\n",
    "#Removing decimals\n",
    "CID_list_multi = [int(i) for i in CID_list_multi]"
   ]
  },
  {
   "cell_type": "code",
   "execution_count": 247,
   "metadata": {},
   "outputs": [
    {
     "data": {
      "text/plain": [
       "182"
      ]
     },
     "execution_count": 247,
     "metadata": {},
     "output_type": "execute_result"
    }
   ],
   "source": [
    "#Getting list of covalent unit number for the multicomponent compounds\n",
    "list_cov_multi = ag_cov['CovalentUnitCount'].tolist()\n",
    "\n",
    "parent_CID_list = []\n",
    "i = 0\n",
    "while i < len(CID_list_multi):\n",
    "    try:\n",
    "    # (list_cov_multi[i] == '2'):\n",
    "        url1 = 'https://pubchem.ncbi.nlm.nih.gov/rest/pug/compound/cid/' + str(CID_list_multi[i]) + '/cids/TXT?cids_type=parent'\n",
    "        html1 = urlopen(url1) \n",
    "        soup1 = BeautifulSoup(html1, 'lxml')\n",
    "        parent1 = soup1.get_text()\n",
    "        #print(parent1)\n",
    "        parent_CID_list.append(parent1)\n",
    "        i = i + 1\n",
    "       # else:\n",
    "        #    i = i + 1\n",
    "    except:\n",
    "        #contine\n",
    "        #print('eek')\n",
    "        #if err.code == ('404: PUGREST.NotFound'):\n",
    "        parent_CID_list.append('0')\n",
    "        i = i + 1\n",
    "        \n",
    "\n",
    "\n",
    "\n",
    "len(parent_CID_list)"
   ]
  },
  {
   "cell_type": "code",
   "execution_count": 251,
   "metadata": {},
   "outputs": [],
   "source": [
    "#Removing '\\n from the end of each CID in parent_CID_list'\n",
    "bad_chars = ['\\n']\n",
    "\n",
    "i = 0\n",
    "while i < len(parent_CID_list):\n",
    "    if parent_CID_list[i] == '0':\n",
    "        i = i + 1\n",
    "    else:\n",
    "        for j in bad_chars: \n",
    "            parent_CID_list[i] = parent_CID_list[i].replace(j, '')\n",
    "            i = i + 1"
   ]
  },
  {
   "cell_type": "code",
   "execution_count": 253,
   "metadata": {},
   "outputs": [],
   "source": [
    "#adding parent_CID's to antag_cov DF\n",
    "ag_cov['Parent_CIDs'] = parent_CID_list"
   ]
  },
  {
   "cell_type": "code",
   "execution_count": 254,
   "metadata": {},
   "outputs": [],
   "source": [
    "#now that we have a list of the parent compounds for each multiple component molecule we:\n",
    "#delete all values with a parent of 0\n",
    "#make a new df called antag_multi_to_parent\n",
    "ag_multi_to_parent = ag_cov.drop(ag_cov.loc[ag_cov['Parent_CIDs'] == '0'].index)\n",
    "\n",
    "##replace PUBCHEM_CID with parent CID's\n",
    "###Drop CID column and rename Parent_CID's to just PUBCHEM_CID\n",
    "ag_multi_to_parent = ag_multi_to_parent.drop(columns = ['PUBCHEM_CID'], axis = 1)\n",
    "ag_multi_to_parent = ag_multi_to_parent.rename(index=str, columns={\"Parent_CIDs\" : \"PUBCHEM_CID\"})"
   ]
  },
  {
   "cell_type": "code",
   "execution_count": 257,
   "metadata": {},
   "outputs": [],
   "source": [
    "#Removing all CID's with multicomponent compounds from antag_pre (original DF of all antag compounds)\n",
    "ag_pre_minus_multi = ag_pre[~ag_pre.PUBCHEM_CID.isin(CID_list_multi)]"
   ]
  },
  {
   "cell_type": "code",
   "execution_count": 261,
   "metadata": {},
   "outputs": [],
   "source": [
    "#Combining antag_pre with antag_multi_to_parent\n",
    "ag = ag_pre_minus_multi.append(ag_multi_to_parent)"
   ]
  },
  {
   "cell_type": "markdown",
   "metadata": {},
   "source": [
    "# Dealing with conflicts (ag)"
   ]
  },
  {
   "cell_type": "code",
   "execution_count": 262,
   "metadata": {},
   "outputs": [],
   "source": [
    "#Dropping duplicates from original antag dataframe\n",
    "ag_no_dups = ag.drop_duplicates(subset = 'PUBCHEM_CID', keep = False)"
   ]
  },
  {
   "cell_type": "code",
   "execution_count": 263,
   "metadata": {},
   "outputs": [],
   "source": [
    "##Finding DF of all duplicates\n",
    "ag_dups = ag[ag.duplicated('PUBCHEM_CID', keep = False)] \n",
    "ag_dups = ag_dups.sort_values(by = ['PUBCHEM_CID', 'Activity Summary'], ascending = True, inplace = False)"
   ]
  },
  {
   "cell_type": "code",
   "execution_count": 264,
   "metadata": {},
   "outputs": [],
   "source": [
    "#Creating two seperate datasets for the three different cases (third case is all deleted)"
   ]
  },
  {
   "cell_type": "code",
   "execution_count": 265,
   "metadata": {},
   "outputs": [],
   "source": [
    "##df_inactive = both activity scores inactive\n",
    "###Drop all active agonists and active antagonists, and drop any values that are no longer dups.  \n",
    "###This will leave CID dups with outcomes that are both inactive.\n",
    "df_inactive = ag_dups.drop(ag_dups.loc[ag_dups['Activity Summary'] == 'active agonist'].index)\n",
    "df_inactive = df_inactive.drop(df_inactive.loc[ag_dups['Activity Summary'] == 'active antagonist'].index)\n",
    "df_inactive = df_inactive[df_inactive.duplicated(subset = 'PUBCHEM_CID', keep = False)]\n",
    "\n",
    "#Only leaving one of each inactive value\n",
    "df_inactive_clean = df_inactive.drop_duplicates(subset = 'PUBCHEM_CID', keep = 'first')"
   ]
  },
  {
   "cell_type": "code",
   "execution_count": 266,
   "metadata": {},
   "outputs": [],
   "source": [
    "##df_active = both activity scores are active\n",
    "###Drop all inactive values and drop any values that are no longer dups\n",
    "\n",
    "df_active = ag_dups.drop(ag_dups.loc[ag_dups['Activity Summary'] == 'inactive'].index)\n",
    "df_active = df_active[df_active.duplicated(subset = 'PUBCHEM_CID', keep = False)]\n",
    "\n",
    "###Rank by ascending CID AND by ascending potency\n",
    "###Drop duplicates and leave the FIRST value, which is the lowest potency!!!!!\n",
    "df_active = df_active.sort_values(by = ['PUBCHEM_CID','Ratio Potency (uM)'], ascending = True, inplace = False)\n",
    "df_active_clean = df_active.drop_duplicates(subset = 'PUBCHEM_CID', keep = 'first')"
   ]
  },
  {
   "cell_type": "code",
   "execution_count": 267,
   "metadata": {},
   "outputs": [],
   "source": [
    "##df_disagree = the activity scores disagree\n",
    "##We removed all the rest because they didn't disagree"
   ]
  },
  {
   "cell_type": "code",
   "execution_count": 268,
   "metadata": {},
   "outputs": [
    {
     "data": {
      "text/plain": [
       "(1997, 5)"
      ]
     },
     "execution_count": 268,
     "metadata": {},
     "output_type": "execute_result"
    }
   ],
   "source": [
    "#Combining antag_no_dups with df_active_clean and df_inactive_clean to create the final database with no dups\n",
    "frames1 = [ag_no_dups, df_active_clean, df_inactive_clean]\n",
    "\n",
    "#FINAL CLEAN DF\n",
    "ag_clean = pd.concat(frames1)\n",
    "ag_clean.shape"
   ]
  },
  {
   "cell_type": "code",
   "execution_count": null,
   "metadata": {},
   "outputs": [],
   "source": []
  },
  {
   "cell_type": "markdown",
   "metadata": {},
   "source": [
    "# Combining Dataframes and Cleaning (both)"
   ]
  },
  {
   "cell_type": "code",
   "execution_count": 269,
   "metadata": {},
   "outputs": [],
   "source": [
    "#Combining antag_clean and ag_clean\n",
    "frames3 = [antag_clean, ag_clean]\n",
    "final_concat_covcount = pd.concat(frames3)\n",
    "\n",
    "#Dropping Covalent Unit Column\n",
    "final_concat = final_concat_covcount.drop(columns = ['CovalentUnitCount'], axis = 1)\n",
    "\n",
    "#Changing CID's to int instead of string\n",
    "final_concat['PUBCHEM_CID'] = (final_concat['PUBCHEM_CID']).astype(int)\n",
    "#final_concat.dtypes"
   ]
  },
  {
   "cell_type": "code",
   "execution_count": 270,
   "metadata": {},
   "outputs": [],
   "source": [
    "#Dropping duplicates from original final dataframe\n",
    "final_no_dups = final_concat.drop_duplicates(subset = 'PUBCHEM_CID', keep = False)"
   ]
  },
  {
   "cell_type": "code",
   "execution_count": 271,
   "metadata": {},
   "outputs": [],
   "source": [
    "##Finding DF of all duplicates\n",
    "final_dups = final_concat[final_concat.duplicated('PUBCHEM_CID', keep = False)] \n",
    "final_dups = final_dups.sort_values(by = ['PUBCHEM_CID'], ascending = True, inplace = False)\n",
    "final_dups = final_dups.reset_index(drop = True)"
   ]
  },
  {
   "cell_type": "code",
   "execution_count": 272,
   "metadata": {},
   "outputs": [],
   "source": [
    "##df_inactive_final = both activity scores inactive\n",
    "###Drop all active agonists and active antagonists, and drop any values that are no longer dups.  \n",
    "###This will leave CID dups with outcomes that are both inactive.\n",
    "df_inactive_final = final_dups.drop(final_dups.loc[final_dups['Activity Summary'] == 'active agonist'].index)\n",
    "df_inactive_final = df_inactive_final.drop(df_inactive_final.loc[final_dups['Activity Summary'] == 'active antagonist'].index)\n",
    "df_inactive_final = df_inactive_final[df_inactive_final.duplicated(subset = 'PUBCHEM_CID', keep = False)]\n",
    "\n",
    "#Only leaving one of each inactive value\n",
    "df_inactive_final_clean = df_inactive_final.drop_duplicates(subset = 'PUBCHEM_CID', keep = 'first')"
   ]
  },
  {
   "cell_type": "code",
   "execution_count": 273,
   "metadata": {},
   "outputs": [],
   "source": [
    "##df_active_ag_final = both activity scores are active agonist\n",
    "###Drop all inactive values and drop any values that are no longer dups\n",
    "###Drop all active antagonist values\n",
    "\n",
    "df_active_ag_final = final_dups.drop(final_dups.loc[final_dups['Activity Summary'] == 'inactive'].index)\n",
    "df_active_ag_final = df_active_ag_final.drop(final_dups.loc[final_dups['Activity Summary'] == 'active antagonist'].index)\n",
    "df_active_ag_final = df_active_ag_final[df_active_ag_final.duplicated(subset = 'PUBCHEM_CID', keep = False)]\n",
    "\n",
    "###Rank by descending CID AND by descending potency\n",
    "###Drop duplicates and leave the FIRST value, which is the lowest potency!!!!!\n",
    "df_active_ag_final = df_active_ag_final.sort_values(by = ['PUBCHEM_CID', 'Ratio Potency (uM)'], ascending = True, inplace = False)\n",
    "df_active_ag_final_clean = df_active_ag_final.drop_duplicates(subset = 'PUBCHEM_CID', keep = 'first')"
   ]
  },
  {
   "cell_type": "code",
   "execution_count": 274,
   "metadata": {},
   "outputs": [],
   "source": [
    "##df_active_antag_final = both activity scores are active antagonists\n",
    "###Drop all inactive values and drop any values that are no longer dups\n",
    "###Drop all active agonist values\n",
    "\n",
    "df_active_antag_final = final_dups.drop(final_dups.loc[final_dups['Activity Summary'] == 'inactive'].index)\n",
    "df_active_antag_final = df_active_antag_final.drop(final_dups.loc[final_dups['Activity Summary'] == 'active agonist'].index)\n",
    "df_active_antag_final = df_active_antag_final[df_active_antag_final.duplicated(subset = 'PUBCHEM_CID', keep = False)]\n",
    "\n",
    "###Rank by descending CID AND by descending potency\n",
    "###Drop duplicates and leave the FIRST value, which is the lowest potency!!!!!\n",
    "df_active_antag_final = df_active_antag_final.sort_values(by = ['PUBCHEM_CID', 'Ratio Potency (uM)'], ascending = True, inplace = False)\n",
    "df_active_antag_final_clean = df_active_antag_final.drop_duplicates(subset = 'PUBCHEM_CID', keep = 'first')"
   ]
  },
  {
   "cell_type": "code",
   "execution_count": 275,
   "metadata": {},
   "outputs": [],
   "source": [
    "#getting lists of CID's of rows that fall into othr categories\n",
    "inactive_list = df_inactive_final['PUBCHEM_CID'].tolist()\n",
    "active_ag_list = df_active_ag_final['PUBCHEM_CID'].tolist()\n",
    "active_antag_list = df_active_antag_final['PUBCHEM_CID'].tolist()\n",
    "#combining lists\n",
    "index_list = inactive_list + active_ag_list + active_antag_list\n",
    "\n",
    "#Dropping those CID's from full dups dataframe final_dups\n",
    "##This will create a dataframe with CID pairs that are either inactive/active or active/active\n",
    "##Any remaining active/active CID pairs must be active agonist/antagonist pairs, and are inconclusive\n",
    "##We will delete those values\n",
    "final_dups_newindex = final_dups.set_index('PUBCHEM_CID')\n",
    "df_disagree = final_dups_newindex.drop(labels = index_list)\n",
    "df_disagree = df_disagree.reset_index()"
   ]
  },
  {
   "cell_type": "code",
   "execution_count": 276,
   "metadata": {},
   "outputs": [],
   "source": [
    "#Sorting by CID\n",
    "df_disagree = df_disagree.sort_values(by = ['PUBCHEM_CID', 'Activity Summary'], ascending = True, inplace = False)"
   ]
  },
  {
   "cell_type": "code",
   "execution_count": 277,
   "metadata": {},
   "outputs": [],
   "source": [
    "#We remove all inactive values (BC we are keeping active)\n",
    "df_disagree = df_disagree.drop(df_disagree.loc[df_disagree['Activity Summary'] == 'inactive'].index)\n",
    "#We then delete any remaining duplicates, because that means they were active agonist/antagonist pairs\n",
    "df_disagree_clean = df_disagree.drop_duplicates(subset = 'PUBCHEM_CID', keep = False)"
   ]
  },
  {
   "cell_type": "code",
   "execution_count": 278,
   "metadata": {},
   "outputs": [],
   "source": [
    "#We combine all the pieces into the full cleaned combined dataframe\n",
    "frames4 = [final_no_dups, df_inactive_final_clean, df_active_ag_final_clean, df_active_antag_final_clean, df_disagree_clean]\n",
    "final_clean = pd.concat(frames4)\n"
   ]
  },
  {
   "cell_type": "code",
   "execution_count": null,
   "metadata": {},
   "outputs": [],
   "source": []
  },
  {
   "cell_type": "markdown",
   "metadata": {},
   "source": [
    "# Deleting any CID's that are in Tox21 data"
   ]
  },
  {
   "cell_type": "code",
   "execution_count": 287,
   "metadata": {},
   "outputs": [
    {
     "data": {
      "text/plain": [
       "(2182, 4)"
      ]
     },
     "execution_count": 287,
     "metadata": {},
     "output_type": "execute_result"
    }
   ],
   "source": [
    "#Reading in Molecular Properties CSV\n",
    "tox21 = pd.read_csv('Molecular_Properties_CSV')\n",
    "tox21 = tox21.astype(float, errors = 'ignore')\n",
    "\n",
    "#getting list of CID's from tox21 data\n",
    "tox21_CIDs = tox21['PUBCHEM_CID']\n",
    "tox21_CIDs = tox21_CIDs.tolist()\n",
    "final_clean.shape"
   ]
  },
  {
   "cell_type": "code",
   "execution_count": 294,
   "metadata": {},
   "outputs": [
    {
     "data": {
      "text/plain": [
       "(328, 4)"
      ]
     },
     "execution_count": 294,
     "metadata": {},
     "output_type": "execute_result"
    }
   ],
   "source": [
    "#Removing all CID's in tox21 data from NCGC cleaned data (final_clean)\n",
    "final_ncgc = final_clean[~final_clean.PUBCHEM_CID.isin(tox21_CIDs)]\n",
    "final_ncgc.shape\n",
    "#only 46 active values total"
   ]
  },
  {
   "cell_type": "code",
   "execution_count": 295,
   "metadata": {},
   "outputs": [
    {
     "data": {
      "text/plain": [
       "(46, 4)"
      ]
     },
     "execution_count": 295,
     "metadata": {},
     "output_type": "execute_result"
    }
   ],
   "source": [
    "#Taking Dataframe of only Active values\n",
    "##Dropping all inactive values\n",
    "df_active = final_ncgc.drop(final_ncgc.loc[final_ncgc['Activity Summary'] == 'inactive'].index)\n",
    "df_active.shape"
   ]
  },
  {
   "cell_type": "code",
   "execution_count": null,
   "metadata": {},
   "outputs": [],
   "source": []
  },
  {
   "cell_type": "code",
   "execution_count": 291,
   "metadata": {},
   "outputs": [],
   "source": [
    "#Writing to csv\n",
    "final_ncgc.to_csv('NCGC_clean', index = False)\n"
   ]
  },
  {
   "cell_type": "code",
   "execution_count": null,
   "metadata": {},
   "outputs": [],
   "source": []
  },
  {
   "cell_type": "code",
   "execution_count": null,
   "metadata": {},
   "outputs": [],
   "source": []
  }
 ],
 "metadata": {
  "kernelspec": {
   "display_name": "Python 3",
   "language": "python",
   "name": "python3"
  },
  "language_info": {
   "codemirror_mode": {
    "name": "ipython",
    "version": 3
   },
   "file_extension": ".py",
   "mimetype": "text/x-python",
   "name": "python",
   "nbconvert_exporter": "python",
   "pygments_lexer": "ipython3",
   "version": "3.6.8"
  }
 },
 "nbformat": 4,
 "nbformat_minor": 2
}

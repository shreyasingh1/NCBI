{
 "cells": [
  {
   "cell_type": "markdown",
   "metadata": {},
   "source": [
    "# Cleaning Antagonist Data"
   ]
  },
  {
   "cell_type": "code",
   "execution_count": 11,
   "metadata": {
    "scrolled": true
   },
   "outputs": [],
   "source": [
    "import numpy as np\n",
    "import pandas as pd\n",
    "import matplotlib.pyplot as plt\n",
    "\n",
    "#hiding warning messages\n",
    "import warnings\n",
    "warnings.filterwarnings(\"ignore\")\n",
    "\n",
    "#Reading in Summary ANTAGONIST CSV\n",
    "antag = pd.read_csv('AID_720725_datatable_all.csv')\n",
    "antag = antag.iloc[3:]\n",
    "antag = antag.reset_index()\n",
    "#antag.head(5)\n",
    "#antag.dtypes"
   ]
  },
  {
   "cell_type": "code",
   "execution_count": 12,
   "metadata": {},
   "outputs": [],
   "source": [
    "#Removing inconclusives\n",
    "antag = antag.drop(antag.loc[antag['Activity Summary'] == 'inconclusive'].index)\n",
    "antag = antag.drop(antag.loc[antag['Activity Summary'] == 'inconclusive agonist'].index)\n",
    "antag = antag.drop(antag.loc[antag['Activity Summary'] == 'inconclusive antagonist'].index)\n",
    "antag = antag.drop(antag.loc[antag['Activity Summary'] == 'inconclusive agonist (cytotoxic)'].index)\n",
    "antag = antag.drop(antag.loc[antag['Activity Summary'] == 'inconclusive antagonist (cytotoxic)'].index)\n",
    "\n",
    "#Keeping only CID, Activity Summary, Ratio Potency (uM), and Ratio Efficacy\n",
    "antag = antag[['PUBCHEM_CID', 'Activity Summary', 'Ratio Potency (uM)', 'Ratio Efficacy (%)']]\n",
    "antag.fillna(0, inplace = True)"
   ]
  },
  {
   "cell_type": "code",
   "execution_count": 13,
   "metadata": {},
   "outputs": [],
   "source": [
    "##Dropping values with no CID\n",
    "antag = antag.drop(antag.loc[antag['PUBCHEM_CID'] == 0].index)\n",
    "\n",
    "#Dropping duplicates from original antag dataframe\n",
    "antag_no_dups = antag.drop_duplicates(subset = 'PUBCHEM_CID', keep = False)"
   ]
  },
  {
   "cell_type": "code",
   "execution_count": 14,
   "metadata": {},
   "outputs": [],
   "source": [
    "##Finding DF of all duplicates\n",
    "antag_dups = antag[antag.duplicated('PUBCHEM_CID', keep = False)] \n",
    "antag_dups = antag_dups.sort_values(by = ['PUBCHEM_CID', 'Activity Summary'], ascending = True, inplace = False)"
   ]
  },
  {
   "cell_type": "code",
   "execution_count": 15,
   "metadata": {},
   "outputs": [],
   "source": [
    "#Creating two seperate datasets for the three different cases (third case is all deleted)"
   ]
  },
  {
   "cell_type": "code",
   "execution_count": 16,
   "metadata": {},
   "outputs": [],
   "source": [
    "##df_inactive = both activity scores inactive\n",
    "###Drop all active agonists and active antagonists, and drop any values that are no longer dups.  \n",
    "###This will leave CID dups with outcomes that are both inactive.\n",
    "df_inactive = antag_dups.drop(antag_dups.loc[antag_dups['Activity Summary'] == 'active agonist'].index)\n",
    "df_inactive = df_inactive.drop(df_inactive.loc[antag_dups['Activity Summary'] == 'active antagonist'].index)\n",
    "df_inactive = df_inactive[df_inactive.duplicated(subset = 'PUBCHEM_CID', keep = False)]\n",
    "\n",
    "#Only leaving one of each inactive value\n",
    "df_inactive_clean = df_inactive.drop_duplicates(subset = 'PUBCHEM_CID', keep = 'first')"
   ]
  },
  {
   "cell_type": "code",
   "execution_count": 17,
   "metadata": {},
   "outputs": [],
   "source": [
    "##df_active = both activity scores are active\n",
    "###Drop all inactive values and drop any values that are no longer dups\n",
    "\n",
    "df_active = antag_dups.drop(antag_dups.loc[antag_dups['Activity Summary'] == 'inactive'].index)\n",
    "df_active = df_active[df_active.duplicated(subset = 'PUBCHEM_CID', keep = False)]\n",
    "\n",
    "###Rank by ascending CID AND by ascending potency\n",
    "###Drop duplicates and leave the FIRST value, which is the lowest potency!!!!!\n",
    "df_active = df_active.sort_values(by = ['PUBCHEM_CID','Ratio Potency (uM)'], ascending = True, inplace = False)\n",
    "df_active_clean = df_active.drop_duplicates(subset = 'PUBCHEM_CID', keep = 'first')"
   ]
  },
  {
   "cell_type": "code",
   "execution_count": 18,
   "metadata": {},
   "outputs": [],
   "source": [
    "##df_disagree = the activity scores disagree\n",
    "##We removed all the rest because they didn't disagree"
   ]
  },
  {
   "cell_type": "code",
   "execution_count": 22,
   "metadata": {},
   "outputs": [],
   "source": [
    "#Combining antag_no_dups with df_active_clean and df_inactive_clean to create the final database with no dups\n",
    "frames1 = [antag_no_dups, df_active_clean, df_inactive_clean]\n",
    "#FINAL CLEAN DF\n",
    "antag_clean = pd.concat(frames1)"
   ]
  },
  {
   "cell_type": "markdown",
   "metadata": {},
   "source": [
    "# Cleaning Agonist Data"
   ]
  },
  {
   "cell_type": "code",
   "execution_count": 23,
   "metadata": {},
   "outputs": [],
   "source": [
    "#Reading in Summary AGONIST CSV\n",
    "ag = pd.read_csv('AID_720719_datatable_all.csv')\n",
    "ag = ag.iloc[4:]\n",
    "ag = ag.reset_index()\n",
    "#ag.head()"
   ]
  },
  {
   "cell_type": "code",
   "execution_count": 27,
   "metadata": {},
   "outputs": [],
   "source": [
    "#Removing inconclusives\n",
    "ag = ag.drop(ag.loc[ag['Activity Summary'] == 'inconclusive'].index)\n",
    "ag = ag.drop(ag.loc[ag['Activity Summary'] == 'inconclusive agonist'].index)\n",
    "ag = ag.drop(ag.loc[ag['Activity Summary'] == 'inconclusive antagonist'].index)\n",
    "ag = ag.drop(ag.loc[ag['Activity Summary'] == 'inconclusive agonist (cytotoxic)'].index)\n",
    "ag = ag.drop(ag.loc[ag['Activity Summary'] == 'inconclusive antagonist (cytotoxic)'].index)\n",
    "\n",
    "#Keeping only CID, Activity Summary, Ratio Potency (uM), and Ratio Efficacy\n",
    "ag = ag[['PUBCHEM_CID', 'Activity Summary', 'Ratio Potency (uM)', 'Ratio Efficacy (%)']]\n",
    "ag.fillna(0, inplace = True)"
   ]
  },
  {
   "cell_type": "code",
   "execution_count": 28,
   "metadata": {},
   "outputs": [],
   "source": [
    "##Dropping values with no CID\n",
    "ag = ag.drop(ag.loc[ag['PUBCHEM_CID'] == 0].index)\n",
    "\n",
    "#Dropping duplicates from original ag dataframe\n",
    "ag_no_dups = ag.drop_duplicates(subset = 'PUBCHEM_CID', keep = False)"
   ]
  },
  {
   "cell_type": "code",
   "execution_count": 29,
   "metadata": {},
   "outputs": [],
   "source": [
    "##Finding DF of all duplicates\n",
    "ag_dups = ag[ag.duplicated('PUBCHEM_CID', keep = False)] \n",
    "ag_dups = ag_dups.sort_values(by = ['PUBCHEM_CID', 'Activity Summary'], ascending = True, inplace = False)"
   ]
  },
  {
   "cell_type": "code",
   "execution_count": 30,
   "metadata": {},
   "outputs": [],
   "source": [
    "#Creating two seperate datasets for the three different cases (third case is all deleted)"
   ]
  },
  {
   "cell_type": "code",
   "execution_count": 31,
   "metadata": {},
   "outputs": [],
   "source": [
    "##df_inactive_ag = both activity scores inactive\n",
    "###Drop all active agonists and active antagonists, and drop any values that are no longer dups.  \n",
    "###This will leave CID dups with outcomes that are both active.\n",
    "df_inactive_ag = ag_dups.drop(ag_dups.loc[ag_dups['Activity Summary'] == 'active agonist'].index)\n",
    "df_inactive_ag = df_inactive_ag.drop(df_inactive_ag.loc[ag_dups['Activity Summary'] == 'active antagonist'].index)\n",
    "df_inactive_ag = df_inactive_ag[df_inactive_ag.duplicated(subset = 'PUBCHEM_CID', keep = False)]\n",
    "\n",
    "#Only leaving one of each inactive value\n",
    "df_inactive_ag_clean = df_inactive_ag.drop_duplicates(subset = 'PUBCHEM_CID', keep = 'first')"
   ]
  },
  {
   "cell_type": "code",
   "execution_count": 32,
   "metadata": {},
   "outputs": [],
   "source": [
    "##df_active_ag = both activity scores are active\n",
    "###Drop all inactive values and drop any values that are no longer dups\n",
    "\n",
    "df_active_ag = ag_dups.drop(ag_dups.loc[ag_dups['Activity Summary'] == 'inactive'].index)\n",
    "df_active_ag = df_active_ag[df_active_ag.duplicated(subset = 'PUBCHEM_CID', keep = False)]\n",
    "\n",
    "###Rank by descending CID AND by descending potency\n",
    "###Drop duplicates and leave the FIRST value, which is the lowest potency!!!!!\n",
    "df_active_ag = df_active_ag.sort_values(by = ['PUBCHEM_CID', 'Ratio Potency (uM)'], ascending = True, inplace = False)\n",
    "df_active_ag_clean = df_active_ag.drop_duplicates(subset = 'PUBCHEM_CID', keep = 'first')"
   ]
  },
  {
   "cell_type": "code",
   "execution_count": 33,
   "metadata": {},
   "outputs": [],
   "source": [
    "##df_disagree = the activity scores disagree\n",
    "##We removed all the rest because they didn't disagree"
   ]
  },
  {
   "cell_type": "code",
   "execution_count": 34,
   "metadata": {},
   "outputs": [],
   "source": [
    "#Combining antag_no_dups with df_active_clean and df_inactive_clean to create the final database with no dups\n",
    "frames2 = [ag_no_dups, df_active_ag_clean, df_inactive_ag_clean]\n",
    "#FINAL CLEAN DF\n",
    "ag_clean = pd.concat(frames2)\n",
    "#ag_clean.shape\n",
    "#(ag_clean['Activity Summary'] == 'inactive').sum()"
   ]
  },
  {
   "cell_type": "markdown",
   "metadata": {},
   "source": [
    "# Combining Dataframes and Cleaning"
   ]
  },
  {
   "cell_type": "code",
   "execution_count": 35,
   "metadata": {},
   "outputs": [],
   "source": [
    "#Combining antag_clean and ag_clean\n",
    "frames3 = [antag_clean, ag_clean]\n",
    "final_concat = pd.concat(frames3)"
   ]
  },
  {
   "cell_type": "code",
   "execution_count": 36,
   "metadata": {},
   "outputs": [],
   "source": [
    "#Dropping duplicates from original final dataframe\n",
    "final_no_dups = final_concat.drop_duplicates(subset = 'PUBCHEM_CID', keep = False)"
   ]
  },
  {
   "cell_type": "code",
   "execution_count": 37,
   "metadata": {},
   "outputs": [],
   "source": [
    "##Finding DF of all duplicates\n",
    "final_dups = final_concat[final_concat.duplicated('PUBCHEM_CID', keep = False)] \n",
    "final_dups = final_dups.sort_values(by = ['PUBCHEM_CID'], ascending = True, inplace = False)\n",
    "final_dups = final_dups.reset_index(drop = True)"
   ]
  },
  {
   "cell_type": "code",
   "execution_count": 38,
   "metadata": {},
   "outputs": [],
   "source": [
    "##df_inactive_final = both activity scores inactive\n",
    "###Drop all active agonists and active antagonists, and drop any values that are no longer dups.  \n",
    "###This will leave CID dups with outcomes that are both inactive.\n",
    "df_inactive_final = final_dups.drop(final_dups.loc[final_dups['Activity Summary'] == 'active agonist'].index)\n",
    "df_inactive_final = df_inactive_final.drop(df_inactive_final.loc[final_dups['Activity Summary'] == 'active antagonist'].index)\n",
    "df_inactive_final = df_inactive_final[df_inactive_final.duplicated(subset = 'PUBCHEM_CID', keep = False)]\n",
    "\n",
    "#Only leaving one of each inactive value\n",
    "df_inactive_final_clean = df_inactive_final.drop_duplicates(subset = 'PUBCHEM_CID', keep = 'first')"
   ]
  },
  {
   "cell_type": "code",
   "execution_count": 39,
   "metadata": {},
   "outputs": [],
   "source": [
    "##df_active_ag_final = both activity scores are active agonist\n",
    "###Drop all inactive values and drop any values that are no longer dups\n",
    "###Drop all active antagonist values\n",
    "\n",
    "df_active_ag_final = final_dups.drop(final_dups.loc[final_dups['Activity Summary'] == 'inactive'].index)\n",
    "df_active_ag_final = df_active_ag_final.drop(final_dups.loc[final_dups['Activity Summary'] == 'active antagonist'].index)\n",
    "df_active_ag_final = df_active_ag_final[df_active_ag_final.duplicated(subset = 'PUBCHEM_CID', keep = False)]\n",
    "\n",
    "###Rank by descending CID AND by descending potency\n",
    "###Drop duplicates and leave the FIRST value, which is the lowest potency!!!!!\n",
    "df_active_ag_final = df_active_ag_final.sort_values(by = ['PUBCHEM_CID', 'Ratio Potency (uM)'], ascending = True, inplace = False)\n",
    "df_active_ag_final_clean = df_active_ag_final.drop_duplicates(subset = 'PUBCHEM_CID', keep = 'first')"
   ]
  },
  {
   "cell_type": "code",
   "execution_count": 40,
   "metadata": {},
   "outputs": [],
   "source": [
    "##df_active_antag_final = both activity scores are active antagonists\n",
    "###Drop all inactive values and drop any values that are no longer dups\n",
    "###Drop all active agonist values\n",
    "\n",
    "df_active_antag_final = final_dups.drop(final_dups.loc[final_dups['Activity Summary'] == 'inactive'].index)\n",
    "df_active_antag_final = df_active_antag_final.drop(final_dups.loc[final_dups['Activity Summary'] == 'active agonist'].index)\n",
    "df_active_antag_final = df_active_antag_final[df_active_antag_final.duplicated(subset = 'PUBCHEM_CID', keep = False)]\n",
    "\n",
    "###Rank by descending CID AND by descending potency\n",
    "###Drop duplicates and leave the FIRST value, which is the lowest potency!!!!!\n",
    "df_active_antag_final = df_active_antag_final.sort_values(by = ['PUBCHEM_CID', 'Ratio Potency (uM)'], ascending = True, inplace = False)\n",
    "df_active_antag_final_clean = df_active_antag_final.drop_duplicates(subset = 'PUBCHEM_CID', keep = 'first')"
   ]
  },
  {
   "cell_type": "code",
   "execution_count": 41,
   "metadata": {},
   "outputs": [],
   "source": [
    "#getting lists of CID's of rows that fall into othr categories\n",
    "inactive_list = df_inactive_final['PUBCHEM_CID'].tolist()\n",
    "active_ag_list = df_active_ag_final['PUBCHEM_CID'].tolist()\n",
    "active_antag_list = df_active_antag_final['PUBCHEM_CID'].tolist()\n",
    "#combining lists\n",
    "index_list = inactive_list + active_ag_list + active_antag_list\n",
    "\n",
    "#Dropping those CID's from full dups dataframe final_dups\n",
    "##This will create a dataframe with CID pairs that are either inactive/active or active/active\n",
    "##Any remaining active/active CID pairs must be active agonist/antagonist pairs, and are inconclusive\n",
    "##We will delete those values\n",
    "final_dups_newindex = final_dups.set_index('PUBCHEM_CID')\n",
    "df_disagree = final_dups_newindex.drop(labels = index_list)\n",
    "df_disagree = df_disagree.reset_index()"
   ]
  },
  {
   "cell_type": "code",
   "execution_count": 42,
   "metadata": {},
   "outputs": [],
   "source": [
    "#Sorting by CID\n",
    "df_disagree = df_disagree.sort_values(by = ['PUBCHEM_CID', 'Activity Summary'], ascending = True, inplace = False)"
   ]
  },
  {
   "cell_type": "code",
   "execution_count": 43,
   "metadata": {},
   "outputs": [],
   "source": [
    "#We remove all inactive values (BC we are keeping active)\n",
    "df_disagree = df_disagree.drop(df_disagree.loc[df_disagree['Activity Summary'] == 'inactive'].index)\n",
    "#We then delete any remaining duplicates, because that means they were active agonist/antagonist pairs\n",
    "df_disagree_clean = df_disagree.drop_duplicates(subset = 'PUBCHEM_CID', keep = False)"
   ]
  },
  {
   "cell_type": "code",
   "execution_count": 44,
   "metadata": {},
   "outputs": [],
   "source": [
    "#We combine all the pieces into the full cleaned combined dataframe\n",
    "frames4 = [final_no_dups, df_inactive_final_clean, df_active_ag_final_clean, df_active_antag_final_clean, df_disagree_clean]\n",
    "final_clean = pd.concat(frames4)"
   ]
  },
  {
   "cell_type": "code",
   "execution_count": 51,
   "metadata": {},
   "outputs": [],
   "source": [
    "#Writing to csv\n",
    "final_clean.to_csv('Final_Merged_CSV', index = False)"
   ]
  },
  {
   "cell_type": "code",
   "execution_count": 52,
   "metadata": {},
   "outputs": [
    {
     "data": {
      "text/html": [
       "<div>\n",
       "<style scoped>\n",
       "    .dataframe tbody tr th:only-of-type {\n",
       "        vertical-align: middle;\n",
       "    }\n",
       "\n",
       "    .dataframe tbody tr th {\n",
       "        vertical-align: top;\n",
       "    }\n",
       "\n",
       "    .dataframe thead th {\n",
       "        text-align: right;\n",
       "    }\n",
       "</style>\n",
       "<table border=\"1\" class=\"dataframe\">\n",
       "  <thead>\n",
       "    <tr style=\"text-align: right;\">\n",
       "      <th></th>\n",
       "      <th>PUBCHEM_CID</th>\n",
       "      <th>Activity Summary</th>\n",
       "      <th>Ratio Potency (uM)</th>\n",
       "      <th>Ratio Efficacy (%)</th>\n",
       "    </tr>\n",
       "  </thead>\n",
       "  <tbody>\n",
       "    <tr>\n",
       "      <th>0</th>\n",
       "      <td>3080.0</td>\n",
       "      <td>active antagonist</td>\n",
       "      <td>20.51130</td>\n",
       "      <td>-69.4724</td>\n",
       "    </tr>\n",
       "    <tr>\n",
       "      <th>1</th>\n",
       "      <td>197883.0</td>\n",
       "      <td>inactive</td>\n",
       "      <td>0.00000</td>\n",
       "      <td>0.0000</td>\n",
       "    </tr>\n",
       "    <tr>\n",
       "      <th>2</th>\n",
       "      <td>441358.0</td>\n",
       "      <td>inactive</td>\n",
       "      <td>0.00000</td>\n",
       "      <td>0.0000</td>\n",
       "    </tr>\n",
       "    <tr>\n",
       "      <th>3</th>\n",
       "      <td>4211.0</td>\n",
       "      <td>active antagonist</td>\n",
       "      <td>14.24490</td>\n",
       "      <td>-66.6535</td>\n",
       "    </tr>\n",
       "    <tr>\n",
       "      <th>4</th>\n",
       "      <td>2812.0</td>\n",
       "      <td>active antagonist</td>\n",
       "      <td>6.44182</td>\n",
       "      <td>-123.0110</td>\n",
       "    </tr>\n",
       "  </tbody>\n",
       "</table>\n",
       "</div>"
      ],
      "text/plain": [
       "   PUBCHEM_CID   Activity Summary  Ratio Potency (uM)  Ratio Efficacy (%)\n",
       "0       3080.0  active antagonist            20.51130            -69.4724\n",
       "1     197883.0           inactive             0.00000              0.0000\n",
       "2     441358.0           inactive             0.00000              0.0000\n",
       "3       4211.0  active antagonist            14.24490            -66.6535\n",
       "4       2812.0  active antagonist             6.44182           -123.0110"
      ]
     },
     "execution_count": 52,
     "metadata": {},
     "output_type": "execute_result"
    }
   ],
   "source": [
    "final = pd.read_csv('Final_Merged_CSV')\n",
    "final.head()"
   ]
  },
  {
   "cell_type": "code",
   "execution_count": null,
   "metadata": {},
   "outputs": [],
   "source": []
  }
 ],
 "metadata": {
  "kernelspec": {
   "display_name": "Python 3",
   "language": "python",
   "name": "python3"
  },
  "language_info": {
   "codemirror_mode": {
    "name": "ipython",
    "version": 3
   },
   "file_extension": ".py",
   "mimetype": "text/x-python",
   "name": "python",
   "nbconvert_exporter": "python",
   "pygments_lexer": "ipython3",
   "version": "3.6.8"
  }
 },
 "nbformat": 4,
 "nbformat_minor": 2
}

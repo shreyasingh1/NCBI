{
 "cells": [
  {
   "cell_type": "markdown",
   "metadata": {},
   "source": [
    "# ***RUN NOTEBOOK IN ORDER"
   ]
  },
  {
   "cell_type": "markdown",
   "metadata": {},
   "source": [
    "# Dealing with multicomponent compounds"
   ]
  },
  {
   "cell_type": "markdown",
   "metadata": {},
   "source": [
    "# Data Cleaning Full (antag)"
   ]
  },
  {
   "cell_type": "code",
   "execution_count": 45,
   "metadata": {},
   "outputs": [],
   "source": [
    "import numpy as np\n",
    "import pandas as pd\n",
    "import matplotlib.pyplot as plt\n",
    "import seaborn as sns\n",
    "import requests\n",
    "from requests import exceptions\n",
    "import re\n",
    "%matplotlib inline\n",
    "\n",
    "import urllib\n",
    "from urllib.request import urlopen\n",
    "from bs4 import BeautifulSoup\n",
    "\n",
    "#hiding warning messages\n",
    "import warnings\n",
    "warnings.filterwarnings(\"ignore\")\n",
    "\n",
    "#Reading in Summary ANTAGONIST CSV\n",
    "antag_pre = pd.read_csv('AID_720725_datatable_all.csv')\n",
    "antag_pre = antag_pre.iloc[3:]"
   ]
  },
  {
   "cell_type": "code",
   "execution_count": 2,
   "metadata": {},
   "outputs": [],
   "source": [
    "#Removing inconclusives\n",
    "antag_pre = antag_pre.drop(antag_pre.loc[antag_pre['Activity Summary'] == 'inconclusive'].index)\n",
    "antag_pre = antag_pre.drop(antag_pre.loc[antag_pre['Activity Summary'] == 'inconclusive agonist'].index)\n",
    "antag_pre = antag_pre.drop(antag_pre.loc[antag_pre['Activity Summary'] == 'inconclusive antagonist'].index)\n",
    "antag_pre = antag_pre.drop(antag_pre.loc[antag_pre['Activity Summary'] == 'inconclusive agonist (cytotoxic)'].index)\n",
    "antag_pre = antag_pre.drop(antag_pre.loc[antag_pre['Activity Summary'] == 'inconclusive antagonist (cytotoxic)'].index)\n",
    "\n",
    "#Keeping only CID, Activity Summary, Ratio Potency (uM), and Ratio Efficacy\n",
    "antag_pre = antag_pre[['PUBCHEM_CID', 'Activity Summary', 'Ratio Potency (uM)', 'Ratio Efficacy (%)']]\n",
    "antag_pre.fillna(0, inplace = True)\n",
    "\n",
    "##Dropping values with no CID\n",
    "antag_pre = antag_pre.drop(antag_pre.loc[antag_pre['PUBCHEM_CID'] == 0].index)\n",
    "\n",
    "#Sorting CID's in ascending order\n",
    "antag_pre = antag_pre.sort_values(by = ['PUBCHEM_CID'], ascending = True, inplace = False)"
   ]
  },
  {
   "cell_type": "markdown",
   "metadata": {},
   "source": [
    "# Identifying Covalent Unit Count (antag)"
   ]
  },
  {
   "cell_type": "code",
   "execution_count": 57,
   "metadata": {},
   "outputs": [
    {
     "ename": "TypeError",
     "evalue": "'list' object is not callable",
     "output_type": "error",
     "traceback": [
      "\u001b[1;31m---------------------------------------------------------------------------\u001b[0m",
      "\u001b[1;31mTypeError\u001b[0m                                 Traceback (most recent call last)",
      "\u001b[1;32m<ipython-input-57-febebc2dd272>\u001b[0m in \u001b[0;36m<module>\u001b[1;34m\u001b[0m\n\u001b[0;32m      3\u001b[0m \u001b[1;33m\u001b[0m\u001b[0m\n\u001b[0;32m      4\u001b[0m \u001b[1;31m#Making them integers (removing decimals)\u001b[0m\u001b[1;33m\u001b[0m\u001b[1;33m\u001b[0m\u001b[1;33m\u001b[0m\u001b[0m\n\u001b[1;32m----> 5\u001b[1;33m \u001b[0mCID_list\u001b[0m \u001b[1;33m=\u001b[0m \u001b[0mlist\u001b[0m\u001b[1;33m(\u001b[0m\u001b[0mmap\u001b[0m\u001b[1;33m(\u001b[0m\u001b[0mint\u001b[0m\u001b[1;33m,\u001b[0m \u001b[0mCID_list\u001b[0m\u001b[1;33m)\u001b[0m\u001b[1;33m)\u001b[0m\u001b[1;33m\u001b[0m\u001b[1;33m\u001b[0m\u001b[0m\n\u001b[0m",
      "\u001b[1;31mTypeError\u001b[0m: 'list' object is not callable"
     ]
    }
   ],
   "source": [
    "#List of all CID's\n",
    "CID_list = antag_pre['PUBCHEM_CID'].tolist()\n",
    "\n",
    "#Making them integers (removing decimals)\n",
    "CID_list = list(map(int, CID_list))"
   ]
  },
  {
   "cell_type": "code",
   "execution_count": 4,
   "metadata": {},
   "outputs": [],
   "source": [
    "#Splitting CID_list into smaller strings (800 is around the max size for the full url)\n",
    "list1 = CID_list[:800]\n",
    "list2 = CID_list[800:1600]\n",
    "list3 = CID_list[1600:2400]\n",
    "#Switched to intervals of 700 (error if any larger)\n",
    "list4 = CID_list[2400:3100]\n",
    "#Switched to intervals of 600 (error if any larger)\n",
    "list5 = CID_list[3100:3700]\n",
    "list6 = CID_list[3700:4300]\n",
    "list7 = CID_list[4300:4900]\n",
    "list8 = CID_list[4900:5500]\n",
    "list9 = CID_list[5500:6100]\n",
    "#switched to intervals of 500 (integers get larger)\n",
    "list10 = CID_list[6100:6600]\n",
    "list11 = CID_list[6600:7100]\n",
    "#switched to intervals of 400 (integers get larger)\n",
    "list12 = CID_list[7100:7500]\n",
    "list13 = CID_list[7500:7900]\n",
    "list14 = CID_list[7900:8100]\n",
    "list15 = CID_list[8100:]\n",
    "#Already used all CID's, don't need additional list\n",
    "#list16 = CID_list[7600:7700]\n",
    "\n",
    "#Changing list to str, dropping start/end brackets, removing spaces\n",
    "str1 = (str(list1)[1:-1])\n",
    "str1 = str1.replace(' ', '')\n",
    "str2 = (str(list2)[1:-1])\n",
    "str2 = str2.replace(' ', '')\n",
    "str3 = (str(list3)[1:-1])\n",
    "str3 = str3.replace(' ', '')\n",
    "str4 = (str(list4)[1:-1])\n",
    "str4 = str4.replace(' ', '')\n",
    "str5 = (str(list5)[1:-1])\n",
    "str5 = str5.replace(' ', '')\n",
    "str6 = (str(list6)[1:-1])\n",
    "str6 = str6.replace(' ', '')\n",
    "str7 = (str(list7)[1:-1])\n",
    "str7 = str7.replace(' ', '')\n",
    "str8 = (str(list8)[1:-1])\n",
    "str8 = str8.replace(' ', '')\n",
    "str9 = (str(list9)[1:-1])\n",
    "str9 = str9.replace(' ', '')\n",
    "str10 = (str(list10)[1:-1])\n",
    "str10 = str10.replace(' ', '')\n",
    "str11 = (str(list11)[1:-1])\n",
    "str11 = str11.replace(' ', '')\n",
    "str12 = (str(list12)[1:-1])\n",
    "str12 = str12.replace(' ', '')\n",
    "str13 = (str(list13)[1:-1])\n",
    "str13 = str13.replace(' ', '')\n",
    "str14 = (str(list14)[1:-1])\n",
    "str14 = str14.replace(' ', '')\n",
    "str15 = (str(list15)[1:-1])\n",
    "str15 = str15.replace(' ', '')\n",
    "#str16 = (str(list16)[1:-1])\n",
    "#str16 = str16.replace(' ', '')\n",
    "\n"
   ]
  },
  {
   "cell_type": "code",
   "execution_count": 5,
   "metadata": {},
   "outputs": [],
   "source": [
    "#Getting the CovalentUnitCount for each CID\n",
    "##IF it is greater than 1, it is a multicomponent compound\n",
    "\n",
    "#opening and reading the 16 CovalentUnitCount URLs\n",
    "url1 = ('https://pubchem.ncbi.nlm.nih.gov/rest/pug/compound/cid/' + str1 + '/property/CovalentUnitCount/TXT')\n",
    "html1 = urlopen(url1) \n",
    "soup1 = BeautifulSoup(html1, 'lxml')\n",
    "url2 = ('https://pubchem.ncbi.nlm.nih.gov/rest/pug/compound/cid/' + str2 + '/property/CovalentUnitCount/TXT')\n",
    "html2 = urlopen(url2) \n",
    "soup2 = BeautifulSoup(html2, 'lxml')\n",
    "url3 = ('https://pubchem.ncbi.nlm.nih.gov/rest/pug/compound/cid/' + str3 + '/property/CovalentUnitCount/TXT')\n",
    "html3 = urlopen(url3) \n",
    "soup3 = BeautifulSoup(html3, 'lxml')\n",
    "url4 = ('https://pubchem.ncbi.nlm.nih.gov/rest/pug/compound/cid/' + str4 + '/property/CovalentUnitCount/TXT')\n",
    "html4 = urlopen(url4) \n",
    "soup4 = BeautifulSoup(html4, 'lxml')\n",
    "url5 = ('https://pubchem.ncbi.nlm.nih.gov/rest/pug/compound/cid/' + str5 + '/property/CovalentUnitCount/TXT')\n",
    "html5 = urlopen(url5) \n",
    "soup5 = BeautifulSoup(html5, 'lxml')\n",
    "url6 = ('https://pubchem.ncbi.nlm.nih.gov/rest/pug/compound/cid/' + str6 + '/property/CovalentUnitCount/TXT')\n",
    "html6 = urlopen(url6) \n",
    "soup6 = BeautifulSoup(html6, 'lxml')\n",
    "\n",
    "cov_units1 = soup1.get_text()\n",
    "cov_units2 = soup2.get_text()\n",
    "cov_units3 = soup3.get_text()\n",
    "cov_units4 = soup4.get_text()\n",
    "cov_units5 = soup5.get_text()\n",
    "cov_units6 = soup6.get_text()"
   ]
  },
  {
   "cell_type": "code",
   "execution_count": 6,
   "metadata": {},
   "outputs": [],
   "source": [
    "url7 = ('https://pubchem.ncbi.nlm.nih.gov/rest/pug/compound/cid/' + str7 + '/property/CovalentUnitCount/TXT')\n",
    "html7 = urlopen(url7) \n",
    "soup7 = BeautifulSoup(html7, 'lxml')\n",
    "url8 = ('https://pubchem.ncbi.nlm.nih.gov/rest/pug/compound/cid/' + str8 + '/property/CovalentUnitCount/TXT')\n",
    "html8 = urlopen(url8)\n",
    "soup8 = BeautifulSoup(html8, 'lxml')\n",
    "url9 = ('https://pubchem.ncbi.nlm.nih.gov/rest/pug/compound/cid/' + str9 + '/property/CovalentUnitCount/TXT')\n",
    "html9 = urlopen(url9) \n",
    "soup9 = BeautifulSoup(html9, 'lxml')\n",
    "url10 = ('https://pubchem.ncbi.nlm.nih.gov/rest/pug/compound/cid/' + str10 + '/property/CovalentUnitCount/TXT')\n",
    "html10 = urlopen(url10) \n",
    "soup10 = BeautifulSoup(html10, 'lxml')\n",
    "url11 = ('https://pubchem.ncbi.nlm.nih.gov/rest/pug/compound/cid/' + str11 + '/property/CovalentUnitCount/TXT')\n",
    "html11 = urlopen(url11) \n",
    "soup11 = BeautifulSoup(html11, 'lxml')\n",
    "url12 = ('https://pubchem.ncbi.nlm.nih.gov/rest/pug/compound/cid/' + str12 + '/property/CovalentUnitCount/TXT')\n",
    "html12 = urlopen(url12) \n",
    "soup12 = BeautifulSoup(html12, 'lxml')\n",
    "\n",
    "cov_units7 = soup7.get_text()\n",
    "cov_units8 = soup8.get_text()                      \n",
    "cov_units9 = soup9.get_text()\n",
    "cov_units10 = soup10.get_text()\n",
    "cov_units11 = soup11.get_text()\n",
    "cov_units12 = soup12.get_text()"
   ]
  },
  {
   "cell_type": "code",
   "execution_count": 7,
   "metadata": {},
   "outputs": [],
   "source": [
    "url13 = ('https://pubchem.ncbi.nlm.nih.gov/rest/pug/compound/cid/' + str13 + '/property/CovalentUnitCount/TXT')\n",
    "html13 = urlopen(url13) \n",
    "soup13 = BeautifulSoup(html13, 'lxml')\n",
    "url14 = ('https://pubchem.ncbi.nlm.nih.gov/rest/pug/compound/cid/' + str14 + '/property/CovalentUnitCount/TXT')\n",
    "html14 = urlopen(url14) \n",
    "soup14 = BeautifulSoup(html14, 'lxml')\n",
    "url15 = ('https://pubchem.ncbi.nlm.nih.gov/rest/pug/compound/cid/' + str15 + '/property/CovalentUnitCount/TXT')\n",
    "html15 = urlopen(url15) \n",
    "soup15 = BeautifulSoup(html15, 'lxml')\n",
    "#url16 = ('https://pubchem.ncbi.nlm.nih.gov/rest/pug/compound/cid/' + str16 + '/property/CovalentUnitCount/TXT')\n",
    "#html16 = urlopen(url16) \n",
    "#soup16 = BeautifulSoup(html16, 'lxml')\n",
    "\n",
    "cov_units13 = soup13.get_text()\n",
    "cov_units14 = soup14.get_text()\n",
    "cov_units15 = soup15.get_text()\n",
    "#cov_units16 = soup16.get_text()\n",
    "\n",
    "#total cov_units string\n",
    "cov_units = cov_units1 + cov_units2 + cov_units3 + cov_units4 + cov_units5 + cov_units6 + cov_units7 + cov_units8 + cov_units9 + cov_units10 + cov_units11 + cov_units12 + cov_units13 + cov_units14 + cov_units15 \n",
    "\n",
    "#cov_units string to cov_units list\n",
    "cov_units = cov_units.split()\n",
    "#len(cov_units)"
   ]
  },
  {
   "cell_type": "markdown",
   "metadata": {},
   "source": [
    "# Dealing with multicomponent molecules (antag)"
   ]
  },
  {
   "cell_type": "code",
   "execution_count": 8,
   "metadata": {},
   "outputs": [],
   "source": [
    "#adding cov_units column to antag\n",
    "antag_pre['CovalentUnitCount'] = cov_units\n",
    "\n",
    "#Making copy of antag_pre\n",
    "antag_cov = antag_pre\n",
    "\n",
    "#dropping rows where covalent unit count is = 1\n",
    "antag_cov = antag_cov[antag_cov.CovalentUnitCount != '1']\n",
    "#1581 CID's that are multicomponent"
   ]
  },
  {
   "cell_type": "code",
   "execution_count": 9,
   "metadata": {},
   "outputs": [],
   "source": [
    "#getting CID list of multicomponent compounds\n",
    "CID_list_multi = antag_cov['PUBCHEM_CID'].tolist()\n",
    "\n",
    "#Removing decimals\n",
    "CID_list_multi = list(map(int, CID_list_multi))\n",
    "\n",
    "#Splitting CID_list into smaller strings (600 is around the max size for the full url)\n",
    "list1 = CID_list_multi[:600]\n",
    "#Switched to intervals of 500 (error if any larger)\n",
    "list2 = CID_list_multi[600:1100]\n",
    "#Switched to intervals of 400 (error if any larger)\n",
    "list3 = CID_list_multi[1100:1500]\n",
    "#Final interval\n",
    "list4 = CID_list_multi[1500:]\n",
    "\n",
    "#Changing list to str, dropping start/end brackets, removing spaces\n",
    "str1 = (str(list1)[1:-1])\n",
    "str1 = str1.replace(' ', '')\n",
    "str2 = (str(list2)[1:-1])\n",
    "str2 = str2.replace(' ', '')\n",
    "str3 = (str(list3)[1:-1])\n",
    "str3 = str3.replace(' ', '')\n",
    "str4 = (str(list4)[1:-1])\n",
    "str4 = str4.replace(' ', '')"
   ]
  },
  {
   "cell_type": "code",
   "execution_count": 12,
   "metadata": {
    "scrolled": true
   },
   "outputs": [
    {
     "data": {
      "text/plain": [
       "1581"
      ]
     },
     "execution_count": 12,
     "metadata": {},
     "output_type": "execute_result"
    }
   ],
   "source": [
    "#Getting list of covalent unit number for the multicomponent compounds\n",
    "#takes like an hr to run\n",
    "list_cov_multi = antag_cov['CovalentUnitCount'].tolist()\n",
    "\n",
    "parent_CID_list = []\n",
    "i = 0\n",
    "while i < len(CID_list_multi):\n",
    "    try:\n",
    "    # (list_cov_multi[i] == '2'):\n",
    "        url1 = 'https://pubchem.ncbi.nlm.nih.gov/rest/pug/compound/cid/' + str(CID_list_multi[i]) + '/cids/TXT?cids_type=parent'\n",
    "        html1 = urlopen(url1) \n",
    "        soup1 = BeautifulSoup(html1, 'lxml')\n",
    "        parent1 = soup1.get_text()\n",
    "        #print(parent1)\n",
    "        parent_CID_list.append(parent1)\n",
    "        i = i + 1\n",
    "       # else:\n",
    "        #    i = i + 1\n",
    "    except:\n",
    "        #contine\n",
    "        #print('eek')\n",
    "        #if err.code == ('404: PUGREST.NotFound'):\n",
    "        parent_CID_list.append('0')\n",
    "        i = i + 1\n",
    "        \n",
    "\n",
    "\n",
    "\n",
    "len(parent_CID_list)"
   ]
  },
  {
   "cell_type": "code",
   "execution_count": 13,
   "metadata": {},
   "outputs": [],
   "source": [
    "#Removing '\\n from the end of each CID in parent_CID_list'\n",
    "bad_chars = ['\\n']\n",
    "\n",
    "i = 0\n",
    "while i < len(parent_CID_list):\n",
    "    if parent_CID_list[i] == '0':\n",
    "        i = i + 1\n",
    "    else:\n",
    "        for j in bad_chars: \n",
    "            parent_CID_list[i] = parent_CID_list[i].replace(j, '')\n",
    "            i = i + 1\n"
   ]
  },
  {
   "cell_type": "code",
   "execution_count": 14,
   "metadata": {},
   "outputs": [],
   "source": [
    "#adding parent_CID's to antag_cov DF\n",
    "antag_cov['Parent_CIDs'] = parent_CID_list"
   ]
  },
  {
   "cell_type": "code",
   "execution_count": 15,
   "metadata": {},
   "outputs": [],
   "source": [
    "#now that we have a list of the parent compounds for each multiple component molecule we:\n",
    "#delete all values with a parent of 0\n",
    "#make a new df called antag_multi_to_parent\n",
    "antag_multi_to_parent = antag_cov.drop(antag_cov.loc[antag_cov['Parent_CIDs'] == '0'].index)\n",
    "\n",
    "\n",
    "##replace PUBCHEM_CID with parent CID's\n",
    "###Drop CID column and rename Parent_CID's to just PUBCHEM_CID\n",
    "antag_multi_to_parent = antag_multi_to_parent.drop(columns = ['PUBCHEM_CID'], axis = 1)\n",
    "antag_multi_to_parent = antag_multi_to_parent.rename(index=str, columns={\"Parent_CIDs\" : \"PUBCHEM_CID\"})"
   ]
  },
  {
   "cell_type": "code",
   "execution_count": 18,
   "metadata": {},
   "outputs": [],
   "source": [
    "#Removing all CID's with multicomponent compounds from antag_pre (original DF of all antag compounds)\n",
    "antag_pre_minus_multi = antag_pre[~antag_pre.PUBCHEM_CID.isin(parent_CID_list)]\n"
   ]
  },
  {
   "cell_type": "code",
   "execution_count": 28,
   "metadata": {},
   "outputs": [
    {
     "data": {
      "text/plain": [
       "(9513, 5)"
      ]
     },
     "execution_count": 28,
     "metadata": {},
     "output_type": "execute_result"
    }
   ],
   "source": [
    "#Combining antag_pre with antag_multi_to_parent\n",
    "antag = antag_pre_minus_multi.append(antag_multi_to_parent)"
   ]
  },
  {
   "cell_type": "markdown",
   "metadata": {},
   "source": [
    "# Dealing with conflicts (antag)"
   ]
  },
  {
   "cell_type": "code",
   "execution_count": 35,
   "metadata": {},
   "outputs": [],
   "source": [
    "#Dropping duplicates from original antag dataframe\n",
    "antag_no_dups = antag.drop_duplicates(subset = 'PUBCHEM_CID', keep = False)"
   ]
  },
  {
   "cell_type": "code",
   "execution_count": 36,
   "metadata": {},
   "outputs": [],
   "source": [
    "##Finding DF of all duplicates\n",
    "antag_dups = antag[antag.duplicated('PUBCHEM_CID', keep = False)] \n",
    "antag_dups = antag_dups.sort_values(by = ['PUBCHEM_CID', 'Activity Summary'], ascending = True, inplace = False)"
   ]
  },
  {
   "cell_type": "code",
   "execution_count": 37,
   "metadata": {},
   "outputs": [],
   "source": [
    "#Creating two seperate datasets for the three different cases (third case is all deleted)"
   ]
  },
  {
   "cell_type": "code",
   "execution_count": 38,
   "metadata": {},
   "outputs": [],
   "source": [
    "##df_inactive = both activity scores inactive\n",
    "###Drop all active agonists and active antagonists, and drop any values that are no longer dups.  \n",
    "###This will leave CID dups with outcomes that are both inactive.\n",
    "df_inactive = antag_dups.drop(antag_dups.loc[antag_dups['Activity Summary'] == 'active agonist'].index)\n",
    "df_inactive = df_inactive.drop(df_inactive.loc[antag_dups['Activity Summary'] == 'active antagonist'].index)\n",
    "df_inactive = df_inactive[df_inactive.duplicated(subset = 'PUBCHEM_CID', keep = False)]\n",
    "\n",
    "#Only leaving one of each inactive value\n",
    "df_inactive_clean = df_inactive.drop_duplicates(subset = 'PUBCHEM_CID', keep = 'first')"
   ]
  },
  {
   "cell_type": "code",
   "execution_count": 39,
   "metadata": {},
   "outputs": [],
   "source": [
    "##df_active = both activity scores are active\n",
    "###Drop all inactive values and drop any values that are no longer dups\n",
    "\n",
    "df_active = antag_dups.drop(antag_dups.loc[antag_dups['Activity Summary'] == 'inactive'].index)\n",
    "df_active = df_active[df_active.duplicated(subset = 'PUBCHEM_CID', keep = False)]\n",
    "\n",
    "###Rank by ascending CID AND by ascending potency\n",
    "###Drop duplicates and leave the FIRST value, which is the lowest potency!!!!!\n",
    "df_active = df_active.sort_values(by = ['PUBCHEM_CID','Ratio Potency (uM)'], ascending = True, inplace = False)\n",
    "df_active_clean = df_active.drop_duplicates(subset = 'PUBCHEM_CID', keep = 'first')"
   ]
  },
  {
   "cell_type": "code",
   "execution_count": 40,
   "metadata": {},
   "outputs": [],
   "source": [
    "##df_disagree = the activity scores disagree\n",
    "##We removed all the rest because they didn't disagree"
   ]
  },
  {
   "cell_type": "code",
   "execution_count": 154,
   "metadata": {},
   "outputs": [
    {
     "data": {
      "text/plain": [
       "(7676, 5)"
      ]
     },
     "execution_count": 154,
     "metadata": {},
     "output_type": "execute_result"
    }
   ],
   "source": [
    "#Combining antag_no_dups with df_active_clean and df_inactive_clean to create the final database with no dups\n",
    "frames1 = [antag_no_dups, df_active_clean, df_inactive_clean]\n",
    "\n",
    "#FINAL CLEAN DF\n",
    "antag_clean = pd.concat(frames1)\n",
    "antag_clean.shape"
   ]
  },
  {
   "cell_type": "raw",
   "metadata": {},
   "source": []
  },
  {
   "cell_type": "raw",
   "metadata": {},
   "source": []
  },
  {
   "cell_type": "markdown",
   "metadata": {},
   "source": [
    "# Data Cleaning Full (ag)"
   ]
  },
  {
   "cell_type": "code",
   "execution_count": 49,
   "metadata": {},
   "outputs": [],
   "source": [
    "#Reading in Summary AGONIST CSV\n",
    "ag_pre = pd.read_csv('AID_720719_datatable_all.csv')\n",
    "ag_pre = ag_pre.iloc[4:]\n",
    "#ag_pre.head()"
   ]
  },
  {
   "cell_type": "code",
   "execution_count": 50,
   "metadata": {},
   "outputs": [],
   "source": [
    "#Removing inconclusives\n",
    "ag_pre = ag_pre.drop(ag_pre.loc[ag_pre['Activity Summary'] == 'inconclusive'].index)\n",
    "ag_pre = ag_pre.drop(ag_pre.loc[ag_pre['Activity Summary'] == 'inconclusive agonist'].index)\n",
    "ag_pre = ag_pre.drop(ag_pre.loc[ag_pre['Activity Summary'] == 'inconclusive agonist (fluorescent)'].index)\n",
    "ag_pre = ag_pre.drop(ag_pre.loc[ag_pre['Activity Summary'] == 'inconclusive antagonist'].index)\n",
    "ag_pre = ag_pre.drop(ag_pre.loc[ag_pre['Activity Summary'] == 'inconclusive agonist (cytotoxic)'].index)\n",
    "ag_pre = ag_pre.drop(ag_pre.loc[ag_pre['Activity Summary'] == 'inconclusive antagonist (cytotoxic)'].index)\n",
    "\n",
    "#Keeping only CID, Activity Summary, Ratio Potency (uM), and Ratio Efficacy\n",
    "ag_pre = ag_pre[['PUBCHEM_CID', 'Activity Summary', 'Ratio Potency (uM)', 'Ratio Efficacy (%)']]\n",
    "ag_pre.fillna(0, inplace = True)\n",
    "\n",
    "##Dropping values with no CID\n",
    "ag_pre = ag_pre.drop(ag_pre.loc[ag_pre['PUBCHEM_CID'] == 0].index)\n",
    "\n",
    "#Sorting CID's in ascending order\n",
    "ag_pre = ag_pre.sort_values(by = ['PUBCHEM_CID'], ascending = True, inplace = False)"
   ]
  },
  {
   "cell_type": "code",
   "execution_count": 52,
   "metadata": {},
   "outputs": [
    {
     "data": {
      "text/plain": [
       "(9307, 4)"
      ]
     },
     "execution_count": 52,
     "metadata": {},
     "output_type": "execute_result"
    }
   ],
   "source": [
    "ag_pre.shape"
   ]
  },
  {
   "cell_type": "markdown",
   "metadata": {},
   "source": [
    "# Identifying Covalent Unit Count (ag)"
   ]
  },
  {
   "cell_type": "code",
   "execution_count": 71,
   "metadata": {},
   "outputs": [],
   "source": [
    "#List of all CID's\n",
    "CID_list = ag_pre['PUBCHEM_CID'].tolist()"
   ]
  },
  {
   "cell_type": "code",
   "execution_count": 80,
   "metadata": {},
   "outputs": [],
   "source": [
    "#Making them integers (removing decimals)\n",
    "CID_list = [int(i) for i in CID_list]"
   ]
  },
  {
   "cell_type": "code",
   "execution_count": 119,
   "metadata": {},
   "outputs": [],
   "source": [
    "#Splitting CID_list into smaller strings (800 is around the max size for the full url)\n",
    "list1 = CID_list[:800]\n",
    "list2 = CID_list[800:1600]\n",
    "list3 = CID_list[1600:2400]\n",
    "#Switched to intervals of 700 (error if any larger)\n",
    "list4 = CID_list[2400:3100]\n",
    "#Switched to intervals of 600 (error if any larger)\n",
    "list5 = CID_list[3100:3700]\n",
    "list6 = CID_list[3700:4300]\n",
    "list7 = CID_list[4300:4900]\n",
    "list8 = CID_list[4900:5500]\n",
    "list9 = CID_list[5500:6100]\n",
    "#switched to intervals of 500 (integers get larger)\n",
    "list10 = CID_list[6100:6600]\n",
    "list11 = CID_list[6600:7100]\n",
    "#switched to intervals of 400 (integers get larger)\n",
    "list12 = CID_list[7100:7500]\n",
    "list13 = CID_list[7500:7900]\n",
    "list14 = CID_list[7900:8400]\n",
    "list15 = CID_list[8400:8800]\n",
    "list16 = CID_list[8800:9200]\n",
    "list17 = CID_list[9200:]\n",
    "\n",
    "#Changing list to str, dropping start/end brackets, removing spaces\n",
    "str1 = (str(list1)[1:-1])\n",
    "str1 = str1.replace(' ', '')\n",
    "str2 = (str(list2)[1:-1])\n",
    "str2 = str2.replace(' ', '')\n",
    "str3 = (str(list3)[1:-1])\n",
    "str3 = str3.replace(' ', '')\n",
    "str4 = (str(list4)[1:-1])\n",
    "str4 = str4.replace(' ', '')\n",
    "str5 = (str(list5)[1:-1])\n",
    "str5 = str5.replace(' ', '')\n",
    "str6 = (str(list6)[1:-1])\n",
    "str6 = str6.replace(' ', '')\n",
    "str7 = (str(list7)[1:-1])\n",
    "str7 = str7.replace(' ', '')\n",
    "str8 = (str(list8)[1:-1])\n",
    "str8 = str8.replace(' ', '')\n",
    "str9 = (str(list9)[1:-1])\n",
    "str9 = str9.replace(' ', '')\n",
    "str10 = (str(list10)[1:-1])\n",
    "str10 = str10.replace(' ', '')\n",
    "str11 = (str(list11)[1:-1])\n",
    "str11 = str11.replace(' ', '')\n",
    "str12 = (str(list12)[1:-1])\n",
    "str12 = str12.replace(' ', '')\n",
    "str13 = (str(list13)[1:-1])\n",
    "str13 = str13.replace(' ', '')\n",
    "str14 = (str(list14)[1:-1])\n",
    "str14 = str14.replace(' ', '')\n",
    "str15 = (str(list15)[1:-1])\n",
    "str15 = str15.replace(' ', '')\n",
    "str16 = (str(list16)[1:-1])\n",
    "str16 = str16.replace(' ', '')\n",
    "str17 = (str(list17)[1:-1])\n",
    "str17 = str17.replace(' ', '')\n"
   ]
  },
  {
   "cell_type": "code",
   "execution_count": 120,
   "metadata": {},
   "outputs": [],
   "source": [
    "#Getting the CovalentUnitCount for each CID\n",
    "##IF it is greater than 1, it is a multicomponent compound\n",
    "\n",
    "#opening and reading the 16 CovalentUnitCount URLs\n",
    "url1 = ('https://pubchem.ncbi.nlm.nih.gov/rest/pug/compound/cid/' + str1 + '/property/CovalentUnitCount/TXT')\n",
    "html1 = urlopen(url1) \n",
    "soup1 = BeautifulSoup(html1, 'lxml')\n",
    "url2 = ('https://pubchem.ncbi.nlm.nih.gov/rest/pug/compound/cid/' + str2 + '/property/CovalentUnitCount/TXT')\n",
    "html2 = urlopen(url2) \n",
    "soup2 = BeautifulSoup(html2, 'lxml')\n",
    "url3 = ('https://pubchem.ncbi.nlm.nih.gov/rest/pug/compound/cid/' + str3 + '/property/CovalentUnitCount/TXT')\n",
    "html3 = urlopen(url3) \n",
    "soup3 = BeautifulSoup(html3, 'lxml')\n",
    "url4 = ('https://pubchem.ncbi.nlm.nih.gov/rest/pug/compound/cid/' + str4 + '/property/CovalentUnitCount/TXT')\n",
    "html4 = urlopen(url4) \n",
    "soup4 = BeautifulSoup(html4, 'lxml')\n",
    "url5 = ('https://pubchem.ncbi.nlm.nih.gov/rest/pug/compound/cid/' + str5 + '/property/CovalentUnitCount/TXT')\n",
    "html5 = urlopen(url5) \n",
    "soup5 = BeautifulSoup(html5, 'lxml')\n",
    "url6 = ('https://pubchem.ncbi.nlm.nih.gov/rest/pug/compound/cid/' + str6 + '/property/CovalentUnitCount/TXT')\n",
    "html6 = urlopen(url6) \n",
    "soup6 = BeautifulSoup(html6, 'lxml')\n",
    "\n",
    "cov_units1 = soup1.get_text()\n",
    "cov_units2 = soup2.get_text()\n",
    "cov_units3 = soup3.get_text()\n",
    "cov_units4 = soup4.get_text()\n",
    "cov_units5 = soup5.get_text()\n",
    "cov_units6 = soup6.get_text()"
   ]
  },
  {
   "cell_type": "code",
   "execution_count": 121,
   "metadata": {},
   "outputs": [],
   "source": [
    "url7 = ('https://pubchem.ncbi.nlm.nih.gov/rest/pug/compound/cid/' + str7 + '/property/CovalentUnitCount/TXT')\n",
    "html7 = urlopen(url7) \n",
    "soup7 = BeautifulSoup(html7, 'lxml')\n",
    "url8 = ('https://pubchem.ncbi.nlm.nih.gov/rest/pug/compound/cid/' + str8 + '/property/CovalentUnitCount/TXT')\n",
    "html8 = urlopen(url8)\n",
    "soup8 = BeautifulSoup(html8, 'lxml')\n",
    "url9 = ('https://pubchem.ncbi.nlm.nih.gov/rest/pug/compound/cid/' + str9 + '/property/CovalentUnitCount/TXT')\n",
    "html9 = urlopen(url9) \n",
    "soup9 = BeautifulSoup(html9, 'lxml')\n",
    "url10 = ('https://pubchem.ncbi.nlm.nih.gov/rest/pug/compound/cid/' + str10 + '/property/CovalentUnitCount/TXT')\n",
    "html10 = urlopen(url10) \n",
    "soup10 = BeautifulSoup(html10, 'lxml')\n",
    "url11 = ('https://pubchem.ncbi.nlm.nih.gov/rest/pug/compound/cid/' + str11 + '/property/CovalentUnitCount/TXT')\n",
    "html11 = urlopen(url11) \n",
    "soup11 = BeautifulSoup(html11, 'lxml')\n",
    "url12 = ('https://pubchem.ncbi.nlm.nih.gov/rest/pug/compound/cid/' + str12 + '/property/CovalentUnitCount/TXT')\n",
    "html12 = urlopen(url12) \n",
    "soup12 = BeautifulSoup(html12, 'lxml')\n",
    "\n",
    "cov_units7 = soup7.get_text()\n",
    "cov_units8 = soup8.get_text()                      \n",
    "cov_units9 = soup9.get_text()\n",
    "cov_units10 = soup10.get_text()\n",
    "cov_units11 = soup11.get_text()\n",
    "cov_units12 = soup12.get_text()"
   ]
  },
  {
   "cell_type": "code",
   "execution_count": 123,
   "metadata": {},
   "outputs": [],
   "source": [
    "url13 = ('https://pubchem.ncbi.nlm.nih.gov/rest/pug/compound/cid/' + str13 + '/property/CovalentUnitCount/TXT')\n",
    "html13 = urlopen(url13) \n",
    "soup13 = BeautifulSoup(html13, 'lxml')\n",
    "url14 = ('https://pubchem.ncbi.nlm.nih.gov/rest/pug/compound/cid/' + str14 + '/property/CovalentUnitCount/TXT')\n",
    "html14 = urlopen(url14) \n",
    "soup14 = BeautifulSoup(html14, 'lxml')\n",
    "url15 = ('https://pubchem.ncbi.nlm.nih.gov/rest/pug/compound/cid/' + str15 + '/property/CovalentUnitCount/TXT')\n",
    "html15 = urlopen(url15) \n",
    "soup15 = BeautifulSoup(html15, 'lxml')\n",
    "url16 = ('https://pubchem.ncbi.nlm.nih.gov/rest/pug/compound/cid/' + str16 + '/property/CovalentUnitCount/TXT')\n",
    "html16 = urlopen(url16) \n",
    "soup16 = BeautifulSoup(html16, 'lxml')\n",
    "url17 = ('https://pubchem.ncbi.nlm.nih.gov/rest/pug/compound/cid/' + str17 + '/property/CovalentUnitCount/TXT')\n",
    "html17 = urlopen(url17) \n",
    "soup17 = BeautifulSoup(html17, 'lxml')\n",
    "\n",
    "cov_units13 = soup13.get_text()\n",
    "cov_units14 = soup14.get_text()\n",
    "cov_units15 = soup15.get_text()\n",
    "cov_units16 = soup16.get_text()\n",
    "cov_units17 = soup17.get_text()\n",
    "\n",
    "#total cov_units string\n",
    "cov_units = cov_units1 + cov_units2 + cov_units3 + cov_units4 + cov_units5 + cov_units6 + cov_units7 + cov_units8 + cov_units9 + cov_units10 + cov_units11 + cov_units12 + cov_units13 + cov_units14 + cov_units15 + cov_units16 + cov_units17 \n",
    "\n",
    "#cov_units string to cov_units list\n",
    "cov_units = cov_units.split()\n",
    "#len(cov_units)"
   ]
  },
  {
   "cell_type": "markdown",
   "metadata": {},
   "source": [
    "# Dealing with Multicomponent Molecules (ag)"
   ]
  },
  {
   "cell_type": "code",
   "execution_count": 124,
   "metadata": {},
   "outputs": [],
   "source": [
    "#adding cov_units column to ag\n",
    "ag_pre['CovalentUnitCount'] = cov_units\n",
    "\n",
    "#Making copy of antag_pre\n",
    "ag_cov = ag_pre\n",
    "\n",
    "#dropping rows where covalent unit count is = 1\n",
    "ag_cov = ag_cov[ag_cov.CovalentUnitCount != '1']\n",
    "#1581 CID's that are multicomponent"
   ]
  },
  {
   "cell_type": "code",
   "execution_count": 126,
   "metadata": {},
   "outputs": [],
   "source": [
    "#getting CID list of multicomponent compounds\n",
    "CID_list_multi = ag_cov['PUBCHEM_CID'].tolist()\n",
    "\n",
    "\n",
    "#Making them integers (removing decimals)\n",
    "CID_list_multi = [int(i) for i in CID_list_multi]\n",
    "\n",
    "#Splitting CID_list into smaller strings (600 is around the max size for the full url)\n",
    "list1 = CID_list_multi[:600]\n",
    "#Switched to intervals of 500 (error if any larger)\n",
    "list2 = CID_list_multi[600:1100]\n",
    "#Switched to intervals of 400 (error if any larger)\n",
    "list3 = CID_list_multi[1100:1500]\n",
    "#Final interval\n",
    "list4 = CID_list_multi[1500:]\n",
    "\n",
    "#Changing list to str, dropping start/end brackets, removing spaces\n",
    "str1 = (str(list1)[1:-1])\n",
    "str1 = str1.replace(' ', '')\n",
    "str2 = (str(list2)[1:-1])\n",
    "str2 = str2.replace(' ', '')\n",
    "str3 = (str(list3)[1:-1])\n",
    "str3 = str3.replace(' ', '')\n",
    "str4 = (str(list4)[1:-1])\n",
    "str4 = str4.replace(' ', '')"
   ]
  },
  {
   "cell_type": "code",
   "execution_count": 128,
   "metadata": {},
   "outputs": [
    {
     "data": {
      "text/plain": [
       "1760"
      ]
     },
     "execution_count": 128,
     "metadata": {},
     "output_type": "execute_result"
    }
   ],
   "source": [
    "#Getting list of covalent unit number for the multicomponent compounds\n",
    "#takes like an hr to run\n",
    "list_cov_multi = ag_cov['CovalentUnitCount'].tolist()\n",
    "\n",
    "parent_CID_list = []\n",
    "i = 0\n",
    "while i < len(CID_list_multi):\n",
    "    try:\n",
    "    # (list_cov_multi[i] == '2'):\n",
    "        url1 = 'https://pubchem.ncbi.nlm.nih.gov/rest/pug/compound/cid/' + str(CID_list_multi[i]) + '/cids/TXT?cids_type=parent'\n",
    "        html1 = urlopen(url1) \n",
    "        soup1 = BeautifulSoup(html1, 'lxml')\n",
    "        parent1 = soup1.get_text()\n",
    "        #print(parent1)\n",
    "        parent_CID_list.append(parent1)\n",
    "        i = i + 1\n",
    "       # else:\n",
    "        #    i = i + 1\n",
    "    except:\n",
    "        #contine\n",
    "        #print('eek')\n",
    "        #if err.code == ('404: PUGREST.NotFound'):\n",
    "        parent_CID_list.append('0')\n",
    "        i = i + 1\n",
    "\n",
    "len(parent_CID_list)"
   ]
  },
  {
   "cell_type": "code",
   "execution_count": 129,
   "metadata": {},
   "outputs": [],
   "source": [
    "#Removing '\\n from the end of each CID in parent_CID_list'\n",
    "bad_chars = ['\\n']\n",
    "\n",
    "i = 0\n",
    "while i < len(parent_CID_list):\n",
    "    if parent_CID_list[i] == '0':\n",
    "        i = i + 1\n",
    "    else:\n",
    "        for j in bad_chars: \n",
    "            parent_CID_list[i] = parent_CID_list[i].replace(j, '')\n",
    "            i = i + 1\n"
   ]
  },
  {
   "cell_type": "code",
   "execution_count": 130,
   "metadata": {},
   "outputs": [],
   "source": [
    "#adding parent_CID's to antag_cov DF\n",
    "ag_cov['Parent_CIDs'] = parent_CID_list"
   ]
  },
  {
   "cell_type": "code",
   "execution_count": 131,
   "metadata": {},
   "outputs": [],
   "source": [
    "#now that we have a list of the parent compounds for each multiple component molecule we:\n",
    "#delete all values with a parent of 0\n",
    "#make a new df called ag_multi_to_parent\n",
    "ag_multi_to_parent = ag_cov.drop(ag_cov.loc[ag_cov['Parent_CIDs'] == '0'].index)\n",
    "\n",
    "\n",
    "##replace PUBCHEM_CID with parent CID's\n",
    "###Drop CID column and rename Parent_CID's to just PUBCHEM_CID\n",
    "ag_multi_to_parent = ag_multi_to_parent.drop(columns = ['PUBCHEM_CID'], axis = 1)\n",
    "ag_multi_to_parent = ag_multi_to_parent.rename(index=str, columns={\"Parent_CIDs\" : \"PUBCHEM_CID\"})"
   ]
  },
  {
   "cell_type": "code",
   "execution_count": 132,
   "metadata": {},
   "outputs": [],
   "source": [
    "#Removing all CID's with multicomponent compounds from ag_pre (original DF of all antag compounds)\n",
    "ag_pre_minus_multi = ag_pre[~ag_pre.PUBCHEM_CID.isin(parent_CID_list)]\n"
   ]
  },
  {
   "cell_type": "code",
   "execution_count": 136,
   "metadata": {},
   "outputs": [],
   "source": [
    "#Combining ag_pre with ag_multi_to_parent\n",
    "ag = ag_pre_minus_multi.append(ag_multi_to_parent)"
   ]
  },
  {
   "cell_type": "markdown",
   "metadata": {},
   "source": [
    "# Dealing with conflicts (ag)"
   ]
  },
  {
   "cell_type": "code",
   "execution_count": 147,
   "metadata": {},
   "outputs": [],
   "source": [
    "#Dropping duplicates from original ag dataframe\n",
    "ag_no_dups = ag.drop_duplicates(subset = 'PUBCHEM_CID', keep = False)"
   ]
  },
  {
   "cell_type": "code",
   "execution_count": 148,
   "metadata": {},
   "outputs": [],
   "source": [
    "##Finding DF of all duplicates\n",
    "ag_dups = ag[ag.duplicated('PUBCHEM_CID', keep = False)] \n",
    "ag_dups = ag_dups.sort_values(by = ['PUBCHEM_CID', 'Activity Summary'], ascending = True, inplace = False)"
   ]
  },
  {
   "cell_type": "code",
   "execution_count": 149,
   "metadata": {},
   "outputs": [],
   "source": [
    "#Creating two seperate datasets for the three different cases (third case is all deleted)"
   ]
  },
  {
   "cell_type": "code",
   "execution_count": 150,
   "metadata": {},
   "outputs": [],
   "source": [
    "##df_inactive_ag = both activity scores inactive\n",
    "###Drop all active agonists and active antagonists, and drop any values that are no longer dups.  \n",
    "###This will leave CID dups with outcomes that are both active.\n",
    "df_inactive_ag = ag_dups.drop(ag_dups.loc[ag_dups['Activity Summary'] == 'active agonist'].index)\n",
    "df_inactive_ag = df_inactive_ag.drop(df_inactive_ag.loc[ag_dups['Activity Summary'] == 'active antagonist'].index)\n",
    "df_inactive_ag = df_inactive_ag[df_inactive_ag.duplicated(subset = 'PUBCHEM_CID', keep = False)]\n",
    "\n",
    "#Only leaving one of each inactive value\n",
    "df_inactive_ag_clean = df_inactive_ag.drop_duplicates(subset = 'PUBCHEM_CID', keep = 'first')"
   ]
  },
  {
   "cell_type": "code",
   "execution_count": 151,
   "metadata": {},
   "outputs": [],
   "source": [
    "##df_active_ag = both activity scores are active\n",
    "###Drop all inactive values and drop any values that are no longer dups\n",
    "\n",
    "df_active_ag = ag_dups.drop(ag_dups.loc[ag_dups['Activity Summary'] == 'inactive'].index)\n",
    "df_active_ag = df_active_ag[df_active_ag.duplicated(subset = 'PUBCHEM_CID', keep = False)]\n",
    "\n",
    "###Rank by descending CID AND by descending potency\n",
    "###Drop duplicates and leave the FIRST value, which is the lowest potency!!!!!\n",
    "df_active_ag = df_active_ag.sort_values(by = ['PUBCHEM_CID', 'Ratio Potency (uM)'], ascending = True, inplace = False)\n",
    "df_active_ag_clean = df_active_ag.drop_duplicates(subset = 'PUBCHEM_CID', keep = 'first')"
   ]
  },
  {
   "cell_type": "code",
   "execution_count": 152,
   "metadata": {},
   "outputs": [],
   "source": [
    "##df_disagree = the activity scores disagree\n",
    "##We removed all the rest because they didn't disagree"
   ]
  },
  {
   "cell_type": "code",
   "execution_count": 158,
   "metadata": {},
   "outputs": [],
   "source": [
    "#Combining antag_no_dups with df_active_clean and df_inactive_clean to create the final database with no dups\n",
    "frames2 = [ag_no_dups, df_active_ag_clean, df_inactive_ag_clean]\n",
    "#FINAL CLEAN DF\n",
    "ag_clean = pd.concat(frames2)\n",
    "#ag_clean.shape\n",
    "#(ag_clean['Activity Summary'] == 'inactive').sum()"
   ]
  },
  {
   "cell_type": "code",
   "execution_count": null,
   "metadata": {},
   "outputs": [],
   "source": []
  },
  {
   "cell_type": "markdown",
   "metadata": {},
   "source": [
    "# Combining Dataframes and Cleaning (both)"
   ]
  },
  {
   "cell_type": "code",
   "execution_count": 210,
   "metadata": {},
   "outputs": [],
   "source": [
    "#Combining antag_clean and ag_clean\n",
    "frames3 = [antag_clean, ag_clean]\n",
    "final_concat_covcount = pd.concat(frames3)\n",
    "\n",
    "#Dropping Covalent Unit Column\n",
    "final_concat = final_concat_covcount.drop(columns = ['CovalentUnitCount'], axis = 1)\n",
    "\n",
    "#Changing CID's to int instead of string\n",
    "final_concat['PUBCHEM_CID'] = (final_concat['PUBCHEM_CID']).astype(int)\n",
    "#final_concat.dtypes"
   ]
  },
  {
   "cell_type": "code",
   "execution_count": 211,
   "metadata": {},
   "outputs": [],
   "source": [
    "#Dropping duplicates from original final dataframe\n",
    "final_no_dups = final_concat.drop_duplicates(subset = 'PUBCHEM_CID', keep = False)"
   ]
  },
  {
   "cell_type": "code",
   "execution_count": 212,
   "metadata": {},
   "outputs": [],
   "source": [
    "##Finding DF of all duplicates\n",
    "final_dups = final_concat[final_concat.duplicated('PUBCHEM_CID', keep = False)] \n",
    "final_dups = final_dups.sort_values(by = ['PUBCHEM_CID'], ascending = True, inplace = False)\n",
    "final_dups = final_dups.reset_index(drop = True)"
   ]
  },
  {
   "cell_type": "code",
   "execution_count": 213,
   "metadata": {},
   "outputs": [],
   "source": [
    "##df_inactive_final = both activity scores inactive\n",
    "###Drop all active agonists and active antagonists, and drop any values that are no longer dups.  \n",
    "###This will leave CID dups with outcomes that are both inactive.\n",
    "df_inactive_final = final_dups.drop(final_dups.loc[final_dups['Activity Summary'] == 'active agonist'].index)\n",
    "df_inactive_final = df_inactive_final.drop(df_inactive_final.loc[final_dups['Activity Summary'] == 'active antagonist'].index)\n",
    "df_inactive_final = df_inactive_final[df_inactive_final.duplicated(subset = 'PUBCHEM_CID', keep = False)]\n",
    "\n",
    "#Only leaving one of each inactive value\n",
    "df_inactive_final_clean = df_inactive_final.drop_duplicates(subset = 'PUBCHEM_CID', keep = 'first')"
   ]
  },
  {
   "cell_type": "code",
   "execution_count": 215,
   "metadata": {},
   "outputs": [],
   "source": [
    "##df_active_ag_final = both activity scores are active agonist\n",
    "###Drop all inactive values and drop any values that are no longer dups\n",
    "###Drop all active antagonist values\n",
    "\n",
    "df_active_ag_final = final_dups.drop(final_dups.loc[final_dups['Activity Summary'] == 'inactive'].index)\n",
    "df_active_ag_final = df_active_ag_final.drop(final_dups.loc[final_dups['Activity Summary'] == 'active antagonist'].index)\n",
    "df_active_ag_final = df_active_ag_final[df_active_ag_final.duplicated(subset = 'PUBCHEM_CID', keep = False)]\n",
    "\n",
    "###Rank by descending CID AND by descending potency\n",
    "###Drop duplicates and leave the FIRST value, which is the lowest potency!!!!!\n",
    "df_active_ag_final = df_active_ag_final.sort_values(by = ['PUBCHEM_CID', 'Ratio Potency (uM)'], ascending = True, inplace = False)\n",
    "df_active_ag_final_clean = df_active_ag_final.drop_duplicates(subset = 'PUBCHEM_CID', keep = 'first')"
   ]
  },
  {
   "cell_type": "code",
   "execution_count": 216,
   "metadata": {},
   "outputs": [],
   "source": [
    "##df_active_antag_final = both activity scores are active antagonists\n",
    "###Drop all inactive values and drop any values that are no longer dups\n",
    "###Drop all active agonist values\n",
    "\n",
    "df_active_antag_final = final_dups.drop(final_dups.loc[final_dups['Activity Summary'] == 'inactive'].index)\n",
    "df_active_antag_final = df_active_antag_final.drop(final_dups.loc[final_dups['Activity Summary'] == 'active agonist'].index)\n",
    "df_active_antag_final = df_active_antag_final[df_active_antag_final.duplicated(subset = 'PUBCHEM_CID', keep = False)]\n",
    "\n",
    "###Rank by descending CID AND by descending potency\n",
    "###Drop duplicates and leave the FIRST value, which is the lowest potency!!!!!\n",
    "df_active_antag_final = df_active_antag_final.sort_values(by = ['PUBCHEM_CID', 'Ratio Potency (uM)'], ascending = True, inplace = False)\n",
    "df_active_antag_final_clean = df_active_antag_final.drop_duplicates(subset = 'PUBCHEM_CID', keep = 'first')"
   ]
  },
  {
   "cell_type": "code",
   "execution_count": 217,
   "metadata": {},
   "outputs": [],
   "source": [
    "#getting lists of CID's of rows that fall into othr categories\n",
    "inactive_list = df_inactive_final['PUBCHEM_CID'].tolist()\n",
    "active_ag_list = df_active_ag_final['PUBCHEM_CID'].tolist()\n",
    "active_antag_list = df_active_antag_final['PUBCHEM_CID'].tolist()\n",
    "#combining lists\n",
    "index_list = inactive_list + active_ag_list + active_antag_list\n",
    "\n",
    "#Dropping those CID's from full dups dataframe final_dups\n",
    "##This will create a dataframe with CID pairs that are either inactive/active or active/active\n",
    "##Any remaining active/active CID pairs must be active agonist/antagonist pairs, and are inconclusive\n",
    "##We will delete those values\n",
    "final_dups_newindex = final_dups.set_index('PUBCHEM_CID')\n",
    "df_disagree = final_dups_newindex.drop(labels = index_list)\n",
    "df_disagree = df_disagree.reset_index()"
   ]
  },
  {
   "cell_type": "code",
   "execution_count": 218,
   "metadata": {},
   "outputs": [],
   "source": [
    "#Sorting by CID\n",
    "df_disagree = df_disagree.sort_values(by = ['PUBCHEM_CID', 'Activity Summary'], ascending = True, inplace = False)"
   ]
  },
  {
   "cell_type": "code",
   "execution_count": 219,
   "metadata": {},
   "outputs": [],
   "source": [
    "#We remove all inactive values (BC we are keeping active)\n",
    "df_disagree = df_disagree.drop(df_disagree.loc[df_disagree['Activity Summary'] == 'inactive'].index)\n",
    "#We then delete any remaining duplicates, because that means they were active agonist/antagonist pairs\n",
    "df_disagree_clean = df_disagree.drop_duplicates(subset = 'PUBCHEM_CID', keep = False)"
   ]
  },
  {
   "cell_type": "code",
   "execution_count": 220,
   "metadata": {},
   "outputs": [],
   "source": [
    "#We combine all the pieces into the full cleaned combined dataframe\n",
    "frames4 = [final_no_dups, df_inactive_final_clean, df_active_ag_final_clean, df_active_antag_final_clean, df_disagree_clean]\n",
    "final_clean = pd.concat(frames4)\n",
    "#"
   ]
  },
  {
   "cell_type": "code",
   "execution_count": 221,
   "metadata": {},
   "outputs": [],
   "source": [
    "#Writing to csv\n",
    "final_clean.to_csv('Final_Merged_Cleaned_CSV_7-1', index = False)\n"
   ]
  },
  {
   "cell_type": "code",
   "execution_count": 222,
   "metadata": {},
   "outputs": [],
   "source": [
    "final = pd.read_csv('Final_Merged_Cleaned_CSV_7-1')"
   ]
  },
  {
   "cell_type": "code",
   "execution_count": null,
   "metadata": {},
   "outputs": [],
   "source": []
  },
  {
   "cell_type": "code",
   "execution_count": null,
   "metadata": {},
   "outputs": [],
   "source": []
  },
  {
   "cell_type": "code",
   "execution_count": null,
   "metadata": {},
   "outputs": [],
   "source": []
  },
  {
   "cell_type": "code",
   "execution_count": null,
   "metadata": {},
   "outputs": [],
   "source": []
  }
 ],
 "metadata": {
  "kernelspec": {
   "display_name": "Python 3",
   "language": "python",
   "name": "python3"
  },
  "language_info": {
   "codemirror_mode": {
    "name": "ipython",
    "version": 3
   },
   "file_extension": ".py",
   "mimetype": "text/x-python",
   "name": "python",
   "nbconvert_exporter": "python",
   "pygments_lexer": "ipython3",
   "version": "3.6.8"
  }
 },
 "nbformat": 4,
 "nbformat_minor": 2
}

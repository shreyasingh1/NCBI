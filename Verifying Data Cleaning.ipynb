{
 "cells": [
  {
   "cell_type": "code",
   "execution_count": 4,
   "metadata": {},
   "outputs": [
    {
     "data": {
      "text/html": [
       "<div>\n",
       "<style scoped>\n",
       "    .dataframe tbody tr th:only-of-type {\n",
       "        vertical-align: middle;\n",
       "    }\n",
       "\n",
       "    .dataframe tbody tr th {\n",
       "        vertical-align: top;\n",
       "    }\n",
       "\n",
       "    .dataframe thead th {\n",
       "        text-align: right;\n",
       "    }\n",
       "</style>\n",
       "<table border=\"1\" class=\"dataframe\">\n",
       "  <thead>\n",
       "    <tr style=\"text-align: right;\">\n",
       "      <th></th>\n",
       "      <th>Activity Summary</th>\n",
       "      <th>PUBCHEM_CID</th>\n",
       "      <th>Ratio Efficacy (%)</th>\n",
       "      <th>Ratio Potency (uM)</th>\n",
       "    </tr>\n",
       "  </thead>\n",
       "  <tbody>\n",
       "    <tr>\n",
       "      <th>0</th>\n",
       "      <td>inactive</td>\n",
       "      <td>997</td>\n",
       "      <td>0.0000</td>\n",
       "      <td>0.00000</td>\n",
       "    </tr>\n",
       "    <tr>\n",
       "      <th>1</th>\n",
       "      <td>active antagonist</td>\n",
       "      <td>1807</td>\n",
       "      <td>-116.2980</td>\n",
       "      <td>54.94100</td>\n",
       "    </tr>\n",
       "    <tr>\n",
       "      <th>2</th>\n",
       "      <td>active antagonist</td>\n",
       "      <td>2453</td>\n",
       "      <td>-141.2610</td>\n",
       "      <td>10.68220</td>\n",
       "    </tr>\n",
       "    <tr>\n",
       "      <th>3</th>\n",
       "      <td>active antagonist</td>\n",
       "      <td>2662</td>\n",
       "      <td>-42.8802</td>\n",
       "      <td>21.31380</td>\n",
       "    </tr>\n",
       "    <tr>\n",
       "      <th>4</th>\n",
       "      <td>active antagonist</td>\n",
       "      <td>2722</td>\n",
       "      <td>-116.0110</td>\n",
       "      <td>5.56323</td>\n",
       "    </tr>\n",
       "  </tbody>\n",
       "</table>\n",
       "</div>"
      ],
      "text/plain": [
       "    Activity Summary  PUBCHEM_CID  Ratio Efficacy (%)  Ratio Potency (uM)\n",
       "0           inactive          997              0.0000             0.00000\n",
       "1  active antagonist         1807           -116.2980            54.94100\n",
       "2  active antagonist         2453           -141.2610            10.68220\n",
       "3  active antagonist         2662            -42.8802            21.31380\n",
       "4  active antagonist         2722           -116.0110             5.56323"
      ]
     },
     "execution_count": 4,
     "metadata": {},
     "output_type": "execute_result"
    }
   ],
   "source": [
    "import numpy as np\n",
    "import pandas as pd\n",
    "import matplotlib.pyplot as plt\n",
    "%matplotlib inline\n",
    "\n",
    "#hiding warning messages\n",
    "import warnings\n",
    "warnings.filterwarnings(\"ignore\")\n",
    "\n",
    "#Reading in Summary ANTAGONIST CSV\n",
    "shreya_csv = pd.read_csv('Final_Merged_Cleaned_CSV_7-1')\n",
    "shreya_csv.head()"
   ]
  },
  {
   "cell_type": "code",
   "execution_count": null,
   "metadata": {},
   "outputs": [],
   "source": []
  }
 ],
 "metadata": {
  "kernelspec": {
   "display_name": "Python 3",
   "language": "python",
   "name": "python3"
  },
  "language_info": {
   "codemirror_mode": {
    "name": "ipython",
    "version": 3
   },
   "file_extension": ".py",
   "mimetype": "text/x-python",
   "name": "python",
   "nbconvert_exporter": "python",
   "pygments_lexer": "ipython3",
   "version": "3.6.8"
  }
 },
 "nbformat": 4,
 "nbformat_minor": 2
}

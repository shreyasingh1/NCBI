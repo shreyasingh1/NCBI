{
 "cells": [
  {
   "cell_type": "markdown",
   "metadata": {},
   "source": [
    "# Molecular Fingerprint Generation\n",
    "\n",
    "This code assumes that RDKit python module is already installed."
   ]
  },
  {
   "cell_type": "code",
   "execution_count": 1,
   "metadata": {},
   "outputs": [],
   "source": [
    "from rdkit import Chem\n",
    "from rdkit import DataStructs\n",
    "from rdkit.Chem import MACCSkeys\n",
    "from rdkit.Chem import AllChem\n",
    "from rdkit.Chem.Fingerprints import FingerprintMols"
   ]
  },
  {
   "cell_type": "markdown",
   "metadata": {},
   "source": [
    "You can generate Mol objects from SMILES and other representations.  They need to be downloaded from PubChem."
   ]
  },
  {
   "cell_type": "code",
   "execution_count": 2,
   "metadata": {},
   "outputs": [],
   "source": [
    "ms = [Chem.MolFromSmiles('C1=CC=CC=C1'), \n",
    "      Chem.MolFromSmiles('c1ccccc1'), \n",
    "      Chem.MolFromSmiles('C1CCCCC1'),\n",
    "      Chem.MolFromSmiles('C1=CC=C(C=C1)C=O'),\n",
    "      Chem.MolFromSmiles('CC(C)C1=C(C(=C(N1CC[C@H](C[C@H](CC(=O)O)O)O)C2=CC=C(C=C2)F)C3=CC=CC=C3)C(=O)NC4=CC=CC=C4')]"
   ]
  },
  {
   "cell_type": "markdown",
   "metadata": {},
   "source": [
    "# MACCS Keys"
   ]
  },
  {
   "cell_type": "markdown",
   "metadata": {},
   "source": [
    "See https://www.rdkit.org/docs/GettingStartedInPython.html#maccs-keys"
   ]
  },
  {
   "cell_type": "markdown",
   "metadata": {},
   "source": [
    "Ignore the very first bit (bit 0).  See https://github.com/rdkit/rdkit/issues/1726"
   ]
  },
  {
   "cell_type": "code",
   "execution_count": 3,
   "metadata": {},
   "outputs": [
    {
     "name": "stdout",
     "output_type": "stream",
     "text": [
      "167 vs. 166\n",
      "0000000000000000000000000000000000000000000000000000000000000000000000000000000000000000000000000000000000000000000000000000000000000000000000000000000000000000011010\n"
     ]
    }
   ],
   "source": [
    "fps = [ MACCSkeys.GenMACCSKeys(x) for x in ms ]\n",
    "fpbitstr167 = fps[0].ToBitString()\n",
    "fpbitstr166 = fpbitstr167[1:]\n",
    "print( len(fpbitstr167), \"vs.\", len(fpbitstr166) )\n",
    "print( fpbitstr166 )"
   ]
  },
  {
   "cell_type": "markdown",
   "metadata": {},
   "source": [
    "Read about the data type ExplicitBitVect\n",
    "<br>\n",
    "https://www.rdkit.org/docs/source/rdkit.DataStructs.cDataStructs.html?highlight=rdkit%20datastructs%20cdatastructs%20explicitbitvect#rdkit.DataStructs.cDataStructs.ExplicitBitVect"
   ]
  },
  {
   "cell_type": "code",
   "execution_count": 4,
   "metadata": {},
   "outputs": [
    {
     "name": "stdout",
     "output_type": "stream",
     "text": [
      "167\n",
      "162\n",
      "5\n",
      "b'\\xe0\\xff\\xff\\xff\\xa7\\x00\\x00\\x00\\x05\\x00\\x00\\x00i\\x00\\x0e\\x00\\x00\\x00\\x02'\n",
      "00000000000000000000000000000000000000000000000000000000000000000000000000000000000000000000000000000000000000000000000000000000000000000000000000000000001000000011110\n"
     ]
    }
   ],
   "source": [
    "# Just for checking \n",
    "print(fps[3].GetNumBits())\n",
    "print(fps[3].GetNumOffBits())\n",
    "print(fps[3].GetNumOnBits())\n",
    "print(fps[3].ToBinary())\n",
    "print(fps[3].ToBitString())"
   ]
  },
  {
   "cell_type": "markdown",
   "metadata": {},
   "source": [
    "The above code can be reduced to one line."
   ]
  },
  {
   "cell_type": "code",
   "execution_count": 5,
   "metadata": {},
   "outputs": [
    {
     "name": "stdout",
     "output_type": "stream",
     "text": [
      "166\n",
      "0000000000000000000000000000000000000000000000000000000000000000000000000000000000000000000000000000000000000000000000000000000000000000000000000000000000000000011010\n"
     ]
    }
   ],
   "source": [
    "fps = [ MACCSkeys.GenMACCSKeys(x).ToBitString()[1:] for x in ms ]\n",
    "print(len(fps[0]))\n",
    "print(fps[0])"
   ]
  },
  {
   "cell_type": "markdown",
   "metadata": {},
   "source": [
    "# Topological Fingerprint (Daylight Analogue)"
   ]
  },
  {
   "cell_type": "markdown",
   "metadata": {},
   "source": [
    "Read about Topolotical Finerprint. <br>\n",
    "https://www.rdkit.org/docs/GettingStartedInPython.html#topological-fingerprints\n",
    "<br>\n",
    "Do not use FingeprintMol() used in the above document.  Instead, use rdmolops.RDKFingerprint() as recommended in it.\n",
    "<br>\n",
    "https://www.rdkit.org/docs/source/rdkit.Chem.rdmolops.html#rdkit.Chem.rdmolops.RDKFingerprint"
   ]
  },
  {
   "cell_type": "code",
   "execution_count": 6,
   "metadata": {},
   "outputs": [
    {
     "name": "stdout",
     "output_type": "stream",
     "text": [
      "2048\n",
      "00000000000000000000000000000000000000000000000000000000000000000000000000000000000000000000000000000001000000000000000000000000000000000000000000000000000000000100000000000000000000000000000000100000000000000000000000000000000000000000000000000000000000000000000000000000000000000000000000000010000000000000000000000000000000000010000000000000000000000000000000000000000000000000000000000000000000000000000000000000000000000000000000000000000000000000000000000000000000000000000000000000000000000000000000000000000000000000000000000000000000000000000000000000000000000000000000000000000000000000000000000000000000000000000000000000000000000000000000000000000000000000000000000000000000000000000000000000000000000000000000000000000000000000000000000000000000000000000000000000000000000000000010000000000000000000000000000000000000000000000000100000000000000000000000000000000000000000000000000000000000000000000000000000000000000000000000000000000000000000000000000000000000000000000000000000000000000000000000000000000000000010000000000000000000000000000000000000000000000000000000000000000000000000000000000000000000000000000000000000000000000000000000000000000000000000000000000000000000000000000000000000000000000000000000000000000000000000000000000000000000000000000000000000000000010000000000000000000000000000000000000000000000000000000000000000000000000000000000000000000000000000000000000000000000000000000000000000000000000000000000000000000000000000000000000000000000000000000000000000000000000000000000000000000000000000000000000000000000000000000000000000000000000000000000000000000000000000000000000000000000000000000000000000000000000000000000000000000000000000000000000000000000000000000000000000000000000000000000000000000000000000000000000000000000000000000000000000100000000000000000000000000000000000000000000000000000000000000000000000000000000000000000000000000000000100000000000000000100000000000000000000000000000000000000000000000000000000000000000000000000000000000000000000000000000000000000000000000000000000000000000000\n"
     ]
    }
   ],
   "source": [
    "from rdkit.Chem import rdmolops\n",
    "fps = [rdmolops.RDKFingerprint(x, fpSize=2048, minPath=1, maxPath=7).ToBitString() for x in ms]\n",
    "print(len(fps[0]))\n",
    "print(fps[0])"
   ]
  },
  {
   "cell_type": "markdown",
   "metadata": {},
   "source": [
    "# Morgan Fingerprint (ECFP)"
   ]
  },
  {
   "cell_type": "markdown",
   "metadata": {},
   "source": [
    "Read about the circular fingerprint (ECFP/FCFP) \n",
    "<br> \n",
    "https://www.rdkit.org/docs/GettingStartedInPython.html#morgan-fingerprints-circular-fingerprints\n",
    "<br>\n",
    "From the manual, ...\n",
    "<br>\n",
    "\"When comparing the ECFP/FCFP fingerprints and the Morgan fingerprints generated by the RDKit, remember that the 4 in ECFP4 corresponds to the diameter of the atom environments considered, while the Morgan fingerprints take a radius parameter. So the examples [in the manual], with radius=2, are roughly equivalent to ECFP4 and FCFP4.\""
   ]
  },
  {
   "cell_type": "code",
   "execution_count": 7,
   "metadata": {},
   "outputs": [
    {
     "name": "stdout",
     "output_type": "stream",
     "text": [
      "1024\n",
      "0000000000000000000000000000000000000000000000000000000000000000100000000000000000000000000000000000000000000000000000000000000000000000000000000000000000000000000000000000000000000000000000000000000000000000100000000000000000000000000000000000000000000000000000000000000000000000000000000000000000000000000000000000000000000000000000000000000000000000000000000000000000000000000000000000010000000000000000000000000000000000000000000000000000000000000000000000000000000000000000000000000000000000000000000000000000000000000000000000000000000000000000000000000000000000000000000000000000000000000000000000000000000000000000000000000000000000000000000000000000000000000000000000000000000000000000000000000000000000000000000000000000000000000000000000000000000000000000000000000000000000000000000000000000000000000000000000000000000000000000000000000001000000000000000000000000000000000000000000000000000000000000000000000000000000000000000000000000000000000000000000000000000000000000000000000000000000000000000000000000000000\n"
     ]
    }
   ],
   "source": [
    "from rdkit.Chem import AllChem\n",
    "fps = [AllChem.GetMorganFingerprintAsBitVect(x,4,nBits=1024).ToBitString() for x in ms]\n",
    "print(len(fps[0]))\n",
    "print(fps[0])"
   ]
  },
  {
   "cell_type": "markdown",
   "metadata": {},
   "source": [
    "# Morgan Fingerprint (FCFP)"
   ]
  },
  {
   "cell_type": "code",
   "execution_count": 8,
   "metadata": {},
   "outputs": [
    {
     "name": "stdout",
     "output_type": "stream",
     "text": [
      "1024\n",
      "0000100000000000000000000000000000000000000000000000000000000000000000000000000000000000000000000000000000000000000000000000000000000000000000000000000000000000000000000000000000000000000000000000000000000000000000000000000000000000000000000000000000000000000000000000000000000000000000000000000000000000000000000000000000000000000000000000000000000000000000000000000000000000000000000000000000000000000000000000000000000000000000000000000000000000000000000000000000000000000000000000000000000000000000000000000000000000000000000000000000000000000000000000000000000000000000000000000000000000000000100000000000000000000000000000000000000000000000000000000000000000000000000000000000000000000000000000000000000000000000000000000000000000000000000000000000000000000000000000000000000000000000000000000000000000000000000000000000000000000001000000000000000000000000000000000000000000000000000000000000000000000000000000000000000000000000000000000000000000000000000000000000000000000000000000000001000000000000000000000000000000\n"
     ]
    }
   ],
   "source": [
    "from rdkit.Chem import AllChem\n",
    "fps = [AllChem.GetMorganFingerprintAsBitVect(x,4,nBits=1024,useFeatures=True).ToBitString() for x in ms]\n",
    "print(len(fps[0]))\n",
    "print(fps[0])"
   ]
  },
  {
   "cell_type": "markdown",
   "metadata": {},
   "source": [
    "# PubChem FP Decoding"
   ]
  },
  {
   "cell_type": "markdown",
   "metadata": {},
   "source": [
    "Read the last page of the PubChem Fingerprint specification\n",
    "<br>\n",
    "ftp://ftp.ncbi.nlm.nih.gov/pubchem/specifications/pubchem_fingerprints.pdf\n",
    "<br>\n",
    "\"Decoding PubChem Fingerprints\n",
    "PubChem fingerprints are currently 881 bits in length. Binary data is stored in\n",
    "one byte increments. The fingerprint is, therefore, 111 bytes in length (888\n",
    "bits), which includes padding of seven bits at the end to complete the last byte.\n",
    "A four-byte prefix, containing the bit length of the fingerprint (881 bits),\n",
    "increases the stored PubChem fingerprint size to 115 bytes (920 bits).\n",
    "When PubChem fingerprints are encoded in base64 format, the base64-encoded\n",
    "fingerprints are 156 bytes in length. The last two bytes are padding so that the\n",
    "base64 length is divisible by four (156 bytes – 2 bytes = 154 bytes). Each base64\n",
    "byte encodes six binary bits (154 bytes * 6 bits/byte = 924 bits). The last four\n",
    "bits are padding to complete the last base64 byte (924 bits – 4 bits = 920 bits).\n",
    "The resulting 920 binary bits (115 bytes) are described in the previous paragraph.\"\n"
   ]
  },
  {
   "cell_type": "code",
   "execution_count": 3,
   "metadata": {},
   "outputs": [],
   "source": [
    "from base64 import b64decode\n",
    "\n",
    "def PCFP_BitString(pcfp_base64) :\n",
    "\n",
    "    pcfp_bitstring = \"\".join( [\"{:08b}\".format(x) for x in b64decode( pcfp_base64 )] )[32:913]\n",
    "    return pcfp_bitstring\n",
    "    "
   ]
  },
  {
   "cell_type": "code",
   "execution_count": 4,
   "metadata": {},
   "outputs": [],
   "source": [
    "pcfps = [ 'AAADcYBgAAAAAAAAAAAAAAAAAAAAAAAAAAAwAAAAAAAAAAABAAAAGAAAAAAACACAEAAwAIAAAACAACBCAAACAAAgAAAIiAAAAIgIICKAERCAIAAggAAIiAcAAAAAAAAAAAAAAAAAAAAAAAAAAAAAAAAAAA==',\n",
    "          'AAADcfB/OQAAAAAAAAAAAAAAAAAAAWAAAAAwYMAAAAAAAAAB1AAAHwAQCAAADRzhng4yyJPMEgCoAyXyXACCgCAlAiAI2CE4ZNgIMP7A1ZGEYYhntADIyUec/ObOgAAAAAAAAAAAAAAAAAAAAAAAAAAAAA==']"
   ]
  },
  {
   "cell_type": "code",
   "execution_count": 5,
   "metadata": {},
   "outputs": [
    {
     "name": "stdout",
     "output_type": "stream",
     "text": [
      "881\n",
      "10000000011000000000000000000000000000000000000000000000000000000000000000000000000000000000000000000000000000000000000000000000000000000000000000000000000000000000000000000000001100000000000000000000000000000000000000000000000000000000000000000000000000010000000000000000000000000001100000000000000000000000000000000000000000000000100000000000100000000001000000000000001100000000000010000000000000000000000000000000100000000000000000100000010000100000000000000000000000100000000000000000001000000000000000000000000010001000100000000000000000000000000010001000000010000010000000100010100000000001000100010000100000000010000000000000001000001000000000000000000010001000100000000111000000000000000000000000000000000000000000000000000000000000000000000000000000000000000000000000000000000000000000000000000000000000000000000000000000000000000000000000000000000000000000000000000000000\n"
     ]
    }
   ],
   "source": [
    "print( len(PCFP_BitString(pcfps[0])) )\n",
    "print(PCFP_BitString(pcfps[0]))"
   ]
  },
  {
   "cell_type": "markdown",
   "metadata": {},
   "source": [
    "# Atom Pairs"
   ]
  },
  {
   "cell_type": "markdown",
   "metadata": {},
   "source": [
    "Converting this fingerprint into a bitstring results in a very long string, which makes the process very inefficient.  Do not try this."
   ]
  },
  {
   "cell_type": "code",
   "execution_count": 12,
   "metadata": {},
   "outputs": [],
   "source": [
    "from rdkit.Chem.AtomPairs import Pairs\n",
    "fps = [Pairs.GetAtomPairFingerprintAsBitVect(x) for x in ms]"
   ]
  },
  {
   "cell_type": "code",
   "execution_count": 13,
   "metadata": {},
   "outputs": [
    {
     "name": "stdout",
     "output_type": "stream",
     "text": [
      "<rdkit.DataStructs.cDataStructs.SparseBitVect object at 0x0000016CF5DA8BC8>\n",
      "8388608\n",
      "8388605\n",
      "3\n",
      "b'\\xe0\\xff\\xff\\xff\\x00\\x00\\x80\\x00\\x03\\x00\\x00\\x00\\x0b&R\\x00\\x00\\xe7\\xd1\\xa9\\x02'\n"
     ]
    }
   ],
   "source": [
    "print(fps[0])\n",
    "print(fps[0].GetNumBits())\n",
    "print(fps[0].GetNumOffBits())\n",
    "print(fps[0].GetNumOnBits())\n",
    "print(fps[0].ToBinary())"
   ]
  },
  {
   "cell_type": "code",
   "execution_count": 14,
   "metadata": {},
   "outputs": [
    {
     "name": "stderr",
     "output_type": "stream",
     "text": [
      "IOPub data rate exceeded.\n",
      "The notebook server will temporarily stop sending output\n",
      "to the client in order to avoid crashing it.\n",
      "To change this limit, set the config variable\n",
      "`--NotebookApp.iopub_data_rate_limit`.\n",
      "\n",
      "Current values:\n",
      "NotebookApp.iopub_data_rate_limit=1000000.0 (bytes/sec)\n",
      "NotebookApp.rate_limit_window=3.0 (secs)\n",
      "\n"
     ]
    }
   ],
   "source": [
    "#NotebookApp.iopub_data_rate_limit=10000000.0\n",
    "print(fps[0].ToBitString())"
   ]
  }
 ],
 "metadata": {
  "kernelspec": {
   "display_name": "Python 3",
   "language": "python",
   "name": "python3"
  },
  "language_info": {
   "codemirror_mode": {
    "name": "ipython",
    "version": 3
   },
   "file_extension": ".py",
   "mimetype": "text/x-python",
   "name": "python",
   "nbconvert_exporter": "python",
   "pygments_lexer": "ipython3",
   "version": "3.6.8"
  }
 },
 "nbformat": 4,
 "nbformat_minor": 2
}

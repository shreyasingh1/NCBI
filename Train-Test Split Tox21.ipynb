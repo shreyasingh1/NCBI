{
 "cells": [
  {
   "cell_type": "code",
   "execution_count": 1,
   "metadata": {
    "scrolled": true
   },
   "outputs": [
    {
     "data": {
      "text/plain": [
       "(5672, 15)"
      ]
     },
     "execution_count": 1,
     "metadata": {},
     "output_type": "execute_result"
    }
   ],
   "source": [
    "from sklearn.model_selection import train_test_split\n",
    "from sklearn.model_selection import StratifiedShuffleSplit\n",
    "import numpy as np\n",
    "import pandas as pd\n",
    "import matplotlib.pyplot as plt\n",
    "import seaborn as sns\n",
    "%matplotlib inline\n",
    "\n",
    "#hiding warning messages\n",
    "import warnings\n",
    "warnings.filterwarnings(\"ignore\")\n",
    "\n",
    "#Reading in Molecular Properties CSV\n",
    "data = pd.read_csv('Molecular_Properties_CSV')\n",
    "#data = data.astype(float, errors = 'ignore')\n",
    "data.shape"
   ]
  },
  {
   "cell_type": "code",
   "execution_count": 9,
   "metadata": {},
   "outputs": [
    {
     "data": {
      "text/plain": [
       "(5672, 16)"
      ]
     },
     "execution_count": 9,
     "metadata": {},
     "output_type": "execute_result"
    }
   ],
   "source": [
    "#Making a 'target column', where inactives are 0 and actives are 1\n",
    "activity_list = data['Activity Outcome']\n",
    "activity_list = activity_list.tolist()\n",
    "target_list = []\n",
    "i = 0\n",
    "\n",
    "while (i < len(activity_list)):\n",
    "    if (activity_list[i] == 'active antagonist'):\n",
    "        target_list.append(1)\n",
    "        i = i + 1\n",
    "    elif (activity_list[i] == 'active agonist'):\n",
    "        target_list.append(1)\n",
    "        i = i + 1\n",
    "    else:\n",
    "        target_list.append(0)\n",
    "        i = i + 1\n",
    "        \n",
    "#Making strings ints\n",
    "target_list = [int(i) for i in target_list]\n",
    "\n",
    "#adding target column to data\n",
    "data['target'] = target_list\n",
    "data.shape"
   ]
  },
  {
   "cell_type": "code",
   "execution_count": 3,
   "metadata": {},
   "outputs": [],
   "source": [
    "#labeling x/y and splitting train and test data in 90/10 ratio\n",
    "x = data['PUBCHEM_CID']\n",
    "y = data['target']\n",
    "xTrain, xTest, yTrain, yTest = train_test_split(x, y, test_size = 0.1, stratify = y)"
   ]
  },
  {
   "cell_type": "code",
   "execution_count": 4,
   "metadata": {},
   "outputs": [
    {
     "data": {
      "text/plain": [
       "0    527\n",
       "1     41\n",
       "Name: target, dtype: int64"
      ]
     },
     "execution_count": 4,
     "metadata": {},
     "output_type": "execute_result"
    }
   ],
   "source": [
    "#distribution of test data\n",
    "yTest.value_counts()"
   ]
  },
  {
   "cell_type": "code",
   "execution_count": 5,
   "metadata": {},
   "outputs": [],
   "source": [
    "xTrain_list = xTrain.tolist()\n",
    "xTest_list = xTest.tolist()\n",
    "\n",
    "#getting df of all training CIDs\n",
    "train_data = data[~data.PUBCHEM_CID.isin(xTest_list)]\n",
    "\n",
    "#Getting df of all test CIDs\n",
    "test_data = data[~data.PUBCHEM_CID.isin(xTrain_list)]"
   ]
  },
  {
   "cell_type": "code",
   "execution_count": 6,
   "metadata": {},
   "outputs": [],
   "source": [
    "#Writing train/test csvs to csv\n",
    "train_data.to_csv('Train_Tox21', index = False)\n",
    "\n",
    "test_data.to_csv('Test_Tox21', index = False)"
   ]
  },
  {
   "cell_type": "code",
   "execution_count": 7,
   "metadata": {},
   "outputs": [
    {
     "data": {
      "text/plain": [
       "(5104, 16)"
      ]
     },
     "execution_count": 7,
     "metadata": {},
     "output_type": "execute_result"
    }
   ],
   "source": [
    "train_data.shape"
   ]
  },
  {
   "cell_type": "code",
   "execution_count": 8,
   "metadata": {},
   "outputs": [
    {
     "data": {
      "text/plain": [
       "(568, 16)"
      ]
     },
     "execution_count": 8,
     "metadata": {},
     "output_type": "execute_result"
    }
   ],
   "source": [
    "test_data.shape"
   ]
  },
  {
   "cell_type": "code",
   "execution_count": null,
   "metadata": {},
   "outputs": [],
   "source": []
  }
 ],
 "metadata": {
  "kernelspec": {
   "display_name": "Python 3",
   "language": "python",
   "name": "python3"
  },
  "language_info": {
   "codemirror_mode": {
    "name": "ipython",
    "version": 3
   },
   "file_extension": ".py",
   "mimetype": "text/x-python",
   "name": "python",
   "nbconvert_exporter": "python",
   "pygments_lexer": "ipython3",
   "version": "3.6.8"
  }
 },
 "nbformat": 4,
 "nbformat_minor": 2
}

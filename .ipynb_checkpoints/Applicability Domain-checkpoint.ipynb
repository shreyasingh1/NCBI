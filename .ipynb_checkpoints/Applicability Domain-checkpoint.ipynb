{
 "cells": [
  {
   "cell_type": "code",
   "execution_count": 44,
   "metadata": {},
   "outputs": [],
   "source": [
    "import numpy as np\n",
    "import pandas as pd\n",
    "import matplotlib.pyplot as plt\n",
    "from matplotlib import cm\n",
    "import seaborn as sns\n",
    "%matplotlib inline\n",
    "\n",
    "#hiding warning messages\n",
    "import warnings\n",
    "warnings.filterwarnings(\"ignore\")\n",
    "import time "
   ]
  },
  {
   "cell_type": "code",
   "execution_count": 61,
   "metadata": {},
   "outputs": [],
   "source": [
    "#Reading in grep files - Maccs\n",
    "grep_maccs = pd.read_csv('domain_appl_maccs.grep', sep = ',')\n",
    "grep_maccs = grep_maccs.T.reset_index(drop = True).T\n",
    "grep_maccs = grep_maccs.drop([0])"
   ]
  },
  {
   "cell_type": "code",
   "execution_count": 65,
   "metadata": {},
   "outputs": [],
   "source": [
    "#converting to str \n",
    "grep_maccs = grep_maccs.astype(str)\n",
    "\n",
    "#splitting scores \n",
    "str_split_maccs = grep_maccs[0].tolist()\n",
    "i = 0\n",
    "while (i < len(str_split_maccs)):\n",
    "    str_split_maccs[i] = str_split_maccs[i].split()\n",
    "    i = i + 1\n",
    "    "
   ]
  },
  {
   "cell_type": "code",
   "execution_count": 82,
   "metadata": {},
   "outputs": [],
   "source": [
    "#making df\n",
    "data_maccs = pd.DataFrame(str_split_maccs)\n",
    "data_maccs = data_maccs.rename(columns = {0 : 'Set', 1 : 'IDX', 2 : 'CID', 3 : 'Min Dist', 4 : 'Index at Min Dist', 5 : 'CID at Min Dist', 6 : 'Num_Neighbors'})\n",
    "\n",
    "#splitting into train, test, ext1, ext2\n",
    "data_maccs_train = data_maccs.loc[data_maccs['Set'] == 'Train']\n",
    "data_maccs_test = data_maccs.loc[data_maccs['Set'] == 'Test']\n",
    "data_maccs_ncgc = data_maccs.loc[data_maccs['Set'] == 'Ext1']\n",
    "data_maccs_test = data_maccs.loc[data_maccs['Set'] == 'Ext2']"
   ]
  },
  {
   "cell_type": "code",
   "execution_count": 141,
   "metadata": {},
   "outputs": [],
   "source": [
    "# data_maccs_test has 568 total\n",
    "#176 compounds with no neighbors\n",
    "#dropping values where Num Neighbors = 0\n",
    "data_maccs_test = data_maccs_test[data_maccs_test.Num_Neighbors != '0']\n",
    "\n",
    "#only keeping CIDs of remaining\n",
    "cids_maccs_test = data_maccs_test['CID'].tolist()\n",
    "\n",
    "#getting fingerprints of remaining molecules (from original input file)\n",
    "appl_maccs_test = full_maccs_test.loc[full_maccs_test['Name'].isin(cids_maccs_test)]"
   ]
  },
  {
   "cell_type": "code",
   "execution_count": 148,
   "metadata": {},
   "outputs": [],
   "source": [
    "#Writing new input file to csv\n",
    "appl_maccs_test.to_csv('input_maccs_test_appl.csv', index = False)"
   ]
  },
  {
   "cell_type": "code",
   "execution_count": null,
   "metadata": {},
   "outputs": [],
   "source": []
  }
 ],
 "metadata": {
  "kernelspec": {
   "display_name": "Python 3",
   "language": "python",
   "name": "python3"
  },
  "language_info": {
   "codemirror_mode": {
    "name": "ipython",
    "version": 3
   },
   "file_extension": ".py",
   "mimetype": "text/x-python",
   "name": "python",
   "nbconvert_exporter": "python",
   "pygments_lexer": "ipython3",
   "version": "3.6.8"
  }
 },
 "nbformat": 4,
 "nbformat_minor": 2
}

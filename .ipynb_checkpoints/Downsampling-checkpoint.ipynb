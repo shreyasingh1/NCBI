{
 "cells": [
  {
   "cell_type": "code",
   "execution_count": 51,
   "metadata": {},
   "outputs": [
    {
     "data": {
      "text/plain": [
       "(7626, 11)"
      ]
     },
     "execution_count": 51,
     "metadata": {},
     "output_type": "execute_result"
    }
   ],
   "source": [
    "import numpy as np\n",
    "import pandas as pd\n",
    "import matplotlib.pyplot as plt\n",
    "import seaborn as sns\n",
    "%matplotlib inline\n",
    "\n",
    "from sklearn.preprocessing import LabelEncoder\n",
    "from sklearn.preprocessing import MinMaxScaler\n",
    "from sklearn.preprocessing import StandardScaler\n",
    "from sklearn.cluster import KMeans\n",
    "\n",
    "#hiding warning messages\n",
    "import warnings\n",
    "warnings.filterwarnings(\"ignore\")\n",
    "\n",
    "#Reading in Summary MERGED CSV\n",
    "data = pd.read_csv('Molecular_Properties_CSV')\n",
    "data.shape"
   ]
  },
  {
   "cell_type": "code",
   "execution_count": 45,
   "metadata": {},
   "outputs": [],
   "source": [
    "#Taking Dataframe of only Inactive values\n",
    "###Drop all active agonists and active antagonists\n",
    "df_inactive = data.drop(data.loc[data['Activity Summary'] == 'active agonist'].index)\n",
    "df_inactive = df_inactive.drop(df_inactive.loc[df_inactive['Activity Summary'] == 'active antagonist'].index)\n",
    "\n",
    "#Taking Dataframe of only Active values\n",
    "##Dropping all inactive values\n",
    "df_active = data.drop(data.loc[data['Activity Summary'] == 'inactive'].index)"
   ]
  },
  {
   "cell_type": "code",
   "execution_count": 46,
   "metadata": {},
   "outputs": [
    {
     "name": "stdout",
     "output_type": "stream",
     "text": [
      "Number of active compounds in data: \n",
      "647\n"
     ]
    }
   ],
   "source": [
    "#Printing number of active compounds\n",
    "print(\"Number of active compounds in data: \")\n",
    "print(len(df_active.index))"
   ]
  },
  {
   "cell_type": "code",
   "execution_count": 47,
   "metadata": {},
   "outputs": [
    {
     "data": {
      "text/html": [
       "<div>\n",
       "<style scoped>\n",
       "    .dataframe tbody tr th:only-of-type {\n",
       "        vertical-align: middle;\n",
       "    }\n",
       "\n",
       "    .dataframe tbody tr th {\n",
       "        vertical-align: top;\n",
       "    }\n",
       "\n",
       "    .dataframe thead th {\n",
       "        text-align: right;\n",
       "    }\n",
       "</style>\n",
       "<table border=\"1\" class=\"dataframe\">\n",
       "  <thead>\n",
       "    <tr style=\"text-align: right;\">\n",
       "      <th></th>\n",
       "      <th>PUBCHEM_CID</th>\n",
       "      <th>Activity Summary</th>\n",
       "      <th>Ratio Potency (uM)</th>\n",
       "      <th>Ratio Efficacy (%)</th>\n",
       "      <th>MolecularFormula</th>\n",
       "      <th>MolecularWeight</th>\n",
       "      <th>CanonicalSMILES</th>\n",
       "      <th>IsomericSMILES</th>\n",
       "      <th>InChI</th>\n",
       "      <th>ExactMass</th>\n",
       "      <th>TPSA</th>\n",
       "    </tr>\n",
       "  </thead>\n",
       "  <tbody>\n",
       "    <tr>\n",
       "      <th>1</th>\n",
       "      <td>197883.0</td>\n",
       "      <td>inactive</td>\n",
       "      <td>0.0</td>\n",
       "      <td>0.0</td>\n",
       "      <td>C4H6O4S2</td>\n",
       "      <td>182.208</td>\n",
       "      <td>C(C(C(=O)O)S)(C(=O)O)S</td>\n",
       "      <td>[C@H]([C@@H](C(=O)O)S)(C(=O)O)S</td>\n",
       "      <td>InChI=1S/C4H6O4S2/c5-3(6)1(9)2(10)4(7)8/h1-2,9...</td>\n",
       "      <td>181.971</td>\n",
       "      <td>76.6</td>\n",
       "    </tr>\n",
       "    <tr>\n",
       "      <th>2</th>\n",
       "      <td>441358.0</td>\n",
       "      <td>inactive</td>\n",
       "      <td>0.0</td>\n",
       "      <td>0.0</td>\n",
       "      <td>C19H22ClN</td>\n",
       "      <td>299.842</td>\n",
       "      <td>CNCCC=C1C2=CC=CC=C2CCC3=CC=CC=C31.Cl</td>\n",
       "      <td>CNCCC=C1C2=CC=CC=C2CCC3=CC=CC=C31.Cl</td>\n",
       "      <td>InChI=1S/C19H21N.ClH/c1-20-14-6-11-19-17-9-4-2...</td>\n",
       "      <td>299.144</td>\n",
       "      <td>12.0</td>\n",
       "    </tr>\n",
       "    <tr>\n",
       "      <th>5</th>\n",
       "      <td>2726.0</td>\n",
       "      <td>inactive</td>\n",
       "      <td>0.0</td>\n",
       "      <td>0.0</td>\n",
       "      <td>C17H19ClN2S</td>\n",
       "      <td>318.863</td>\n",
       "      <td>CN(C)CCCN1C2=CC=CC=C2SC3=C1C=C(C=C3)Cl</td>\n",
       "      <td>CN(C)CCCN1C2=CC=CC=C2SC3=C1C=C(C=C3)Cl</td>\n",
       "      <td>InChI=1S/C17H19ClN2S/c1-19(2)10-5-11-20-14-6-3...</td>\n",
       "      <td>318.096</td>\n",
       "      <td>31.8</td>\n",
       "    </tr>\n",
       "    <tr>\n",
       "      <th>10</th>\n",
       "      <td>4044.0</td>\n",
       "      <td>inactive</td>\n",
       "      <td>0.0</td>\n",
       "      <td>0.0</td>\n",
       "      <td>C15H15NO2</td>\n",
       "      <td>241.290</td>\n",
       "      <td>CC1=C(C(=CC=C1)NC2=CC=CC=C2C(=O)O)C</td>\n",
       "      <td>CC1=C(C(=CC=C1)NC2=CC=CC=C2C(=O)O)C</td>\n",
       "      <td>InChI=1S/C15H15NO2/c1-10-6-5-9-13(11(10)2)16-1...</td>\n",
       "      <td>241.110</td>\n",
       "      <td>49.3</td>\n",
       "    </tr>\n",
       "    <tr>\n",
       "      <th>11</th>\n",
       "      <td>6103.0</td>\n",
       "      <td>inactive</td>\n",
       "      <td>0.0</td>\n",
       "      <td>0.0</td>\n",
       "      <td>C7H5ClN2O</td>\n",
       "      <td>168.580</td>\n",
       "      <td>C1=CC2=C(C=C1Cl)N=C(O2)N</td>\n",
       "      <td>C1=CC2=C(C=C1Cl)N=C(O2)N</td>\n",
       "      <td>InChI=1S/C7H5ClN2O/c8-4-1-2-6-5(3-4)10-7(9)11-...</td>\n",
       "      <td>168.009</td>\n",
       "      <td>52.0</td>\n",
       "    </tr>\n",
       "  </tbody>\n",
       "</table>\n",
       "</div>"
      ],
      "text/plain": [
       "    PUBCHEM_CID Activity Summary  Ratio Potency (uM)  Ratio Efficacy (%)  \\\n",
       "1      197883.0         inactive                 0.0                 0.0   \n",
       "2      441358.0         inactive                 0.0                 0.0   \n",
       "5        2726.0         inactive                 0.0                 0.0   \n",
       "10       4044.0         inactive                 0.0                 0.0   \n",
       "11       6103.0         inactive                 0.0                 0.0   \n",
       "\n",
       "   MolecularFormula  MolecularWeight                         CanonicalSMILES  \\\n",
       "1          C4H6O4S2          182.208                  C(C(C(=O)O)S)(C(=O)O)S   \n",
       "2         C19H22ClN          299.842    CNCCC=C1C2=CC=CC=C2CCC3=CC=CC=C31.Cl   \n",
       "5       C17H19ClN2S          318.863  CN(C)CCCN1C2=CC=CC=C2SC3=C1C=C(C=C3)Cl   \n",
       "10        C15H15NO2          241.290     CC1=C(C(=CC=C1)NC2=CC=CC=C2C(=O)O)C   \n",
       "11        C7H5ClN2O          168.580                C1=CC2=C(C=C1Cl)N=C(O2)N   \n",
       "\n",
       "                            IsomericSMILES  \\\n",
       "1          [C@H]([C@@H](C(=O)O)S)(C(=O)O)S   \n",
       "2     CNCCC=C1C2=CC=CC=C2CCC3=CC=CC=C31.Cl   \n",
       "5   CN(C)CCCN1C2=CC=CC=C2SC3=C1C=C(C=C3)Cl   \n",
       "10     CC1=C(C(=CC=C1)NC2=CC=CC=C2C(=O)O)C   \n",
       "11                C1=CC2=C(C=C1Cl)N=C(O2)N   \n",
       "\n",
       "                                                InChI  ExactMass  TPSA  \n",
       "1   InChI=1S/C4H6O4S2/c5-3(6)1(9)2(10)4(7)8/h1-2,9...    181.971  76.6  \n",
       "2   InChI=1S/C19H21N.ClH/c1-20-14-6-11-19-17-9-4-2...    299.144  12.0  \n",
       "5   InChI=1S/C17H19ClN2S/c1-19(2)10-5-11-20-14-6-3...    318.096  31.8  \n",
       "10  InChI=1S/C15H15NO2/c1-10-6-5-9-13(11(10)2)16-1...    241.110  49.3  \n",
       "11  InChI=1S/C7H5ClN2O/c8-4-1-2-6-5(3-4)10-7(9)11-...    168.009  52.0  "
      ]
     },
     "execution_count": 47,
     "metadata": {},
     "output_type": "execute_result"
    }
   ],
   "source": [
    "df_inactive.head()"
   ]
  },
  {
   "cell_type": "code",
   "execution_count": 48,
   "metadata": {},
   "outputs": [
    {
     "data": {
      "text/plain": [
       "PUBCHEM_CID           float64\n",
       "Activity Summary       object\n",
       "Ratio Potency (uM)    float64\n",
       "Ratio Efficacy (%)    float64\n",
       "MolecularFormula       object\n",
       "MolecularWeight       float64\n",
       "CanonicalSMILES        object\n",
       "IsomericSMILES         object\n",
       "InChI                  object\n",
       "ExactMass             float64\n",
       "TPSA                  float64\n",
       "dtype: object"
      ]
     },
     "execution_count": 48,
     "metadata": {},
     "output_type": "execute_result"
    }
   ],
   "source": [
    "df_inactive.dtypes"
   ]
  },
  {
   "cell_type": "code",
   "execution_count": 56,
   "metadata": {},
   "outputs": [
    {
     "name": "stdout",
     "output_type": "stream",
     "text": [
      "<class 'pandas.core.frame.DataFrame'>\n",
      "Int64Index: 6979 entries, 1 to 7160\n",
      "Data columns (total 5 columns):\n",
      "Ratio Potency (uM)    6979 non-null float64\n",
      "Ratio Efficacy (%)    6979 non-null float64\n",
      "MolecularWeight       6979 non-null float64\n",
      "ExactMass             6979 non-null float64\n",
      "TPSA                  6979 non-null float64\n",
      "dtypes: float64(5)\n",
      "memory usage: 327.1 KB\n"
     ]
    }
   ],
   "source": [
    "#Keeping only float.int values\n",
    "##ALSO drop pubchem_CID because thats not a feature\n",
    "df_numerical = df_inactive.drop(['PUBCHEM_CID', 'Activity Summary', 'MolecularFormula', 'CanonicalSMILES', 'IsomericSMILES', 'InChI'], axis = 1)\n",
    "df_numerical.info()"
   ]
  },
  {
   "cell_type": "code",
   "execution_count": null,
   "metadata": {},
   "outputs": [],
   "source": []
  },
  {
   "cell_type": "markdown",
   "metadata": {},
   "source": [
    "# PCA"
   ]
  },
  {
   "cell_type": "code",
   "execution_count": 61,
   "metadata": {},
   "outputs": [],
   "source": [
    "#normalizing data \n",
    "df_numerical = StandardScaler().fit_transform(df_numerical)\n",
    "\n",
    "#computing covariance matrix\n",
    "cov_mat = np.cov(df_numerical.T)\n",
    "\n",
    "#computing eigenvalues and eigenvectors using numpy\n",
    "eig_vals, eig_vecs = np.linalg.eig(cov_mat)\n",
    "\n",
    "#Make a list of (eigenvalue, eigenvector) tuples\n",
    "eig_pairs = [(np.abs(eig_vals[i]), eig_vecs[:,i]) for i in range(len(eig_vals))]\n",
    "\n",
    "#Sort the eigehvalue, eigenvector) tuples from high to low\n",
    "eig_pairs.sort(key = lambda x: x[0], reverse = True)"
   ]
  },
  {
   "cell_type": "code",
   "execution_count": 68,
   "metadata": {},
   "outputs": [],
   "source": [
    "#Calculating \"explained variance percentage\"\n",
    "##Quantifies how much info/variance can be attributed to each of the principal components\n",
    "#only keeping a certain number of eigenvalues based on prespecified threshold\n",
    "\n",
    "exp_var_percentage = 0.50 # Threshold of 97% explained variance\n",
    "\n",
    "tot = sum(eig_vals)\n",
    "var_exp = [(i / tot)*100 for i in sorted(eig_vals, reverse=True)]\n",
    "cum_var_exp = np.cumsum(var_exp)\n",
    "\n",
    "num_vec_to_keep = 0\n",
    "\n",
    "for index, percentage in enumerate(cum_var_exp):\n",
    "    if percentage > exp_var_percentage:\n",
    "        num_vec_to_keep = index + 1\n",
    "        break"
   ]
  },
  {
   "cell_type": "code",
   "execution_count": 69,
   "metadata": {},
   "outputs": [],
   "source": [
    "#Project our data on the vectors we want to keep\n",
    "#Build a projection nmatrix (matrix we will multiply by to project our data onto the new vectors)\n",
    "\n",
    "num_features = df_numerical.shape[1]\n",
    "proj_mat = eig_pairs[0][1].reshape(num_features,1)\n",
    "for eig_vec_idx in range(1, num_vec_to_keep):\n",
    "    proj_mat = np.hstack((proj_mat, eig_pairs[eig_vec_idx][1].reshape(num_features,1)))\n",
    "\n",
    "# Project the data \n",
    "pca_data = df_numerical.dot(proj_mat)"
   ]
  },
  {
   "cell_type": "code",
   "execution_count": 70,
   "metadata": {},
   "outputs": [
    {
     "data": {
      "text/plain": [
       "array([[ 0.54530597],\n",
       "       [ 0.2284907 ],\n",
       "       [-0.05764222],\n",
       "       ...,\n",
       "       [-4.27597644],\n",
       "       [-4.9198135 ],\n",
       "       [-3.5380351 ]])"
      ]
     },
     "execution_count": 70,
     "metadata": {},
     "output_type": "execute_result"
    }
   ],
   "source": [
    "pca_data"
   ]
  },
  {
   "cell_type": "code",
   "execution_count": null,
   "metadata": {},
   "outputs": [],
   "source": []
  },
  {
   "cell_type": "code",
   "execution_count": null,
   "metadata": {},
   "outputs": [],
   "source": []
  },
  {
   "cell_type": "code",
   "execution_count": null,
   "metadata": {},
   "outputs": [],
   "source": []
  },
  {
   "cell_type": "code",
   "execution_count": 50,
   "metadata": {},
   "outputs": [
    {
     "ename": "NameError",
     "evalue": "name 'X' is not defined",
     "output_type": "error",
     "traceback": [
      "\u001b[1;31m---------------------------------------------------------------------------\u001b[0m",
      "\u001b[1;31mNameError\u001b[0m                                 Traceback (most recent call last)",
      "\u001b[1;32m<ipython-input-50-f8673a4c6f04>\u001b[0m in \u001b[0;36m<module>\u001b[1;34m\u001b[0m\n\u001b[0;32m      1\u001b[0m \u001b[0mkmeans\u001b[0m \u001b[1;33m=\u001b[0m \u001b[0mKMeans\u001b[0m\u001b[1;33m(\u001b[0m\u001b[0mn_clusters\u001b[0m \u001b[1;33m=\u001b[0m \u001b[1;36m647\u001b[0m\u001b[1;33m)\u001b[0m\u001b[1;33m\u001b[0m\u001b[1;33m\u001b[0m\u001b[0m\n\u001b[1;32m----> 2\u001b[1;33m \u001b[0mkmeans\u001b[0m\u001b[1;33m.\u001b[0m\u001b[0mfit\u001b[0m\u001b[1;33m(\u001b[0m\u001b[0mX\u001b[0m\u001b[1;33m)\u001b[0m\u001b[1;33m\u001b[0m\u001b[1;33m\u001b[0m\u001b[0m\n\u001b[0m",
      "\u001b[1;31mNameError\u001b[0m: name 'X' is not defined"
     ]
    }
   ],
   "source": [
    "#KMEANS\n",
    "X = np.array(df_numerical)\n",
    "y = np.array\n",
    "kmeans = KMeans(n_clusters = 647)\n",
    "kmeans.fit(X)"
   ]
  },
  {
   "cell_type": "code",
   "execution_count": null,
   "metadata": {},
   "outputs": [],
   "source": []
  },
  {
   "cell_type": "code",
   "execution_count": null,
   "metadata": {},
   "outputs": [],
   "source": []
  },
  {
   "cell_type": "code",
   "execution_count": null,
   "metadata": {},
   "outputs": [],
   "source": []
  }
 ],
 "metadata": {
  "kernelspec": {
   "display_name": "Python 3",
   "language": "python",
   "name": "python3"
  },
  "language_info": {
   "codemirror_mode": {
    "name": "ipython",
    "version": 3
   },
   "file_extension": ".py",
   "mimetype": "text/x-python",
   "name": "python",
   "nbconvert_exporter": "python",
   "pygments_lexer": "ipython3",
   "version": "3.6.8"
  }
 },
 "nbformat": 4,
 "nbformat_minor": 2
}

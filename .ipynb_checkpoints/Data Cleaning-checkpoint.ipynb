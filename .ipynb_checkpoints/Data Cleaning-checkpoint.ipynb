{
 "cells": [
  {
   "cell_type": "markdown",
   "metadata": {},
   "source": [
    "# Cleaning Antagonist Data"
   ]
  },
  {
   "cell_type": "code",
   "execution_count": 81,
   "metadata": {
    "scrolled": true
   },
   "outputs": [],
   "source": [
    "import numpy as np\n",
    "import pandas as pd\n",
    "import matplotlib.pyplot as plt\n",
    "\n",
    "#hiding warning messages\n",
    "import warnings\n",
    "warnings.filterwarnings(\"ignore\")\n",
    "\n",
    "#Reading in Summary ANTAGONIST CSV\n",
    "antag = pd.read_csv('AID_720725_datatable_all.csv')\n",
    "antag = antag.iloc[3:]\n",
    "antag = antag.reset_index()\n",
    "#antag.head(5)\n",
    "#antag.dtypes"
   ]
  },
  {
   "cell_type": "code",
   "execution_count": 86,
   "metadata": {},
   "outputs": [],
   "source": [
    "#Removing inconclusives\n",
    "antag = antag.drop(antag.loc[antag['Activity Summary'] == 'inconclusive'].index)\n",
    "antag = antag.drop(antag.loc[antag['Activity Summary'] == 'inconclusive agonist'].index)\n",
    "antag = antag.drop(antag.loc[antag['Activity Summary'] == 'inconclusive antagonist'].index)\n",
    "antag = antag.drop(antag.loc[antag['Activity Summary'] == 'inconclusive agonist (cytotoxic)'].index)\n",
    "antag = antag.drop(antag.loc[antag['Activity Summary'] == 'inconclusive antagonist (cytotoxic)'].index)\n",
    "\n",
    "#Keeping only CID, Activity Summary, Ratio Potency (uM), and Ratio Efficacy\n",
    "antag = antag[['PUBCHEM_CID', 'Activity Summary', 'Ratio Potency (uM)', 'Ratio Efficacy (%)']]\n",
    "antag.fillna(0, inplace = True)"
   ]
  },
  {
   "cell_type": "code",
   "execution_count": 71,
   "metadata": {},
   "outputs": [],
   "source": [
    "##Dropping values with no CID\n",
    "antag = antag.drop(antag.loc[antag['PUBCHEM_CID'] == 0].index)\n",
    "\n",
    "#Dropping duplicates from original antag dataframe\n",
    "antag_no_dups = antag.drop_duplicates(subset = 'PUBCHEM_CID', keep = False)"
   ]
  },
  {
   "cell_type": "code",
   "execution_count": 72,
   "metadata": {},
   "outputs": [],
   "source": [
    "##Finding DF of all duplicates\n",
    "antag_dups = antag[antag.duplicated('PUBCHEM_CID', keep = False)] \n",
    "antag_dups = antag_dups.sort_values(by = ['PUBCHEM_CID', 'Activity Summary'], ascending = True, inplace = False)"
   ]
  },
  {
   "cell_type": "code",
   "execution_count": 73,
   "metadata": {},
   "outputs": [],
   "source": [
    "#Creating two seperate datasets for the three different cases (third case is all deleted)"
   ]
  },
  {
   "cell_type": "code",
   "execution_count": 74,
   "metadata": {},
   "outputs": [],
   "source": [
    "##df_inactive = both activity scores inactive\n",
    "###Drop all active agonists and active antagonists, and drop any values that are no longer dups.  \n",
    "###This will leave CID dups with outcomes that are both inactive.\n",
    "df_inactive = antag_dups.drop(antag_dups.loc[antag_dups['Activity Summary'] == 'active agonist'].index)\n",
    "df_inactive = df_inactive.drop(df_inactive.loc[antag_dups['Activity Summary'] == 'active antagonist'].index)\n",
    "df_inactive = df_inactive[df_inactive.duplicated(subset = 'PUBCHEM_CID', keep = False)]\n",
    "\n",
    "#Only leaving one of each inactive value\n",
    "df_inactive_clean = df_inactive.drop_duplicates(subset = 'PUBCHEM_CID', keep = 'first')"
   ]
  },
  {
   "cell_type": "code",
   "execution_count": 75,
   "metadata": {},
   "outputs": [],
   "source": [
    "##df_active = both activity scores are active\n",
    "###Drop all inactive values and drop any values that are no longer dups\n",
    "\n",
    "df_active = antag_dups.drop(antag_dups.loc[antag_dups['Activity Summary'] == 'inactive'].index)\n",
    "df_active = df_active[df_active.duplicated(subset = 'PUBCHEM_CID', keep = False)]\n",
    "\n",
    "###Rank by descending CID AND by descending potency\n",
    "###Drop duplicates and leave the FIRST value, which is the lowest potency!!!!!\n",
    "df_active = df_active.sort_values(by = ['PUBCHEM_CID', 'Ratio Potency (uM)'], ascending = False, inplace = False)\n",
    "df_active_clean = df_active.drop_duplicates(subset = 'PUBCHEM_CID', keep = 'firs')\n"
   ]
  },
  {
   "cell_type": "code",
   "execution_count": 76,
   "metadata": {},
   "outputs": [],
   "source": [
    "##df_disagree = the activity scores disagree\n",
    "##We removed all the rest because they didn't disagree"
   ]
  },
  {
   "cell_type": "code",
   "execution_count": 77,
   "metadata": {},
   "outputs": [],
   "source": [
    "#Combining antag_no_dups with df_active_clean and df_inactive_clean to create the final database with no dups\n",
    "frames1 = [antag_no_dups, df_active_clean, df_inactive_clean]\n",
    "#FINAL CLEAN DF\n",
    "antag_clean = pd.concat(frames)"
   ]
  },
  {
   "cell_type": "markdown",
   "metadata": {},
   "source": [
    "# Cleaning Agonist Data"
   ]
  },
  {
   "cell_type": "code",
   "execution_count": 82,
   "metadata": {},
   "outputs": [],
   "source": [
    "#Reading in Summary AGONIST CSV\n",
    "ag = pd.read_csv('AID_720719_datatable_all.csv')\n",
    "ag = ag.iloc[4:]\n",
    "ag = ag.reset_index()\n",
    "#ag.head()"
   ]
  },
  {
   "cell_type": "code",
   "execution_count": 85,
   "metadata": {},
   "outputs": [],
   "source": [
    "#Removing inconclusives\n",
    "ag = ag.drop(ag.loc[ag['Activity Summary'] == 'inconclusive'].index)\n",
    "ag = ag.drop(ag.loc[antag['Activity Summary'] == 'inconclusive agonist'].index)\n",
    "ag = ag.drop(ag.loc[antag['Activity Summary'] == 'inconclusive antagonist'].index)\n",
    "ag = ag.drop(ag.loc[antag['Activity Summary'] == 'inconclusive agonist (cytotoxic)'].index)\n",
    "ag = ag.drop(ag.loc[antag['Activity Summary'] == 'inconclusive antagonist (cytotoxic)'].index)\n",
    "\n",
    "#Keeping only CID, Activity Summary, Ratio Potency (uM), and Ratio Efficacy\n",
    "ag = ag[['PUBCHEM_CID', 'Activity Summary', 'Ratio Potency (uM)', 'Ratio Efficacy (%)']]\n",
    "ag.fillna(0, inplace = True)"
   ]
  },
  {
   "cell_type": "code",
   "execution_count": 132,
   "metadata": {},
   "outputs": [],
   "source": [
    "##Dropping values with no CID\n",
    "ag = ag.drop(ag.loc[ag['PUBCHEM_CID'] == 0].index)\n",
    "\n",
    "#Dropping duplicates from original ag dataframe\n",
    "ag_no_dups = ag.drop_duplicates(subset = 'PUBCHEM_CID', keep = False)"
   ]
  },
  {
   "cell_type": "code",
   "execution_count": 89,
   "metadata": {},
   "outputs": [],
   "source": [
    "##Finding DF of all duplicates\n",
    "ag_dups = ag[ag.duplicated('PUBCHEM_CID', keep = False)] \n",
    "ag_dups = ag_dups.sort_values(by = ['PUBCHEM_CID', 'Activity Summary'], ascending = True, inplace = False)"
   ]
  },
  {
   "cell_type": "code",
   "execution_count": 90,
   "metadata": {},
   "outputs": [],
   "source": [
    "#Creating two seperate datasets for the three different cases (third case is all deleted)"
   ]
  },
  {
   "cell_type": "code",
   "execution_count": 92,
   "metadata": {},
   "outputs": [],
   "source": [
    "##df_inactive_ag = both activity scores inactive\n",
    "###Drop all active agonists and active antagonists, and drop any values that are no longer dups.  \n",
    "###This will leave CID dups with outcomes that are both active.\n",
    "df_inactive_ag = ag_dups.drop(ag_dups.loc[ag_dups['Activity Summary'] == 'active agonist'].index)\n",
    "df_inactive_ag = df_inactive_ag.drop(df_inactive_ag.loc[ag_dups['Activity Summary'] == 'active antagonist'].index)\n",
    "df_inactive_ag = df_inactive_ag[df_inactive_ag.duplicated(subset = 'PUBCHEM_CID', keep = False)]\n",
    "\n",
    "#Only leaving one of each inactive value\n",
    "df_inactive_ag_clean = df_inactive_ag.drop_duplicates(subset = 'PUBCHEM_CID', keep = 'first')"
   ]
  },
  {
   "cell_type": "code",
   "execution_count": 93,
   "metadata": {},
   "outputs": [],
   "source": [
    "##df_active_ag = both activity scores are active\n",
    "###Drop all inactive values and drop any values that are no longer dups\n",
    "\n",
    "df_active_ag = ag_dups.drop(ag_dups.loc[ag_dups['Activity Summary'] == 'inactive'].index)\n",
    "df_active_ag = df_active_ag[df_active_ag.duplicated(subset = 'PUBCHEM_CID', keep = False)]\n",
    "\n",
    "###Rank by descending CID AND by descending potency\n",
    "###Drop duplicates and leave the FIRST value, which is the lowest potency!!!!!\n",
    "df_active_ag = df_active_ag.sort_values(by = ['PUBCHEM_CID', 'Ratio Potency (uM)'], ascending = False, inplace = False)\n",
    "df_active_ag_clean = df_active_ag.drop_duplicates(subset = 'PUBCHEM_CID', keep = 'first')"
   ]
  },
  {
   "cell_type": "code",
   "execution_count": 94,
   "metadata": {},
   "outputs": [],
   "source": [
    "##df_disagree = the activity scores disagree\n",
    "##We removed all the rest because they didn't disagree"
   ]
  },
  {
   "cell_type": "code",
   "execution_count": 105,
   "metadata": {},
   "outputs": [],
   "source": [
    "#Combining antag_no_dups with df_active_clean and df_inactive_clean to create the final database with no dups\n",
    "frames2 = [ag_no_dups, df_active_ag_clean, df_inactive_ag_clean]\n",
    "#FINAL CLEAN DF\n",
    "ag_clean = pd.concat(frames)\n",
    "#ag_clean.shape\n",
    "#(ag_clean['Activity Summary'] == 'active antagonist').sum()"
   ]
  },
  {
   "cell_type": "markdown",
   "metadata": {},
   "source": [
    "# Combining Dataframes and Cleaning"
   ]
  },
  {
   "cell_type": "code",
   "execution_count": 111,
   "metadata": {},
   "outputs": [],
   "source": [
    "#Combining antag_clean and ag_clean\n",
    "frames3 = [antag_clean, ag_clean]\n",
    "final_concat = pd.concat(frames3)"
   ]
  },
  {
   "cell_type": "code",
   "execution_count": 115,
   "metadata": {},
   "outputs": [],
   "source": [
    "#Dropping duplicates from original final dataframe\n",
    "final_no_dups = final_concat.drop_duplicates(subset = 'PUBCHEM_CID', keep = False)"
   ]
  },
  {
   "cell_type": "code",
   "execution_count": 135,
   "metadata": {},
   "outputs": [],
   "source": [
    "##Finding DF of all duplicates\n",
    "final_dups = final_concat[final_concat.duplicated('PUBCHEM_CID', keep = False)] \n",
    "final_dups = final_dups.sort_values(by = ['PUBCHEM_CID'], ascending = True, inplace = False)\n",
    "final_dups = final_dups.reset_index(drop = True)"
   ]
  },
  {
   "cell_type": "code",
   "execution_count": 137,
   "metadata": {},
   "outputs": [],
   "source": [
    "##df_inactive_final = both activity scores inactive\n",
    "###Drop all active agonists and active antagonists, and drop any values that are no longer dups.  \n",
    "###This will leave CID dups with outcomes that are both inactive.\n",
    "df_inactive_final = final_dups.drop(final_dups.loc[final_dups['Activity Summary'] == 'active agonist'].index)\n",
    "df_inactive_final = df_inactive_final.drop(df_inactive_final.loc[final_dups['Activity Summary'] == 'active antagonist'].index)\n",
    "df_inactive_final = df_inactive_final[df_inactive_final.duplicated(subset = 'PUBCHEM_CID', keep = False)]\n",
    "\n",
    "#Only leaving one of each inactive value\n",
    "df_inactive_final_clean = df_inactive_final.drop_duplicates(subset = 'PUBCHEM_CID', keep = 'first')"
   ]
  },
  {
   "cell_type": "code",
   "execution_count": null,
   "metadata": {},
   "outputs": [],
   "source": [
    "##df_active_ag_final = both activity scores are active\n",
    "###Drop all inactive values and drop any values that are no longer dups\n",
    "###Drop all active antagonist values\n",
    "\n",
    "df_active_ag_final = final_dups.drop(fianl_dups.loc[final_dups['Activity Summary'] == 'inactive'].index)\n",
    "df_active_ag_final = final_dups.drop(fianl_dups.loc[final_dups['Activity Summary'] == 'active antagonist'].index)\n",
    "df_active_final = df_active_ag_final[df_active_ag.duplicated(subset = 'PUBCHEM_CID', keep = False)]\n",
    "\n",
    "###Rank by descending CID AND by descending potency\n",
    "###Drop duplicates and leave the FIRST value, which is the lowest potency!!!!!\n",
    "df_active_ag = df_active_ag.sort_values(by = ['PUBCHEM_CID', 'Ratio Potency (uM)'], ascending = False, inplace = False)\n",
    "df_active_ag_clean = df_active_ag.drop_duplicates(subset = 'PUBCHEM_CID', keep = 'first')"
   ]
  }
 ],
 "metadata": {
  "kernelspec": {
   "display_name": "Python 3",
   "language": "python",
   "name": "python3"
  },
  "language_info": {
   "codemirror_mode": {
    "name": "ipython",
    "version": 3
   },
   "file_extension": ".py",
   "mimetype": "text/x-python",
   "name": "python",
   "nbconvert_exporter": "python",
   "pygments_lexer": "ipython3",
   "version": "3.6.8"
  }
 },
 "nbformat": 4,
 "nbformat_minor": 2
}

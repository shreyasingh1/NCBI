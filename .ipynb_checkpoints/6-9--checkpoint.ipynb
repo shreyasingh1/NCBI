{
 "cells": [
  {
   "cell_type": "code",
   "execution_count": 2,
   "metadata": {},
   "outputs": [],
   "source": [
    "import numpy as np\n",
    "import pandas as pd\n",
    "import matplotlib.pyplot as plt\n",
    "import seaborn as sns"
   ]
  },
  {
   "cell_type": "code",
   "execution_count": 3,
   "metadata": {},
   "outputs": [],
   "source": [
    "#hiding warning messages\n",
    "import warnings\n",
    "warnings.filterwarnings(\"ignore\")"
   ]
  },
  {
   "cell_type": "code",
   "execution_count": null,
   "metadata": {},
   "outputs": [],
   "source": []
  },
  {
   "cell_type": "code",
   "execution_count": 4,
   "metadata": {},
   "outputs": [],
   "source": [
    "#importing RDKIT fingerprinting software\n",
    "from __future__ import print_function\n",
    "import rdkit\n",
    "from rdkit import Chem\n",
    "from rdkit import DataStructs\n",
    "from rdkit.Chem.Fingerprints import FingerprintMols\n"
   ]
  },
  {
   "cell_type": "code",
   "execution_count": 31,
   "metadata": {},
   "outputs": [
    {
     "data": {
      "text/html": [
       "<div>\n",
       "<style scoped>\n",
       "    .dataframe tbody tr th:only-of-type {\n",
       "        vertical-align: middle;\n",
       "    }\n",
       "\n",
       "    .dataframe tbody tr th {\n",
       "        vertical-align: top;\n",
       "    }\n",
       "\n",
       "    .dataframe thead th {\n",
       "        text-align: right;\n",
       "    }\n",
       "</style>\n",
       "<table border=\"1\" class=\"dataframe\">\n",
       "  <thead>\n",
       "    <tr style=\"text-align: right;\">\n",
       "      <th></th>\n",
       "      <th>index</th>\n",
       "      <th>PUBCHEM_RESULT_TAG</th>\n",
       "      <th>PUBCHEM_SID</th>\n",
       "      <th>PUBCHEM_CID</th>\n",
       "      <th>PUBCHEM_ACTIVITY_OUTCOME</th>\n",
       "      <th>PUBCHEM_ACTIVITY_SCORE</th>\n",
       "      <th>PUBCHEM_ACTIVITY_URL</th>\n",
       "      <th>PUBCHEM_ASSAYDATA_COMMENT</th>\n",
       "      <th>Activity Summary</th>\n",
       "      <th>Ratio Activity</th>\n",
       "      <th>...</th>\n",
       "      <th>530 nm Activity</th>\n",
       "      <th>530 nm Potency (uM)</th>\n",
       "      <th>530 nm Efficacy (%)</th>\n",
       "      <th>460 nm Activity</th>\n",
       "      <th>460 nm Potency (uM)</th>\n",
       "      <th>460 nm Efficacy (%)</th>\n",
       "      <th>Viability Activity</th>\n",
       "      <th>Viability Potency (uM)</th>\n",
       "      <th>Viability Efficacy (%)</th>\n",
       "      <th>Sample Source</th>\n",
       "    </tr>\n",
       "  </thead>\n",
       "  <tbody>\n",
       "    <tr>\n",
       "      <th>0</th>\n",
       "      <td>2</td>\n",
       "      <td>RESULT_UNIT</td>\n",
       "      <td>NaN</td>\n",
       "      <td>NaN</td>\n",
       "      <td>NaN</td>\n",
       "      <td>NaN</td>\n",
       "      <td>NaN</td>\n",
       "      <td>NaN</td>\n",
       "      <td>NONE</td>\n",
       "      <td>NONE</td>\n",
       "      <td>...</td>\n",
       "      <td>NONE</td>\n",
       "      <td>MICROMOLAR</td>\n",
       "      <td>PERCENT</td>\n",
       "      <td>NONE</td>\n",
       "      <td>MICROMOLAR</td>\n",
       "      <td>PERCENT</td>\n",
       "      <td>NONE</td>\n",
       "      <td>MICROMOLAR</td>\n",
       "      <td>PERCENT</td>\n",
       "      <td>NONE</td>\n",
       "    </tr>\n",
       "    <tr>\n",
       "      <th>1</th>\n",
       "      <td>3</td>\n",
       "      <td>1</td>\n",
       "      <td>144203552.0</td>\n",
       "      <td>12850184.0</td>\n",
       "      <td>Inactive</td>\n",
       "      <td>0.0</td>\n",
       "      <td>NaN</td>\n",
       "      <td>NaN</td>\n",
       "      <td>inactive</td>\n",
       "      <td>inactive</td>\n",
       "      <td>...</td>\n",
       "      <td>inactive</td>\n",
       "      <td>NaN</td>\n",
       "      <td>0</td>\n",
       "      <td>inactive</td>\n",
       "      <td>NaN</td>\n",
       "      <td>0</td>\n",
       "      <td>inactive</td>\n",
       "      <td>NaN</td>\n",
       "      <td>0</td>\n",
       "      <td>NCI</td>\n",
       "    </tr>\n",
       "    <tr>\n",
       "      <th>2</th>\n",
       "      <td>4</td>\n",
       "      <td>2</td>\n",
       "      <td>144203553.0</td>\n",
       "      <td>89753.0</td>\n",
       "      <td>Inactive</td>\n",
       "      <td>0.0</td>\n",
       "      <td>NaN</td>\n",
       "      <td>NaN</td>\n",
       "      <td>inactive</td>\n",
       "      <td>inactive</td>\n",
       "      <td>...</td>\n",
       "      <td>inactive</td>\n",
       "      <td>NaN</td>\n",
       "      <td>0</td>\n",
       "      <td>inactive</td>\n",
       "      <td>NaN</td>\n",
       "      <td>0</td>\n",
       "      <td>inactive</td>\n",
       "      <td>NaN</td>\n",
       "      <td>0</td>\n",
       "      <td>NCI</td>\n",
       "    </tr>\n",
       "    <tr>\n",
       "      <th>3</th>\n",
       "      <td>5</td>\n",
       "      <td>3</td>\n",
       "      <td>144203554.0</td>\n",
       "      <td>9403.0</td>\n",
       "      <td>Active</td>\n",
       "      <td>57.0</td>\n",
       "      <td>NaN</td>\n",
       "      <td>NaN</td>\n",
       "      <td>active antagonist</td>\n",
       "      <td>active antagonist</td>\n",
       "      <td>...</td>\n",
       "      <td>inactive</td>\n",
       "      <td>NaN</td>\n",
       "      <td>0</td>\n",
       "      <td>active antagonist</td>\n",
       "      <td>7.56242</td>\n",
       "      <td>-95.0751</td>\n",
       "      <td>inconclusive antagonist</td>\n",
       "      <td>NaN</td>\n",
       "      <td>0</td>\n",
       "      <td>NCI</td>\n",
       "    </tr>\n",
       "    <tr>\n",
       "      <th>4</th>\n",
       "      <td>6</td>\n",
       "      <td>4</td>\n",
       "      <td>144203555.0</td>\n",
       "      <td>13218779.0</td>\n",
       "      <td>Inactive</td>\n",
       "      <td>0.0</td>\n",
       "      <td>NaN</td>\n",
       "      <td>NaN</td>\n",
       "      <td>inactive</td>\n",
       "      <td>inactive</td>\n",
       "      <td>...</td>\n",
       "      <td>inactive</td>\n",
       "      <td>NaN</td>\n",
       "      <td>0</td>\n",
       "      <td>inactive</td>\n",
       "      <td>NaN</td>\n",
       "      <td>0</td>\n",
       "      <td>inactive</td>\n",
       "      <td>NaN</td>\n",
       "      <td>0</td>\n",
       "      <td>NCI</td>\n",
       "    </tr>\n",
       "    <tr>\n",
       "      <th>5</th>\n",
       "      <td>7</td>\n",
       "      <td>5</td>\n",
       "      <td>144203556.0</td>\n",
       "      <td>142766.0</td>\n",
       "      <td>Inactive</td>\n",
       "      <td>0.0</td>\n",
       "      <td>NaN</td>\n",
       "      <td>NaN</td>\n",
       "      <td>inactive</td>\n",
       "      <td>inactive</td>\n",
       "      <td>...</td>\n",
       "      <td>inactive</td>\n",
       "      <td>NaN</td>\n",
       "      <td>0</td>\n",
       "      <td>inactive</td>\n",
       "      <td>NaN</td>\n",
       "      <td>0</td>\n",
       "      <td>inactive</td>\n",
       "      <td>NaN</td>\n",
       "      <td>0</td>\n",
       "      <td>NCI</td>\n",
       "    </tr>\n",
       "    <tr>\n",
       "      <th>6</th>\n",
       "      <td>8</td>\n",
       "      <td>6</td>\n",
       "      <td>144203557.0</td>\n",
       "      <td>16043.0</td>\n",
       "      <td>Inactive</td>\n",
       "      <td>0.0</td>\n",
       "      <td>NaN</td>\n",
       "      <td>NaN</td>\n",
       "      <td>inactive</td>\n",
       "      <td>inactive</td>\n",
       "      <td>...</td>\n",
       "      <td>inactive</td>\n",
       "      <td>NaN</td>\n",
       "      <td>0</td>\n",
       "      <td>inactive</td>\n",
       "      <td>NaN</td>\n",
       "      <td>0</td>\n",
       "      <td>inconclusive antagonist</td>\n",
       "      <td>NaN</td>\n",
       "      <td>0</td>\n",
       "      <td>NCI</td>\n",
       "    </tr>\n",
       "    <tr>\n",
       "      <th>7</th>\n",
       "      <td>9</td>\n",
       "      <td>7</td>\n",
       "      <td>144203558.0</td>\n",
       "      <td>16043.0</td>\n",
       "      <td>Inconclusive</td>\n",
       "      <td>25.0</td>\n",
       "      <td>NaN</td>\n",
       "      <td>NaN</td>\n",
       "      <td>inconclusive antagonist (cytotoxic)</td>\n",
       "      <td>active antagonist</td>\n",
       "      <td>...</td>\n",
       "      <td>inconclusive antagonist</td>\n",
       "      <td>23.9145</td>\n",
       "      <td>-61.7417</td>\n",
       "      <td>active antagonist</td>\n",
       "      <td>17.5925</td>\n",
       "      <td>-145.137</td>\n",
       "      <td>active antagonist</td>\n",
       "      <td>23.9145</td>\n",
       "      <td>-99.9932</td>\n",
       "      <td>SigmaAldrich</td>\n",
       "    </tr>\n",
       "    <tr>\n",
       "      <th>8</th>\n",
       "      <td>10</td>\n",
       "      <td>8</td>\n",
       "      <td>144203559.0</td>\n",
       "      <td>2724411.0</td>\n",
       "      <td>Inconclusive</td>\n",
       "      <td>25.0</td>\n",
       "      <td>NaN</td>\n",
       "      <td>NaN</td>\n",
       "      <td>inconclusive antagonist (cytotoxic)</td>\n",
       "      <td>inconclusive antagonist</td>\n",
       "      <td>...</td>\n",
       "      <td>inactive</td>\n",
       "      <td>NaN</td>\n",
       "      <td>0</td>\n",
       "      <td>inconclusive antagonist</td>\n",
       "      <td>16.9301</td>\n",
       "      <td>-132.937</td>\n",
       "      <td>inconclusive antagonist</td>\n",
       "      <td>12.6958</td>\n",
       "      <td>-45.2176</td>\n",
       "      <td>NCI</td>\n",
       "    </tr>\n",
       "    <tr>\n",
       "      <th>9</th>\n",
       "      <td>11</td>\n",
       "      <td>9</td>\n",
       "      <td>144203560.0</td>\n",
       "      <td>2724372.0</td>\n",
       "      <td>Inactive</td>\n",
       "      <td>0.0</td>\n",
       "      <td>NaN</td>\n",
       "      <td>NaN</td>\n",
       "      <td>inactive</td>\n",
       "      <td>inactive</td>\n",
       "      <td>...</td>\n",
       "      <td>inactive</td>\n",
       "      <td>NaN</td>\n",
       "      <td>0</td>\n",
       "      <td>inactive</td>\n",
       "      <td>NaN</td>\n",
       "      <td>0</td>\n",
       "      <td>inactive</td>\n",
       "      <td>NaN</td>\n",
       "      <td>0</td>\n",
       "      <td>NCI</td>\n",
       "    </tr>\n",
       "  </tbody>\n",
       "</table>\n",
       "<p>10 rows × 22 columns</p>\n",
       "</div>"
      ],
      "text/plain": [
       "   index PUBCHEM_RESULT_TAG  PUBCHEM_SID  PUBCHEM_CID  \\\n",
       "0      2        RESULT_UNIT          NaN          NaN   \n",
       "1      3                  1  144203552.0   12850184.0   \n",
       "2      4                  2  144203553.0      89753.0   \n",
       "3      5                  3  144203554.0       9403.0   \n",
       "4      6                  4  144203555.0   13218779.0   \n",
       "5      7                  5  144203556.0     142766.0   \n",
       "6      8                  6  144203557.0      16043.0   \n",
       "7      9                  7  144203558.0      16043.0   \n",
       "8     10                  8  144203559.0    2724411.0   \n",
       "9     11                  9  144203560.0    2724372.0   \n",
       "\n",
       "  PUBCHEM_ACTIVITY_OUTCOME  PUBCHEM_ACTIVITY_SCORE  PUBCHEM_ACTIVITY_URL  \\\n",
       "0                      NaN                     NaN                   NaN   \n",
       "1                 Inactive                     0.0                   NaN   \n",
       "2                 Inactive                     0.0                   NaN   \n",
       "3                   Active                    57.0                   NaN   \n",
       "4                 Inactive                     0.0                   NaN   \n",
       "5                 Inactive                     0.0                   NaN   \n",
       "6                 Inactive                     0.0                   NaN   \n",
       "7             Inconclusive                    25.0                   NaN   \n",
       "8             Inconclusive                    25.0                   NaN   \n",
       "9                 Inactive                     0.0                   NaN   \n",
       "\n",
       "   PUBCHEM_ASSAYDATA_COMMENT                     Activity Summary  \\\n",
       "0                        NaN                                 NONE   \n",
       "1                        NaN                             inactive   \n",
       "2                        NaN                             inactive   \n",
       "3                        NaN                    active antagonist   \n",
       "4                        NaN                             inactive   \n",
       "5                        NaN                             inactive   \n",
       "6                        NaN                             inactive   \n",
       "7                        NaN  inconclusive antagonist (cytotoxic)   \n",
       "8                        NaN  inconclusive antagonist (cytotoxic)   \n",
       "9                        NaN                             inactive   \n",
       "\n",
       "            Ratio Activity  ...          530 nm Activity 530 nm Potency (uM)  \\\n",
       "0                     NONE  ...                     NONE          MICROMOLAR   \n",
       "1                 inactive  ...                 inactive                 NaN   \n",
       "2                 inactive  ...                 inactive                 NaN   \n",
       "3        active antagonist  ...                 inactive                 NaN   \n",
       "4                 inactive  ...                 inactive                 NaN   \n",
       "5                 inactive  ...                 inactive                 NaN   \n",
       "6                 inactive  ...                 inactive                 NaN   \n",
       "7        active antagonist  ...  inconclusive antagonist             23.9145   \n",
       "8  inconclusive antagonist  ...                 inactive                 NaN   \n",
       "9                 inactive  ...                 inactive                 NaN   \n",
       "\n",
       "  530 nm Efficacy (%)          460 nm Activity 460 nm Potency (uM)  \\\n",
       "0             PERCENT                     NONE          MICROMOLAR   \n",
       "1                   0                 inactive                 NaN   \n",
       "2                   0                 inactive                 NaN   \n",
       "3                   0        active antagonist             7.56242   \n",
       "4                   0                 inactive                 NaN   \n",
       "5                   0                 inactive                 NaN   \n",
       "6                   0                 inactive                 NaN   \n",
       "7            -61.7417        active antagonist             17.5925   \n",
       "8                   0  inconclusive antagonist             16.9301   \n",
       "9                   0                 inactive                 NaN   \n",
       "\n",
       "  460 nm Efficacy (%)       Viability Activity Viability Potency (uM)  \\\n",
       "0             PERCENT                     NONE             MICROMOLAR   \n",
       "1                   0                 inactive                    NaN   \n",
       "2                   0                 inactive                    NaN   \n",
       "3            -95.0751  inconclusive antagonist                    NaN   \n",
       "4                   0                 inactive                    NaN   \n",
       "5                   0                 inactive                    NaN   \n",
       "6                   0  inconclusive antagonist                    NaN   \n",
       "7            -145.137        active antagonist                23.9145   \n",
       "8            -132.937  inconclusive antagonist                12.6958   \n",
       "9                   0                 inactive                    NaN   \n",
       "\n",
       "  Viability Efficacy (%) Sample Source  \n",
       "0                PERCENT          NONE  \n",
       "1                      0           NCI  \n",
       "2                      0           NCI  \n",
       "3                      0           NCI  \n",
       "4                      0           NCI  \n",
       "5                      0           NCI  \n",
       "6                      0           NCI  \n",
       "7               -99.9932  SigmaAldrich  \n",
       "8               -45.2176           NCI  \n",
       "9                      0           NCI  \n",
       "\n",
       "[10 rows x 22 columns]"
      ]
     },
     "execution_count": 31,
     "metadata": {},
     "output_type": "execute_result"
    }
   ],
   "source": [
    "#Reading in Summary ANTAGONIST CSV\n",
    "data = pd.read_csv('AID_720725_datatable_all.csv')\n",
    "data = data.iloc[2:]\n",
    "data = data.reset_index()\n",
    "data.head(10)"
   ]
  },
  {
   "cell_type": "code",
   "execution_count": 32,
   "metadata": {},
   "outputs": [],
   "source": [
    "#Finding CID Duplicates\n",
    "data_dupsCID = data.pivot_table(index=['PUBCHEM_CID'], aggfunc='size')\n",
    "#print (data_dupsCID)"
   ]
  },
  {
   "cell_type": "markdown",
   "metadata": {},
   "source": [
    "# Counts and Figures"
   ]
  },
  {
   "cell_type": "code",
   "execution_count": 33,
   "metadata": {},
   "outputs": [
    {
     "data": {
      "text/plain": [
       "Inactive        7744\n",
       "Inconclusive    2282\n",
       "Active           460\n",
       "Name: PUBCHEM_ACTIVITY_OUTCOME, dtype: int64"
      ]
     },
     "execution_count": 33,
     "metadata": {},
     "output_type": "execute_result"
    }
   ],
   "source": [
    "#Total Counts for Active/Inconclusive/Active\n",
    "activity_counts = data['PUBCHEM_ACTIVITY_OUTCOME'].value_counts()\n",
    "activity_counts.iloc[0:3]"
   ]
  },
  {
   "cell_type": "code",
   "execution_count": 34,
   "metadata": {},
   "outputs": [
    {
     "data": {
      "image/png": "[encoded data removed]",
      "text/plain": [
       "<Figure size 432x288 with 1 Axes>"
      ]
     },
     "metadata": {
      "needs_background": "light"
     },
     "output_type": "display_data"
    }
   ],
   "source": [
    "#Bar graph of Activity Outcome Counts\n",
    "outcomes = ('Inactive', 'Inconclusive', 'Active')\n",
    "y_pos = np.arange(len(outcomes))\n",
    "counts = (activity_counts.iloc[0], activity_counts.iloc[1], activity_counts.iloc[2])\n",
    "\n",
    "plt.bar(y_pos, counts, align = 'center', alpha = 0.5)\n",
    "plt.xticks(y_pos, outcomes)\n",
    "plt.ylabel('Counts')\n",
    "plt.title('Number of outcomes at each activity level')\n",
    "\n",
    "plt.show()"
   ]
  },
  {
   "cell_type": "code",
   "execution_count": 35,
   "metadata": {},
   "outputs": [],
   "source": [
    "#Dataframe of ALL Activity Scores\n",
    "allscores = data['PUBCHEM_ACTIVITY_SCORE']"
   ]
  },
  {
   "cell_type": "code",
   "execution_count": 36,
   "metadata": {},
   "outputs": [
    {
     "data": {
      "image/png": "[encoded data removed]",
      "text/plain": [
       "<Figure size 432x288 with 1 Axes>"
      ]
     },
     "metadata": {
      "needs_background": "light"
     },
     "output_type": "display_data"
    }
   ],
   "source": [
    "#Histogram of ALL Activity Scores\n",
    "x = allscores\n",
    "num_bins = 25\n",
    "n, bins, patches = plt.hist(x, num_bins, facecolor = 'blue', alpha = 0.5)\n",
    "plt.ylabel('Counts')\n",
    "plt.title('Activity Score Distribution over all Activity Levels')\n",
    "plt.show()"
   ]
  },
  {
   "cell_type": "code",
   "execution_count": 37,
   "metadata": {},
   "outputs": [],
   "source": [
    "#Dataframe of all Active molecules, col1 is index and col2 is activity score\n",
    "#Activity score range of 40-100\n",
    "active = data['PUBCHEM_ACTIVITY_SCORE'].where(data['PUBCHEM_ACTIVITY_OUTCOME'] == 'Active')\n",
    "active = active.dropna()"
   ]
  },
  {
   "cell_type": "code",
   "execution_count": 38,
   "metadata": {
    "scrolled": true
   },
   "outputs": [
    {
     "data": {
      "image/png": "[encoded data removed]",
      "text/plain": [
       "<Figure size 432x288 with 1 Axes>"
      ]
     },
     "metadata": {
      "needs_background": "light"
     },
     "output_type": "display_data"
    }
   ],
   "source": [
    "#Histogram of distribution of Active activity scores (460)\n",
    "x = active\n",
    "num_bins = 30\n",
    "n, bins, patches = plt.hist(x, num_bins, facecolor = 'blue', alpha = 0.5)\n",
    "plt.ylabel('Counts')\n",
    "plt.title('Activity Score Distribution of all Active molecules')\n",
    "plt.show()"
   ]
  },
  {
   "cell_type": "code",
   "execution_count": 40,
   "metadata": {},
   "outputs": [],
   "source": [
    "#Dataframe of all Inconclusive molecules, col1 is index and col2 is activity score\n",
    "#Activity score range of 5-30\n",
    "inc = data['PUBCHEM_ACTIVITY_SCORE'].where(data['PUBCHEM_ACTIVITY_OUTCOME'] == 'Inconclusive')\n",
    "inc = inc.dropna()\n"
   ]
  },
  {
   "cell_type": "code",
   "execution_count": 41,
   "metadata": {},
   "outputs": [
    {
     "data": {
      "image/png": "[encoded data removed]",
      "text/plain": [
       "<Figure size 432x288 with 1 Axes>"
      ]
     },
     "metadata": {
      "needs_background": "light"
     },
     "output_type": "display_data"
    }
   ],
   "source": [
    "#Histogram of distribution of Inconclusive activity scores (2282, all by multiples of 5?)\n",
    "x = inc\n",
    "num_bins = 15\n",
    "n, bins, patches = plt.hist(x, num_bins, facecolor = 'blue', alpha = 0.5)\n",
    "plt.ylabel('Counts')\n",
    "plt.title('Activity Score Distribution of all Inconclusive molecules')\n",
    "plt.show()"
   ]
  },
  {
   "cell_type": "code",
   "execution_count": 42,
   "metadata": {},
   "outputs": [],
   "source": [
    "#Dataframe of all Inactive molecules, col1 is index and col2 is activity score (7744)\n",
    "#Activity scores are only 0\n",
    "inact = data['PUBCHEM_ACTIVITY_SCORE'].where(data['PUBCHEM_ACTIVITY_OUTCOME'] == 'Inactive')\n",
    "inact = inact.dropna()"
   ]
  },
  {
   "cell_type": "markdown",
   "metadata": {},
   "source": [
    "# Variable Correlations"
   ]
  },
  {
   "cell_type": "code",
   "execution_count": 55,
   "metadata": {},
   "outputs": [],
   "source": [
    "#Trying to correlate Activity Score and Potency (for Active and Inconclusive molecules) (2742)\n",
    "##df active and inconclusive\n",
    "act_inc = pd.concat([active, inc])\n",
    "\n",
    "#Obtaining potency values for active and inconclusive molecules\n",
    "act_pot = data['Ratio Potency (uM)'].where(data['PUBCHEM_ACTIVITY_OUTCOME'] == 'Active')\n",
    "act_pot = act_pot.dropna()\n",
    "\n",
    "inc_pot = data['Ratio Potency (uM)'].where(data['PUBCHEM_ACTIVITY_OUTCOME'] == 'Inconclusive')\n",
    "inc_pot = inc_pot.dropna()\n",
    "\n",
    "#Combining data into one potency df with active and inconclusive molecules\n",
    "act_inc_pot = pd.concat([act_pot, inc_pot])"
   ]
  },
  {
   "cell_type": "code",
   "execution_count": 65,
   "metadata": {},
   "outputs": [],
   "source": [
    "#Creating one DF with activity score and potency as columns \n",
    "#dropping nan values\n",
    "score_and_pot = {\"activity score\":act_inc, \"potency\": act_inc_pot}\n",
    "df_total = pd.DataFrame(score_and_pot)\n",
    "df_total = df_total.dropna()"
   ]
  },
  {
   "cell_type": "code",
   "execution_count": 73,
   "metadata": {},
   "outputs": [
    {
     "data": {
      "image/png": "[encoded data removed]",
      "text/plain": [
       "<Figure size 432x288 with 2 Axes>"
      ]
     },
     "metadata": {
      "needs_background": "light"
     },
     "output_type": "display_data"
    }
   ],
   "source": [
    "correlations = df_total.corr()\n",
    "fig = plt.figure()\n",
    "ax = fig.add_subplot(111)\n",
    "cax = ax.matshow(correlations, vmin = -1, vmax = 1)\n",
    "fig.colorbar(cax)\n",
    "ticks = np.arange(0, 2, 1)\n",
    "plt.show()"
   ]
  },
  {
   "cell_type": "code",
   "execution_count": null,
   "metadata": {},
   "outputs": [],
   "source": []
  },
  {
   "cell_type": "code",
   "execution_count": null,
   "metadata": {},
   "outputs": [],
   "source": []
  }
 ],
 "metadata": {
  "kernelspec": {
   "display_name": "Python 3",
   "language": "python",
   "name": "python3"
  },
  "language_info": {
   "codemirror_mode": {
    "name": "ipython",
    "version": 3
   },
   "file_extension": ".py",
   "mimetype": "text/x-python",
   "name": "python",
   "nbconvert_exporter": "python",
   "pygments_lexer": "ipython3",
   "version": "3.6.8"
  }
 },
 "nbformat": 4,
 "nbformat_minor": 2
}

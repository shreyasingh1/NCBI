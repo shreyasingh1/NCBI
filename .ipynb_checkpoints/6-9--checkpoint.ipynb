{
 "cells": [
  {
   "cell_type": "code",
   "execution_count": 1,
   "metadata": {},
   "outputs": [],
   "source": [
    "import numpy as np\n",
    "import pandas as pd\n",
    "import matplotlib.pyplot as plt\n",
    "import seaborn as sns"
   ]
  },
  {
   "cell_type": "code",
   "execution_count": 2,
   "metadata": {},
   "outputs": [],
   "source": [
    "#hiding warning messages\n",
    "import warnings\n",
    "warnings.filterwarnings(\"ignore\")"
   ]
  },
  {
   "cell_type": "code",
   "execution_count": 3,
   "metadata": {},
   "outputs": [],
   "source": [
    "#importing RDKIT fingerprinting software\n",
    "from __future__ import print_function\n",
    "import rdkit\n",
    "from rdkit import Chem\n",
    "from rdkit import DataStructs\n",
    "from rdkit.Chem.Fingerprints import FingerprintMols\n"
   ]
  },
  {
   "cell_type": "code",
   "execution_count": 4,
   "metadata": {},
   "outputs": [
    {
     "data": {
      "text/html": [
       "<div>\n",
       "<style scoped>\n",
       "    .dataframe tbody tr th:only-of-type {\n",
       "        vertical-align: middle;\n",
       "    }\n",
       "\n",
       "    .dataframe tbody tr th {\n",
       "        vertical-align: top;\n",
       "    }\n",
       "\n",
       "    .dataframe thead th {\n",
       "        text-align: right;\n",
       "    }\n",
       "</style>\n",
       "<table border=\"1\" class=\"dataframe\">\n",
       "  <thead>\n",
       "    <tr style=\"text-align: right;\">\n",
       "      <th></th>\n",
       "      <th>index</th>\n",
       "      <th>PUBCHEM_RESULT_TAG</th>\n",
       "      <th>PUBCHEM_SID</th>\n",
       "      <th>PUBCHEM_CID</th>\n",
       "      <th>PUBCHEM_ACTIVITY_OUTCOME</th>\n",
       "      <th>PUBCHEM_ACTIVITY_SCORE</th>\n",
       "      <th>PUBCHEM_ACTIVITY_URL</th>\n",
       "      <th>PUBCHEM_ASSAYDATA_COMMENT</th>\n",
       "      <th>Activity Summary</th>\n",
       "      <th>Ratio Activity</th>\n",
       "      <th>...</th>\n",
       "      <th>530 nm Activity</th>\n",
       "      <th>530 nm Potency (uM)</th>\n",
       "      <th>530 nm Efficacy (%)</th>\n",
       "      <th>460 nm Activity</th>\n",
       "      <th>460 nm Potency (uM)</th>\n",
       "      <th>460 nm Efficacy (%)</th>\n",
       "      <th>Viability Activity</th>\n",
       "      <th>Viability Potency (uM)</th>\n",
       "      <th>Viability Efficacy (%)</th>\n",
       "      <th>Sample Source</th>\n",
       "    </tr>\n",
       "  </thead>\n",
       "  <tbody>\n",
       "    <tr>\n",
       "      <th>0</th>\n",
       "      <td>2</td>\n",
       "      <td>RESULT_UNIT</td>\n",
       "      <td>NaN</td>\n",
       "      <td>NaN</td>\n",
       "      <td>NaN</td>\n",
       "      <td>NaN</td>\n",
       "      <td>NaN</td>\n",
       "      <td>NaN</td>\n",
       "      <td>NONE</td>\n",
       "      <td>NONE</td>\n",
       "      <td>...</td>\n",
       "      <td>NONE</td>\n",
       "      <td>MICROMOLAR</td>\n",
       "      <td>PERCENT</td>\n",
       "      <td>NONE</td>\n",
       "      <td>MICROMOLAR</td>\n",
       "      <td>PERCENT</td>\n",
       "      <td>NONE</td>\n",
       "      <td>MICROMOLAR</td>\n",
       "      <td>PERCENT</td>\n",
       "      <td>NONE</td>\n",
       "    </tr>\n",
       "    <tr>\n",
       "      <th>1</th>\n",
       "      <td>3</td>\n",
       "      <td>1</td>\n",
       "      <td>144203552.0</td>\n",
       "      <td>12850184.0</td>\n",
       "      <td>Inactive</td>\n",
       "      <td>0.0</td>\n",
       "      <td>NaN</td>\n",
       "      <td>NaN</td>\n",
       "      <td>inactive</td>\n",
       "      <td>inactive</td>\n",
       "      <td>...</td>\n",
       "      <td>inactive</td>\n",
       "      <td>NaN</td>\n",
       "      <td>0</td>\n",
       "      <td>inactive</td>\n",
       "      <td>NaN</td>\n",
       "      <td>0</td>\n",
       "      <td>inactive</td>\n",
       "      <td>NaN</td>\n",
       "      <td>0</td>\n",
       "      <td>NCI</td>\n",
       "    </tr>\n",
       "    <tr>\n",
       "      <th>2</th>\n",
       "      <td>4</td>\n",
       "      <td>2</td>\n",
       "      <td>144203553.0</td>\n",
       "      <td>89753.0</td>\n",
       "      <td>Inactive</td>\n",
       "      <td>0.0</td>\n",
       "      <td>NaN</td>\n",
       "      <td>NaN</td>\n",
       "      <td>inactive</td>\n",
       "      <td>inactive</td>\n",
       "      <td>...</td>\n",
       "      <td>inactive</td>\n",
       "      <td>NaN</td>\n",
       "      <td>0</td>\n",
       "      <td>inactive</td>\n",
       "      <td>NaN</td>\n",
       "      <td>0</td>\n",
       "      <td>inactive</td>\n",
       "      <td>NaN</td>\n",
       "      <td>0</td>\n",
       "      <td>NCI</td>\n",
       "    </tr>\n",
       "    <tr>\n",
       "      <th>3</th>\n",
       "      <td>5</td>\n",
       "      <td>3</td>\n",
       "      <td>144203554.0</td>\n",
       "      <td>9403.0</td>\n",
       "      <td>Active</td>\n",
       "      <td>57.0</td>\n",
       "      <td>NaN</td>\n",
       "      <td>NaN</td>\n",
       "      <td>active antagonist</td>\n",
       "      <td>active antagonist</td>\n",
       "      <td>...</td>\n",
       "      <td>inactive</td>\n",
       "      <td>NaN</td>\n",
       "      <td>0</td>\n",
       "      <td>active antagonist</td>\n",
       "      <td>7.56242</td>\n",
       "      <td>-95.0751</td>\n",
       "      <td>inconclusive antagonist</td>\n",
       "      <td>NaN</td>\n",
       "      <td>0</td>\n",
       "      <td>NCI</td>\n",
       "    </tr>\n",
       "    <tr>\n",
       "      <th>4</th>\n",
       "      <td>6</td>\n",
       "      <td>4</td>\n",
       "      <td>144203555.0</td>\n",
       "      <td>13218779.0</td>\n",
       "      <td>Inactive</td>\n",
       "      <td>0.0</td>\n",
       "      <td>NaN</td>\n",
       "      <td>NaN</td>\n",
       "      <td>inactive</td>\n",
       "      <td>inactive</td>\n",
       "      <td>...</td>\n",
       "      <td>inactive</td>\n",
       "      <td>NaN</td>\n",
       "      <td>0</td>\n",
       "      <td>inactive</td>\n",
       "      <td>NaN</td>\n",
       "      <td>0</td>\n",
       "      <td>inactive</td>\n",
       "      <td>NaN</td>\n",
       "      <td>0</td>\n",
       "      <td>NCI</td>\n",
       "    </tr>\n",
       "  </tbody>\n",
       "</table>\n",
       "<p>5 rows × 22 columns</p>\n",
       "</div>"
      ],
      "text/plain": [
       "   index PUBCHEM_RESULT_TAG  PUBCHEM_SID  PUBCHEM_CID  \\\n",
       "0      2        RESULT_UNIT          NaN          NaN   \n",
       "1      3                  1  144203552.0   12850184.0   \n",
       "2      4                  2  144203553.0      89753.0   \n",
       "3      5                  3  144203554.0       9403.0   \n",
       "4      6                  4  144203555.0   13218779.0   \n",
       "\n",
       "  PUBCHEM_ACTIVITY_OUTCOME  PUBCHEM_ACTIVITY_SCORE  PUBCHEM_ACTIVITY_URL  \\\n",
       "0                      NaN                     NaN                   NaN   \n",
       "1                 Inactive                     0.0                   NaN   \n",
       "2                 Inactive                     0.0                   NaN   \n",
       "3                   Active                    57.0                   NaN   \n",
       "4                 Inactive                     0.0                   NaN   \n",
       "\n",
       "   PUBCHEM_ASSAYDATA_COMMENT   Activity Summary     Ratio Activity  ...  \\\n",
       "0                        NaN               NONE               NONE  ...   \n",
       "1                        NaN           inactive           inactive  ...   \n",
       "2                        NaN           inactive           inactive  ...   \n",
       "3                        NaN  active antagonist  active antagonist  ...   \n",
       "4                        NaN           inactive           inactive  ...   \n",
       "\n",
       "  530 nm Activity 530 nm Potency (uM) 530 nm Efficacy (%)    460 nm Activity  \\\n",
       "0            NONE          MICROMOLAR             PERCENT               NONE   \n",
       "1        inactive                 NaN                   0           inactive   \n",
       "2        inactive                 NaN                   0           inactive   \n",
       "3        inactive                 NaN                   0  active antagonist   \n",
       "4        inactive                 NaN                   0           inactive   \n",
       "\n",
       "  460 nm Potency (uM) 460 nm Efficacy (%)       Viability Activity  \\\n",
       "0          MICROMOLAR             PERCENT                     NONE   \n",
       "1                 NaN                   0                 inactive   \n",
       "2                 NaN                   0                 inactive   \n",
       "3             7.56242            -95.0751  inconclusive antagonist   \n",
       "4                 NaN                   0                 inactive   \n",
       "\n",
       "  Viability Potency (uM) Viability Efficacy (%) Sample Source  \n",
       "0             MICROMOLAR                PERCENT          NONE  \n",
       "1                    NaN                      0           NCI  \n",
       "2                    NaN                      0           NCI  \n",
       "3                    NaN                      0           NCI  \n",
       "4                    NaN                      0           NCI  \n",
       "\n",
       "[5 rows x 22 columns]"
      ]
     },
     "execution_count": 4,
     "metadata": {},
     "output_type": "execute_result"
    }
   ],
   "source": [
    "#Reading in Summary ANTAGONIST CSV\n",
    "data = pd.read_csv('AID_720725_datatable_all.csv')\n",
    "data = data.iloc[2:]\n",
    "data = data.reset_index()\n",
    "data.head(5)\n",
    "#data.dtypes"
   ]
  },
  {
   "cell_type": "code",
   "execution_count": 5,
   "metadata": {},
   "outputs": [],
   "source": [
    "#Finding CID Duplicates\n",
    "data_dupsCID = data.pivot_table(index=['PUBCHEM_CID'], aggfunc='size')\n",
    "#print (data_dupsCID)"
   ]
  },
  {
   "cell_type": "markdown",
   "metadata": {},
   "source": [
    "# Counts and Figures"
   ]
  },
  {
   "cell_type": "code",
   "execution_count": 6,
   "metadata": {},
   "outputs": [
    {
     "data": {
      "text/plain": [
       "Inactive        7744\n",
       "Inconclusive    2282\n",
       "Active           460\n",
       "Name: PUBCHEM_ACTIVITY_OUTCOME, dtype: int64"
      ]
     },
     "execution_count": 6,
     "metadata": {},
     "output_type": "execute_result"
    }
   ],
   "source": [
    "#Total Counts for Active/Inconclusive/Active\n",
    "activity_counts = data['PUBCHEM_ACTIVITY_OUTCOME'].value_counts()\n",
    "activity_counts.iloc[0:3]"
   ]
  },
  {
   "cell_type": "code",
   "execution_count": 7,
   "metadata": {},
   "outputs": [
    {
     "data": {
      "image/png": "[encoded data removed]",
      "text/plain": [
       "<Figure size 432x288 with 1 Axes>"
      ]
     },
     "metadata": {
      "needs_background": "light"
     },
     "output_type": "display_data"
    }
   ],
   "source": [
    "#Bar graph of Activity Outcome Counts\n",
    "outcomes = ('Inactive', 'Inconclusive', 'Active')\n",
    "y_pos = np.arange(len(outcomes))\n",
    "counts = (activity_counts.iloc[0], activity_counts.iloc[1], activity_counts.iloc[2])\n",
    "\n",
    "plt.bar(y_pos, counts, align = 'center', alpha = 0.5)\n",
    "plt.xticks(y_pos, outcomes)\n",
    "plt.ylabel('Counts')\n",
    "plt.title('Number of outcomes at each activity level')\n",
    "\n",
    "plt.show()"
   ]
  },
  {
   "cell_type": "code",
   "execution_count": 8,
   "metadata": {},
   "outputs": [],
   "source": [
    "#Dataframe of ALL Activity Scores\n",
    "allscores = data['PUBCHEM_ACTIVITY_SCORE']"
   ]
  },
  {
   "cell_type": "code",
   "execution_count": 9,
   "metadata": {},
   "outputs": [
    {
     "data": {
      "image/png": "[encoded data removed]",
      "text/plain": [
       "<Figure size 432x288 with 1 Axes>"
      ]
     },
     "metadata": {
      "needs_background": "light"
     },
     "output_type": "display_data"
    }
   ],
   "source": [
    "#Histogram of ALL Activity Scores\n",
    "x = allscores\n",
    "num_bins = 25\n",
    "n, bins, patches = plt.hist(x, num_bins, facecolor = 'blue', alpha = 0.5)\n",
    "plt.ylabel('Counts')\n",
    "plt.title('Activity Score Distribution over all Activity Levels')\n",
    "plt.show()"
   ]
  },
  {
   "cell_type": "code",
   "execution_count": 10,
   "metadata": {},
   "outputs": [],
   "source": [
    "#Dataframe of all Active molecules, col1 is index and col2 is activity score\n",
    "#Activity score range of 40-100\n",
    "active = data['PUBCHEM_ACTIVITY_SCORE'].where(data['PUBCHEM_ACTIVITY_OUTCOME'] == 'Active')\n",
    "active = active.dropna()"
   ]
  },
  {
   "cell_type": "code",
   "execution_count": 11,
   "metadata": {
    "scrolled": true
   },
   "outputs": [
    {
     "data": {
      "image/png": "[encoded data removed]",
      "text/plain": [
       "<Figure size 432x288 with 1 Axes>"
      ]
     },
     "metadata": {
      "needs_background": "light"
     },
     "output_type": "display_data"
    }
   ],
   "source": [
    "#Histogram of distribution of Active activity scores (460)\n",
    "x = active\n",
    "num_bins = 30\n",
    "n, bins, patches = plt.hist(x, num_bins, facecolor = 'blue', alpha = 0.5)\n",
    "plt.ylabel('Counts')\n",
    "plt.title('Activity Score Distribution of all Active molecules')\n",
    "plt.show()"
   ]
  },
  {
   "cell_type": "code",
   "execution_count": 12,
   "metadata": {},
   "outputs": [],
   "source": [
    "#Dataframe of all Inconclusive molecules, col1 is index and col2 is activity score\n",
    "#Activity score range of 5-30\n",
    "inc = data['PUBCHEM_ACTIVITY_SCORE'].where(data['PUBCHEM_ACTIVITY_OUTCOME'] == 'Inconclusive')\n",
    "inc = inc.dropna()\n"
   ]
  },
  {
   "cell_type": "code",
   "execution_count": 13,
   "metadata": {},
   "outputs": [
    {
     "data": {
      "image/png": "[encoded data removed]",
      "text/plain": [
       "<Figure size 432x288 with 1 Axes>"
      ]
     },
     "metadata": {
      "needs_background": "light"
     },
     "output_type": "display_data"
    }
   ],
   "source": [
    "#Histogram of distribution of Inconclusive activity scores (2282, all by multiples of 5?)\n",
    "x = inc\n",
    "num_bins = 15\n",
    "n, bins, patches = plt.hist(x, num_bins, facecolor = 'blue', alpha = 0.5)\n",
    "plt.ylabel('Counts')\n",
    "plt.title('Activity Score Distribution of all Inconclusive molecules')\n",
    "plt.show()"
   ]
  },
  {
   "cell_type": "code",
   "execution_count": 14,
   "metadata": {},
   "outputs": [],
   "source": [
    "#Dataframe of all Inactive molecules, col1 is index and col2 is activity score (7744)\n",
    "#Activity scores are only 0\n",
    "inact = data['PUBCHEM_ACTIVITY_SCORE'].where(data['PUBCHEM_ACTIVITY_OUTCOME'] == 'Inactive')\n",
    "inact = inact.dropna()"
   ]
  },
  {
   "cell_type": "markdown",
   "metadata": {},
   "source": [
    "# Activity Score and Potency Correlation/Covariance"
   ]
  },
  {
   "cell_type": "code",
   "execution_count": 15,
   "metadata": {},
   "outputs": [],
   "source": [
    "#Trying to correlate Activity Score and Potency (for Active and Inconclusive molecules) (2742)\n",
    "##df active and inconclusive\n",
    "act_inc = pd.concat([active, inc])\n",
    "\n",
    "#Obtaining potency values for active and inconclusive molecules\n",
    "act_pot = data['Ratio Potency (uM)'].where(data['PUBCHEM_ACTIVITY_OUTCOME'] == 'Active')\n",
    "act_pot = act_pot.dropna()\n",
    "\n",
    "inc_pot = data['Ratio Potency (uM)'].where(data['PUBCHEM_ACTIVITY_OUTCOME'] == 'Inconclusive')\n",
    "inc_pot = inc_pot.dropna()\n",
    "\n",
    "#Combining data into one potency list with active and inconclusive molecules\n",
    "act_inc_pot = pd.concat([act_pot, inc_pot])"
   ]
  },
  {
   "cell_type": "code",
   "execution_count": 16,
   "metadata": {},
   "outputs": [],
   "source": [
    "#Creating one DF with activity score and potency as columns \n",
    "#dropping nan values\n",
    "score_and_pot = {\"activity_score\":act_inc, \"potency\": act_inc_pot}\n",
    "df_total = pd.DataFrame(score_and_pot)\n",
    "df_total = df_total.dropna()"
   ]
  },
  {
   "cell_type": "code",
   "execution_count": 17,
   "metadata": {
    "scrolled": true
   },
   "outputs": [
    {
     "name": "stdout",
     "output_type": "stream",
     "text": [
      "[[364.55047859 -66.75071605]\n",
      " [-66.75071605 310.46140274]]\n",
      "Upper-left is variance of activity score\n",
      "Bottom-right is variance of potency\n",
      "Bottom-left and Upper-right is the covariance between the variables\n"
     ]
    }
   ],
   "source": [
    "#COVARIANCE MATRIX of activity score and potency\n",
    "x = df_total.activity_score.values\n",
    "y = df_total.potency.values\n",
    "y = y.astype('float64')\n",
    "print(np.cov(x,y))\n",
    "\n",
    "print(\"Upper-left is variance of activity score\")\n",
    "print(\"Bottom-right is variance of potency\")\n",
    "print(\"Bottom-left and Upper-right is the covariance between the variables\")"
   ]
  },
  {
   "cell_type": "code",
   "execution_count": 18,
   "metadata": {},
   "outputs": [
    {
     "name": "stdout",
     "output_type": "stream",
     "text": [
      "standard deviation of activity score: \n",
      "19.093205037239308\n",
      "standard deviation of potency: \n",
      "17.619914946975523\n"
     ]
    }
   ],
   "source": [
    "print(\"standard deviation of activity score: \")\n",
    "print(np.sqrt(np.cov(x)))\n",
    "\n",
    "print(\"standard deviation of potency: \")\n",
    "print(np.sqrt(np.cov(y)))"
   ]
  },
  {
   "cell_type": "code",
   "execution_count": 19,
   "metadata": {
    "scrolled": true
   },
   "outputs": [
    {
     "name": "stdout",
     "output_type": "stream",
     "text": [
      "[[ 1.         -0.19841444]\n",
      " [-0.19841444  1.        ]]\n",
      "Upper-left and Bottom-right are the correlations of the variables with themselves, ie 1\n",
      "Bottom-left and Upper-right is the correlation between the variables\n"
     ]
    }
   ],
   "source": [
    "#Pearson correlation coefficient of activity score and potency\n",
    "print(np.corrcoef(x,y))\n",
    "print(\"Upper-left and Bottom-right are the correlations of the variables with themselves, ie 1\")\n",
    "print(\"Bottom-left and Upper-right is the correlation between the variables\")"
   ]
  },
  {
   "cell_type": "code",
   "execution_count": 20,
   "metadata": {},
   "outputs": [],
   "source": [
    "# Now, let's try to look at activity score vs potency for only active molecules"
   ]
  },
  {
   "cell_type": "code",
   "execution_count": 34,
   "metadata": {},
   "outputs": [
    {
     "name": "stdout",
     "output_type": "stream",
     "text": [
      "[[ 94.46845715 -95.18779048]\n",
      " [-95.18779048 230.24342628]]\n",
      "Upper-left is variance of activity score\n",
      "Bottom-right is variance of potency\n",
      "Bottom-left and Upper-right is the covariance between the variables\n"
     ]
    }
   ],
   "source": [
    "#Creating one DF with activity score and potency as columns \n",
    "#dropping nan values\n",
    "score_and_pot = {\"activity_score\":active, \"potency\": act_pot}\n",
    "df_total_act = pd.DataFrame(score_and_pot)\n",
    "df_total_act = df_total_act.dropna()\n",
    "\n",
    "#COVARIANCE MATRIX of activity score and potency for active molecules\n",
    "x = df_total_act.activity_score.values\n",
    "y = df_total_act.potency.values\n",
    "y = y.astype('float64')\n",
    "print(np.cov(x,y))\n",
    "\n",
    "print(\"Upper-left is variance of activity score\")\n",
    "print(\"Bottom-right is variance of potency\")\n",
    "print(\"Bottom-left and Upper-right is the covariance between the variables\")"
   ]
  },
  {
   "cell_type": "code",
   "execution_count": 35,
   "metadata": {},
   "outputs": [
    {
     "name": "stdout",
     "output_type": "stream",
     "text": [
      "standard deviation of activity score: \n",
      "9.719488523313215\n",
      "standard deviation of potency: \n",
      "15.173774292454794\n"
     ]
    }
   ],
   "source": [
    "print(\"standard deviation of activity score: \")\n",
    "print(np.sqrt(np.cov(x)))\n",
    "\n",
    "print(\"standard deviation of potency: \")\n",
    "print(np.sqrt(np.cov(y)))"
   ]
  },
  {
   "cell_type": "code",
   "execution_count": 36,
   "metadata": {
    "scrolled": true
   },
   "outputs": [
    {
     "name": "stdout",
     "output_type": "stream",
     "text": [
      "[[ 1.         -0.64542267]\n",
      " [-0.64542267  1.        ]]\n",
      "Upper-left and Bottom-right are the correlations of the variables with themselves, ie 1\n",
      "Bottom-left and Upper-right is the correlation between the variables\n"
     ]
    }
   ],
   "source": [
    "#Pearson correlation coefficient of activity score and potency of active molecules\n",
    "print(np.corrcoef(x,y))\n",
    "print(\"Upper-left and Bottom-right are the correlations of the variables with themselves, ie 1\")\n",
    "print(\"Bottom-left and Upper-right is the correlation between the variables\")"
   ]
  },
  {
   "cell_type": "code",
   "execution_count": 37,
   "metadata": {},
   "outputs": [],
   "source": [
    "# Now, let's try to look at activity score vs potency for only inconclusive molecules"
   ]
  },
  {
   "cell_type": "code",
   "execution_count": 38,
   "metadata": {},
   "outputs": [
    {
     "name": "stdout",
     "output_type": "stream",
     "text": [
      "[[ 91.75699874 -14.20302182]\n",
      " [-14.20302182 328.09447087]]\n",
      "Upper-left is variance of activity score\n",
      "Bottom-right is variance of potency\n",
      "Bottom-left and Upper-right is the covariance between the variables\n"
     ]
    }
   ],
   "source": [
    "#Creating one DF with activity score and potency as columns \n",
    "#dropping nan values\n",
    "score_and_pot = {\"activity_score\": inc, \"potency\": inc_pot}\n",
    "df_total_inc = pd.DataFrame(score_and_pot)\n",
    "df_total_inc = df_total_inc.dropna()\n",
    "\n",
    "#COVARIANCE MATRIX of activity score and potency for inconclusive molecules\n",
    "x = df_total_inc.activity_score.values\n",
    "y = df_total_inc.potency.values\n",
    "y = y.astype('float64')\n",
    "print(np.cov(x,y))\n",
    "\n",
    "print(\"Upper-left is variance of activity score\")\n",
    "print(\"Bottom-right is variance of potency\")\n",
    "print(\"Bottom-left and Upper-right is the covariance between the variables\")"
   ]
  },
  {
   "cell_type": "code",
   "execution_count": 39,
   "metadata": {},
   "outputs": [
    {
     "name": "stdout",
     "output_type": "stream",
     "text": [
      "standard deviation of activity score: \n",
      "9.578987354733501\n",
      "standard deviation of potency: \n",
      "18.113378229034232\n"
     ]
    }
   ],
   "source": [
    "print(\"standard deviation of activity score: \")\n",
    "print(np.sqrt(np.cov(x)))\n",
    "\n",
    "print(\"standard deviation of potency: \")\n",
    "print(np.sqrt(np.cov(y)))"
   ]
  },
  {
   "cell_type": "code",
   "execution_count": 40,
   "metadata": {},
   "outputs": [
    {
     "name": "stdout",
     "output_type": "stream",
     "text": [
      "[[ 1.         -0.08185811]\n",
      " [-0.08185811  1.        ]]\n",
      "Upper-left and Bottom-right are the correlations of the variables with themselves, ie 1\n",
      "Bottom-left and Upper-right is the correlation between the variables\n"
     ]
    }
   ],
   "source": [
    "#Pearson correlation coefficient of activity score and potency of active molecules\n",
    "print(np.corrcoef(x,y))\n",
    "print(\"Upper-left and Bottom-right are the correlations of the variables with themselves, ie 1\")\n",
    "print(\"Bottom-left and Upper-right is the correlation between the variables\")"
   ]
  },
  {
   "cell_type": "markdown",
   "metadata": {},
   "source": [
    "# Activity Score and Efficacy Correlation/Covariance"
   ]
  },
  {
   "cell_type": "code",
   "execution_count": 41,
   "metadata": {},
   "outputs": [],
   "source": [
    "#Trying to correlate Activity Score and Efficacy (for Active and Inconclusive molecules) (2742)\n",
    "\n",
    "#Obtaining efficacy values for active and inconclusive molecules\n",
    "act_eff = data['Ratio Efficacy (%)'].where(data['PUBCHEM_ACTIVITY_OUTCOME'] == 'Active')\n",
    "act_eff = act_eff.dropna()\n",
    "\n",
    "inc_eff = data['Ratio Efficacy (%)'].where(data['PUBCHEM_ACTIVITY_OUTCOME'] == 'Inconclusive')\n",
    "inc_eff = inc_eff.dropna()\n",
    "\n",
    "#Combining data into one efficacy list with active and inconclusive molecules\n",
    "act_inc_eff = pd.concat([act_eff, inc_eff])"
   ]
  },
  {
   "cell_type": "code",
   "execution_count": 46,
   "metadata": {},
   "outputs": [],
   "source": [
    "#Adding efficacy to df_total, which already has activity score and potency\n",
    "#dropping nan values\n",
    "#act_inc_eff = act_inc_eff.dropna()\n",
    "df_total['efficacy'] = act_inc_eff"
   ]
  },
  {
   "cell_type": "code",
   "execution_count": 47,
   "metadata": {},
   "outputs": [
    {
     "name": "stdout",
     "output_type": "stream",
     "text": [
      "[[  364.55047859 -1410.79539109]\n",
      " [-1410.79539109 21367.92513999]]\n",
      "Upper-left is variance of activity score\n",
      "Bottom-right is variance of potency\n",
      "Bottom-left and Upper-right is the covariance between the variables\n"
     ]
    }
   ],
   "source": [
    "#COVARIANCE MATRIX of activity score and efficacy\n",
    "x = df_total.activity_score.values\n",
    "y = df_total.efficacy.values\n",
    "y = y.astype('float64')\n",
    "print(np.cov(x,y))\n",
    "\n",
    "print(\"Upper-left is variance of activity score\")\n",
    "print(\"Bottom-right is variance of potency\")\n",
    "print(\"Bottom-left and Upper-right is the covariance between the variables\")"
   ]
  },
  {
   "cell_type": "code",
   "execution_count": 44,
   "metadata": {},
   "outputs": [
    {
     "name": "stdout",
     "output_type": "stream",
     "text": [
      "standard deviation of activity score: \n",
      "19.093205037239308\n",
      "standard deviation of potency: \n",
      "146.1777176589691\n"
     ]
    }
   ],
   "source": [
    "print(\"standard deviation of activity score: \")\n",
    "print(np.sqrt(np.cov(x)))\n",
    "\n",
    "print(\"standard deviation of potency: \")\n",
    "print(np.sqrt(np.cov(y)))"
   ]
  },
  {
   "cell_type": "code",
   "execution_count": 45,
   "metadata": {},
   "outputs": [
    {
     "name": "stdout",
     "output_type": "stream",
     "text": [
      "[[ 1.         -0.50548005]\n",
      " [-0.50548005  1.        ]]\n",
      "Upper-left and Bottom-right are the correlations of the variables with themselves, ie 1\n",
      "Bottom-left and Upper-right is the correlation between the variables\n"
     ]
    }
   ],
   "source": [
    "#Pearson correlation coefficient of activity score and efficacy\n",
    "print(np.corrcoef(x,y))\n",
    "print(\"Upper-left and Bottom-right are the correlations of the variables with themselves, ie 1\")\n",
    "print(\"Bottom-left and Upper-right is the correlation between the variables\")"
   ]
  },
  {
   "cell_type": "code",
   "execution_count": null,
   "metadata": {},
   "outputs": [],
   "source": [
    "# Now, let's try to look at activity score vs efficacy for only active molecules"
   ]
  },
  {
   "cell_type": "code",
   "execution_count": 49,
   "metadata": {},
   "outputs": [
    {
     "name": "stdout",
     "output_type": "stream",
     "text": [
      "[[  94.46845715 -155.77364498]\n",
      " [-155.77364498  910.10868558]]\n",
      "Upper-left is variance of activity score\n",
      "Bottom-right is variance of potency\n",
      "Bottom-left and Upper-right is the covariance between the variables\n"
     ]
    }
   ],
   "source": [
    "#Adding active efficacy values to df_total_act from above, to get total activity score, potency, and efficacy now in a df\n",
    "#dropping nan values\n",
    "df_total_act['efficacy'] = act_eff\n",
    "\n",
    "#COVARIANCE MATRIX of activity score and efficacy for active molecules\n",
    "x = df_total_act.activity_score.values\n",
    "y = df_total_act.efficacy.values\n",
    "y = y.astype('float64')\n",
    "print(np.cov(x,y))\n",
    "\n",
    "print(\"Upper-left is variance of activity score\")\n",
    "print(\"Bottom-right is variance of potency\")\n",
    "print(\"Bottom-left and Upper-right is the covariance between the variables\")"
   ]
  },
  {
   "cell_type": "code",
   "execution_count": 50,
   "metadata": {},
   "outputs": [
    {
     "name": "stdout",
     "output_type": "stream",
     "text": [
      "standard deviation of activity score: \n",
      "9.719488523313215\n",
      "standard deviation of potency: \n",
      "30.16800765015709\n"
     ]
    }
   ],
   "source": [
    "print(\"standard deviation of activity score: \")\n",
    "print(np.sqrt(np.cov(x)))\n",
    "\n",
    "print(\"standard deviation of potency: \")\n",
    "print(np.sqrt(np.cov(y)))"
   ]
  },
  {
   "cell_type": "code",
   "execution_count": 51,
   "metadata": {},
   "outputs": [
    {
     "name": "stdout",
     "output_type": "stream",
     "text": [
      "[[ 1.         -0.53125611]\n",
      " [-0.53125611  1.        ]]\n",
      "Upper-left and Bottom-right are the correlations of the variables with themselves, ie 1\n",
      "Bottom-left and Upper-right is the correlation between the variables\n"
     ]
    }
   ],
   "source": [
    "#Pearson correlation coefficient of activity score and efficacy of active molecules\n",
    "print(np.corrcoef(x,y))\n",
    "print(\"Upper-left and Bottom-right are the correlations of the variables with themselves, ie 1\")\n",
    "print(\"Bottom-left and Upper-right is the correlation between the variables\")"
   ]
  },
  {
   "cell_type": "code",
   "execution_count": 52,
   "metadata": {},
   "outputs": [],
   "source": [
    "# Now, let's try to look at activity score vs efficacy for only inconclusive molecules"
   ]
  },
  {
   "cell_type": "code",
   "execution_count": 53,
   "metadata": {},
   "outputs": [
    {
     "name": "stdout",
     "output_type": "stream",
     "text": [
      "[[   91.75699874  -683.53693219]\n",
      " [ -683.53693219 23881.44854697]]\n",
      "Upper-left is variance of activity score\n",
      "Bottom-right is variance of potency\n",
      "Bottom-left and Upper-right is the covariance between the variables\n"
     ]
    }
   ],
   "source": [
    "#Adding active efficacy values to df_total_inc from above, to get total activity score, potency, and efficacy now in a df\n",
    "#dropping nan values\n",
    "df_total_inc['efficacy'] = inc_eff\n",
    "\n",
    "#COVARIANCE MATRIX of activity score and potency for active molecules\n",
    "x = df_total_inc.activity_score.values\n",
    "y = df_total_inc.efficacy.values\n",
    "y = y.astype('float64')\n",
    "print(np.cov(x,y))\n",
    "\n",
    "print(\"Upper-left is variance of activity score\")\n",
    "print(\"Bottom-right is variance of potency\")\n",
    "print(\"Bottom-left and Upper-right is the covariance between the variables\")"
   ]
  },
  {
   "cell_type": "code",
   "execution_count": 54,
   "metadata": {},
   "outputs": [
    {
     "name": "stdout",
     "output_type": "stream",
     "text": [
      "standard deviation of activity score: \n",
      "9.578987354733501\n",
      "standard deviation of potency: \n",
      "154.5362370027635\n"
     ]
    }
   ],
   "source": [
    "print(\"standard deviation of activity score: \")\n",
    "print(np.sqrt(np.cov(x)))\n",
    "\n",
    "print(\"standard deviation of potency: \")\n",
    "print(np.sqrt(np.cov(y)))"
   ]
  },
  {
   "cell_type": "code",
   "execution_count": 55,
   "metadata": {},
   "outputs": [
    {
     "name": "stdout",
     "output_type": "stream",
     "text": [
      "[[ 1.         -0.46175547]\n",
      " [-0.46175547  1.        ]]\n",
      "Upper-left and Bottom-right are the correlations of the variables with themselves, ie 1\n",
      "Bottom-left and Upper-right is the correlation between the variables\n"
     ]
    }
   ],
   "source": [
    "#Pearson correlation coefficient of activity score and potency of active molecules\n",
    "print(np.corrcoef(x,y))\n",
    "print(\"Upper-left and Bottom-right are the correlations of the variables with themselves, ie 1\")\n",
    "print(\"Bottom-left and Upper-right is the correlation between the variables\")"
   ]
  },
  {
   "cell_type": "markdown",
   "metadata": {},
   "source": [
    "# Potency and Efficacy Correlation/Covariance"
   ]
  },
  {
   "cell_type": "code",
   "execution_count": 57,
   "metadata": {},
   "outputs": [
    {
     "name": "stdout",
     "output_type": "stream",
     "text": [
      "[[  310.46140274   172.29028196]\n",
      " [  172.29028196 21367.92513999]]\n",
      "Upper-left is variance of activity score\n",
      "Bottom-right is variance of potency\n",
      "Bottom-left and Upper-right is the covariance between the variables\n"
     ]
    }
   ],
   "source": [
    "#COVARIANCE MATRIX of potency and efficacy\n",
    "x = df_total.potency.values\n",
    "y = df_total.efficacy.values\n",
    "x = x.astype('float64')\n",
    "y = y.astype('float64')\n",
    "print(np.cov(x,y))\n",
    "\n",
    "print(\"Upper-left is variance of activity score\")\n",
    "print(\"Bottom-right is variance of potency\")\n",
    "print(\"Bottom-left and Upper-right is the covariance between the variables\")"
   ]
  },
  {
   "cell_type": "code",
   "execution_count": 58,
   "metadata": {},
   "outputs": [
    {
     "name": "stdout",
     "output_type": "stream",
     "text": [
      "standard deviation of activity score: \n",
      "17.619914946975523\n",
      "standard deviation of potency: \n",
      "146.1777176589691\n"
     ]
    }
   ],
   "source": [
    "print(\"standard deviation of activity score: \")\n",
    "print(np.sqrt(np.cov(x)))\n",
    "\n",
    "print(\"standard deviation of potency: \")\n",
    "print(np.sqrt(np.cov(y)))"
   ]
  },
  {
   "cell_type": "code",
   "execution_count": 59,
   "metadata": {},
   "outputs": [
    {
     "name": "stdout",
     "output_type": "stream",
     "text": [
      "[[1.         0.06689225]\n",
      " [0.06689225 1.        ]]\n",
      "Upper-left and Bottom-right are the correlations of the variables with themselves, ie 1\n",
      "Bottom-left and Upper-right is the correlation between the variables\n"
     ]
    }
   ],
   "source": [
    "#Pearson correlation coefficient of potency and efficacy\n",
    "print(np.corrcoef(x,y))\n",
    "print(\"Upper-left and Bottom-right are the correlations of the variables with themselves, ie 1\")\n",
    "print(\"Bottom-left and Upper-right is the correlation between the variables\")"
   ]
  },
  {
   "cell_type": "code",
   "execution_count": 60,
   "metadata": {},
   "outputs": [],
   "source": [
    "# Now, let's try to look at potency vs efficacy for only active molecules"
   ]
  },
  {
   "cell_type": "code",
   "execution_count": 61,
   "metadata": {},
   "outputs": [
    {
     "name": "stdout",
     "output_type": "stream",
     "text": [
      "[[230.24342628  55.72638709]\n",
      " [ 55.72638709 910.10868558]]\n",
      "Upper-left is variance of activity score\n",
      "Bottom-right is variance of potency\n",
      "Bottom-left and Upper-right is the covariance between the variables\n"
     ]
    }
   ],
   "source": [
    "#COVARIANCE MATRIX of potency and efficacy for active molecules\n",
    "x = df_total_act.potency.values\n",
    "y = df_total_act.efficacy.values\n",
    "x = x.astype('float64')\n",
    "y = y.astype('float64')\n",
    "print(np.cov(x,y))\n",
    "\n",
    "print(\"Upper-left is variance of activity score\")\n",
    "print(\"Bottom-right is variance of potency\")\n",
    "print(\"Bottom-left and Upper-right is the covariance between the variables\")"
   ]
  },
  {
   "cell_type": "code",
   "execution_count": 62,
   "metadata": {},
   "outputs": [
    {
     "name": "stdout",
     "output_type": "stream",
     "text": [
      "standard deviation of activity score: \n",
      "15.173774292454794\n",
      "standard deviation of potency: \n",
      "30.16800765015709\n"
     ]
    }
   ],
   "source": [
    "print(\"standard deviation of activity score: \")\n",
    "print(np.sqrt(np.cov(x)))\n",
    "\n",
    "print(\"standard deviation of potency: \")\n",
    "print(np.sqrt(np.cov(y)))"
   ]
  },
  {
   "cell_type": "code",
   "execution_count": 63,
   "metadata": {},
   "outputs": [
    {
     "name": "stdout",
     "output_type": "stream",
     "text": [
      "[[1.         0.12173645]\n",
      " [0.12173645 1.        ]]\n",
      "Upper-left and Bottom-right are the correlations of the variables with themselves, ie 1\n",
      "Bottom-left and Upper-right is the correlation between the variables\n"
     ]
    }
   ],
   "source": [
    "#Pearson correlation coefficient of potency and efficacy\n",
    "print(np.corrcoef(x,y))\n",
    "print(\"Upper-left and Bottom-right are the correlations of the variables with themselves, ie 1\")\n",
    "print(\"Bottom-left and Upper-right is the correlation between the variables\")"
   ]
  },
  {
   "cell_type": "code",
   "execution_count": 64,
   "metadata": {},
   "outputs": [],
   "source": [
    "# Now, let's try to look at potency vs efficacy for only inconclusive molecules"
   ]
  },
  {
   "cell_type": "code",
   "execution_count": 65,
   "metadata": {},
   "outputs": [
    {
     "name": "stdout",
     "output_type": "stream",
     "text": [
      "[[  328.09447087    67.99005007]\n",
      " [   67.99005007 23881.44854697]]\n",
      "Upper-left is variance of activity score\n",
      "Bottom-right is variance of potency\n",
      "Bottom-left and Upper-right is the covariance between the variables\n"
     ]
    }
   ],
   "source": [
    "#COVARIANCE MATRIX of potency and efficacy for inconclusive molecules\n",
    "x = df_total_inc.potency.values\n",
    "y = df_total_inc.efficacy.values\n",
    "x = x.astype('float64')\n",
    "y = y.astype('float64')\n",
    "print(np.cov(x,y))\n",
    "\n",
    "print(\"Upper-left is variance of activity score\")\n",
    "print(\"Bottom-right is variance of potency\")\n",
    "print(\"Bottom-left and Upper-right is the covariance between the variables\")"
   ]
  },
  {
   "cell_type": "code",
   "execution_count": 66,
   "metadata": {},
   "outputs": [
    {
     "name": "stdout",
     "output_type": "stream",
     "text": [
      "standard deviation of activity score: \n",
      "18.113378229034232\n",
      "standard deviation of potency: \n",
      "154.5362370027635\n"
     ]
    }
   ],
   "source": [
    "print(\"standard deviation of activity score: \")\n",
    "print(np.sqrt(np.cov(x)))\n",
    "\n",
    "print(\"standard deviation of potency: \")\n",
    "print(np.sqrt(np.cov(y)))"
   ]
  },
  {
   "cell_type": "code",
   "execution_count": 67,
   "metadata": {},
   "outputs": [
    {
     "name": "stdout",
     "output_type": "stream",
     "text": [
      "[[1.         0.02428933]\n",
      " [0.02428933 1.        ]]\n",
      "Upper-left and Bottom-right are the correlations of the variables with themselves, ie 1\n",
      "Bottom-left and Upper-right is the correlation between the variables\n"
     ]
    }
   ],
   "source": [
    "#Pearson correlation coefficient of potency and efficacy\n",
    "print(np.corrcoef(x,y))\n",
    "print(\"Upper-left and Bottom-right are the correlations of the variables with themselves, ie 1\")\n",
    "print(\"Bottom-left and Upper-right is the correlation between the variables\")"
   ]
  },
  {
   "cell_type": "code",
   "execution_count": null,
   "metadata": {},
   "outputs": [],
   "source": []
  }
 ],
 "metadata": {
  "kernelspec": {
   "display_name": "Python 3",
   "language": "python",
   "name": "python3"
  },
  "language_info": {
   "codemirror_mode": {
    "name": "ipython",
    "version": 3
   },
   "file_extension": ".py",
   "mimetype": "text/x-python",
   "name": "python",
   "nbconvert_exporter": "python",
   "pygments_lexer": "ipython3",
   "version": "3.6.8"
  }
 },
 "nbformat": 4,
 "nbformat_minor": 2
}

{
 "cells": [
  {
   "cell_type": "code",
   "execution_count": 1,
   "metadata": {},
   "outputs": [],
   "source": [
    "import numpy as np\n",
    "import pandas as pd\n",
    "import matplotlib.pyplot as plt\n",
    "import seaborn as sns\n",
    "%matplotlib inline\n",
    "\n",
    "from sklearn import preprocessing\n",
    "le = preprocessing.LabelEncoder()\n",
    "\n",
    "#hiding warning messages\n",
    "import warnings\n",
    "warnings.filterwarnings(\"ignore\")\n",
    "\n",
    "#Reading in Training Data Maccs\n",
    "maccs_train = pd.read_csv('input_train_maccs.csv')\n",
    "maccs_test = pd.read_csv('input_test_maccs.csv')\n",
    "ncgc_maccs_test = pd.read_csv('input_ncgc_maccs.csv')"
   ]
  },
  {
   "cell_type": "code",
   "execution_count": 2,
   "metadata": {},
   "outputs": [],
   "source": [
    "#df of only fingerprints TRAIN\n",
    "x_train = maccs_train.drop(columns = ['Name', 'Activity'])\n",
    "#df fingerprints TEST\n",
    "x_test = maccs_test.drop(columns = ['Name', 'Activity'])\n",
    "#df fingerprints NCGC\n",
    "x_test_ncgc = ncgc_maccs_test.drop(columns = ['Name', 'Activity'])\n",
    "\n",
    "\n",
    "\n",
    "#df of only activity TRAIN\n",
    "y_train = pd.DataFrame(maccs_train['Activity'])\n",
    "#df of only activity TEST\n",
    "y_test = pd.DataFrame(maccs_test['Activity'])\n",
    "#df of only activity NCGC\n",
    "y_test_ncgc = pd.DataFrame(ncgc_maccs_test['Activity'])\n"
   ]
  },
  {
   "cell_type": "markdown",
   "metadata": {},
   "source": [
    "# Naive Bayes"
   ]
  },
  {
   "cell_type": "code",
   "execution_count": 3,
   "metadata": {},
   "outputs": [],
   "source": [
    "#Training Gausian Bayes Model\n",
    "from sklearn.naive_bayes import GaussianNB\n",
    "gnb = GaussianNB()\n",
    "gnb.fit(x_train, y_train)\n",
    "\n",
    "#Predicting - Train, Test\n",
    "y_pred_nb = gnb.predict(x_test)\n",
    "\n",
    "#Predicting - Train, NCGCTest\n",
    "y_pred_nb_ncgc = gnb.predict(x_test_ncgc)"
   ]
  },
  {
   "cell_type": "code",
   "execution_count": 4,
   "metadata": {},
   "outputs": [
    {
     "name": "stdout",
     "output_type": "stream",
     "text": [
      "Accuracy XTrain, XTest: 0.4414668547249647\n",
      "Accuracy XTrain, NCGCTest: 0.4847560975609756\n"
     ]
    }
   ],
   "source": [
    "from sklearn import metrics\n",
    "\n",
    "# Model Accuracy, how often is the classifier correct?\n",
    "print(\"Accuracy XTrain, XTest:\", metrics.accuracy_score(y_test, y_pred_nb))\n",
    "\n",
    "print(\"Accuracy XTrain, NCGCTest:\", metrics.accuracy_score(y_test_ncgc, y_pred_nb_ncgc))"
   ]
  },
  {
   "cell_type": "code",
   "execution_count": null,
   "metadata": {},
   "outputs": [],
   "source": []
  },
  {
   "cell_type": "markdown",
   "metadata": {},
   "source": [
    "# Decision Tree"
   ]
  },
  {
   "cell_type": "code",
   "execution_count": 5,
   "metadata": {},
   "outputs": [],
   "source": [
    "#Fitting Decision Tree\n",
    "from sklearn import tree\n",
    "\n",
    "clf = tree.DecisionTreeClassifier()\n",
    "clf = clf.fit(x_train, y_train)"
   ]
  },
  {
   "cell_type": "code",
   "execution_count": 6,
   "metadata": {},
   "outputs": [],
   "source": [
    "#Predicting XTest\n",
    "y_pred_dt = clf.predict(x_test)\n",
    "\n",
    "y_pred_dt_ncgc = clf.predict(x_test_ncgc)"
   ]
  },
  {
   "cell_type": "code",
   "execution_count": 7,
   "metadata": {},
   "outputs": [
    {
     "name": "stdout",
     "output_type": "stream",
     "text": [
      "Accuracy XTrain, XTest: 0.6643159379407616\n",
      "Accuracy XTrain, NCGCTest: 0.6158536585365854\n"
     ]
    }
   ],
   "source": [
    "# Model Accuracy, how often is the classifier correct?\n",
    "print(\"Accuracy XTrain, XTest:\", metrics.accuracy_score(y_test, y_pred_dt))\n",
    "\n",
    "print(\"Accuracy XTrain, NCGCTest:\", metrics.accuracy_score(y_test_ncgc, y_pred_dt_ncgc))"
   ]
  },
  {
   "cell_type": "markdown",
   "metadata": {},
   "source": [
    "# Random Forest"
   ]
  },
  {
   "cell_type": "code",
   "execution_count": 22,
   "metadata": {},
   "outputs": [],
   "source": [
    "#training model Random Forest (1090 entries in training set)\n",
    "from sklearn.ensemble import RandomForestRegressor\n",
    "\n",
    "rf = RandomForestRegressor(n_estimators = 1090, random_state = 0)\n",
    "\n",
    "rf = rf.fit(x_train, y_train)"
   ]
  },
  {
   "cell_type": "code",
   "execution_count": 23,
   "metadata": {},
   "outputs": [],
   "source": [
    "# Use the forest's predict method on the test data\n",
    "y_pred_rf = rf.predict(x_test)\n",
    "\n",
    "y_pred_rf_ncgc = rf.predict(x_test_ncgc)"
   ]
  },
  {
   "cell_type": "code",
   "execution_count": 24,
   "metadata": {},
   "outputs": [
    {
     "name": "stdout",
     "output_type": "stream",
     "text": [
      "Mean Absolute Error XTest: 0.3719725686618261\n",
      "Mean Squared Error XTest: 0.18862487530518673\n",
      "Root Mean Squared Error XTest: 0.434309653709409\n",
      "Mean Absolute Error NCGCTest: 0.4387337136863037\n",
      "Mean Squared Error NCGCTest: 0.24007056623521683\n",
      "Root Mean Squared Error NCGCTest: 0.4899699646256052\n"
     ]
    }
   ],
   "source": [
    "from sklearn import metrics\n",
    "\n",
    "print('Mean Absolute Error XTest:', metrics.mean_absolute_error(y_test, y_pred_rf))  \n",
    "print('Mean Squared Error XTest:', metrics.mean_squared_error(y_test, y_pred_rf))  \n",
    "print('Root Mean Squared Error XTest:', np.sqrt(metrics.mean_squared_error(y_test, y_pred_rf))) \n",
    "\n",
    "print('Mean Absolute Error NCGCTest:', metrics.mean_absolute_error(y_test_ncgc, y_pred_rf_ncgc))  \n",
    "print('Mean Squared Error NCGCTest:', metrics.mean_squared_error(y_test_ncgc, y_pred_rf_ncgc))  \n",
    "print('Root Mean Squared Error NCGCTest:', np.sqrt(metrics.mean_squared_error(y_test_ncgc, y_pred_rf_ncgc))) "
   ]
  },
  {
   "cell_type": "code",
   "execution_count": 18,
   "metadata": {},
   "outputs": [
    {
     "ename": "ValueError",
     "evalue": "Classification metrics can't handle a mix of binary and continuous targets",
     "output_type": "error",
     "traceback": [
      "\u001b[1;31m---------------------------------------------------------------------------\u001b[0m",
      "\u001b[1;31mValueError\u001b[0m                                Traceback (most recent call last)",
      "\u001b[1;32m<ipython-input-18-82a36f819768>\u001b[0m in \u001b[0;36m<module>\u001b[1;34m\u001b[0m\n\u001b[0;32m      1\u001b[0m \u001b[1;31m# Model Accuracy, how often is the classifier correct?\u001b[0m\u001b[1;33m\u001b[0m\u001b[1;33m\u001b[0m\u001b[1;33m\u001b[0m\u001b[0m\n\u001b[1;32m----> 2\u001b[1;33m \u001b[0mprint\u001b[0m\u001b[1;33m(\u001b[0m\u001b[1;34m\"Accuracy XTrain, XTest:\"\u001b[0m\u001b[1;33m,\u001b[0m \u001b[0mmetrics\u001b[0m\u001b[1;33m.\u001b[0m\u001b[0maccuracy_score\u001b[0m\u001b[1;33m(\u001b[0m\u001b[0my_test\u001b[0m\u001b[1;33m,\u001b[0m \u001b[0my_pred_rf\u001b[0m\u001b[1;33m)\u001b[0m\u001b[1;33m)\u001b[0m\u001b[1;33m\u001b[0m\u001b[1;33m\u001b[0m\u001b[0m\n\u001b[0m\u001b[0;32m      3\u001b[0m \u001b[1;33m\u001b[0m\u001b[0m\n\u001b[0;32m      4\u001b[0m \u001b[0mprint\u001b[0m\u001b[1;33m(\u001b[0m\u001b[1;34m\"Accuracy XTrain, NCGCTest:\"\u001b[0m\u001b[1;33m,\u001b[0m \u001b[0mmetrics\u001b[0m\u001b[1;33m.\u001b[0m\u001b[0maccuracy_score\u001b[0m\u001b[1;33m(\u001b[0m\u001b[0my_test_ncgc\u001b[0m\u001b[1;33m,\u001b[0m \u001b[0my_pred_rf_ncgc\u001b[0m\u001b[1;33m)\u001b[0m\u001b[1;33m)\u001b[0m\u001b[1;33m\u001b[0m\u001b[1;33m\u001b[0m\u001b[0m\n",
      "\u001b[1;32mc:\\users\\singhs29\\appdata\\local\\continuum\\anaconda3\\envs\\my-rdkit-env\\lib\\site-packages\\sklearn\\metrics\\classification.py\u001b[0m in \u001b[0;36maccuracy_score\u001b[1;34m(y_true, y_pred, normalize, sample_weight)\u001b[0m\n\u001b[0;32m    174\u001b[0m \u001b[1;33m\u001b[0m\u001b[0m\n\u001b[0;32m    175\u001b[0m     \u001b[1;31m# Compute accuracy for each possible representation\u001b[0m\u001b[1;33m\u001b[0m\u001b[1;33m\u001b[0m\u001b[1;33m\u001b[0m\u001b[0m\n\u001b[1;32m--> 176\u001b[1;33m     \u001b[0my_type\u001b[0m\u001b[1;33m,\u001b[0m \u001b[0my_true\u001b[0m\u001b[1;33m,\u001b[0m \u001b[0my_pred\u001b[0m \u001b[1;33m=\u001b[0m \u001b[0m_check_targets\u001b[0m\u001b[1;33m(\u001b[0m\u001b[0my_true\u001b[0m\u001b[1;33m,\u001b[0m \u001b[0my_pred\u001b[0m\u001b[1;33m)\u001b[0m\u001b[1;33m\u001b[0m\u001b[1;33m\u001b[0m\u001b[0m\n\u001b[0m\u001b[0;32m    177\u001b[0m     \u001b[0mcheck_consistent_length\u001b[0m\u001b[1;33m(\u001b[0m\u001b[0my_true\u001b[0m\u001b[1;33m,\u001b[0m \u001b[0my_pred\u001b[0m\u001b[1;33m,\u001b[0m \u001b[0msample_weight\u001b[0m\u001b[1;33m)\u001b[0m\u001b[1;33m\u001b[0m\u001b[1;33m\u001b[0m\u001b[0m\n\u001b[0;32m    178\u001b[0m     \u001b[1;32mif\u001b[0m \u001b[0my_type\u001b[0m\u001b[1;33m.\u001b[0m\u001b[0mstartswith\u001b[0m\u001b[1;33m(\u001b[0m\u001b[1;34m'multilabel'\u001b[0m\u001b[1;33m)\u001b[0m\u001b[1;33m:\u001b[0m\u001b[1;33m\u001b[0m\u001b[1;33m\u001b[0m\u001b[0m\n",
      "\u001b[1;32mc:\\users\\singhs29\\appdata\\local\\continuum\\anaconda3\\envs\\my-rdkit-env\\lib\\site-packages\\sklearn\\metrics\\classification.py\u001b[0m in \u001b[0;36m_check_targets\u001b[1;34m(y_true, y_pred)\u001b[0m\n\u001b[0;32m     79\u001b[0m     \u001b[1;32mif\u001b[0m \u001b[0mlen\u001b[0m\u001b[1;33m(\u001b[0m\u001b[0my_type\u001b[0m\u001b[1;33m)\u001b[0m \u001b[1;33m>\u001b[0m \u001b[1;36m1\u001b[0m\u001b[1;33m:\u001b[0m\u001b[1;33m\u001b[0m\u001b[1;33m\u001b[0m\u001b[0m\n\u001b[0;32m     80\u001b[0m         raise ValueError(\"Classification metrics can't handle a mix of {0} \"\n\u001b[1;32m---> 81\u001b[1;33m                          \"and {1} targets\".format(type_true, type_pred))\n\u001b[0m\u001b[0;32m     82\u001b[0m \u001b[1;33m\u001b[0m\u001b[0m\n\u001b[0;32m     83\u001b[0m     \u001b[1;31m# We can't have more than one value on y_type => The set is no more needed\u001b[0m\u001b[1;33m\u001b[0m\u001b[1;33m\u001b[0m\u001b[1;33m\u001b[0m\u001b[0m\n",
      "\u001b[1;31mValueError\u001b[0m: Classification metrics can't handle a mix of binary and continuous targets"
     ]
    }
   ],
   "source": [
    "# Model Accuracy, how often is the classifier correct?\n",
    "print(\"Accuracy XTrain, XTest:\", metrics.accuracy_score(y_test, y_pred_rf))\n",
    "\n",
    "print(\"Accuracy XTrain, NCGCTest:\", metrics.accuracy_score(y_test_ncgc, y_pred_rf_ncgc))"
   ]
  },
  {
   "cell_type": "code",
   "execution_count": null,
   "metadata": {},
   "outputs": [],
   "source": []
  },
  {
   "cell_type": "code",
   "execution_count": null,
   "metadata": {},
   "outputs": [],
   "source": []
  },
  {
   "cell_type": "code",
   "execution_count": 32,
   "metadata": {},
   "outputs": [
    {
     "ename": "NameError",
     "evalue": "name 'home' is not defined",
     "output_type": "error",
     "traceback": [
      "\u001b[1;31m---------------------------------------------------------------------------\u001b[0m",
      "\u001b[1;31mNameError\u001b[0m                                 Traceback (most recent call last)",
      "\u001b[1;32m<ipython-input-32-db25267b832b>\u001b[0m in \u001b[0;36m<module>\u001b[1;34m\u001b[0m\n\u001b[1;32m----> 1\u001b[1;33m \u001b[0mhome\u001b[0m\u001b[1;33m/\u001b[0m\u001b[0msinghs29\u001b[0m\u001b[1;33m/\u001b[0m\u001b[0mpanfs\u001b[0m\u001b[1;33m/\u001b[0m\u001b[0msinghs29\u001b[0m\u001b[1;33m/\u001b[0m\u001b[0minput\u001b[0m\u001b[1;33m/\u001b[0m\u001b[0minput_train_maccs\u001b[0m\u001b[1;33m.\u001b[0m\u001b[0mcsv\u001b[0m\u001b[1;33m\u001b[0m\u001b[1;33m\u001b[0m\u001b[0m\n\u001b[0m",
      "\u001b[1;31mNameError\u001b[0m: name 'home' is not defined"
     ]
    }
   ],
   "source": [
    "home/singhs29/panfs/singhs29/input/input_train_maccs.csv"
   ]
  },
  {
   "cell_type": "code",
   "execution_count": 27,
   "metadata": {},
   "outputs": [
    {
     "ename": "FileNotFoundError",
     "evalue": "[Errno 2] No such file or directory: 'home/singhs29/panfs/singhs29/input/input_train_maccs.csv'",
     "output_type": "error",
     "traceback": [
      "\u001b[1;31m---------------------------------------------------------------------------\u001b[0m",
      "\u001b[1;31mFileNotFoundError\u001b[0m                         Traceback (most recent call last)",
      "\u001b[1;32m<ipython-input-27-ac0b5019a852>\u001b[0m in \u001b[0;36m<module>\u001b[1;34m\u001b[0m\n\u001b[1;32m----> 1\u001b[1;33m \u001b[0mopen\u001b[0m\u001b[1;33m(\u001b[0m\u001b[1;34m'home/singhs29/panfs/singhs29/input/input_train_maccs.csv'\u001b[0m \u001b[1;33m,\u001b[0m \u001b[1;34m\"w\"\u001b[0m\u001b[1;33m)\u001b[0m\u001b[1;33m\u001b[0m\u001b[1;33m\u001b[0m\u001b[0m\n\u001b[0m",
      "\u001b[1;31mFileNotFoundError\u001b[0m: [Errno 2] No such file or directory: 'home/singhs29/panfs/singhs29/input/input_train_maccs.csv'"
     ]
    }
   ],
   "source": [
    "open('home/singhs29/panfs/singhs29/input/input_train_maccs.csv' , \"w\")"
   ]
  },
  {
   "cell_type": "code",
   "execution_count": null,
   "metadata": {},
   "outputs": [],
   "source": []
  },
  {
   "cell_type": "code",
   "execution_count": null,
   "metadata": {},
   "outputs": [],
   "source": []
  },
  {
   "cell_type": "code",
   "execution_count": 15,
   "metadata": {},
   "outputs": [
    {
     "data": {
      "text/plain": [
       "Name        1923.0\n",
       "Activity       1.0\n",
       "MACCS1         0.0\n",
       "MACCS2         0.0\n",
       "MACCS3         0.0\n",
       "MACCS4         0.0\n",
       "MACCS5         0.0\n",
       "MACCS6         0.0\n",
       "MACCS7         0.0\n",
       "MACCS8         0.0\n",
       "MACCS9         0.0\n",
       "MACCS10        0.0\n",
       "MACCS11        0.0\n",
       "MACCS12        0.0\n",
       "MACCS13        0.0\n",
       "MACCS14        0.0\n",
       "MACCS15        0.0\n",
       "MACCS16        0.0\n",
       "MACCS17        0.0\n",
       "MACCS18        0.0\n",
       "MACCS19        0.0\n",
       "MACCS20        0.0\n",
       "MACCS21        0.0\n",
       "MACCS22        0.0\n",
       "MACCS23        0.0\n",
       "MACCS24        0.0\n",
       "MACCS25        0.0\n",
       "MACCS26        0.0\n",
       "MACCS27        0.0\n",
       "MACCS28        0.0\n",
       "             ...  \n",
       "MACCS137       1.0\n",
       "MACCS138       0.0\n",
       "MACCS139       1.0\n",
       "MACCS140       0.0\n",
       "MACCS141       0.0\n",
       "MACCS142       0.0\n",
       "MACCS143       1.0\n",
       "MACCS144       0.0\n",
       "MACCS145       1.0\n",
       "MACCS146       0.0\n",
       "MACCS147       0.0\n",
       "MACCS148       0.0\n",
       "MACCS149       0.0\n",
       "MACCS150       0.0\n",
       "MACCS151       0.0\n",
       "MACCS152       1.0\n",
       "MACCS153       0.0\n",
       "MACCS154       0.0\n",
       "MACCS155       0.0\n",
       "MACCS156       1.0\n",
       "MACCS157       1.0\n",
       "MACCS158       0.0\n",
       "MACCS159       0.0\n",
       "MACCS160       0.0\n",
       "MACCS161       1.0\n",
       "MACCS162       1.0\n",
       "MACCS163       1.0\n",
       "MACCS164       1.0\n",
       "MACCS165       1.0\n",
       "MACCS166       0.0\n",
       "Name: 0, Length: 168, dtype: float64"
      ]
     },
     "execution_count": 15,
     "metadata": {},
     "output_type": "execute_result"
    }
   ],
   "source": [
    "cid_train = []\n",
    "X_train = []\n",
    "Y_train = []\n",
    "\n",
    "cid_train = maccs_train.loc[0]\n",
    "cid_train\n",
    "#cid_train.append( row[0] )\n",
    "#X_train.append( row[2:] )\n",
    "#Y_train.append( row[1] )\n"
   ]
  },
  {
   "cell_type": "code",
   "execution_count": null,
   "metadata": {},
   "outputs": [],
   "source": []
  },
  {
   "cell_type": "code",
   "execution_count": null,
   "metadata": {},
   "outputs": [],
   "source": []
  },
  {
   "cell_type": "code",
   "execution_count": null,
   "metadata": {},
   "outputs": [],
   "source": []
  },
  {
   "cell_type": "code",
   "execution_count": null,
   "metadata": {},
   "outputs": [],
   "source": []
  }
 ],
 "metadata": {
  "kernelspec": {
   "display_name": "Python 3",
   "language": "python",
   "name": "python3"
  },
  "language_info": {
   "codemirror_mode": {
    "name": "ipython",
    "version": 3
   },
   "file_extension": ".py",
   "mimetype": "text/x-python",
   "name": "python",
   "nbconvert_exporter": "python",
   "pygments_lexer": "ipython3",
   "version": "3.6.8"
  }
 },
 "nbformat": 4,
 "nbformat_minor": 2
}

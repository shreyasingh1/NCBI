{
 "cells": [
  {
   "cell_type": "code",
   "execution_count": 1,
   "metadata": {},
   "outputs": [
    {
     "data": {
      "text/plain": [
       "(7626, 4)"
      ]
     },
     "execution_count": 1,
     "metadata": {},
     "output_type": "execute_result"
    }
   ],
   "source": [
    "import numpy as np\n",
    "import pandas as pd\n",
    "import matplotlib.pyplot as plt\n",
    "import seaborn as sns\n",
    "import requests\n",
    "import re\n",
    "%matplotlib inline\n",
    "\n",
    "from urllib.request import urlopen\n",
    "from bs4 import BeautifulSoup\n",
    "\n",
    "#hiding warning messages\n",
    "import warnings\n",
    "warnings.filterwarnings(\"ignore\")\n",
    "\n",
    "#Reading in Summary ANTAGONIST CSV\n",
    "data = pd.read_csv('Final_Merged_CSV')\n",
    "data.shape"
   ]
  },
  {
   "cell_type": "code",
   "execution_count": 2,
   "metadata": {},
   "outputs": [],
   "source": [
    "#Downloading Molecular Formulas\n",
    "CID_list = data['PUBCHEM_CID'].tolist()\n",
    "\n",
    "#Splitting CID_list into smaller strings (600 is around the max size for the full url)\n",
    "list1 = CID_list[:600]\n",
    "list2 = CID_list[601:1200]\n",
    "list3 = CID_list[1201:1800]\n",
    "list4 = CID_list[1801:2400]\n",
    "list5 = CID_list[2401:3000]\n",
    "list6 = CID_list[3001:3600]\n",
    "list7 = CID_list[3601:4200]\n",
    "list8 = CID_list[4200:4800]\n",
    "list9 = CID_list[4801:5400]\n",
    "#switched from intervals of 600 to intervals of 500 (integers get larger)\n",
    "list10 = CID_list[5401:5900]\n",
    "list11 = CID_list[5901:6400]\n",
    "#switched from intervals of 500 to intervals of 300 (integers get larger)\n",
    "list12 = CID_list[6401:6700]\n",
    "list13 = CID_list[6701:7000]\n",
    "list14 = CID_list[7001:7300]\n",
    "list15 = CID_list[7301:7600]\n",
    "list16 = CID_list[7601:]\n",
    "\n",
    "#Removing Decimals\n",
    "list1 = list(map(int, list1))\n",
    "list2 = list(map(int, list2))\n",
    "list3 = list(map(int, list3))\n",
    "list4 = list(map(int, list4))\n",
    "list5 = list(map(int, list5))\n",
    "list6 = list(map(int, list6))\n",
    "list7 = list(map(int, list7))\n",
    "list8 = list(map(int, list8))\n",
    "list9 = list(map(int, list9))\n",
    "list10 = list(map(int, list10))\n",
    "list11 = list(map(int, list11))\n",
    "list12 = list(map(int, list12))\n",
    "list13 = list(map(int, list13))\n",
    "list14 = list(map(int, list14))\n",
    "list15 = list(map(int, list15))\n",
    "list16 = list(map(int, list16))\n",
    "\n",
    "#Changing list to str, dropping start/end brackets, removing spaces\n",
    "str1 = (str(list1)[1:-1])\n",
    "str1 = str1.replace(' ', '')\n",
    "str2 = (str(list2)[1:-1])\n",
    "str2 = str2.replace(' ', '')\n",
    "str3 = (str(list3)[1:-1])\n",
    "str3 = str3.replace(' ', '')\n",
    "str4 = (str(list4)[1:-1])\n",
    "str4 = str4.replace(' ', '')\n",
    "str5 = (str(list5)[1:-1])\n",
    "str5 = str5.replace(' ', '')\n",
    "str6 = (str(list6)[1:-1])\n",
    "str6 = str6.replace(' ', '')\n",
    "str7 = (str(list7)[1:-1])\n",
    "str7 = str7.replace(' ', '')\n",
    "str8 = (str(list8)[1:-1])\n",
    "str8 = str8.replace(' ', '')\n",
    "str9 = (str(list9)[1:-1])\n",
    "str9 = str9.replace(' ', '')\n",
    "str10 = (str(list10)[1:-1])\n",
    "str10 = str10.replace(' ', '')\n",
    "str11 = (str(list11)[1:-1])\n",
    "str11 = str11.replace(' ', '')\n",
    "str12 = (str(list12)[1:-1])\n",
    "str12 = str12.replace(' ', '')\n",
    "str13 = (str(list13)[1:-1])\n",
    "str13 = str13.replace(' ', '')\n",
    "str14 = (str(list14)[1:-1])\n",
    "str14 = str14.replace(' ', '')\n",
    "str15 = (str(list15)[1:-1])\n",
    "str15 = str15.replace(' ', '')\n",
    "str16 = (str(list16)[1:-1])\n",
    "str16 = str16.replace(' ', '')\n"
   ]
  },
  {
   "cell_type": "code",
   "execution_count": 4,
   "metadata": {},
   "outputs": [
    {
     "ename": "HTTPError",
     "evalue": "HTTP Error 503: PUGREST.ServerBusy",
     "output_type": "error",
     "traceback": [
      "\u001b[1;31m---------------------------------------------------------------------------\u001b[0m",
      "\u001b[1;31mHTTPError\u001b[0m                                 Traceback (most recent call last)",
      "\u001b[1;32m<ipython-input-4-44dd6d9c286a>\u001b[0m in \u001b[0;36m<module>\u001b[1;34m\u001b[0m\n\u001b[0;32m     22\u001b[0m \u001b[0msoup7\u001b[0m \u001b[1;33m=\u001b[0m \u001b[0mBeautifulSoup\u001b[0m\u001b[1;33m(\u001b[0m\u001b[0mhtml7\u001b[0m\u001b[1;33m,\u001b[0m \u001b[1;34m'lxml'\u001b[0m\u001b[1;33m)\u001b[0m\u001b[1;33m\u001b[0m\u001b[1;33m\u001b[0m\u001b[0m\n\u001b[0;32m     23\u001b[0m \u001b[0murl8\u001b[0m \u001b[1;33m=\u001b[0m \u001b[1;33m(\u001b[0m\u001b[1;34m'https://pubchem.ncbi.nlm.nih.gov/rest/pug/compound/cid/'\u001b[0m \u001b[1;33m+\u001b[0m \u001b[0mstr8\u001b[0m \u001b[1;33m+\u001b[0m \u001b[1;34m'/property/MolecularFormula/TXT'\u001b[0m\u001b[1;33m)\u001b[0m\u001b[1;33m\u001b[0m\u001b[1;33m\u001b[0m\u001b[0m\n\u001b[1;32m---> 24\u001b[1;33m \u001b[0mhtml8\u001b[0m \u001b[1;33m=\u001b[0m \u001b[0murlopen\u001b[0m\u001b[1;33m(\u001b[0m\u001b[0murl8\u001b[0m\u001b[1;33m)\u001b[0m\u001b[1;33m\u001b[0m\u001b[1;33m\u001b[0m\u001b[0m\n\u001b[0m\u001b[0;32m     25\u001b[0m \u001b[0msoup8\u001b[0m \u001b[1;33m=\u001b[0m \u001b[0mBeautifulSoup\u001b[0m\u001b[1;33m(\u001b[0m\u001b[0mhtml8\u001b[0m\u001b[1;33m,\u001b[0m \u001b[1;34m'lxml'\u001b[0m\u001b[1;33m)\u001b[0m\u001b[1;33m\u001b[0m\u001b[1;33m\u001b[0m\u001b[0m\n\u001b[0;32m     26\u001b[0m \u001b[1;33m\u001b[0m\u001b[0m\n",
      "\u001b[1;32mc:\\users\\singhs29\\appdata\\local\\continuum\\anaconda3\\envs\\my-rdkit-env\\lib\\urllib\\request.py\u001b[0m in \u001b[0;36murlopen\u001b[1;34m(url, data, timeout, cafile, capath, cadefault, context)\u001b[0m\n\u001b[0;32m    221\u001b[0m     \u001b[1;32melse\u001b[0m\u001b[1;33m:\u001b[0m\u001b[1;33m\u001b[0m\u001b[1;33m\u001b[0m\u001b[0m\n\u001b[0;32m    222\u001b[0m         \u001b[0mopener\u001b[0m \u001b[1;33m=\u001b[0m \u001b[0m_opener\u001b[0m\u001b[1;33m\u001b[0m\u001b[1;33m\u001b[0m\u001b[0m\n\u001b[1;32m--> 223\u001b[1;33m     \u001b[1;32mreturn\u001b[0m \u001b[0mopener\u001b[0m\u001b[1;33m.\u001b[0m\u001b[0mopen\u001b[0m\u001b[1;33m(\u001b[0m\u001b[0murl\u001b[0m\u001b[1;33m,\u001b[0m \u001b[0mdata\u001b[0m\u001b[1;33m,\u001b[0m \u001b[0mtimeout\u001b[0m\u001b[1;33m)\u001b[0m\u001b[1;33m\u001b[0m\u001b[1;33m\u001b[0m\u001b[0m\n\u001b[0m\u001b[0;32m    224\u001b[0m \u001b[1;33m\u001b[0m\u001b[0m\n\u001b[0;32m    225\u001b[0m \u001b[1;32mdef\u001b[0m \u001b[0minstall_opener\u001b[0m\u001b[1;33m(\u001b[0m\u001b[0mopener\u001b[0m\u001b[1;33m)\u001b[0m\u001b[1;33m:\u001b[0m\u001b[1;33m\u001b[0m\u001b[1;33m\u001b[0m\u001b[0m\n",
      "\u001b[1;32mc:\\users\\singhs29\\appdata\\local\\continuum\\anaconda3\\envs\\my-rdkit-env\\lib\\urllib\\request.py\u001b[0m in \u001b[0;36mopen\u001b[1;34m(self, fullurl, data, timeout)\u001b[0m\n\u001b[0;32m    530\u001b[0m         \u001b[1;32mfor\u001b[0m \u001b[0mprocessor\u001b[0m \u001b[1;32min\u001b[0m \u001b[0mself\u001b[0m\u001b[1;33m.\u001b[0m\u001b[0mprocess_response\u001b[0m\u001b[1;33m.\u001b[0m\u001b[0mget\u001b[0m\u001b[1;33m(\u001b[0m\u001b[0mprotocol\u001b[0m\u001b[1;33m,\u001b[0m \u001b[1;33m[\u001b[0m\u001b[1;33m]\u001b[0m\u001b[1;33m)\u001b[0m\u001b[1;33m:\u001b[0m\u001b[1;33m\u001b[0m\u001b[1;33m\u001b[0m\u001b[0m\n\u001b[0;32m    531\u001b[0m             \u001b[0mmeth\u001b[0m \u001b[1;33m=\u001b[0m \u001b[0mgetattr\u001b[0m\u001b[1;33m(\u001b[0m\u001b[0mprocessor\u001b[0m\u001b[1;33m,\u001b[0m \u001b[0mmeth_name\u001b[0m\u001b[1;33m)\u001b[0m\u001b[1;33m\u001b[0m\u001b[1;33m\u001b[0m\u001b[0m\n\u001b[1;32m--> 532\u001b[1;33m             \u001b[0mresponse\u001b[0m \u001b[1;33m=\u001b[0m \u001b[0mmeth\u001b[0m\u001b[1;33m(\u001b[0m\u001b[0mreq\u001b[0m\u001b[1;33m,\u001b[0m \u001b[0mresponse\u001b[0m\u001b[1;33m)\u001b[0m\u001b[1;33m\u001b[0m\u001b[1;33m\u001b[0m\u001b[0m\n\u001b[0m\u001b[0;32m    533\u001b[0m \u001b[1;33m\u001b[0m\u001b[0m\n\u001b[0;32m    534\u001b[0m         \u001b[1;32mreturn\u001b[0m \u001b[0mresponse\u001b[0m\u001b[1;33m\u001b[0m\u001b[1;33m\u001b[0m\u001b[0m\n",
      "\u001b[1;32mc:\\users\\singhs29\\appdata\\local\\continuum\\anaconda3\\envs\\my-rdkit-env\\lib\\urllib\\request.py\u001b[0m in \u001b[0;36mhttp_response\u001b[1;34m(self, request, response)\u001b[0m\n\u001b[0;32m    640\u001b[0m         \u001b[1;32mif\u001b[0m \u001b[1;32mnot\u001b[0m \u001b[1;33m(\u001b[0m\u001b[1;36m200\u001b[0m \u001b[1;33m<=\u001b[0m \u001b[0mcode\u001b[0m \u001b[1;33m<\u001b[0m \u001b[1;36m300\u001b[0m\u001b[1;33m)\u001b[0m\u001b[1;33m:\u001b[0m\u001b[1;33m\u001b[0m\u001b[1;33m\u001b[0m\u001b[0m\n\u001b[0;32m    641\u001b[0m             response = self.parent.error(\n\u001b[1;32m--> 642\u001b[1;33m                 'http', request, response, code, msg, hdrs)\n\u001b[0m\u001b[0;32m    643\u001b[0m \u001b[1;33m\u001b[0m\u001b[0m\n\u001b[0;32m    644\u001b[0m         \u001b[1;32mreturn\u001b[0m \u001b[0mresponse\u001b[0m\u001b[1;33m\u001b[0m\u001b[1;33m\u001b[0m\u001b[0m\n",
      "\u001b[1;32mc:\\users\\singhs29\\appdata\\local\\continuum\\anaconda3\\envs\\my-rdkit-env\\lib\\urllib\\request.py\u001b[0m in \u001b[0;36merror\u001b[1;34m(self, proto, *args)\u001b[0m\n\u001b[0;32m    568\u001b[0m         \u001b[1;32mif\u001b[0m \u001b[0mhttp_err\u001b[0m\u001b[1;33m:\u001b[0m\u001b[1;33m\u001b[0m\u001b[1;33m\u001b[0m\u001b[0m\n\u001b[0;32m    569\u001b[0m             \u001b[0margs\u001b[0m \u001b[1;33m=\u001b[0m \u001b[1;33m(\u001b[0m\u001b[0mdict\u001b[0m\u001b[1;33m,\u001b[0m \u001b[1;34m'default'\u001b[0m\u001b[1;33m,\u001b[0m \u001b[1;34m'http_error_default'\u001b[0m\u001b[1;33m)\u001b[0m \u001b[1;33m+\u001b[0m \u001b[0morig_args\u001b[0m\u001b[1;33m\u001b[0m\u001b[1;33m\u001b[0m\u001b[0m\n\u001b[1;32m--> 570\u001b[1;33m             \u001b[1;32mreturn\u001b[0m \u001b[0mself\u001b[0m\u001b[1;33m.\u001b[0m\u001b[0m_call_chain\u001b[0m\u001b[1;33m(\u001b[0m\u001b[1;33m*\u001b[0m\u001b[0margs\u001b[0m\u001b[1;33m)\u001b[0m\u001b[1;33m\u001b[0m\u001b[1;33m\u001b[0m\u001b[0m\n\u001b[0m\u001b[0;32m    571\u001b[0m \u001b[1;33m\u001b[0m\u001b[0m\n\u001b[0;32m    572\u001b[0m \u001b[1;31m# XXX probably also want an abstract factory that knows when it makes\u001b[0m\u001b[1;33m\u001b[0m\u001b[1;33m\u001b[0m\u001b[1;33m\u001b[0m\u001b[0m\n",
      "\u001b[1;32mc:\\users\\singhs29\\appdata\\local\\continuum\\anaconda3\\envs\\my-rdkit-env\\lib\\urllib\\request.py\u001b[0m in \u001b[0;36m_call_chain\u001b[1;34m(self, chain, kind, meth_name, *args)\u001b[0m\n\u001b[0;32m    502\u001b[0m         \u001b[1;32mfor\u001b[0m \u001b[0mhandler\u001b[0m \u001b[1;32min\u001b[0m \u001b[0mhandlers\u001b[0m\u001b[1;33m:\u001b[0m\u001b[1;33m\u001b[0m\u001b[1;33m\u001b[0m\u001b[0m\n\u001b[0;32m    503\u001b[0m             \u001b[0mfunc\u001b[0m \u001b[1;33m=\u001b[0m \u001b[0mgetattr\u001b[0m\u001b[1;33m(\u001b[0m\u001b[0mhandler\u001b[0m\u001b[1;33m,\u001b[0m \u001b[0mmeth_name\u001b[0m\u001b[1;33m)\u001b[0m\u001b[1;33m\u001b[0m\u001b[1;33m\u001b[0m\u001b[0m\n\u001b[1;32m--> 504\u001b[1;33m             \u001b[0mresult\u001b[0m \u001b[1;33m=\u001b[0m \u001b[0mfunc\u001b[0m\u001b[1;33m(\u001b[0m\u001b[1;33m*\u001b[0m\u001b[0margs\u001b[0m\u001b[1;33m)\u001b[0m\u001b[1;33m\u001b[0m\u001b[1;33m\u001b[0m\u001b[0m\n\u001b[0m\u001b[0;32m    505\u001b[0m             \u001b[1;32mif\u001b[0m \u001b[0mresult\u001b[0m \u001b[1;32mis\u001b[0m \u001b[1;32mnot\u001b[0m \u001b[1;32mNone\u001b[0m\u001b[1;33m:\u001b[0m\u001b[1;33m\u001b[0m\u001b[1;33m\u001b[0m\u001b[0m\n\u001b[0;32m    506\u001b[0m                 \u001b[1;32mreturn\u001b[0m \u001b[0mresult\u001b[0m\u001b[1;33m\u001b[0m\u001b[1;33m\u001b[0m\u001b[0m\n",
      "\u001b[1;32mc:\\users\\singhs29\\appdata\\local\\continuum\\anaconda3\\envs\\my-rdkit-env\\lib\\urllib\\request.py\u001b[0m in \u001b[0;36mhttp_error_default\u001b[1;34m(self, req, fp, code, msg, hdrs)\u001b[0m\n\u001b[0;32m    648\u001b[0m \u001b[1;32mclass\u001b[0m \u001b[0mHTTPDefaultErrorHandler\u001b[0m\u001b[1;33m(\u001b[0m\u001b[0mBaseHandler\u001b[0m\u001b[1;33m)\u001b[0m\u001b[1;33m:\u001b[0m\u001b[1;33m\u001b[0m\u001b[1;33m\u001b[0m\u001b[0m\n\u001b[0;32m    649\u001b[0m     \u001b[1;32mdef\u001b[0m \u001b[0mhttp_error_default\u001b[0m\u001b[1;33m(\u001b[0m\u001b[0mself\u001b[0m\u001b[1;33m,\u001b[0m \u001b[0mreq\u001b[0m\u001b[1;33m,\u001b[0m \u001b[0mfp\u001b[0m\u001b[1;33m,\u001b[0m \u001b[0mcode\u001b[0m\u001b[1;33m,\u001b[0m \u001b[0mmsg\u001b[0m\u001b[1;33m,\u001b[0m \u001b[0mhdrs\u001b[0m\u001b[1;33m)\u001b[0m\u001b[1;33m:\u001b[0m\u001b[1;33m\u001b[0m\u001b[1;33m\u001b[0m\u001b[0m\n\u001b[1;32m--> 650\u001b[1;33m         \u001b[1;32mraise\u001b[0m \u001b[0mHTTPError\u001b[0m\u001b[1;33m(\u001b[0m\u001b[0mreq\u001b[0m\u001b[1;33m.\u001b[0m\u001b[0mfull_url\u001b[0m\u001b[1;33m,\u001b[0m \u001b[0mcode\u001b[0m\u001b[1;33m,\u001b[0m \u001b[0mmsg\u001b[0m\u001b[1;33m,\u001b[0m \u001b[0mhdrs\u001b[0m\u001b[1;33m,\u001b[0m \u001b[0mfp\u001b[0m\u001b[1;33m)\u001b[0m\u001b[1;33m\u001b[0m\u001b[1;33m\u001b[0m\u001b[0m\n\u001b[0m\u001b[0;32m    651\u001b[0m \u001b[1;33m\u001b[0m\u001b[0m\n\u001b[0;32m    652\u001b[0m \u001b[1;32mclass\u001b[0m \u001b[0mHTTPRedirectHandler\u001b[0m\u001b[1;33m(\u001b[0m\u001b[0mBaseHandler\u001b[0m\u001b[1;33m)\u001b[0m\u001b[1;33m:\u001b[0m\u001b[1;33m\u001b[0m\u001b[1;33m\u001b[0m\u001b[0m\n",
      "\u001b[1;31mHTTPError\u001b[0m: HTTP Error 503: PUGREST.ServerBusy"
     ]
    }
   ],
   "source": [
    "#opening and reading the 13 molecular formula URLs\n",
    "url1 = ('https://pubchem.ncbi.nlm.nih.gov/rest/pug/compound/cid/' + str1 + '/property/MolecularFormula/TXT')\n",
    "html1 = urlopen(url1) \n",
    "soup1 = BeautifulSoup(html1, 'lxml')\n",
    "url2 = ('https://pubchem.ncbi.nlm.nih.gov/rest/pug/compound/cid/' + str2 + '/property/MolecularFormula/TXT')\n",
    "html2 = urlopen(url2) \n",
    "soup2 = BeautifulSoup(html2, 'lxml')\n",
    "url3 = ('https://pubchem.ncbi.nlm.nih.gov/rest/pug/compound/cid/' + str3 + '/property/MolecularFormula/TXT')\n",
    "html3 = urlopen(url3) \n",
    "soup3 = BeautifulSoup(html3, 'lxml')\n",
    "url4 = ('https://pubchem.ncbi.nlm.nih.gov/rest/pug/compound/cid/' + str4 + '/property/MolecularFormula/TXT')\n",
    "html4 = urlopen(url4) \n",
    "soup4 = BeautifulSoup(html4, 'lxml')\n",
    "url5 = ('https://pubchem.ncbi.nlm.nih.gov/rest/pug/compound/cid/' + str5 + '/property/MolecularFormula/TXT')\n",
    "html5 = urlopen(url5) \n",
    "soup5 = BeautifulSoup(html5, 'lxml')\n",
    "url6 = ('https://pubchem.ncbi.nlm.nih.gov/rest/pug/compound/cid/' + str6 + '/property/MolecularFormula/TXT')\n",
    "html6 = urlopen(url6) \n",
    "soup6 = BeautifulSoup(html6, 'lxml')\n",
    "url7 = ('https://pubchem.ncbi.nlm.nih.gov/rest/pug/compound/cid/' + str7 + '/property/MolecularFormula/TXT')\n",
    "html7 = urlopen(url7) \n",
    "soup7 = BeautifulSoup(html7, 'lxml')\n",
    "url8 = ('https://pubchem.ncbi.nlm.nih.gov/rest/pug/compound/cid/' + str8 + '/property/MolecularFormula/TXT')\n",
    "html8 = urlopen(url8)\n",
    "soup8 = BeautifulSoup(html8, 'lxml')\n",
    "\n",
    "\n",
    "formulas1 = soup1.get_text()\n",
    "formulas2 = soup2.get_text()\n",
    "formulas3 = soup3.get_text()\n",
    "formulas4 = soup4.get_text()\n",
    "formulas5 = soup5.get_text()\n",
    "formulas6 = soup6.get_text()\n",
    "formulas7 = soup7.get_text()\n",
    "formulas8 = soup8.get_text()"
   ]
  },
  {
   "cell_type": "code",
   "execution_count": 3,
   "metadata": {},
   "outputs": [
    {
     "ename": "NameError",
     "evalue": "name 'formulas1' is not defined",
     "output_type": "error",
     "traceback": [
      "\u001b[1;31m---------------------------------------------------------------------------\u001b[0m",
      "\u001b[1;31mNameError\u001b[0m                                 Traceback (most recent call last)",
      "\u001b[1;32m<ipython-input-3-1c7cac1d8e03>\u001b[0m in \u001b[0;36m<module>\u001b[1;34m\u001b[0m\n\u001b[0;32m     34\u001b[0m \u001b[1;33m\u001b[0m\u001b[0m\n\u001b[0;32m     35\u001b[0m \u001b[1;31m#total formulas string\u001b[0m\u001b[1;33m\u001b[0m\u001b[1;33m\u001b[0m\u001b[1;33m\u001b[0m\u001b[0m\n\u001b[1;32m---> 36\u001b[1;33m \u001b[0mformula\u001b[0m \u001b[1;33m=\u001b[0m \u001b[0mformulas1\u001b[0m \u001b[1;33m+\u001b[0m \u001b[0mformulas2\u001b[0m \u001b[1;33m+\u001b[0m \u001b[0mformulas3\u001b[0m \u001b[1;33m+\u001b[0m \u001b[0mformulas4\u001b[0m \u001b[1;33m+\u001b[0m \u001b[0mformulas5\u001b[0m \u001b[1;33m+\u001b[0m \u001b[0mformulas6\u001b[0m \u001b[1;33m+\u001b[0m \u001b[0mformulas7\u001b[0m \u001b[1;33m+\u001b[0m \u001b[0mformulas8\u001b[0m \u001b[1;33m+\u001b[0m \u001b[0mformulas9\u001b[0m \u001b[1;33m+\u001b[0m \u001b[0mformulas10\u001b[0m \u001b[1;33m+\u001b[0m \u001b[0mformulas11\u001b[0m \u001b[1;33m+\u001b[0m \u001b[0mformulas12\u001b[0m \u001b[1;33m+\u001b[0m \u001b[0mformulas13\u001b[0m \u001b[1;33m+\u001b[0m \u001b[0mformulas14\u001b[0m \u001b[1;33m+\u001b[0m \u001b[0mformulas15\u001b[0m \u001b[1;33m+\u001b[0m \u001b[0mformulas16\u001b[0m\u001b[1;33m\u001b[0m\u001b[1;33m\u001b[0m\u001b[0m\n\u001b[0m\u001b[0;32m     37\u001b[0m \u001b[1;33m\u001b[0m\u001b[0m\n\u001b[0;32m     38\u001b[0m \u001b[1;31m#formulas string to formulas list\u001b[0m\u001b[1;33m\u001b[0m\u001b[1;33m\u001b[0m\u001b[1;33m\u001b[0m\u001b[0m\n",
      "\u001b[1;31mNameError\u001b[0m: name 'formulas1' is not defined"
     ]
    }
   ],
   "source": [
    "url9 = ('https://pubchem.ncbi.nlm.nih.gov/rest/pug/compound/cid/' + str9 + '/property/MolecularFormula/TXT')\n",
    "html9 = urlopen(url9) \n",
    "soup9 = BeautifulSoup(html9, 'lxml')\n",
    "url10 = ('https://pubchem.ncbi.nlm.nih.gov/rest/pug/compound/cid/' + str10 + '/property/MolecularFormula/TXT')\n",
    "html10 = urlopen(url10) \n",
    "soup10 = BeautifulSoup(html10, 'lxml')\n",
    "url11 = ('https://pubchem.ncbi.nlm.nih.gov/rest/pug/compound/cid/' + str11 + '/property/MolecularFormula/TXT')\n",
    "html11 = urlopen(url11) \n",
    "soup11 = BeautifulSoup(html11, 'lxml')\n",
    "url12 = ('https://pubchem.ncbi.nlm.nih.gov/rest/pug/compound/cid/' + str12 + '/property/MolecularFormula/TXT')\n",
    "html12 = urlopen(url12) \n",
    "soup12 = BeautifulSoup(html12, 'lxml')\n",
    "url13 = ('https://pubchem.ncbi.nlm.nih.gov/rest/pug/compound/cid/' + str13 + '/property/MolecularFormula/TXT')\n",
    "html13 = urlopen(url13) \n",
    "soup13 = BeautifulSoup(html13, 'lxml')\n",
    "url14 = ('https://pubchem.ncbi.nlm.nih.gov/rest/pug/compound/cid/' + str14 + '/property/MolecularFormula/TXT')\n",
    "html14 = urlopen(url14) \n",
    "soup14 = BeautifulSoup(html14, 'lxml')\n",
    "url15 = ('https://pubchem.ncbi.nlm.nih.gov/rest/pug/compound/cid/' + str15 + '/property/MolecularFormula/TXT')\n",
    "html15 = urlopen(url15) \n",
    "soup15 = BeautifulSoup(html15, 'lxml')\n",
    "url16 = ('https://pubchem.ncbi.nlm.nih.gov/rest/pug/compound/cid/' + str16 + '/property/MolecularFormula/TXT')\n",
    "html16 = urlopen(url16) \n",
    "soup16 = BeautifulSoup(html16, 'lxml')\n",
    "\n",
    "formulas9 = soup9.get_text()\n",
    "formulas10 = soup10.get_text()\n",
    "formulas11 = soup11.get_text()\n",
    "formulas12 = soup12.get_text()\n",
    "formulas13 = soup13.get_text()\n",
    "formulas14 = soup14.get_text()\n",
    "formulas15 = soup15.get_text()\n",
    "formulas16 = soup16.get_text()\n",
    "\n",
    "#total formulas string\n",
    "formula = formulas1 + formulas2 + formulas3 + formulas4 + formulas5 + formulas6 + formulas7 + formulas8 + formulas9 + formulas10 + formulas11 + formulas12 + formulas13 + formulas14 + formulas15 + formulas16\n",
    "\n",
    "#formulas string to formulas list\n",
    "formula = formula.split()\n",
    "len(formula)"
   ]
  },
  {
   "cell_type": "code",
   "execution_count": null,
   "metadata": {},
   "outputs": [],
   "source": []
  },
  {
   "cell_type": "code",
   "execution_count": null,
   "metadata": {},
   "outputs": [],
   "source": [
    "#URL for covalent count\n",
    "https://pubchem.ncbi.nlm.nih.gov/rest/pug/compound/cid/3080/property/CovalentUnitCount/TXT"
   ]
  },
  {
   "cell_type": "code",
   "execution_count": null,
   "metadata": {},
   "outputs": [],
   "source": []
  }
 ],
 "metadata": {
  "kernelspec": {
   "display_name": "Python 3",
   "language": "python",
   "name": "python3"
  },
  "language_info": {
   "codemirror_mode": {
    "name": "ipython",
    "version": 3
   },
   "file_extension": ".py",
   "mimetype": "text/x-python",
   "name": "python",
   "nbconvert_exporter": "python",
   "pygments_lexer": "ipython3",
   "version": "3.6.8"
  }
 },
 "nbformat": 4,
 "nbformat_minor": 2
}

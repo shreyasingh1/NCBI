{
 "cells": [
  {
   "cell_type": "markdown",
   "metadata": {},
   "source": [
    "maccs keys\n",
    "hashed fingerprints\n",
    "morgan (2)\n",
    "topological\n",
    "pubchem fp"
   ]
  },
  {
   "cell_type": "code",
   "execution_count": 5,
   "metadata": {},
   "outputs": [
    {
     "data": {
      "text/html": [
       "<div>\n",
       "<style scoped>\n",
       "    .dataframe tbody tr th:only-of-type {\n",
       "        vertical-align: middle;\n",
       "    }\n",
       "\n",
       "    .dataframe tbody tr th {\n",
       "        vertical-align: top;\n",
       "    }\n",
       "\n",
       "    .dataframe thead th {\n",
       "        text-align: right;\n",
       "    }\n",
       "</style>\n",
       "<table border=\"1\" class=\"dataframe\">\n",
       "  <thead>\n",
       "    <tr style=\"text-align: right;\">\n",
       "      <th></th>\n",
       "      <th>Activity Summary</th>\n",
       "      <th>PUBCHEM_CID</th>\n",
       "      <th>Ratio Efficacy (%)</th>\n",
       "      <th>Ratio Potency (uM)</th>\n",
       "      <th>MolecularFormula</th>\n",
       "      <th>MolecularWeight</th>\n",
       "      <th>CanonicalSMILES</th>\n",
       "      <th>IsomericSMILES</th>\n",
       "      <th>InChI</th>\n",
       "      <th>XLogP</th>\n",
       "      <th>ExactMass</th>\n",
       "      <th>TPSA</th>\n",
       "    </tr>\n",
       "  </thead>\n",
       "  <tbody>\n",
       "    <tr>\n",
       "      <th>0</th>\n",
       "      <td>inactive</td>\n",
       "      <td>997.0</td>\n",
       "      <td>0.0000</td>\n",
       "      <td>0.00000</td>\n",
       "      <td>C9H8O3</td>\n",
       "      <td>164.160</td>\n",
       "      <td>C1=CC=C(C=C1)CC(=O)C(=O)O</td>\n",
       "      <td>C1=CC=C(C=C1)CC(=O)C(=O)O</td>\n",
       "      <td>InChI=1S/C9H8O3/c10-8(9(11)12)6-7-4-2-1-3-5-7/...</td>\n",
       "      <td>1.3</td>\n",
       "      <td>164.047</td>\n",
       "      <td>54.4</td>\n",
       "    </tr>\n",
       "    <tr>\n",
       "      <th>1</th>\n",
       "      <td>active antagonist</td>\n",
       "      <td>1807.0</td>\n",
       "      <td>-116.2980</td>\n",
       "      <td>54.94100</td>\n",
       "      <td>C4H6BrNO4</td>\n",
       "      <td>211.999</td>\n",
       "      <td>C1C(COCO1)([N+](=O)[O-])Br</td>\n",
       "      <td>C1C(COCO1)([N+](=O)[O-])Br</td>\n",
       "      <td>InChI=1S/C4H6BrNO4/c5-4(6(7)8)1-9-3-10-2-4/h1-3H2</td>\n",
       "      <td>0.3</td>\n",
       "      <td>210.948</td>\n",
       "      <td>64.3</td>\n",
       "    </tr>\n",
       "    <tr>\n",
       "      <th>2</th>\n",
       "      <td>active antagonist</td>\n",
       "      <td>2453.0</td>\n",
       "      <td>-141.2610</td>\n",
       "      <td>10.68220</td>\n",
       "      <td>C9H5Br2NO</td>\n",
       "      <td>302.953</td>\n",
       "      <td>C1=CC2=C(C(=C(C=C2Br)Br)O)N=C1</td>\n",
       "      <td>C1=CC2=C(C(=C(C=C2Br)Br)O)N=C1</td>\n",
       "      <td>InChI=1S/C9H5Br2NO/c10-6-4-7(11)9(13)8-5(6)2-1...</td>\n",
       "      <td>3.2</td>\n",
       "      <td>302.872</td>\n",
       "      <td>33.1</td>\n",
       "    </tr>\n",
       "    <tr>\n",
       "      <th>3</th>\n",
       "      <td>active antagonist</td>\n",
       "      <td>2662.0</td>\n",
       "      <td>-42.8802</td>\n",
       "      <td>21.31380</td>\n",
       "      <td>C17H14F3N3O2S</td>\n",
       "      <td>381.373</td>\n",
       "      <td>CC1=CC=C(C=C1)C2=CC(=NN2C3=CC=C(C=C3)S(=O)(=O)...</td>\n",
       "      <td>CC1=CC=C(C=C1)C2=CC(=NN2C3=CC=C(C=C3)S(=O)(=O)...</td>\n",
       "      <td>InChI=1S/C17H14F3N3O2S/c1-11-2-4-12(5-3-11)15-...</td>\n",
       "      <td>3.4</td>\n",
       "      <td>381.076</td>\n",
       "      <td>86.4</td>\n",
       "    </tr>\n",
       "    <tr>\n",
       "      <th>4</th>\n",
       "      <td>active antagonist</td>\n",
       "      <td>2722.0</td>\n",
       "      <td>-116.0110</td>\n",
       "      <td>5.56323</td>\n",
       "      <td>C9H5Cl2NO</td>\n",
       "      <td>214.045</td>\n",
       "      <td>C1=CC2=C(C(=C(C=C2Cl)Cl)O)N=C1</td>\n",
       "      <td>C1=CC2=C(C(=C(C=C2Cl)Cl)O)N=C1</td>\n",
       "      <td>InChI=1S/C9H5Cl2NO/c10-6-4-7(11)9(13)8-5(6)2-1...</td>\n",
       "      <td>3.5</td>\n",
       "      <td>212.975</td>\n",
       "      <td>33.1</td>\n",
       "    </tr>\n",
       "  </tbody>\n",
       "</table>\n",
       "</div>"
      ],
      "text/plain": [
       "    Activity Summary  PUBCHEM_CID  Ratio Efficacy (%)  Ratio Potency (uM)  \\\n",
       "0           inactive        997.0              0.0000             0.00000   \n",
       "1  active antagonist       1807.0           -116.2980            54.94100   \n",
       "2  active antagonist       2453.0           -141.2610            10.68220   \n",
       "3  active antagonist       2662.0            -42.8802            21.31380   \n",
       "4  active antagonist       2722.0           -116.0110             5.56323   \n",
       "\n",
       "  MolecularFormula  MolecularWeight  \\\n",
       "0           C9H8O3          164.160   \n",
       "1        C4H6BrNO4          211.999   \n",
       "2        C9H5Br2NO          302.953   \n",
       "3    C17H14F3N3O2S          381.373   \n",
       "4        C9H5Cl2NO          214.045   \n",
       "\n",
       "                                     CanonicalSMILES  \\\n",
       "0                          C1=CC=C(C=C1)CC(=O)C(=O)O   \n",
       "1                         C1C(COCO1)([N+](=O)[O-])Br   \n",
       "2                     C1=CC2=C(C(=C(C=C2Br)Br)O)N=C1   \n",
       "3  CC1=CC=C(C=C1)C2=CC(=NN2C3=CC=C(C=C3)S(=O)(=O)...   \n",
       "4                     C1=CC2=C(C(=C(C=C2Cl)Cl)O)N=C1   \n",
       "\n",
       "                                      IsomericSMILES  \\\n",
       "0                          C1=CC=C(C=C1)CC(=O)C(=O)O   \n",
       "1                         C1C(COCO1)([N+](=O)[O-])Br   \n",
       "2                     C1=CC2=C(C(=C(C=C2Br)Br)O)N=C1   \n",
       "3  CC1=CC=C(C=C1)C2=CC(=NN2C3=CC=C(C=C3)S(=O)(=O)...   \n",
       "4                     C1=CC2=C(C(=C(C=C2Cl)Cl)O)N=C1   \n",
       "\n",
       "                                               InChI  XLogP  ExactMass  TPSA  \n",
       "0  InChI=1S/C9H8O3/c10-8(9(11)12)6-7-4-2-1-3-5-7/...    1.3    164.047  54.4  \n",
       "1  InChI=1S/C4H6BrNO4/c5-4(6(7)8)1-9-3-10-2-4/h1-3H2    0.3    210.948  64.3  \n",
       "2  InChI=1S/C9H5Br2NO/c10-6-4-7(11)9(13)8-5(6)2-1...    3.2    302.872  33.1  \n",
       "3  InChI=1S/C17H14F3N3O2S/c1-11-2-4-12(5-3-11)15-...    3.4    381.076  86.4  \n",
       "4  InChI=1S/C9H5Cl2NO/c10-6-4-7(11)9(13)8-5(6)2-1...    3.5    212.975  33.1  "
      ]
     },
     "execution_count": 5,
     "metadata": {},
     "output_type": "execute_result"
    }
   ],
   "source": [
    "from rdkit.Chem import MACCSkeys\n",
    "from rdkit import Chem\n",
    "\n",
    "import numpy as np\n",
    "import pandas as pd\n",
    "import matplotlib.pyplot as plt\n",
    "import seaborn as sns\n",
    "%matplotlib inline\n",
    "\n",
    "#hiding warning messages\n",
    "import warnings\n",
    "warnings.filterwarnings(\"ignore\")\n",
    "\n",
    "#Reading in Molecular Properties CSV\n",
    "data = pd.read_csv('Molecular_Properties_CSV')\n",
    "data = data.astype(float, errors = 'ignore')\n",
    "data.head()\n"
   ]
  },
  {
   "cell_type": "markdown",
   "metadata": {},
   "source": [
    "# MACCS Keys"
   ]
  },
  {
   "cell_type": "code",
   "execution_count": 6,
   "metadata": {},
   "outputs": [],
   "source": [
    "from rdkit import DataStructs\n",
    "from rdkit.Chem.Fingerprints import FingerprintMols"
   ]
  },
  {
   "cell_type": "code",
   "execution_count": 22,
   "metadata": {},
   "outputs": [],
   "source": [
    "Chem.MolFromSmiles('C9H8O3')"
   ]
  },
  {
   "cell_type": "code",
   "execution_count": 24,
   "metadata": {},
   "outputs": [],
   "source": [
    "formulas = data['MolecularFormula']\n",
    "formulas = formulas.tolist()\n",
    "ms = [Chem.MolFromSmiles(x) for x in formulas]"
   ]
  },
  {
   "cell_type": "code",
   "execution_count": 9,
   "metadata": {},
   "outputs": [
    {
     "data": {
      "text/plain": [
       "[<rdkit.DataStructs.cDataStructs.ExplicitBitVect at 0x1db22eb4940>,\n",
       " <rdkit.DataStructs.cDataStructs.ExplicitBitVect at 0x1db223d9260>,\n",
       " <rdkit.DataStructs.cDataStructs.ExplicitBitVect at 0x1db223d93a0>]"
      ]
     },
     "execution_count": 9,
     "metadata": {},
     "output_type": "execute_result"
    }
   ],
   "source": [
    "ms = [Chem.MolFromSmiles('CCOC'), Chem.MolFromSmiles('CCO'), Chem.MolFromSmiles('COC')]\n",
    "fps = [FingerprintMols.FingerprintMol(x) for x in ms]\n",
    "fps"
   ]
  },
  {
   "cell_type": "code",
   "execution_count": 16,
   "metadata": {},
   "outputs": [],
   "source": [
    "iSMILES = iSMILES.tolist()"
   ]
  },
  {
   "cell_type": "code",
   "execution_count": 17,
   "metadata": {},
   "outputs": [
    {
     "ename": "ArgumentError",
     "evalue": "Python argument types in\n    rdkit.Chem.rdmolops.RDKFingerprint(str, int, int, int, int, int, float, int)\ndid not match C++ signature:\n    RDKFingerprint(class RDKit::ROMol mol, unsigned int minPath=1, unsigned int maxPath=7, unsigned int fpSize=2048, unsigned int nBitsPerHash=2, bool useHs=True, double tgtDensity=0.0, unsigned int minSize=128, bool branchedPaths=True, bool useBondOrder=True, class boost::python::api::object atomInvariants=0, class boost::python::api::object fromAtoms=0, class boost::python::api::object atomBits=None, class boost::python::api::object bitInfo=None)",
     "output_type": "error",
     "traceback": [
      "\u001b[1;31m---------------------------------------------------------------------------\u001b[0m",
      "\u001b[1;31mArgumentError\u001b[0m                             Traceback (most recent call last)",
      "\u001b[1;32m<ipython-input-17-91cf4a620be0>\u001b[0m in \u001b[0;36m<module>\u001b[1;34m\u001b[0m\n\u001b[0;32m      1\u001b[0m \u001b[1;31m#iSMILES = data['IsomericSMILES']\u001b[0m\u001b[1;33m\u001b[0m\u001b[1;33m\u001b[0m\u001b[1;33m\u001b[0m\u001b[0m\n\u001b[1;32m----> 2\u001b[1;33m \u001b[0mfps2\u001b[0m \u001b[1;33m=\u001b[0m \u001b[1;33m[\u001b[0m\u001b[0mFingerprintMols\u001b[0m\u001b[1;33m.\u001b[0m\u001b[0mFingerprintMol\u001b[0m\u001b[1;33m(\u001b[0m\u001b[0mx\u001b[0m\u001b[1;33m)\u001b[0m \u001b[1;32mfor\u001b[0m \u001b[0mx\u001b[0m \u001b[1;32min\u001b[0m \u001b[0miSMILES\u001b[0m\u001b[1;33m]\u001b[0m\u001b[1;33m\u001b[0m\u001b[1;33m\u001b[0m\u001b[0m\n\u001b[0m\u001b[0;32m      3\u001b[0m \u001b[0mfps2\u001b[0m\u001b[1;33m\u001b[0m\u001b[1;33m\u001b[0m\u001b[0m\n",
      "\u001b[1;32m<ipython-input-17-91cf4a620be0>\u001b[0m in \u001b[0;36m<listcomp>\u001b[1;34m(.0)\u001b[0m\n\u001b[0;32m      1\u001b[0m \u001b[1;31m#iSMILES = data['IsomericSMILES']\u001b[0m\u001b[1;33m\u001b[0m\u001b[1;33m\u001b[0m\u001b[1;33m\u001b[0m\u001b[0m\n\u001b[1;32m----> 2\u001b[1;33m \u001b[0mfps2\u001b[0m \u001b[1;33m=\u001b[0m \u001b[1;33m[\u001b[0m\u001b[0mFingerprintMols\u001b[0m\u001b[1;33m.\u001b[0m\u001b[0mFingerprintMol\u001b[0m\u001b[1;33m(\u001b[0m\u001b[0mx\u001b[0m\u001b[1;33m)\u001b[0m \u001b[1;32mfor\u001b[0m \u001b[0mx\u001b[0m \u001b[1;32min\u001b[0m \u001b[0miSMILES\u001b[0m\u001b[1;33m]\u001b[0m\u001b[1;33m\u001b[0m\u001b[1;33m\u001b[0m\u001b[0m\n\u001b[0m\u001b[0;32m      3\u001b[0m \u001b[0mfps2\u001b[0m\u001b[1;33m\u001b[0m\u001b[1;33m\u001b[0m\u001b[0m\n",
      "\u001b[1;32mc:\\users\\singhs29\\appdata\\local\\continuum\\anaconda3\\envs\\my-rdkit-env\\lib\\site-packages\\rdkit\\Chem\\Fingerprints\\FingerprintMols.py\u001b[0m in \u001b[0;36mFingerprintMol\u001b[1;34m(mol, fingerprinter, **fpArgs)\u001b[0m\n\u001b[0;32m     72\u001b[0m     fp = fingerprinter(mol, fpArgs['minPath'], fpArgs['maxPath'], fpArgs['fpSize'],\n\u001b[0;32m     73\u001b[0m                        \u001b[0mfpArgs\u001b[0m\u001b[1;33m[\u001b[0m\u001b[1;34m'bitsPerHash'\u001b[0m\u001b[1;33m]\u001b[0m\u001b[1;33m,\u001b[0m \u001b[0mfpArgs\u001b[0m\u001b[1;33m[\u001b[0m\u001b[1;34m'useHs'\u001b[0m\u001b[1;33m]\u001b[0m\u001b[1;33m,\u001b[0m \u001b[0mfpArgs\u001b[0m\u001b[1;33m[\u001b[0m\u001b[1;34m'tgtDensity'\u001b[0m\u001b[1;33m]\u001b[0m\u001b[1;33m,\u001b[0m\u001b[1;33m\u001b[0m\u001b[1;33m\u001b[0m\u001b[0m\n\u001b[1;32m---> 74\u001b[1;33m                        fpArgs['minSize'])\n\u001b[0m\u001b[0;32m     75\u001b[0m   \u001b[1;32mreturn\u001b[0m \u001b[0mfp\u001b[0m\u001b[1;33m\u001b[0m\u001b[1;33m\u001b[0m\u001b[0m\n\u001b[0;32m     76\u001b[0m \u001b[1;33m\u001b[0m\u001b[0m\n",
      "\u001b[1;31mArgumentError\u001b[0m: Python argument types in\n    rdkit.Chem.rdmolops.RDKFingerprint(str, int, int, int, int, int, float, int)\ndid not match C++ signature:\n    RDKFingerprint(class RDKit::ROMol mol, unsigned int minPath=1, unsigned int maxPath=7, unsigned int fpSize=2048, unsigned int nBitsPerHash=2, bool useHs=True, double tgtDensity=0.0, unsigned int minSize=128, bool branchedPaths=True, bool useBondOrder=True, class boost::python::api::object atomInvariants=0, class boost::python::api::object fromAtoms=0, class boost::python::api::object atomBits=None, class boost::python::api::object bitInfo=None)"
     ]
    }
   ],
   "source": [
    "#iSMILES = data['IsomericSMILES']\n",
    "fps2 = [FingerprintMols.FingerprintMol(x) for x in iSMILES]\n",
    "fps2"
   ]
  },
  {
   "cell_type": "code",
   "execution_count": null,
   "metadata": {},
   "outputs": [],
   "source": [
    ">>> fps = [MACCSkeys.GenMACCSKeys(x) for x in ms]"
   ]
  },
  {
   "cell_type": "code",
   "execution_count": null,
   "metadata": {},
   "outputs": [],
   "source": []
  },
  {
   "cell_type": "code",
   "execution_count": null,
   "metadata": {},
   "outputs": [],
   "source": []
  },
  {
   "cell_type": "code",
   "execution_count": null,
   "metadata": {},
   "outputs": [],
   "source": []
  },
  {
   "cell_type": "code",
   "execution_count": null,
   "metadata": {},
   "outputs": [],
   "source": []
  },
  {
   "cell_type": "code",
   "execution_count": null,
   "metadata": {},
   "outputs": [],
   "source": []
  },
  {
   "cell_type": "code",
   "execution_count": null,
   "metadata": {},
   "outputs": [],
   "source": []
  }
 ],
 "metadata": {
  "kernelspec": {
   "display_name": "Python 3",
   "language": "python",
   "name": "python3"
  },
  "language_info": {
   "codemirror_mode": {
    "name": "ipython",
    "version": 3
   },
   "file_extension": ".py",
   "mimetype": "text/x-python",
   "name": "python",
   "nbconvert_exporter": "python",
   "pygments_lexer": "ipython3",
   "version": "3.6.8"
  }
 },
 "nbformat": 4,
 "nbformat_minor": 2
}

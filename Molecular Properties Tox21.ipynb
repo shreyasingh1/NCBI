{
 "cells": [
  {
   "cell_type": "markdown",
   "metadata": {},
   "source": [
    "# ***RUN NOTEBOOK IN ORDER\n",
    "# ***Might have to wait a bit between running each cell or PUGREST server will be busy"
   ]
  },
  {
   "cell_type": "code",
   "execution_count": 6,
   "metadata": {},
   "outputs": [],
   "source": [
    "import numpy as np\n",
    "import pandas as pd\n",
    "import matplotlib.pyplot as plt\n",
    "import seaborn as sns\n",
    "import requests\n",
    "import re\n",
    "%matplotlib inline\n",
    "\n",
    "from urllib.request import urlopen\n",
    "from bs4 import BeautifulSoup\n",
    "\n",
    "import time\n",
    "\n",
    "#hiding warning messages\n",
    "import warnings\n",
    "warnings.filterwarnings(\"ignore\")\n",
    "\n",
    "#Reading in Summary MERGED CSV\n",
    "data = pd.read_csv('FINAL_Merged_Cleaned_CSV_7-19')"
   ]
  },
  {
   "cell_type": "markdown",
   "metadata": {},
   "source": [
    "# Downloading Molecular Formulas"
   ]
  },
  {
   "cell_type": "code",
   "execution_count": 36,
   "metadata": {},
   "outputs": [],
   "source": [
    "CID_list = data['PUBCHEM_CID'].tolist()\n",
    "\n",
    "#Making them integers (removing decimals)\n",
    "CID_list = [int(i) for i in CID_list]\n",
    "\n",
    "#Splitting CID_list into smaller strings (600 is around the max size for the full url)\n",
    "list1 = CID_list[:600]\n",
    "#switched from intervals of 600 to intervals of 500 (integers get larger)\n",
    "list2 = CID_list[600:1100]\n",
    "#switched from intervals of 500 to intervals of 600\n",
    "list3 = CID_list[1100:1800]\n",
    "list4 = CID_list[1800:2400]\n",
    "list5 = CID_list[2400:3000]\n",
    "list6 = CID_list[3000:3600]\n",
    "list7 = CID_list[3600:4200]\n",
    "list8 = CID_list[4200:4800]\n",
    "list9 = CID_list[4800:5300]\n",
    "list10 = CID_list[5300:5900]\n",
    "#list11 = CID_list[5900:5905]\n",
    "#switched from intervals of 500 to intervals of 300 (integers get larger)\n",
    "#list12 = CID_list[6400:6700]\n",
    "#list13 = CID_list[6700:7000]\n",
    "#list14 = CID_list[7000:]\n",
    "#list15 = CID_list[7300:7600]\n",
    "#list16 = CID_list[7600:7900]\n",
    "#list17 = CID_list[7900:8200]\n",
    "#list18 = CID_list[8200:]\n",
    "\n",
    "#Changing list to str, dropping start/end brackets, removing spaces\n",
    "str1 = (str(list1)[1:-1])\n",
    "str1 = str1.replace(' ', '')\n",
    "str2 = (str(list2)[1:-1])\n",
    "str2 = str2.replace(' ', '')\n",
    "str3 = (str(list3)[1:-1])\n",
    "str3 = str3.replace(' ', '')\n",
    "str4 = (str(list4)[1:-1])\n",
    "str4 = str4.replace(' ', '')\n",
    "str5 = (str(list5)[1:-1])\n",
    "str5 = str5.replace(' ', '')\n",
    "str6 = (str(list6)[1:-1])\n",
    "str6 = str6.replace(' ', '')\n",
    "str7 = (str(list7)[1:-1])\n",
    "str7 = str7.replace(' ', '')\n",
    "str8 = (str(list8)[1:-1])\n",
    "str8 = str8.replace(' ', '')\n",
    "str9 = (str(list9)[1:-1])\n",
    "str9 = str9.replace(' ', '')\n",
    "str10 = (str(list10)[1:-1])\n",
    "str10 = str10.replace(' ', '')\n",
    "#str11 = (str(list11)[1:-1])\n",
    "#str11 = str11.replace(' ', '')\n",
    "#str12 = (str(list12)[1:-1])\n",
    "#str12 = str12.replace(' ', '')\n",
    "#str13 = (str(list13)[1:-1])\n",
    "#str13 = str13.replace(' ', '')\n",
    "#str14 = (str(list14)[1:-1])\n",
    "#str14 = str14.replace(' ', '')\n",
    "#str15 = (str(list15)[1:-1])\n",
    "#str15 = str15.replace(' ', '')\n",
    "#str16 = (str(list16)[1:-1])\n",
    "#str16 = str16.replace(' ', '')\n",
    "#str17 = (str(list17)[1:-1])\n",
    "#str17 = str17.replace(' ', '')\n",
    "#str18 = (str(list18)[1:-1])\n",
    "#str18 = str18.replace(' ', '')"
   ]
  },
  {
   "cell_type": "code",
   "execution_count": 14,
   "metadata": {},
   "outputs": [],
   "source": [
    "#opening and reading the 13 molecular formula URLs\n",
    "url1 = ('https://pubchem.ncbi.nlm.nih.gov/rest/pug/compound/cid/' + str1 + '/property/MolecularFormula/TXT')\n",
    "html1 = urlopen(url1) \n",
    "soup1 = BeautifulSoup(html1, 'lxml')\n",
    "url2 = ('https://pubchem.ncbi.nlm.nih.gov/rest/pug/compound/cid/' + str2 + '/property/MolecularFormula/TXT')\n",
    "html2 = urlopen(url2) \n",
    "soup2 = BeautifulSoup(html2, 'lxml')\n",
    "url3 = ('https://pubchem.ncbi.nlm.nih.gov/rest/pug/compound/cid/' + str3 + '/property/MolecularFormula/TXT')\n",
    "html3 = urlopen(url3) \n",
    "soup3 = BeautifulSoup(html3, 'lxml')\n",
    "url4 = ('https://pubchem.ncbi.nlm.nih.gov/rest/pug/compound/cid/' + str4 + '/property/MolecularFormula/TXT')\n",
    "html4 = urlopen(url4) \n",
    "soup4 = BeautifulSoup(html4, 'lxml')\n",
    "url5 = ('https://pubchem.ncbi.nlm.nih.gov/rest/pug/compound/cid/' + str5 + '/property/MolecularFormula/TXT')\n",
    "html5 = urlopen(url5) \n",
    "soup5 = BeautifulSoup(html5, 'lxml')\n",
    "url6 = ('https://pubchem.ncbi.nlm.nih.gov/rest/pug/compound/cid/' + str6 + '/property/MolecularFormula/TXT')\n",
    "html6 = urlopen(url6) \n",
    "soup6 = BeautifulSoup(html6, 'lxml')\n",
    "url7 = ('https://pubchem.ncbi.nlm.nih.gov/rest/pug/compound/cid/' + str7 + '/property/MolecularFormula/TXT')\n",
    "html7 = urlopen(url7) \n",
    "soup7 = BeautifulSoup(html7, 'lxml')\n",
    "url8 = ('https://pubchem.ncbi.nlm.nih.gov/rest/pug/compound/cid/' + str8 + '/property/MolecularFormula/TXT')\n",
    "html8 = urlopen(url8)\n",
    "soup8 = BeautifulSoup(html8, 'lxml')\n",
    "\n",
    "formulas1 = soup1.get_text()\n",
    "formulas2 = soup2.get_text()\n",
    "formulas3 = soup3.get_text()\n",
    "formulas4 = soup4.get_text()\n",
    "formulas5 = soup5.get_text()\n",
    "formulas6 = soup6.get_text()\n",
    "formulas7 = soup7.get_text()\n",
    "formulas8 = soup8.get_text()"
   ]
  },
  {
   "cell_type": "code",
   "execution_count": 40,
   "metadata": {},
   "outputs": [],
   "source": [
    "url9 = ('https://pubchem.ncbi.nlm.nih.gov/rest/pug/compound/cid/' + str9 + '/property/MolecularFormula/TXT')\n",
    "html9 = urlopen(url9) \n",
    "soup9 = BeautifulSoup(html9, 'lxml')\n",
    "url10 = ('https://pubchem.ncbi.nlm.nih.gov/rest/pug/compound/cid/' + str10 + '/property/MolecularFormula/TXT')\n",
    "html10 = urlopen(url10) \n",
    "soup10 = BeautifulSoup(html10, 'lxml')\n",
    "\n",
    "formulas9 = soup9.get_text()\n",
    "formulas10 = soup10.get_text()"
   ]
  },
  {
   "cell_type": "code",
   "execution_count": 41,
   "metadata": {},
   "outputs": [
    {
     "data": {
      "text/plain": [
       "5672"
      ]
     },
     "execution_count": 41,
     "metadata": {},
     "output_type": "execute_result"
    }
   ],
   "source": [
    "#total formulas string\n",
    "formula = formulas1 + formulas2 + formulas3 + formulas4 + formulas5 + formulas6 + formulas7 + formulas8 + formulas9 + formulas10 \n",
    "\n",
    "#formulas string to formulas list\n",
    "formula = formula.split()\n",
    "len(formula)"
   ]
  },
  {
   "cell_type": "markdown",
   "metadata": {},
   "source": [
    "# Downloading Molecular Weights"
   ]
  },
  {
   "cell_type": "code",
   "execution_count": 43,
   "metadata": {},
   "outputs": [],
   "source": [
    "#opening and reading the 13 molecular weight URLs\n",
    "url1 = ('https://pubchem.ncbi.nlm.nih.gov/rest/pug/compound/cid/' + str1 + '/property/MolecularWeight/TXT')\n",
    "html1 = urlopen(url1) \n",
    "soup1 = BeautifulSoup(html1, 'lxml')\n",
    "url2 = ('https://pubchem.ncbi.nlm.nih.gov/rest/pug/compound/cid/' + str2 + '/property/MolecularWeight/TXT')\n",
    "html2 = urlopen(url2) \n",
    "soup2 = BeautifulSoup(html2, 'lxml')\n",
    "url3 = ('https://pubchem.ncbi.nlm.nih.gov/rest/pug/compound/cid/' + str3 + '/property/MolecularWeight/TXT')\n",
    "html3 = urlopen(url3) \n",
    "soup3 = BeautifulSoup(html3, 'lxml')\n",
    "url4 = ('https://pubchem.ncbi.nlm.nih.gov/rest/pug/compound/cid/' + str4 + '/property/MolecularWeight/TXT')\n",
    "html4 = urlopen(url4) \n",
    "soup4 = BeautifulSoup(html4, 'lxml')\n",
    "url5 = ('https://pubchem.ncbi.nlm.nih.gov/rest/pug/compound/cid/' + str5 + '/property/MolecularWeight/TXT')\n",
    "html5 = urlopen(url5) \n",
    "soup5 = BeautifulSoup(html5, 'lxml')\n",
    "url6 = ('https://pubchem.ncbi.nlm.nih.gov/rest/pug/compound/cid/' + str6 + '/property/MolecularWeight/TXT')\n",
    "html6 = urlopen(url6) \n",
    "soup6 = BeautifulSoup(html6, 'lxml')\n",
    "url7 = ('https://pubchem.ncbi.nlm.nih.gov/rest/pug/compound/cid/' + str7 + '/property/MolecularWeight/TXT')\n",
    "html7 = urlopen(url7) \n",
    "soup7 = BeautifulSoup(html7, 'lxml')\n",
    "url8 = ('https://pubchem.ncbi.nlm.nih.gov/rest/pug/compound/cid/' + str8 + '/property/MolecularWeight/TXT')\n",
    "html8 = urlopen(url8)\n",
    "soup8 = BeautifulSoup(html8, 'lxml')\n",
    "\n",
    "weights1 = soup1.get_text()\n",
    "weights2 = soup2.get_text()\n",
    "weights3 = soup3.get_text()\n",
    "weights4 = soup4.get_text()\n",
    "weights5 = soup5.get_text()\n",
    "weights6 = soup6.get_text()\n",
    "weights7 = soup7.get_text()\n",
    "weights8 = soup8.get_text()"
   ]
  },
  {
   "cell_type": "code",
   "execution_count": 44,
   "metadata": {},
   "outputs": [],
   "source": [
    "url9 = ('https://pubchem.ncbi.nlm.nih.gov/rest/pug/compound/cid/' + str9 + '/property/MolecularWeight/TXT')\n",
    "html9 = urlopen(url9) \n",
    "soup9 = BeautifulSoup(html9, 'lxml')\n",
    "url10 = ('https://pubchem.ncbi.nlm.nih.gov/rest/pug/compound/cid/' + str10 + '/property/MolecularWeight/TXT')\n",
    "html10 = urlopen(url10) \n",
    "soup10 = BeautifulSoup(html10, 'lxml')\n",
    "\n",
    "weights9 = soup9.get_text()\n",
    "weights10 = soup10.get_text()"
   ]
  },
  {
   "cell_type": "code",
   "execution_count": 45,
   "metadata": {},
   "outputs": [
    {
     "data": {
      "text/plain": [
       "5672"
      ]
     },
     "execution_count": 45,
     "metadata": {},
     "output_type": "execute_result"
    }
   ],
   "source": [
    "#total weights string\n",
    "weights = weights1 + weights2 + weights3 + weights4 + weights5 + weights6 + weights7 + weights8 + weights9 + weights10 \n",
    "\n",
    "#weight string to weight list\n",
    "weights = weights.split()\n",
    "len(weights)"
   ]
  },
  {
   "cell_type": "markdown",
   "metadata": {},
   "source": [
    "# Downloading Hydrogen Bond Doner Count"
   ]
  },
  {
   "cell_type": "code",
   "execution_count": 46,
   "metadata": {},
   "outputs": [],
   "source": [
    "#opening and reading the 13 HBondDonorCount URLs\n",
    "url1 = ('https://pubchem.ncbi.nlm.nih.gov/rest/pug/compound/cid/' + str1 + '/property/HBondDonorCount/TXT')\n",
    "html1 = urlopen(url1) \n",
    "soup1 = BeautifulSoup(html1, 'lxml')\n",
    "url2 = ('https://pubchem.ncbi.nlm.nih.gov/rest/pug/compound/cid/' + str2 + '/property/HBondDonorCount/TXT')\n",
    "html2 = urlopen(url2) \n",
    "soup2 = BeautifulSoup(html2, 'lxml')\n",
    "url3 = ('https://pubchem.ncbi.nlm.nih.gov/rest/pug/compound/cid/' + str3 + '/property/HBondDonorCount/TXT')\n",
    "html3 = urlopen(url3) \n",
    "soup3 = BeautifulSoup(html3, 'lxml')\n",
    "url4 = ('https://pubchem.ncbi.nlm.nih.gov/rest/pug/compound/cid/' + str4 + '/property/HBondDonorCount/TXT')\n",
    "html4 = urlopen(url4) \n",
    "soup4 = BeautifulSoup(html4, 'lxml')\n",
    "url5 = ('https://pubchem.ncbi.nlm.nih.gov/rest/pug/compound/cid/' + str5 + '/property/HBondDonorCount/TXT')\n",
    "html5 = urlopen(url5) \n",
    "soup5 = BeautifulSoup(html5, 'lxml')\n",
    "url6 = ('https://pubchem.ncbi.nlm.nih.gov/rest/pug/compound/cid/' + str6 + '/property/HBondDonorCount/TXT')\n",
    "html6 = urlopen(url6) \n",
    "soup6 = BeautifulSoup(html6, 'lxml')\n",
    "url7 = ('https://pubchem.ncbi.nlm.nih.gov/rest/pug/compound/cid/' + str7 + '/property/HBondDonorCount/TXT')\n",
    "html7 = urlopen(url7) \n",
    "soup7 = BeautifulSoup(html7, 'lxml')\n",
    "url8 = ('https://pubchem.ncbi.nlm.nih.gov/rest/pug/compound/cid/' + str8 + '/property/HBondDonorCount/TXT')\n",
    "html8 = urlopen(url8)\n",
    "soup8 = BeautifulSoup(html8, 'lxml')\n",
    "\n",
    "HBondDonorCount1 = soup1.get_text()\n",
    "HBondDonorCount2 = soup2.get_text()\n",
    "HBondDonorCount3 = soup3.get_text()\n",
    "HBondDonorCount4 = soup4.get_text()\n",
    "HBondDonorCount5 = soup5.get_text()\n",
    "HBondDonorCount6 = soup6.get_text()\n",
    "HBondDonorCount7 = soup7.get_text()\n",
    "HBondDonorCount8 = soup8.get_text()"
   ]
  },
  {
   "cell_type": "code",
   "execution_count": 47,
   "metadata": {},
   "outputs": [],
   "source": [
    "url9 = ('https://pubchem.ncbi.nlm.nih.gov/rest/pug/compound/cid/' + str9 + '/property/HBondDonorCount/TXT')\n",
    "html9 = urlopen(url9) \n",
    "soup9 = BeautifulSoup(html9, 'lxml')\n",
    "url10 = ('https://pubchem.ncbi.nlm.nih.gov/rest/pug/compound/cid/' + str10 + '/property/HBondDonorCount/TXT')\n",
    "html10 = urlopen(url10) \n",
    "soup10 = BeautifulSoup(html10, 'lxml')\n",
    "\n",
    "HBondDonorCount9 = soup9.get_text()\n",
    "HBondDonorCount10 = soup10.get_text()"
   ]
  },
  {
   "cell_type": "code",
   "execution_count": 48,
   "metadata": {},
   "outputs": [
    {
     "data": {
      "text/plain": [
       "5672"
      ]
     },
     "execution_count": 48,
     "metadata": {},
     "output_type": "execute_result"
    }
   ],
   "source": [
    "#total HBondDonorCount string\n",
    "HBondDonorCount = HBondDonorCount1 + HBondDonorCount2 + HBondDonorCount3 + HBondDonorCount4 + HBondDonorCount5 + HBondDonorCount6 + HBondDonorCount7 + HBondDonorCount8 + HBondDonorCount9 + HBondDonorCount10\n",
    "\n",
    "#weight string to HBondDonorCount list\n",
    "HBondDonorCount = HBondDonorCount.split()\n",
    "len(HBondDonorCount)"
   ]
  },
  {
   "cell_type": "markdown",
   "metadata": {},
   "source": [
    "# Downloading Hydrogen Bond Acceptor Count"
   ]
  },
  {
   "cell_type": "code",
   "execution_count": 51,
   "metadata": {},
   "outputs": [],
   "source": [
    "#opening and reading the 13 HBondAcceptor URLs\n",
    "url1 = ('https://pubchem.ncbi.nlm.nih.gov/rest/pug/compound/cid/' + str1 + '/property/HBondAcceptorCount/TXT')\n",
    "html1 = urlopen(url1) \n",
    "soup1 = BeautifulSoup(html1, 'lxml')\n",
    "url2 = ('https://pubchem.ncbi.nlm.nih.gov/rest/pug/compound/cid/' + str2 + '/property/HBondAcceptorCount/TXT')\n",
    "html2 = urlopen(url2) \n",
    "soup2 = BeautifulSoup(html2, 'lxml')\n",
    "url3 = ('https://pubchem.ncbi.nlm.nih.gov/rest/pug/compound/cid/' + str3 + '/property/HBondAcceptorCount/TXT')\n",
    "html3 = urlopen(url3) \n",
    "soup3 = BeautifulSoup(html3, 'lxml')\n",
    "url4 = ('https://pubchem.ncbi.nlm.nih.gov/rest/pug/compound/cid/' + str4 + '/property/HBondAcceptorCount/TXT')\n",
    "html4 = urlopen(url4) \n",
    "soup4 = BeautifulSoup(html4, 'lxml')\n",
    "url5 = ('https://pubchem.ncbi.nlm.nih.gov/rest/pug/compound/cid/' + str5 + '/property/HBondAcceptorCount/TXT')\n",
    "html5 = urlopen(url5) \n",
    "soup5 = BeautifulSoup(html5, 'lxml')\n",
    "url6 = ('https://pubchem.ncbi.nlm.nih.gov/rest/pug/compound/cid/' + str6 + '/property/HBondAcceptorCount/TXT')\n",
    "html6 = urlopen(url6) \n",
    "soup6 = BeautifulSoup(html6, 'lxml')\n",
    "url7 = ('https://pubchem.ncbi.nlm.nih.gov/rest/pug/compound/cid/' + str7 + '/property/HBondAcceptorCount/TXT')\n",
    "html7 = urlopen(url7) \n",
    "soup7 = BeautifulSoup(html7, 'lxml')\n",
    "url8 = ('https://pubchem.ncbi.nlm.nih.gov/rest/pug/compound/cid/' + str8 + '/property/HBondAcceptorCount/TXT')\n",
    "html8 = urlopen(url8)\n",
    "soup8 = BeautifulSoup(html8, 'lxml')\n",
    "\n",
    "HBondAcceptorCount1 = soup1.get_text()\n",
    "HBondAcceptorCount2 = soup2.get_text()\n",
    "HBondAcceptorCount3 = soup3.get_text()\n",
    "HBondAcceptorCount4 = soup4.get_text()\n",
    "HBondAcceptorCount5 = soup5.get_text()\n",
    "HBondAcceptorCount6 = soup6.get_text()\n",
    "HBondAcceptorCount7 = soup7.get_text()\n",
    "HBondAcceptorCount8 = soup8.get_text()"
   ]
  },
  {
   "cell_type": "code",
   "execution_count": 52,
   "metadata": {},
   "outputs": [],
   "source": [
    "url9 = ('https://pubchem.ncbi.nlm.nih.gov/rest/pug/compound/cid/' + str9 + '/property/HBondAcceptorCount/TXT')\n",
    "html9 = urlopen(url9) \n",
    "soup9 = BeautifulSoup(html9, 'lxml')\n",
    "url10 = ('https://pubchem.ncbi.nlm.nih.gov/rest/pug/compound/cid/' + str10 + '/property/HBondAcceptorCount/TXT')\n",
    "html10 = urlopen(url10) \n",
    "soup10 = BeautifulSoup(html10, 'lxml')\n",
    "\n",
    "HBondAcceptorCount9 = soup9.get_text()\n",
    "HBondAcceptorCount10 = soup10.get_text()"
   ]
  },
  {
   "cell_type": "code",
   "execution_count": 54,
   "metadata": {},
   "outputs": [
    {
     "data": {
      "text/plain": [
       "5672"
      ]
     },
     "execution_count": 54,
     "metadata": {},
     "output_type": "execute_result"
    }
   ],
   "source": [
    "#total Acceptor string\n",
    "HBondAcceptorCount = HBondAcceptorCount1 + HBondAcceptorCount2 + HBondDonorCount3 + HBondAcceptorCount4 + HBondAcceptorCount5 + HBondAcceptorCount6 + HBondAcceptorCount7 + HBondDonorCount8 + HBondAcceptorCount9 + HBondAcceptorCount10 \n",
    "\n",
    "#weight string to Acceptor list\n",
    "HBondAcceptorCount = HBondAcceptorCount.split()\n",
    "len(HBondAcceptorCount)"
   ]
  },
  {
   "cell_type": "markdown",
   "metadata": {},
   "source": [
    "# Rotatable Bond Count"
   ]
  },
  {
   "cell_type": "code",
   "execution_count": 56,
   "metadata": {},
   "outputs": [
    {
     "data": {
      "text/plain": [
       "5672"
      ]
     },
     "execution_count": 56,
     "metadata": {},
     "output_type": "execute_result"
    }
   ],
   "source": [
    "#Getting list of Rotatable Bond Count values for all CID\n",
    "#We do this because some values don't have Rotatable Bond Values values\n",
    "#takes like an hr to run\n",
    "\n",
    "RotatableBondCount = []\n",
    "i = 0\n",
    "while i < len(CID_list):\n",
    "    try:\n",
    "    # (list_cov_multi[i] == '2'):\n",
    "        url1 = 'https://pubchem.ncbi.nlm.nih.gov/rest/pug/compound/cid/' + str(CID_list[i]) + '/property/RotatableBondCount/TXT'\n",
    "        html1 = urlopen(url1) \n",
    "        soup1 = BeautifulSoup(html1, 'lxml')\n",
    "        parent1 = soup1.get_text()\n",
    "        RotatableBondCount.append(parent1)\n",
    "        i = i + 1\n",
    "       # else:\n",
    "        #    i = i + 1\n",
    "    except:\n",
    "        time.sleep(1)\n",
    "        i = i\n",
    "        #XLogP.append('None')\n",
    "        #i = i + 1\n",
    "\n",
    "len(RotatableBondCount)"
   ]
  },
  {
   "cell_type": "code",
   "execution_count": 57,
   "metadata": {},
   "outputs": [],
   "source": [
    "#Removing '\\n from the end of each XLogP value in list: XLogP'\n",
    "bad_chars = ['\\n']\n",
    "\n",
    "i = 0\n",
    "while i < len(RotatableBondCount):\n",
    "    if RotatableBondCount[i] == 'None':\n",
    "        i = i + 1\n",
    "    else:\n",
    "        for j in bad_chars: \n",
    "            RotatableBondCount[i] = RotatableBondCount[i].replace(j, '')\n",
    "            i = i + 1\n"
   ]
  },
  {
   "cell_type": "markdown",
   "metadata": {},
   "source": [
    "# Downloading Canonical Smiles"
   ]
  },
  {
   "cell_type": "code",
   "execution_count": 58,
   "metadata": {},
   "outputs": [],
   "source": [
    "#opening and reading the 13 canonical SMILES URLs\n",
    "url1 = ('https://pubchem.ncbi.nlm.nih.gov/rest/pug/compound/cid/' + str1 + '/property/CanonicalSMILES/TXT')\n",
    "html1 = urlopen(url1) \n",
    "soup1 = BeautifulSoup(html1, 'lxml')\n",
    "url2 = ('https://pubchem.ncbi.nlm.nih.gov/rest/pug/compound/cid/' + str2 + '/property/CanonicalSMILES/TXT')\n",
    "html2 = urlopen(url2) \n",
    "soup2 = BeautifulSoup(html2, 'lxml')\n",
    "url3 = ('https://pubchem.ncbi.nlm.nih.gov/rest/pug/compound/cid/' + str3 + '/property/CanonicalSMILES/TXT')\n",
    "html3 = urlopen(url3) \n",
    "soup3 = BeautifulSoup(html3, 'lxml')\n",
    "url4 = ('https://pubchem.ncbi.nlm.nih.gov/rest/pug/compound/cid/' + str4 + '/property/CanonicalSMILES/TXT')\n",
    "html4 = urlopen(url4) \n",
    "soup4 = BeautifulSoup(html4, 'lxml')\n",
    "url5 = ('https://pubchem.ncbi.nlm.nih.gov/rest/pug/compound/cid/' + str5 + '/property/CanonicalSMILES/TXT')\n",
    "html5 = urlopen(url5) \n",
    "soup5 = BeautifulSoup(html5, 'lxml')\n",
    "url6 = ('https://pubchem.ncbi.nlm.nih.gov/rest/pug/compound/cid/' + str6 + '/property/CanonicalSMILES/TXT')\n",
    "html6 = urlopen(url6) \n",
    "soup6 = BeautifulSoup(html6, 'lxml')\n",
    "url7 = ('https://pubchem.ncbi.nlm.nih.gov/rest/pug/compound/cid/' + str7 + '/property/CanonicalSMILES/TXT')\n",
    "html7 = urlopen(url7) \n",
    "soup7 = BeautifulSoup(html7, 'lxml')\n",
    "url8 = ('https://pubchem.ncbi.nlm.nih.gov/rest/pug/compound/cid/' + str8 + '/property/CanonicalSMILES/TXT')\n",
    "html8 = urlopen(url8)\n",
    "soup8 = BeautifulSoup(html8, 'lxml')\n",
    "\n",
    "cSMILES1 = soup1.get_text()\n",
    "cSMILES2 = soup2.get_text()\n",
    "cSMILES3 = soup3.get_text()\n",
    "cSMILES4 = soup4.get_text()\n",
    "cSMILES5 = soup5.get_text()\n",
    "cSMILES6 = soup6.get_text()\n",
    "cSMILES7 = soup7.get_text()\n",
    "cSMILES8 = soup8.get_text()"
   ]
  },
  {
   "cell_type": "code",
   "execution_count": 59,
   "metadata": {},
   "outputs": [],
   "source": [
    "url9 = ('https://pubchem.ncbi.nlm.nih.gov/rest/pug/compound/cid/' + str9 + '/property/CanonicalSMILES/TXT')\n",
    "html9 = urlopen(url9) \n",
    "soup9 = BeautifulSoup(html9, 'lxml')\n",
    "url10 = ('https://pubchem.ncbi.nlm.nih.gov/rest/pug/compound/cid/' + str10 + '/property/CanonicalSMILES/TXT')\n",
    "html10 = urlopen(url10) \n",
    "soup10 = BeautifulSoup(html10, 'lxml')\n",
    "\n",
    "cSMILES9 = soup9.get_text()\n",
    "cSMILES10 = soup10.get_text()\n"
   ]
  },
  {
   "cell_type": "code",
   "execution_count": 60,
   "metadata": {},
   "outputs": [],
   "source": [
    "#total cSMILES string\n",
    "cSMILES = cSMILES1 + cSMILES2 + cSMILES3 + cSMILES4 + cSMILES5 + cSMILES6 + cSMILES7 + cSMILES8 + cSMILES9 + cSMILES10 \n",
    "\n",
    "#weight string to cSMILES list\n",
    "cSMILES = cSMILES.split()\n",
    "#len(cSMILES)"
   ]
  },
  {
   "cell_type": "markdown",
   "metadata": {},
   "source": [
    "# Downloading Isomeric Smiles"
   ]
  },
  {
   "cell_type": "code",
   "execution_count": 61,
   "metadata": {},
   "outputs": [],
   "source": [
    "#opening and reading the 13 canonical SMILES URLs\n",
    "url1 = ('https://pubchem.ncbi.nlm.nih.gov/rest/pug/compound/cid/' + str1 + '/property/IsomericSMILES/TXT')\n",
    "html1 = urlopen(url1) \n",
    "soup1 = BeautifulSoup(html1, 'lxml')\n",
    "url2 = ('https://pubchem.ncbi.nlm.nih.gov/rest/pug/compound/cid/' + str2 + '/property/IsomericSMILES/TXT')\n",
    "html2 = urlopen(url2) \n",
    "soup2 = BeautifulSoup(html2, 'lxml')\n",
    "url3 = ('https://pubchem.ncbi.nlm.nih.gov/rest/pug/compound/cid/' + str3 + '/property/IsomericSMILES/TXT')\n",
    "html3 = urlopen(url3) \n",
    "soup3 = BeautifulSoup(html3, 'lxml')\n",
    "url4 = ('https://pubchem.ncbi.nlm.nih.gov/rest/pug/compound/cid/' + str4 + '/property/IsomericSMILES/TXT')\n",
    "html4 = urlopen(url4) \n",
    "soup4 = BeautifulSoup(html4, 'lxml')\n",
    "url5 = ('https://pubchem.ncbi.nlm.nih.gov/rest/pug/compound/cid/' + str5 + '/property/IsomericSMILES/TXT')\n",
    "html5 = urlopen(url5) \n",
    "soup5 = BeautifulSoup(html5, 'lxml')\n",
    "url6 = ('https://pubchem.ncbi.nlm.nih.gov/rest/pug/compound/cid/' + str6 + '/property/IsomericSMILES/TXT')\n",
    "html6 = urlopen(url6) \n",
    "soup6 = BeautifulSoup(html6, 'lxml')\n",
    "url7 = ('https://pubchem.ncbi.nlm.nih.gov/rest/pug/compound/cid/' + str7 + '/property/IsomericSMILES/TXT')\n",
    "html7 = urlopen(url7) \n",
    "soup7 = BeautifulSoup(html7, 'lxml')\n",
    "url8 = ('https://pubchem.ncbi.nlm.nih.gov/rest/pug/compound/cid/' + str8 + '/property/IsomericSMILES/TXT')\n",
    "html8 = urlopen(url8)\n",
    "soup8 = BeautifulSoup(html8, 'lxml')\n",
    "\n",
    "iSMILES1 = soup1.get_text()\n",
    "iSMILES2 = soup2.get_text()\n",
    "iSMILES3 = soup3.get_text()\n",
    "iSMILES4 = soup4.get_text()\n",
    "iSMILES5 = soup5.get_text()\n",
    "iSMILES6 = soup6.get_text()\n",
    "iSMILES7 = soup7.get_text()\n",
    "iSMILES8 = soup8.get_text()"
   ]
  },
  {
   "cell_type": "code",
   "execution_count": 62,
   "metadata": {},
   "outputs": [],
   "source": [
    "url9 = ('https://pubchem.ncbi.nlm.nih.gov/rest/pug/compound/cid/' + str9 + '/property/IsomericSMILES/TXT')\n",
    "html9 = urlopen(url9) \n",
    "soup9 = BeautifulSoup(html9, 'lxml')\n",
    "url10 = ('https://pubchem.ncbi.nlm.nih.gov/rest/pug/compound/cid/' + str10 + '/property/IsomericSMILES/TXT')\n",
    "html10 = urlopen(url10) \n",
    "soup10 = BeautifulSoup(html10, 'lxml')\n",
    "\n",
    "iSMILES9 = soup9.get_text()\n",
    "iSMILES10 = soup10.get_text()\n"
   ]
  },
  {
   "cell_type": "code",
   "execution_count": 63,
   "metadata": {},
   "outputs": [
    {
     "data": {
      "text/plain": [
       "5672"
      ]
     },
     "execution_count": 63,
     "metadata": {},
     "output_type": "execute_result"
    }
   ],
   "source": [
    "#total iSMILES string\n",
    "iSMILES = iSMILES1 + iSMILES2 + iSMILES3 + iSMILES4 + iSMILES5 + iSMILES6 + iSMILES7 + iSMILES8 + iSMILES9 + iSMILES10 \n",
    "\n",
    "#weight string to iSMILES list\n",
    "iSMILES = iSMILES.split()\n",
    "len(iSMILES)"
   ]
  },
  {
   "cell_type": "markdown",
   "metadata": {},
   "source": [
    "# Downloading InChI (international chemical identifier)"
   ]
  },
  {
   "cell_type": "code",
   "execution_count": 64,
   "metadata": {},
   "outputs": [],
   "source": [
    "#opening and reading the 13 international chemical identifier (InChI) URLs\n",
    "url1 = ('https://pubchem.ncbi.nlm.nih.gov/rest/pug/compound/cid/' + str1 + '/property/InChI/TXT')\n",
    "html1 = urlopen(url1) \n",
    "soup1 = BeautifulSoup(html1, 'lxml')\n",
    "url2 = ('https://pubchem.ncbi.nlm.nih.gov/rest/pug/compound/cid/' + str2 + '/property/InChI/TXT')\n",
    "html2 = urlopen(url2) \n",
    "soup2 = BeautifulSoup(html2, 'lxml')\n",
    "url3 = ('https://pubchem.ncbi.nlm.nih.gov/rest/pug/compound/cid/' + str3 + '/property/InChI/TXT')\n",
    "html3 = urlopen(url3) \n",
    "soup3 = BeautifulSoup(html3, 'lxml')\n",
    "url4 = ('https://pubchem.ncbi.nlm.nih.gov/rest/pug/compound/cid/' + str4 + '/property/InChI/TXT')\n",
    "html4 = urlopen(url4) \n",
    "soup4 = BeautifulSoup(html4, 'lxml')\n",
    "url5 = ('https://pubchem.ncbi.nlm.nih.gov/rest/pug/compound/cid/' + str5 + '/property/InChI/TXT')\n",
    "html5 = urlopen(url5) \n",
    "soup5 = BeautifulSoup(html5, 'lxml')\n",
    "url6 = ('https://pubchem.ncbi.nlm.nih.gov/rest/pug/compound/cid/' + str6 + '/property/InChI/TXT')\n",
    "html6 = urlopen(url6) \n",
    "soup6 = BeautifulSoup(html6, 'lxml')\n",
    "url7 = ('https://pubchem.ncbi.nlm.nih.gov/rest/pug/compound/cid/' + str7 + '/property/InChI/TXT')\n",
    "html7 = urlopen(url7) \n",
    "soup7 = BeautifulSoup(html7, 'lxml')\n",
    "url8 = ('https://pubchem.ncbi.nlm.nih.gov/rest/pug/compound/cid/' + str8 + '/property/InChI/TXT')\n",
    "html8 = urlopen(url8)\n",
    "soup8 = BeautifulSoup(html8, 'lxml')\n",
    "\n",
    "InChI1 = soup1.get_text()\n",
    "InChI2 = soup2.get_text()\n",
    "InChI3 = soup3.get_text()\n",
    "InChI4 = soup4.get_text()\n",
    "InChI5 = soup5.get_text()\n",
    "InChI6 = soup6.get_text()\n",
    "InChI7 = soup7.get_text()\n",
    "InChI8 = soup8.get_text()"
   ]
  },
  {
   "cell_type": "code",
   "execution_count": 65,
   "metadata": {},
   "outputs": [],
   "source": [
    "url9 = ('https://pubchem.ncbi.nlm.nih.gov/rest/pug/compound/cid/' + str9 + '/property/InChI/TXT')\n",
    "html9 = urlopen(url9) \n",
    "soup9 = BeautifulSoup(html9, 'lxml')\n",
    "url10 = ('https://pubchem.ncbi.nlm.nih.gov/rest/pug/compound/cid/' + str10 + '/property/InChI/TXT')\n",
    "html10 = urlopen(url10) \n",
    "soup10 = BeautifulSoup(html10, 'lxml')\n",
    "\n",
    "InChI9 = soup9.get_text()\n",
    "InChI10 = soup10.get_text()"
   ]
  },
  {
   "cell_type": "code",
   "execution_count": 66,
   "metadata": {},
   "outputs": [
    {
     "data": {
      "text/plain": [
       "5672"
      ]
     },
     "execution_count": 66,
     "metadata": {},
     "output_type": "execute_result"
    }
   ],
   "source": [
    "#total InChI string\n",
    "InChI = InChI1 + InChI2 + InChI3 + InChI4 + InChI5 + InChI6 + InChI7 + InChI8 + InChI9 + InChI10 \n",
    "\n",
    "#weight string to InChI list\n",
    "InChI = InChI.split()\n",
    "len(InChI)"
   ]
  },
  {
   "cell_type": "markdown",
   "metadata": {},
   "source": [
    "# Downloading XLogP"
   ]
  },
  {
   "cell_type": "code",
   "execution_count": 67,
   "metadata": {},
   "outputs": [
    {
     "data": {
      "text/plain": [
       "5672"
      ]
     },
     "execution_count": 67,
     "metadata": {},
     "output_type": "execute_result"
    }
   ],
   "source": [
    "#Getting list of XLogP values for all CID\n",
    "#We do this because some values don't have XLogP values\n",
    "#takes like an hr to run\n",
    "\n",
    "XLogP = []\n",
    "i = 0\n",
    "while i < len(CID_list):\n",
    "    try:\n",
    "    # (list_cov_multi[i] == '2'):\n",
    "        url1 = 'https://pubchem.ncbi.nlm.nih.gov/rest/pug/compound/cid/' + str(CID_list[i]) + '/property/XLogP/TXT'\n",
    "        html1 = urlopen(url1) \n",
    "        soup1 = BeautifulSoup(html1, 'lxml')\n",
    "        parent1 = soup1.get_text()\n",
    "        XLogP.append(parent1)\n",
    "        i = i + 1\n",
    "       # else\n",
    "        #    i = i + 1\n",
    "    except:\n",
    "        time.sleep(1)\n",
    "        i = i\n",
    "        #XLogP.append('None')\n",
    "        #i = i + 1\n",
    "\n",
    "len(XLogP)"
   ]
  },
  {
   "cell_type": "code",
   "execution_count": 68,
   "metadata": {},
   "outputs": [],
   "source": [
    "#Removing '\\n from the end of each XLogP value in list: XLogP'\n",
    "bad_chars = ['\\n']\n",
    "\n",
    "i = 0\n",
    "while i < len(XLogP):\n",
    "    if XLogP[i] == 'None':\n",
    "        i = i + 1\n",
    "    else:\n",
    "        for j in bad_chars: \n",
    "            XLogP[i] = XLogP[i].replace(j, '')\n",
    "            i = i + 1\n"
   ]
  },
  {
   "cell_type": "markdown",
   "metadata": {},
   "source": [
    "# Downloading Exact Mass"
   ]
  },
  {
   "cell_type": "code",
   "execution_count": 69,
   "metadata": {},
   "outputs": [],
   "source": [
    "#opening and reading the 13 Exact Mass URLs\n",
    "url1 = ('https://pubchem.ncbi.nlm.nih.gov/rest/pug/compound/cid/' + str1 + '/property/ExactMass/TXT')\n",
    "html1 = urlopen(url1) \n",
    "soup1 = BeautifulSoup(html1, 'lxml')\n",
    "url2 = ('https://pubchem.ncbi.nlm.nih.gov/rest/pug/compound/cid/' + str2 + '/property/ExactMass/TXT')\n",
    "html2 = urlopen(url2) \n",
    "soup2 = BeautifulSoup(html2, 'lxml')\n",
    "url3 = ('https://pubchem.ncbi.nlm.nih.gov/rest/pug/compound/cid/' + str3 + '/property/ExactMass/TXT')\n",
    "html3 = urlopen(url3) \n",
    "soup3 = BeautifulSoup(html3, 'lxml')\n",
    "url4 = ('https://pubchem.ncbi.nlm.nih.gov/rest/pug/compound/cid/' + str4 + '/property/ExactMass/TXT')\n",
    "html4 = urlopen(url4) \n",
    "soup4 = BeautifulSoup(html4, 'lxml')\n",
    "url5 = ('https://pubchem.ncbi.nlm.nih.gov/rest/pug/compound/cid/' + str5 + '/property/ExactMass/TXT')\n",
    "html5 = urlopen(url5) \n",
    "soup5 = BeautifulSoup(html5, 'lxml')\n",
    "url6 = ('https://pubchem.ncbi.nlm.nih.gov/rest/pug/compound/cid/' + str6 + '/property/ExactMass/TXT')\n",
    "html6 = urlopen(url6) \n",
    "soup6 = BeautifulSoup(html6, 'lxml')\n",
    "url7 = ('https://pubchem.ncbi.nlm.nih.gov/rest/pug/compound/cid/' + str7 + '/property/ExactMass/TXT')\n",
    "html7 = urlopen(url7) \n",
    "soup7 = BeautifulSoup(html7, 'lxml')\n",
    "url8 = ('https://pubchem.ncbi.nlm.nih.gov/rest/pug/compound/cid/' + str8 + '/property/ExactMass/TXT')\n",
    "html8 = urlopen(url8)\n",
    "soup8 = BeautifulSoup(html8, 'lxml')\n",
    "\n",
    "eMass1 = soup1.get_text()\n",
    "eMass2 = soup2.get_text()\n",
    "eMass3 = soup3.get_text()\n",
    "eMass4 = soup4.get_text()\n",
    "eMass5 = soup5.get_text()\n",
    "eMass6 = soup6.get_text()\n",
    "eMass7 = soup7.get_text()\n",
    "eMass8 = soup8.get_text()"
   ]
  },
  {
   "cell_type": "code",
   "execution_count": 70,
   "metadata": {},
   "outputs": [],
   "source": [
    "url9 = ('https://pubchem.ncbi.nlm.nih.gov/rest/pug/compound/cid/' + str9 + '/property/ExactMass/TXT')\n",
    "html9 = urlopen(url9) \n",
    "soup9 = BeautifulSoup(html9, 'lxml')\n",
    "url10 = ('https://pubchem.ncbi.nlm.nih.gov/rest/pug/compound/cid/' + str10 + '/property/ExactMass/TXT')\n",
    "html10 = urlopen(url10) \n",
    "soup10 = BeautifulSoup(html10, 'lxml')\n",
    "\n",
    "eMass9 = soup9.get_text()\n",
    "eMass10 = soup10.get_text()"
   ]
  },
  {
   "cell_type": "code",
   "execution_count": 71,
   "metadata": {},
   "outputs": [
    {
     "data": {
      "text/plain": [
       "5672"
      ]
     },
     "execution_count": 71,
     "metadata": {},
     "output_type": "execute_result"
    }
   ],
   "source": [
    "#total eMass string\n",
    "eMass = eMass1 + eMass2 + eMass3 + eMass4 + eMass5 + eMass6 + eMass7 + eMass8 + eMass9 + eMass10 \n",
    "\n",
    "#weight string to eMass list\n",
    "eMass = eMass.split()\n",
    "len(eMass)"
   ]
  },
  {
   "cell_type": "markdown",
   "metadata": {},
   "source": [
    "# Downloading Topological Polar Surface Area (TPSA)"
   ]
  },
  {
   "cell_type": "code",
   "execution_count": 72,
   "metadata": {},
   "outputs": [],
   "source": [
    "#opening and reading the 13 Topological Polar Surface Area (TPSA) URLs\n",
    "url1 = ('https://pubchem.ncbi.nlm.nih.gov/rest/pug/compound/cid/' + str1 + '/property/TPSA/TXT')\n",
    "html1 = urlopen(url1) \n",
    "soup1 = BeautifulSoup(html1, 'lxml')\n",
    "url2 = ('https://pubchem.ncbi.nlm.nih.gov/rest/pug/compound/cid/' + str2 + '/property/TPSA/TXT')\n",
    "html2 = urlopen(url2) \n",
    "soup2 = BeautifulSoup(html2, 'lxml')\n",
    "url3 = ('https://pubchem.ncbi.nlm.nih.gov/rest/pug/compound/cid/' + str3 + '/property/TPSA/TXT')\n",
    "html3 = urlopen(url3) \n",
    "soup3 = BeautifulSoup(html3, 'lxml')\n",
    "url4 = ('https://pubchem.ncbi.nlm.nih.gov/rest/pug/compound/cid/' + str4 + '/property/TPSA/TXT')\n",
    "html4 = urlopen(url4) \n",
    "soup4 = BeautifulSoup(html4, 'lxml')\n",
    "url5 = ('https://pubchem.ncbi.nlm.nih.gov/rest/pug/compound/cid/' + str5 + '/property/TPSA/TXT')\n",
    "html5 = urlopen(url5) \n",
    "soup5 = BeautifulSoup(html5, 'lxml')\n",
    "url6 = ('https://pubchem.ncbi.nlm.nih.gov/rest/pug/compound/cid/' + str6 + '/property/TPSA/TXT')\n",
    "html6 = urlopen(url6) \n",
    "soup6 = BeautifulSoup(html6, 'lxml')\n",
    "url7 = ('https://pubchem.ncbi.nlm.nih.gov/rest/pug/compound/cid/' + str7 + '/property/TPSA/TXT')\n",
    "html7 = urlopen(url7) \n",
    "soup7 = BeautifulSoup(html7, 'lxml')\n",
    "url8 = ('https://pubchem.ncbi.nlm.nih.gov/rest/pug/compound/cid/' + str8 + '/property/TPSA/TXT')\n",
    "html8 = urlopen(url8)\n",
    "soup8 = BeautifulSoup(html8, 'lxml')\n",
    "\n",
    "TPSA1 = soup1.get_text()\n",
    "TPSA2 = soup2.get_text()\n",
    "TPSA3 = soup3.get_text()\n",
    "TPSA4 = soup4.get_text()\n",
    "TPSA5 = soup5.get_text()\n",
    "TPSA6 = soup6.get_text()\n",
    "TPSA7 = soup7.get_text()\n",
    "TPSA8 = soup8.get_text()"
   ]
  },
  {
   "cell_type": "code",
   "execution_count": 73,
   "metadata": {},
   "outputs": [],
   "source": [
    "url9 = ('https://pubchem.ncbi.nlm.nih.gov/rest/pug/compound/cid/' + str9 + '/property/TPSA/TXT')\n",
    "html9 = urlopen(url9) \n",
    "soup9 = BeautifulSoup(html9, 'lxml')\n",
    "url10 = ('https://pubchem.ncbi.nlm.nih.gov/rest/pug/compound/cid/' + str10 + '/property/TPSA/TXT')\n",
    "html10 = urlopen(url10) \n",
    "soup10 = BeautifulSoup(html10, 'lxml')\n",
    "\n",
    "TPSA9 = soup9.get_text()\n",
    "TPSA10 = soup10.get_text()"
   ]
  },
  {
   "cell_type": "code",
   "execution_count": 74,
   "metadata": {},
   "outputs": [
    {
     "data": {
      "text/plain": [
       "5672"
      ]
     },
     "execution_count": 74,
     "metadata": {},
     "output_type": "execute_result"
    }
   ],
   "source": [
    "#total TPSA string\n",
    "TPSA = TPSA1 + TPSA2 + TPSA3 + TPSA4 + TPSA5 + TPSA6 + TPSA7 + TPSA8 + TPSA9 + TPSA10 \n",
    "\n",
    "#weight string to TPSA list\n",
    "TPSA = TPSA.split()\n",
    "len(TPSA)"
   ]
  },
  {
   "cell_type": "markdown",
   "metadata": {},
   "source": [
    "# Downloading Heavy Atom Count"
   ]
  },
  {
   "cell_type": "code",
   "execution_count": 75,
   "metadata": {},
   "outputs": [],
   "source": [
    "#opening and reading the 13 HeavyAtomCount URLs\n",
    "url1 = ('https://pubchem.ncbi.nlm.nih.gov/rest/pug/compound/cid/' + str1 + '/property/HeavyAtomCount/TXT')\n",
    "html1 = urlopen(url1) \n",
    "soup1 = BeautifulSoup(html1, 'lxml')\n",
    "url2 = ('https://pubchem.ncbi.nlm.nih.gov/rest/pug/compound/cid/' + str2 + '/property/HeavyAtomCount/TXT')\n",
    "html2 = urlopen(url2) \n",
    "soup2 = BeautifulSoup(html2, 'lxml')\n",
    "url3 = ('https://pubchem.ncbi.nlm.nih.gov/rest/pug/compound/cid/' + str3 + '/property/HeavyAtomCount/TXT')\n",
    "html3 = urlopen(url3) \n",
    "soup3 = BeautifulSoup(html3, 'lxml')\n",
    "url4 = ('https://pubchem.ncbi.nlm.nih.gov/rest/pug/compound/cid/' + str4 + '/property/HeavyAtomCount/TXT')\n",
    "html4 = urlopen(url4) \n",
    "soup4 = BeautifulSoup(html4, 'lxml')\n",
    "url5 = ('https://pubchem.ncbi.nlm.nih.gov/rest/pug/compound/cid/' + str5 + '/property/HeavyAtomCount/TXT')\n",
    "html5 = urlopen(url5) \n",
    "soup5 = BeautifulSoup(html5, 'lxml')\n",
    "url6 = ('https://pubchem.ncbi.nlm.nih.gov/rest/pug/compound/cid/' + str6 + '/property/HeavyAtomCount/TXT')\n",
    "html6 = urlopen(url6) \n",
    "soup6 = BeautifulSoup(html6, 'lxml')\n",
    "url7 = ('https://pubchem.ncbi.nlm.nih.gov/rest/pug/compound/cid/' + str7 + '/property/HeavyAtomCount/TXT')\n",
    "html7 = urlopen(url7) \n",
    "soup7 = BeautifulSoup(html7, 'lxml')\n",
    "url8 = ('https://pubchem.ncbi.nlm.nih.gov/rest/pug/compound/cid/' + str8 + '/property/HeavyAtomCount/TXT')\n",
    "html8 = urlopen(url8)\n",
    "soup8 = BeautifulSoup(html8, 'lxml')\n",
    "\n",
    "HeavyAtomCount1 = soup1.get_text()\n",
    "HeavyAtomCount2 = soup2.get_text()\n",
    "HeavyAtomCount3 = soup3.get_text()\n",
    "HeavyAtomCount4 = soup4.get_text()\n",
    "HeavyAtomCount5 = soup5.get_text()\n",
    "HeavyAtomCount6 = soup6.get_text()\n",
    "HeavyAtomCount7 = soup7.get_text()\n",
    "HeavyAtomCount8 = soup8.get_text()"
   ]
  },
  {
   "cell_type": "code",
   "execution_count": 76,
   "metadata": {},
   "outputs": [],
   "source": [
    "url9 = ('https://pubchem.ncbi.nlm.nih.gov/rest/pug/compound/cid/' + str9 + '/property/HeavyAtomCount/TXT')\n",
    "html9 = urlopen(url9) \n",
    "soup9 = BeautifulSoup(html9, 'lxml')\n",
    "url10 = ('https://pubchem.ncbi.nlm.nih.gov/rest/pug/compound/cid/' + str10 + '/property/HeavyAtomCount/TXT')\n",
    "html10 = urlopen(url10) \n",
    "soup10 = BeautifulSoup(html10, 'lxml')\n",
    "\n",
    "HeavyAtomCount9 = soup9.get_text()\n",
    "HeavyAtomCount10 = soup10.get_text()"
   ]
  },
  {
   "cell_type": "code",
   "execution_count": 77,
   "metadata": {},
   "outputs": [
    {
     "data": {
      "text/plain": [
       "5672"
      ]
     },
     "execution_count": 77,
     "metadata": {},
     "output_type": "execute_result"
    }
   ],
   "source": [
    "#total HeavyAtomCount string\n",
    "HeavyAtomCount = HeavyAtomCount1 + HeavyAtomCount2 + HeavyAtomCount3 + HeavyAtomCount4 + HeavyAtomCount5 + HeavyAtomCount6 + HeavyAtomCount7 + HeavyAtomCount8 + HeavyAtomCount9 + HeavyAtomCount10 \n",
    "\n",
    "#weight string to HeavyAtomCount list\n",
    "HeavyAtomCount = HeavyAtomCount.split()\n",
    "len(HeavyAtomCount)"
   ]
  },
  {
   "cell_type": "markdown",
   "metadata": {},
   "source": [
    "# Downloading Complexity"
   ]
  },
  {
   "cell_type": "code",
   "execution_count": 78,
   "metadata": {},
   "outputs": [],
   "source": [
    "#opening and reading the 13 Complexity URLs\n",
    "url1 = ('https://pubchem.ncbi.nlm.nih.gov/rest/pug/compound/cid/' + str1 + '/property/Complexity/TXT')\n",
    "html1 = urlopen(url1) \n",
    "soup1 = BeautifulSoup(html1, 'lxml')\n",
    "url2 = ('https://pubchem.ncbi.nlm.nih.gov/rest/pug/compound/cid/' + str2 + '/property/Complexity/TXT')\n",
    "html2 = urlopen(url2) \n",
    "soup2 = BeautifulSoup(html2, 'lxml')\n",
    "url3 = ('https://pubchem.ncbi.nlm.nih.gov/rest/pug/compound/cid/' + str3 + '/property/Complexity/TXT')\n",
    "html3 = urlopen(url3) \n",
    "soup3 = BeautifulSoup(html3, 'lxml')\n",
    "url4 = ('https://pubchem.ncbi.nlm.nih.gov/rest/pug/compound/cid/' + str4 + '/property/Complexity/TXT')\n",
    "html4 = urlopen(url4) \n",
    "soup4 = BeautifulSoup(html4, 'lxml')\n",
    "url5 = ('https://pubchem.ncbi.nlm.nih.gov/rest/pug/compound/cid/' + str5 + '/property/Complexity/TXT')\n",
    "html5 = urlopen(url5) \n",
    "soup5 = BeautifulSoup(html5, 'lxml')\n",
    "url6 = ('https://pubchem.ncbi.nlm.nih.gov/rest/pug/compound/cid/' + str6 + '/property/Complexity/TXT')\n",
    "html6 = urlopen(url6) \n",
    "soup6 = BeautifulSoup(html6, 'lxml')\n",
    "url7 = ('https://pubchem.ncbi.nlm.nih.gov/rest/pug/compound/cid/' + str7 + '/property/Complexity/TXT')\n",
    "html7 = urlopen(url7) \n",
    "soup7 = BeautifulSoup(html7, 'lxml')\n",
    "url8 = ('https://pubchem.ncbi.nlm.nih.gov/rest/pug/compound/cid/' + str8 + '/property/Complexity/TXT')\n",
    "html8 = urlopen(url8)\n",
    "soup8 = BeautifulSoup(html8, 'lxml')\n",
    "\n",
    "Complexity1 = soup1.get_text()\n",
    "Complexity2 = soup2.get_text()\n",
    "Complexity3 = soup3.get_text()\n",
    "Complexity4 = soup4.get_text()\n",
    "Complexity5 = soup5.get_text()\n",
    "Complexity6 = soup6.get_text()\n",
    "Complexity7 = soup7.get_text()\n",
    "Complexity8 = soup8.get_text()"
   ]
  },
  {
   "cell_type": "code",
   "execution_count": 79,
   "metadata": {},
   "outputs": [],
   "source": [
    "url9 = ('https://pubchem.ncbi.nlm.nih.gov/rest/pug/compound/cid/' + str9 + '/property/Complexity/TXT')\n",
    "html9 = urlopen(url9) \n",
    "soup9 = BeautifulSoup(html9, 'lxml')\n",
    "url10 = ('https://pubchem.ncbi.nlm.nih.gov/rest/pug/compound/cid/' + str10 + '/property/Complexity/TXT')\n",
    "html10 = urlopen(url10) \n",
    "soup10 = BeautifulSoup(html10, 'lxml')\n",
    "\n",
    "Complexity9 = soup9.get_text()\n",
    "Complexity10 = soup10.get_text()"
   ]
  },
  {
   "cell_type": "code",
   "execution_count": 80,
   "metadata": {},
   "outputs": [
    {
     "data": {
      "text/plain": [
       "5672"
      ]
     },
     "execution_count": 80,
     "metadata": {},
     "output_type": "execute_result"
    }
   ],
   "source": [
    "#total Complexity string\n",
    "Complexity = Complexity1 + Complexity2 + Complexity3 + Complexity4 + Complexity5 + Complexity6 + Complexity7 + Complexity8 + Complexity9 + Complexity10 \n",
    "\n",
    "#weight string to Complexity list\n",
    "Complexity = Complexity.split()\n",
    "len(Complexity)"
   ]
  },
  {
   "cell_type": "markdown",
   "metadata": {},
   "source": [
    "# Adding molecular properties into DF"
   ]
  },
  {
   "cell_type": "code",
   "execution_count": 81,
   "metadata": {
    "scrolled": true
   },
   "outputs": [
    {
     "data": {
      "text/html": [
       "<div>\n",
       "<style scoped>\n",
       "    .dataframe tbody tr th:only-of-type {\n",
       "        vertical-align: middle;\n",
       "    }\n",
       "\n",
       "    .dataframe tbody tr th {\n",
       "        vertical-align: top;\n",
       "    }\n",
       "\n",
       "    .dataframe thead th {\n",
       "        text-align: right;\n",
       "    }\n",
       "</style>\n",
       "<table border=\"1\" class=\"dataframe\">\n",
       "  <thead>\n",
       "    <tr style=\"text-align: right;\">\n",
       "      <th></th>\n",
       "      <th>PUBCHEM_CID</th>\n",
       "      <th>Activity Outcome</th>\n",
       "      <th>MolecularFormula</th>\n",
       "      <th>MolecularWeight</th>\n",
       "      <th>HBondDonorCount</th>\n",
       "      <th>HBondAcceptorCount</th>\n",
       "      <th>RotatableBondCount</th>\n",
       "      <th>CanonicalSMILES</th>\n",
       "      <th>IsomericSMILES</th>\n",
       "      <th>InChI</th>\n",
       "      <th>XLogP</th>\n",
       "      <th>ExactMass</th>\n",
       "      <th>TPSA</th>\n",
       "      <th>HeavyAtomCount</th>\n",
       "      <th>Complexity</th>\n",
       "    </tr>\n",
       "  </thead>\n",
       "  <tbody>\n",
       "    <tr>\n",
       "      <th>0</th>\n",
       "      <td>4</td>\n",
       "      <td>inactive</td>\n",
       "      <td>C3H9NO</td>\n",
       "      <td>75.110000</td>\n",
       "      <td>2</td>\n",
       "      <td>2</td>\n",
       "      <td>1</td>\n",
       "      <td>CC(CN)O</td>\n",
       "      <td>CC(CN)O</td>\n",
       "      <td>InChI=1S/C3H9NO/c1-3(5)2-4/h3,5H,2,4H2,1H3</td>\n",
       "      <td>-1.000</td>\n",
       "      <td>75.068414</td>\n",
       "      <td>46.2</td>\n",
       "      <td>5</td>\n",
       "      <td>22.9</td>\n",
       "    </tr>\n",
       "    <tr>\n",
       "      <th>1</th>\n",
       "      <td>11</td>\n",
       "      <td>inactive</td>\n",
       "      <td>C2H4Cl2</td>\n",
       "      <td>98.960000</td>\n",
       "      <td>0</td>\n",
       "      <td>0</td>\n",
       "      <td>1</td>\n",
       "      <td>C(CCl)Cl</td>\n",
       "      <td>C(CCl)Cl</td>\n",
       "      <td>InChI=1S/C2H4Cl2/c3-1-2-4/h1-2H2</td>\n",
       "      <td>1.500</td>\n",
       "      <td>97.969005</td>\n",
       "      <td>0.0</td>\n",
       "      <td>4</td>\n",
       "      <td>6.0</td>\n",
       "    </tr>\n",
       "    <tr>\n",
       "      <th>2</th>\n",
       "      <td>13</td>\n",
       "      <td>inactive</td>\n",
       "      <td>C6H3Cl3</td>\n",
       "      <td>181.400000</td>\n",
       "      <td>0</td>\n",
       "      <td>0</td>\n",
       "      <td>0</td>\n",
       "      <td>C1=CC(=C(C=C1Cl)Cl)Cl</td>\n",
       "      <td>C1=CC(=C(C=C1Cl)Cl)Cl</td>\n",
       "      <td>InChI=1S/C6H3Cl3/c7-4-1-2-5(8)6(9)3-4/h1-3H</td>\n",
       "      <td>4.000</td>\n",
       "      <td>179.930033</td>\n",
       "      <td>0.0</td>\n",
       "      <td>9</td>\n",
       "      <td>94.3</td>\n",
       "    </tr>\n",
       "    <tr>\n",
       "      <th>3</th>\n",
       "      <td>33</td>\n",
       "      <td>inactive</td>\n",
       "      <td>C2H3ClO</td>\n",
       "      <td>78.500000</td>\n",
       "      <td>0</td>\n",
       "      <td>1</td>\n",
       "      <td>1</td>\n",
       "      <td>C(C=O)Cl</td>\n",
       "      <td>C(C=O)Cl</td>\n",
       "      <td>InChI=1S/C2H3ClO/c3-1-2-4/h2H,1H2</td>\n",
       "      <td>0.3</td>\n",
       "      <td>77.987242</td>\n",
       "      <td>17.1</td>\n",
       "      <td>4</td>\n",
       "      <td>20.0</td>\n",
       "    </tr>\n",
       "    <tr>\n",
       "      <th>4</th>\n",
       "      <td>34</td>\n",
       "      <td>inactive</td>\n",
       "      <td>C2H5ClO</td>\n",
       "      <td>80.510000</td>\n",
       "      <td>1</td>\n",
       "      <td>1</td>\n",
       "      <td>1</td>\n",
       "      <td>C(CCl)O</td>\n",
       "      <td>C(CCl)O</td>\n",
       "      <td>InChI=1S/C2H5ClO/c3-1-2-4/h4H,1-2H2</td>\n",
       "      <td>-0.100</td>\n",
       "      <td>80.002893</td>\n",
       "      <td>20.2</td>\n",
       "      <td>4</td>\n",
       "      <td>10.0</td>\n",
       "    </tr>\n",
       "  </tbody>\n",
       "</table>\n",
       "</div>"
      ],
      "text/plain": [
       "   PUBCHEM_CID Activity Outcome MolecularFormula MolecularWeight  \\\n",
       "0            4         inactive           C3H9NO       75.110000   \n",
       "1           11         inactive          C2H4Cl2       98.960000   \n",
       "2           13         inactive          C6H3Cl3      181.400000   \n",
       "3           33         inactive          C2H3ClO       78.500000   \n",
       "4           34         inactive          C2H5ClO       80.510000   \n",
       "\n",
       "  HBondDonorCount HBondAcceptorCount RotatableBondCount  \\\n",
       "0               2                  2                  1   \n",
       "1               0                  0                  1   \n",
       "2               0                  0                  0   \n",
       "3               0                  1                  1   \n",
       "4               1                  1                  1   \n",
       "\n",
       "         CanonicalSMILES         IsomericSMILES  \\\n",
       "0                CC(CN)O                CC(CN)O   \n",
       "1               C(CCl)Cl               C(CCl)Cl   \n",
       "2  C1=CC(=C(C=C1Cl)Cl)Cl  C1=CC(=C(C=C1Cl)Cl)Cl   \n",
       "3               C(C=O)Cl               C(C=O)Cl   \n",
       "4                C(CCl)O                C(CCl)O   \n",
       "\n",
       "                                         InChI   XLogP   ExactMass  TPSA  \\\n",
       "0   InChI=1S/C3H9NO/c1-3(5)2-4/h3,5H,2,4H2,1H3  -1.000   75.068414  46.2   \n",
       "1             InChI=1S/C2H4Cl2/c3-1-2-4/h1-2H2   1.500   97.969005   0.0   \n",
       "2  InChI=1S/C6H3Cl3/c7-4-1-2-5(8)6(9)3-4/h1-3H   4.000  179.930033   0.0   \n",
       "3            InChI=1S/C2H3ClO/c3-1-2-4/h2H,1H2     0.3   77.987242  17.1   \n",
       "4          InChI=1S/C2H5ClO/c3-1-2-4/h4H,1-2H2  -0.100   80.002893  20.2   \n",
       "\n",
       "  HeavyAtomCount Complexity  \n",
       "0              5       22.9  \n",
       "1              4        6.0  \n",
       "2              9       94.3  \n",
       "3              4       20.0  \n",
       "4              4       10.0  "
      ]
     },
     "execution_count": 81,
     "metadata": {},
     "output_type": "execute_result"
    }
   ],
   "source": [
    "#Making a copy of the original data dataframe\n",
    "df_full = data\n",
    "df_full['MolecularFormula'] = formula\n",
    "df_full['MolecularWeight'] = weights\n",
    "df_full['HBondDonorCount'] = HBondDonorCount\n",
    "df_full['HBondAcceptorCount'] = HBondAcceptorCount\n",
    "df_full['RotatableBondCount'] = RotatableBondCount\n",
    "df_full['CanonicalSMILES'] = cSMILES\n",
    "df_full['IsomericSMILES'] = iSMILES\n",
    "df_full['InChI'] = InChI\n",
    "df_full['XLogP'] = XLogP\n",
    "df_full['ExactMass'] = eMass\n",
    "df_full['TPSA'] = TPSA\n",
    "df_full['HeavyAtomCount'] = HeavyAtomCount\n",
    "df_full['Complexity'] = Complexity\n",
    "df_full.head()"
   ]
  },
  {
   "cell_type": "code",
   "execution_count": 82,
   "metadata": {},
   "outputs": [],
   "source": [
    "#Writing to csv\n",
    "df_full.to_csv('Molecular_Properties_CSV', index = False)\n",
    "final = pd.read_csv('Molecular_Properties_CSV')\n",
    "#final.head()"
   ]
  },
  {
   "cell_type": "code",
   "execution_count": 88,
   "metadata": {},
   "outputs": [
    {
     "data": {
      "text/plain": [
       "(5672, 15)"
      ]
     },
     "execution_count": 88,
     "metadata": {},
     "output_type": "execute_result"
    }
   ],
   "source": [
    "df_full.shape"
   ]
  },
  {
   "cell_type": "code",
   "execution_count": null,
   "metadata": {},
   "outputs": [],
   "source": []
  },
  {
   "cell_type": "code",
   "execution_count": null,
   "metadata": {},
   "outputs": [],
   "source": []
  }
 ],
 "metadata": {
  "kernelspec": {
   "display_name": "Python 3",
   "language": "python",
   "name": "python3"
  },
  "language_info": {
   "codemirror_mode": {
    "name": "ipython",
    "version": 3
   },
   "file_extension": ".py",
   "mimetype": "text/x-python",
   "name": "python",
   "nbconvert_exporter": "python",
   "pygments_lexer": "ipython3",
   "version": "3.6.8"
  }
 },
 "nbformat": 4,
 "nbformat_minor": 2
}

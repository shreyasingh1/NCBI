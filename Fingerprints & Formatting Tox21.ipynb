{
 "cells": [
  {
   "cell_type": "code",
   "execution_count": 1,
   "metadata": {},
   "outputs": [
    {
     "data": {
      "text/html": [
       "<div>\n",
       "<style scoped>\n",
       "    .dataframe tbody tr th:only-of-type {\n",
       "        vertical-align: middle;\n",
       "    }\n",
       "\n",
       "    .dataframe tbody tr th {\n",
       "        vertical-align: top;\n",
       "    }\n",
       "\n",
       "    .dataframe thead th {\n",
       "        text-align: right;\n",
       "    }\n",
       "</style>\n",
       "<table border=\"1\" class=\"dataframe\">\n",
       "  <thead>\n",
       "    <tr style=\"text-align: right;\">\n",
       "      <th></th>\n",
       "      <th>PC1</th>\n",
       "      <th>PC2</th>\n",
       "      <th>PC3</th>\n",
       "      <th>PC4</th>\n",
       "      <th>PC5</th>\n",
       "      <th>PC6</th>\n",
       "      <th>PC7</th>\n",
       "      <th>PC8</th>\n",
       "      <th>Activity Summary</th>\n",
       "      <th>PUBCHEM_CID</th>\n",
       "      <th>...</th>\n",
       "      <th>InChI</th>\n",
       "      <th>XLogP</th>\n",
       "      <th>ExactMass</th>\n",
       "      <th>TPSA</th>\n",
       "      <th>HBondDonorCount</th>\n",
       "      <th>HBondAcceptorCount</th>\n",
       "      <th>RotatableBondCount</th>\n",
       "      <th>HeavyAtomCount</th>\n",
       "      <th>Complexity</th>\n",
       "      <th>target</th>\n",
       "    </tr>\n",
       "  </thead>\n",
       "  <tbody>\n",
       "    <tr>\n",
       "      <th>0</th>\n",
       "      <td>-1.094361</td>\n",
       "      <td>-1.010855</td>\n",
       "      <td>-0.418947</td>\n",
       "      <td>0.716336</td>\n",
       "      <td>-0.229695</td>\n",
       "      <td>0.171622</td>\n",
       "      <td>0.396022</td>\n",
       "      <td>-0.003879</td>\n",
       "      <td>active antagonist</td>\n",
       "      <td>1807.0</td>\n",
       "      <td>...</td>\n",
       "      <td>InChI=1S/C4H6BrNO4/c5-4(6(7)8)1-9-3-10-2-4/h1-3H2</td>\n",
       "      <td>0.3</td>\n",
       "      <td>210.948020</td>\n",
       "      <td>64.3</td>\n",
       "      <td>0.0</td>\n",
       "      <td>4.0</td>\n",
       "      <td>0.0</td>\n",
       "      <td>10.0</td>\n",
       "      <td>139.0</td>\n",
       "      <td>1</td>\n",
       "    </tr>\n",
       "    <tr>\n",
       "      <th>1</th>\n",
       "      <td>-0.967952</td>\n",
       "      <td>0.059745</td>\n",
       "      <td>-0.732712</td>\n",
       "      <td>-0.256905</td>\n",
       "      <td>0.329542</td>\n",
       "      <td>-0.102167</td>\n",
       "      <td>0.539707</td>\n",
       "      <td>-0.125613</td>\n",
       "      <td>active antagonist</td>\n",
       "      <td>2453.0</td>\n",
       "      <td>...</td>\n",
       "      <td>InChI=1S/C9H5Br2NO/c10-6-4-7(11)9(13)8-5(6)2-1...</td>\n",
       "      <td>3.2</td>\n",
       "      <td>302.871740</td>\n",
       "      <td>33.1</td>\n",
       "      <td>1.0</td>\n",
       "      <td>2.0</td>\n",
       "      <td>0.0</td>\n",
       "      <td>13.0</td>\n",
       "      <td>191.0</td>\n",
       "      <td>1</td>\n",
       "    </tr>\n",
       "    <tr>\n",
       "      <th>2</th>\n",
       "      <td>1.307136</td>\n",
       "      <td>0.361127</td>\n",
       "      <td>-0.924566</td>\n",
       "      <td>0.668585</td>\n",
       "      <td>0.188939</td>\n",
       "      <td>0.031031</td>\n",
       "      <td>0.035399</td>\n",
       "      <td>0.041305</td>\n",
       "      <td>active antagonist</td>\n",
       "      <td>2662.0</td>\n",
       "      <td>...</td>\n",
       "      <td>InChI=1S/C17H14F3N3O2S/c1-11-2-4-12(5-3-11)15-...</td>\n",
       "      <td>3.4</td>\n",
       "      <td>381.075882</td>\n",
       "      <td>86.4</td>\n",
       "      <td>1.0</td>\n",
       "      <td>7.0</td>\n",
       "      <td>3.0</td>\n",
       "      <td>26.0</td>\n",
       "      <td>577.0</td>\n",
       "      <td>1</td>\n",
       "    </tr>\n",
       "    <tr>\n",
       "      <th>3</th>\n",
       "      <td>-1.197937</td>\n",
       "      <td>0.028640</td>\n",
       "      <td>-0.648810</td>\n",
       "      <td>-0.209172</td>\n",
       "      <td>0.471945</td>\n",
       "      <td>0.045566</td>\n",
       "      <td>0.092518</td>\n",
       "      <td>-0.007220</td>\n",
       "      <td>active antagonist</td>\n",
       "      <td>2722.0</td>\n",
       "      <td>...</td>\n",
       "      <td>InChI=1S/C9H5Cl2NO/c10-6-4-7(11)9(13)8-5(6)2-1...</td>\n",
       "      <td>3.5</td>\n",
       "      <td>212.974819</td>\n",
       "      <td>33.1</td>\n",
       "      <td>1.0</td>\n",
       "      <td>2.0</td>\n",
       "      <td>0.0</td>\n",
       "      <td>13.0</td>\n",
       "      <td>191.0</td>\n",
       "      <td>1</td>\n",
       "    </tr>\n",
       "    <tr>\n",
       "      <th>4</th>\n",
       "      <td>-0.311095</td>\n",
       "      <td>1.570631</td>\n",
       "      <td>-0.634133</td>\n",
       "      <td>-0.362545</td>\n",
       "      <td>-0.218601</td>\n",
       "      <td>-0.260847</td>\n",
       "      <td>0.100778</td>\n",
       "      <td>0.226042</td>\n",
       "      <td>active antagonist</td>\n",
       "      <td>2812.0</td>\n",
       "      <td>...</td>\n",
       "      <td>InChI=1S/C22H17ClN2/c23-21-14-8-7-13-20(21)22(...</td>\n",
       "      <td>5.0</td>\n",
       "      <td>344.108026</td>\n",
       "      <td>17.8</td>\n",
       "      <td>0.0</td>\n",
       "      <td>1.0</td>\n",
       "      <td>4.0</td>\n",
       "      <td>25.0</td>\n",
       "      <td>396.0</td>\n",
       "      <td>1</td>\n",
       "    </tr>\n",
       "  </tbody>\n",
       "</table>\n",
       "<p>5 rows × 26 columns</p>\n",
       "</div>"
      ],
      "text/plain": [
       "        PC1       PC2       PC3       PC4       PC5       PC6       PC7  \\\n",
       "0 -1.094361 -1.010855 -0.418947  0.716336 -0.229695  0.171622  0.396022   \n",
       "1 -0.967952  0.059745 -0.732712 -0.256905  0.329542 -0.102167  0.539707   \n",
       "2  1.307136  0.361127 -0.924566  0.668585  0.188939  0.031031  0.035399   \n",
       "3 -1.197937  0.028640 -0.648810 -0.209172  0.471945  0.045566  0.092518   \n",
       "4 -0.311095  1.570631 -0.634133 -0.362545 -0.218601 -0.260847  0.100778   \n",
       "\n",
       "        PC8   Activity Summary  PUBCHEM_CID  ...  \\\n",
       "0 -0.003879  active antagonist       1807.0  ...   \n",
       "1 -0.125613  active antagonist       2453.0  ...   \n",
       "2  0.041305  active antagonist       2662.0  ...   \n",
       "3 -0.007220  active antagonist       2722.0  ...   \n",
       "4  0.226042  active antagonist       2812.0  ...   \n",
       "\n",
       "                                               InChI  XLogP   ExactMass  TPSA  \\\n",
       "0  InChI=1S/C4H6BrNO4/c5-4(6(7)8)1-9-3-10-2-4/h1-3H2    0.3  210.948020  64.3   \n",
       "1  InChI=1S/C9H5Br2NO/c10-6-4-7(11)9(13)8-5(6)2-1...    3.2  302.871740  33.1   \n",
       "2  InChI=1S/C17H14F3N3O2S/c1-11-2-4-12(5-3-11)15-...    3.4  381.075882  86.4   \n",
       "3  InChI=1S/C9H5Cl2NO/c10-6-4-7(11)9(13)8-5(6)2-1...    3.5  212.974819  33.1   \n",
       "4  InChI=1S/C22H17ClN2/c23-21-14-8-7-13-20(21)22(...    5.0  344.108026  17.8   \n",
       "\n",
       "  HBondDonorCount HBondAcceptorCount RotatableBondCount  HeavyAtomCount  \\\n",
       "0             0.0                4.0                0.0            10.0   \n",
       "1             1.0                2.0                0.0            13.0   \n",
       "2             1.0                7.0                3.0            26.0   \n",
       "3             1.0                2.0                0.0            13.0   \n",
       "4             0.0                1.0                4.0            25.0   \n",
       "\n",
       "   Complexity  target  \n",
       "0       139.0       1  \n",
       "1       191.0       1  \n",
       "2       577.0       1  \n",
       "3       191.0       1  \n",
       "4       396.0       1  \n",
       "\n",
       "[5 rows x 26 columns]"
      ]
     },
     "execution_count": 1,
     "metadata": {},
     "output_type": "execute_result"
    }
   ],
   "source": [
    "from rdkit import Chem\n",
    "from rdkit import DataStructs\n",
    "from rdkit.Chem import MACCSkeys\n",
    "from rdkit.Chem import AllChem\n",
    "from rdkit.Chem.Fingerprints import FingerprintMols\n",
    "\n",
    "import urllib\n",
    "from urllib.request import urlopen\n",
    "from bs4 import BeautifulSoup\n",
    "\n",
    "import numpy as np\n",
    "import pandas as pd\n",
    "import matplotlib.pyplot as plt\n",
    "import seaborn as sns\n",
    "%matplotlib inline\n",
    "\n",
    "#hiding warning messages\n",
    "import warnings\n",
    "warnings.filterwarnings(\"ignore\")\n",
    "\n",
    "#Reading in Molecular Properties CSV\n",
    "data = pd.read_csv('Downsampled_Tox21_Full')\n",
    "#data = data.astype(float, errors = 'ignore')\n",
    "data.head()"
   ]
  },
  {
   "cell_type": "markdown",
   "metadata": {},
   "source": [
    "# MACCS Keys"
   ]
  },
  {
   "cell_type": "code",
   "execution_count": 2,
   "metadata": {},
   "outputs": [
    {
     "data": {
      "text/plain": [
       "'C1C(COCO1)([N+](=O)[O-])Br'"
      ]
     },
     "execution_count": 2,
     "metadata": {},
     "output_type": "execute_result"
    }
   ],
   "source": [
    "#Making list of isomericSMILES identifiers\n",
    "iSMILES = data['IsomericSMILES']\n",
    "iSMILES[0]"
   ]
  },
  {
   "cell_type": "code",
   "execution_count": 3,
   "metadata": {},
   "outputs": [],
   "source": [
    "#Making list of molecules from iSMILES\n",
    "i = 0\n",
    "ms = []\n",
    "while (i < len(iSMILES)):\n",
    "    molecule = Chem.MolFromSmiles(iSMILES[i])\n",
    "    ms.append(molecule)\n",
    "    i = i + 1"
   ]
  },
  {
   "cell_type": "code",
   "execution_count": 4,
   "metadata": {},
   "outputs": [],
   "source": [
    "#Getting MACCS fingerprints list\n",
    "#Turning fingerprints to bit strings\n",
    "maccs_fps = [MACCSkeys.GenMACCSKeys(x).ToBitString()[1:] for x in ms ]"
   ]
  },
  {
   "cell_type": "markdown",
   "metadata": {},
   "source": [
    "# Topological Fingerprint (Daylight Analogue)"
   ]
  },
  {
   "cell_type": "code",
   "execution_count": 5,
   "metadata": {},
   "outputs": [],
   "source": [
    "from rdkit.Chem import rdmolops\n",
    "\n",
    "#getting list of topological fingerprints\n",
    "top_fps = [rdmolops.RDKFingerprint(x, fpSize=2048, minPath=1, maxPath=7).ToBitString() for x in ms]"
   ]
  },
  {
   "cell_type": "markdown",
   "metadata": {},
   "source": [
    "# Morgan Fingerprint (ECFP)"
   ]
  },
  {
   "cell_type": "code",
   "execution_count": 6,
   "metadata": {},
   "outputs": [],
   "source": [
    "from rdkit.Chem import AllChem\n",
    "\n",
    "#getting morgan ecfp fingerprint\n",
    "ecfp_fps = [AllChem.GetMorganFingerprintAsBitVect(x,4,nBits=1024).ToBitString() for x in ms]"
   ]
  },
  {
   "cell_type": "markdown",
   "metadata": {},
   "source": [
    "# Morgan Fingerprint (FCFP)"
   ]
  },
  {
   "cell_type": "code",
   "execution_count": 7,
   "metadata": {},
   "outputs": [],
   "source": [
    "fcfp_fps = [AllChem.GetMorganFingerprintAsBitVect(x,4,nBits=1024,useFeatures=True).ToBitString() for x in ms]"
   ]
  },
  {
   "cell_type": "markdown",
   "metadata": {},
   "source": [
    "# PubChem FP Decoding"
   ]
  },
  {
   "cell_type": "code",
   "execution_count": 8,
   "metadata": {},
   "outputs": [],
   "source": [
    "#Getting CID list\n",
    "CID_list = data['PUBCHEM_CID']\n",
    "\n",
    "#Making them integers (removing decimals)\n",
    "CID_list = [int(i) for i in CID_list]\n",
    "\n",
    "list1 = CID_list[:600]\n",
    "list2 = CID_list[600:]\n",
    "\n",
    "#Changing list to str, dropping start/end brackets, removing spaces\n",
    "str1 = (str(list1)[1:-1])\n",
    "str1 = str1.replace(' ', '')\n",
    "str2 = (str(list2)[1:-1])\n",
    "str2 = str2.replace(' ', '')\n"
   ]
  },
  {
   "cell_type": "code",
   "execution_count": 9,
   "metadata": {},
   "outputs": [],
   "source": [
    "#Getting the Pubchem Fingerprints for each CID\n",
    "\n",
    "#opening and reading the 1URLs\n",
    "url1 = ('https://pubchem.ncbi.nlm.nih.gov/rest/pug/compound/cid/' + str1 + '/property/Fingerprint2D/TXT')\n",
    "html1 = urlopen(url1) \n",
    "soup1 = BeautifulSoup(html1, 'lxml')\n",
    "url2 = ('https://pubchem.ncbi.nlm.nih.gov/rest/pug/compound/cid/' + str2 + '/property/Fingerprint2D/TXT')\n",
    "html2 = urlopen(url2) \n",
    "soup2 = BeautifulSoup(html2, 'lxml')\n",
    "\n",
    "pub_fp1 = soup1.get_text()\n",
    "pub_fp2 = soup2.get_text()\n",
    "\n",
    "#total pub_fp string\n",
    "pub_fp = pub_fp1 + pub_fp2 \n",
    "\n",
    "#pub_fp string to pub_fp list\n",
    "pub_fp = pub_fp.split()"
   ]
  },
  {
   "cell_type": "code",
   "execution_count": 10,
   "metadata": {},
   "outputs": [],
   "source": [
    "#Decoding Fingerprints\n",
    "from base64 import b64decode\n",
    "\n",
    "def PCFP_BitString(pcfp_base64) :\n",
    "\n",
    "    pcfp_bitstring = \"\".join( [\"{:08b}\".format(x) for x in b64decode( pcfp_base64 )] )[32:913]\n",
    "    return pcfp_bitstring\n",
    "\n",
    "i = 0\n",
    "pub_fp_decoded = []\n",
    "while (i < len(pub_fp)):\n",
    "    fp = PCFP_BitString(pub_fp[i])\n",
    "    pub_fp_decoded.append(fp)\n",
    "    i = i + 1"
   ]
  },
  {
   "cell_type": "markdown",
   "metadata": {},
   "source": [
    "# FinalDFTox21"
   ]
  },
  {
   "cell_type": "code",
   "execution_count": 11,
   "metadata": {
    "scrolled": true
   },
   "outputs": [
    {
     "data": {
      "text/html": [
       "<div>\n",
       "<style scoped>\n",
       "    .dataframe tbody tr th:only-of-type {\n",
       "        vertical-align: middle;\n",
       "    }\n",
       "\n",
       "    .dataframe tbody tr th {\n",
       "        vertical-align: top;\n",
       "    }\n",
       "\n",
       "    .dataframe thead th {\n",
       "        text-align: right;\n",
       "    }\n",
       "</style>\n",
       "<table border=\"1\" class=\"dataframe\">\n",
       "  <thead>\n",
       "    <tr style=\"text-align: right;\">\n",
       "      <th></th>\n",
       "      <th>Name</th>\n",
       "      <th>MACCS</th>\n",
       "      <th>Topological</th>\n",
       "      <th>Morgan ECFP</th>\n",
       "      <th>Morgan FCFP</th>\n",
       "      <th>Pubchem FP</th>\n",
       "      <th>Activity</th>\n",
       "    </tr>\n",
       "  </thead>\n",
       "  <tbody>\n",
       "    <tr>\n",
       "      <th>0</th>\n",
       "      <td>1807.0</td>\n",
       "      <td>0000000000000000000000010001000000000000000001...</td>\n",
       "      <td>0000010000000000000000000000000010001000000000...</td>\n",
       "      <td>0000000000000000000000000000000100001000000000...</td>\n",
       "      <td>1010000010000000100000000010000000000000000000...</td>\n",
       "      <td>1000000001100010001110000000000000000000000100...</td>\n",
       "      <td>1</td>\n",
       "    </tr>\n",
       "    <tr>\n",
       "      <th>1</th>\n",
       "      <td>2453.0</td>\n",
       "      <td>0000000000000000000000000000000000000000000001...</td>\n",
       "      <td>1000010000010000000001000100100000100000000010...</td>\n",
       "      <td>0000000000000000000100000000000000000000000000...</td>\n",
       "      <td>0001101010000000000000000000000000000001000000...</td>\n",
       "      <td>1000000001110010001000000000000000000000000110...</td>\n",
       "      <td>1</td>\n",
       "    </tr>\n",
       "    <tr>\n",
       "      <th>2</th>\n",
       "      <td>2662.0</td>\n",
       "      <td>0000000000000000000000000000000110000000010000...</td>\n",
       "      <td>1111010010100000101110100011001101001001100100...</td>\n",
       "      <td>0000100000000000000000000000000001000000000000...</td>\n",
       "      <td>1110101011000000000000000000000000000000000000...</td>\n",
       "      <td>1100000001111011001100011000000001000000000000...</td>\n",
       "      <td>1</td>\n",
       "    </tr>\n",
       "    <tr>\n",
       "      <th>3</th>\n",
       "      <td>2722.0</td>\n",
       "      <td>0000000000000000000000000000000000000000000000...</td>\n",
       "      <td>1000010010010000100010000110000000100000010010...</td>\n",
       "      <td>0000000000000000000100000000000000000000000000...</td>\n",
       "      <td>0001101010000000000000000000000000000001000000...</td>\n",
       "      <td>1000000001110010001000000000000000000110000000...</td>\n",
       "      <td>1</td>\n",
       "    </tr>\n",
       "    <tr>\n",
       "      <th>4</th>\n",
       "      <td>2812.0</td>\n",
       "      <td>0000000000000000000000000000000000000000000000...</td>\n",
       "      <td>0001011100000101101010001001010110110000000000...</td>\n",
       "      <td>0100000010000000000000100000000000000000000000...</td>\n",
       "      <td>1000101010001100001000000000000000000000000000...</td>\n",
       "      <td>1110000001111011000000000000000000000100000000...</td>\n",
       "      <td>1</td>\n",
       "    </tr>\n",
       "  </tbody>\n",
       "</table>\n",
       "</div>"
      ],
      "text/plain": [
       "     Name                                              MACCS  \\\n",
       "0  1807.0  0000000000000000000000010001000000000000000001...   \n",
       "1  2453.0  0000000000000000000000000000000000000000000001...   \n",
       "2  2662.0  0000000000000000000000000000000110000000010000...   \n",
       "3  2722.0  0000000000000000000000000000000000000000000000...   \n",
       "4  2812.0  0000000000000000000000000000000000000000000000...   \n",
       "\n",
       "                                         Topological  \\\n",
       "0  0000010000000000000000000000000010001000000000...   \n",
       "1  1000010000010000000001000100100000100000000010...   \n",
       "2  1111010010100000101110100011001101001001100100...   \n",
       "3  1000010010010000100010000110000000100000010010...   \n",
       "4  0001011100000101101010001001010110110000000000...   \n",
       "\n",
       "                                         Morgan ECFP  \\\n",
       "0  0000000000000000000000000000000100001000000000...   \n",
       "1  0000000000000000000100000000000000000000000000...   \n",
       "2  0000100000000000000000000000000001000000000000...   \n",
       "3  0000000000000000000100000000000000000000000000...   \n",
       "4  0100000010000000000000100000000000000000000000...   \n",
       "\n",
       "                                         Morgan FCFP  \\\n",
       "0  1010000010000000100000000010000000000000000000...   \n",
       "1  0001101010000000000000000000000000000001000000...   \n",
       "2  1110101011000000000000000000000000000000000000...   \n",
       "3  0001101010000000000000000000000000000001000000...   \n",
       "4  1000101010001100001000000000000000000000000000...   \n",
       "\n",
       "                                          Pubchem FP  Activity  \n",
       "0  1000000001100010001110000000000000000000000100...         1  \n",
       "1  1000000001110010001000000000000000000000000110...         1  \n",
       "2  1100000001111011001100011000000001000000000000...         1  \n",
       "3  1000000001110010001000000000000000000110000000...         1  \n",
       "4  1110000001111011000000000000000000000100000000...         1  "
      ]
     },
     "execution_count": 11,
     "metadata": {},
     "output_type": "execute_result"
    }
   ],
   "source": [
    "fps_df = pd.DataFrame()\n",
    "fps_df['Name'] = data['PUBCHEM_CID']\n",
    "fps_df['MACCS'] = maccs_fps\n",
    "fps_df['Topological'] = top_fps\n",
    "fps_df['Morgan ECFP'] = ecfp_fps\n",
    "fps_df['Morgan FCFP'] = fcfp_fps\n",
    "fps_df['Pubchem FP'] = pub_fp_decoded\n",
    "fps_df['Activity'] = data['target']\n",
    "fps_df.head()"
   ]
  },
  {
   "cell_type": "code",
   "execution_count": 12,
   "metadata": {},
   "outputs": [],
   "source": [
    "#Writing to csv\n",
    "fps_df.to_csv('Fingerprints Tox21', index = False)\n"
   ]
  },
  {
   "cell_type": "code",
   "execution_count": null,
   "metadata": {},
   "outputs": [],
   "source": []
  },
  {
   "cell_type": "code",
   "execution_count": null,
   "metadata": {},
   "outputs": [],
   "source": []
  },
  {
   "cell_type": "code",
   "execution_count": null,
   "metadata": {},
   "outputs": [],
   "source": []
  },
  {
   "cell_type": "code",
   "execution_count": null,
   "metadata": {},
   "outputs": [],
   "source": []
  },
  {
   "cell_type": "code",
   "execution_count": null,
   "metadata": {},
   "outputs": [],
   "source": []
  },
  {
   "cell_type": "code",
   "execution_count": null,
   "metadata": {},
   "outputs": [],
   "source": []
  },
  {
   "cell_type": "code",
   "execution_count": null,
   "metadata": {},
   "outputs": [],
   "source": []
  },
  {
   "cell_type": "markdown",
   "metadata": {},
   "source": [
    "# Formatting - MACCS"
   ]
  },
  {
   "cell_type": "code",
   "execution_count": 215,
   "metadata": {},
   "outputs": [],
   "source": [
    "#making list of maccs1, maccs2, etc.\n",
    "i = 0\n",
    "maccs_names = ['Name']\n",
    "while (i < len(maccs_fps[0])):\n",
    "    string = \"MACCS\" + str(i + 1)\n",
    "    maccs_names.append(string)\n",
    "    i = i + 1\n",
    "    \n",
    "#Putting quotes around each CID \n",
    "#These are strings, should I change to int\n",
    "i = 0\n",
    "CID_list = fps_df['Name'].tolist()\n",
    "CID_str = []\n",
    "while (i < len(CID_list)):\n",
    "    string = \"\\'\" + str(CID_list[i]) + \"\\'\"\n",
    "    CID_str.append(string)\n",
    "    i = i + 1\n",
    "    \n",
    "#Splitting each bitstring fp into individual bits, and putting them in a df by row\n",
    "first_row = []\n",
    "first_row.append(CID_list[0])\n",
    "first_row.extend([int(a) for a in str(maccs_fps[0])])\n",
    "maccs_df = pd.DataFrame(first_row).T\n",
    "x = 1\n",
    "row = []\n",
    "while (x < len(maccs_fps)):\n",
    "    bit_row1 = [int(y) for y in str(maccs_fps[x])]\n",
    "    row.append(CID_list[x])\n",
    "    row.extend(bit_row1)\n",
    "    row1df = pd.DataFrame(row).T\n",
    "    maccs_df = maccs_df.append(row1df)\n",
    "    row.clear()   \n",
    "    x = x + 1\n",
    "\n",
    "#Reindexing df, MACCS1, MACCS2, etc as column headers\n",
    "maccs_df.columns = [maccs_names]\n",
    "\n",
    "#removing decimals\n",
    "maccs_df = maccs_df.astype(int)"
   ]
  },
  {
   "cell_type": "code",
   "execution_count": 216,
   "metadata": {},
   "outputs": [],
   "source": [
    "#Writing fingerpring information\n",
    "maccs_df.to_csv('maccs_fps.csv', index = False)"
   ]
  },
  {
   "cell_type": "code",
   "execution_count": 199,
   "metadata": {},
   "outputs": [],
   "source": [
    "#Adding activity_score/Making input train data\n",
    "#making list of maccs1, maccs2, etc.\n",
    "i = 0\n",
    "maccs_names = ['Name', 'Activity']\n",
    "while (i < len(maccs_fps[0])):\n",
    "    string = \"MACCS\" + str(i + 1)\n",
    "    maccs_names.append(string)\n",
    "    i = i + 1\n",
    "\n",
    "i = 0\n",
    "CID_list = fps_df['Name'].tolist()\n",
    "act_list = fps_df['Activity'].tolist()\n",
    "\n",
    "first_row = []\n",
    "first_row.append(CID_list[0])\n",
    "first_row.append(act_list[0])\n",
    "first_row.extend([int(a) for a in str(maccs_fps[0])])\n",
    "input_train_maccs = pd.DataFrame(first_row).T\n",
    "x = 1\n",
    "row = []\n",
    "while (x < len(maccs_fps)):\n",
    "    bit_row1 = [int(y) for y in str(maccs_fps[x])]\n",
    "    row.append(CID_list[x])\n",
    "    row.append(act_list[x])\n",
    "    row.extend(bit_row1)\n",
    "    row1df = pd.DataFrame(row).T\n",
    "    input_train_maccs = input_train_maccs.append(row1df)\n",
    "    row.clear()   \n",
    "    x = x + 1\n",
    "    \n",
    "#Reindexing df, MACCS1, MACCS2, etc as column headers\n",
    "input_train_maccs.columns = [maccs_names]\n",
    "\n",
    "#removing decimals\n",
    "input_train_maccs = input_train_maccs.astype(int)"
   ]
  },
  {
   "cell_type": "code",
   "execution_count": 200,
   "metadata": {},
   "outputs": [],
   "source": [
    "#Writing TRAIN MACCS DATA(to TAB DELIMTED FILE?)\n",
    "input_train_maccs.to_csv('input_train_maccs.csv', index = False)"
   ]
  },
  {
   "cell_type": "markdown",
   "metadata": {},
   "source": [
    "# Formatting - Topological Fingerprint "
   ]
  },
  {
   "cell_type": "code",
   "execution_count": 145,
   "metadata": {},
   "outputs": [],
   "source": [
    "#making list of names\n",
    "i = 0\n",
    "top_names = ['Name']\n",
    "while (i < len(top_fps[0])):\n",
    "    string = \"TOP\" + str(i + 1)\n",
    "    top_names.append(string)\n",
    "    i = i + 1"
   ]
  },
  {
   "cell_type": "code",
   "execution_count": 148,
   "metadata": {},
   "outputs": [
    {
     "data": {
      "text/plain": [
       "(1210, 2049)"
      ]
     },
     "execution_count": 148,
     "metadata": {},
     "output_type": "execute_result"
    }
   ],
   "source": [
    "#Splitting each bitstring fp into individual bits, and putting them in a df by row\n",
    "first_row = []\n",
    "first_row.append(CID_list[0])\n",
    "first_row.extend([int(a) for a in str(top_fps[0])])\n",
    "top_df = pd.DataFrame(first_row).T\n",
    "x = 1\n",
    "row = []\n",
    "while (x < len(top_fps)):\n",
    "    bit_row1 = [int(y) for y in str(top_fps[x])]\n",
    "    row.append(CID_list[x])\n",
    "    row.extend(bit_row1)\n",
    "    row1df = pd.DataFrame(row).T\n",
    "    top_df = top_df.append(row1df)\n",
    "    row.clear()   \n",
    "    x = x + 1\n",
    "top_df.shape \n"
   ]
  },
  {
   "cell_type": "code",
   "execution_count": 149,
   "metadata": {},
   "outputs": [],
   "source": [
    "#Reindexing df, MACCS1, MACCS2, etc as column headers\n",
    "top_df.columns = [top_names]\n",
    "\n",
    "#removing decimals\n",
    "top_df = top_df.astype(int)\n"
   ]
  },
  {
   "cell_type": "code",
   "execution_count": 201,
   "metadata": {},
   "outputs": [],
   "source": [
    "#Writing to csv\n",
    "top_df.to_csv('top_fps.csv', index = False)"
   ]
  },
  {
   "cell_type": "code",
   "execution_count": 205,
   "metadata": {},
   "outputs": [],
   "source": [
    "#Adding activity_score/Making input train data\n",
    "#making list of names etc.\n",
    "i = 0\n",
    "top_names = ['Name', 'Activity']\n",
    "while (i < len(top_fps[0])):\n",
    "    string = \"TOP\" + str(i + 1)\n",
    "    top_names.append(string)\n",
    "    i = i + 1\n",
    "\n",
    "first_row = []\n",
    "first_row.append(CID_list[0])\n",
    "first_row.append(act_list[0])\n",
    "first_row.extend([int(a) for a in str(top_fps[0])])\n",
    "input_train_top = pd.DataFrame(first_row).T\n",
    "x = 1\n",
    "row = []\n",
    "while (x < len(top_fps)):\n",
    "    bit_row1 = [int(y) for y in str(top_fps[x])]\n",
    "    row.append(CID_list[x])\n",
    "    row.append(act_list[x])\n",
    "    row.extend(bit_row1)\n",
    "    row1df = pd.DataFrame(row).T\n",
    "    input_train_top = input_train_top.append(row1df)\n",
    "    row.clear()   \n",
    "    x = x + 1\n",
    "    \n",
    "#Reindexing df, MACCS1, MACCS2, etc as column headers\n",
    "input_train_top.columns = [top_names]\n",
    "\n",
    "#removing decimals\n",
    "input_train_top = input_train_top.astype(int)"
   ]
  },
  {
   "cell_type": "code",
   "execution_count": 203,
   "metadata": {},
   "outputs": [],
   "source": [
    "#Writing TRAIN Topological DATA(to TAB DELIMTED FILE?)\n",
    "input_train_top.to_csv('input_train_top.csv', index = False)"
   ]
  },
  {
   "cell_type": "markdown",
   "metadata": {},
   "source": [
    "# Formatting - Morgan (ecfp)"
   ]
  },
  {
   "cell_type": "code",
   "execution_count": 152,
   "metadata": {},
   "outputs": [],
   "source": [
    "#making list of names\n",
    "i = 0\n",
    "ecfp_names = ['Name']\n",
    "while (i < len(ecfp_fps[0])):\n",
    "    string = \"ECFP\" + str(i + 1)\n",
    "    ecfp_names.append(string)\n",
    "    i = i + 1"
   ]
  },
  {
   "cell_type": "code",
   "execution_count": 156,
   "metadata": {},
   "outputs": [
    {
     "data": {
      "text/plain": [
       "(1210, 1025)"
      ]
     },
     "execution_count": 156,
     "metadata": {},
     "output_type": "execute_result"
    }
   ],
   "source": [
    "#Splitting each bitstring fp into individual bits, and putting them in a df by row\n",
    "first_row = []\n",
    "first_row.append(CID_list[0])\n",
    "first_row.extend([int(a) for a in str(ecfp_fps[0])])\n",
    "ecfp_df = pd.DataFrame(first_row).T\n",
    "x = 1\n",
    "row = []\n",
    "while (x < len(ecfp_fps)):\n",
    "    bit_row1 = [int(y) for y in str(ecfp_fps[x])]\n",
    "    row.append(CID_list[x])\n",
    "    row.extend(bit_row1)\n",
    "    row1df = pd.DataFrame(row).T\n",
    "    ecfp_df = ecfp_df.append(row1df)\n",
    "    row.clear()   \n",
    "    x = x + 1\n",
    "ecfp_df.shape \n"
   ]
  },
  {
   "cell_type": "code",
   "execution_count": 157,
   "metadata": {},
   "outputs": [],
   "source": [
    "#Reindexing df, MACCS1, MACCS2, etc as column headers\n",
    "ecfp_df.columns = [ecfp_names]\n",
    "\n",
    "#removing decimals\n",
    "ecfp_df = ecfp_df.astype(int)\n"
   ]
  },
  {
   "cell_type": "code",
   "execution_count": 158,
   "metadata": {},
   "outputs": [],
   "source": [
    "#Writing to csv\n",
    "ecfp_df.to_csv('ecfp_fps.csv', index = False)"
   ]
  },
  {
   "cell_type": "code",
   "execution_count": 208,
   "metadata": {},
   "outputs": [],
   "source": [
    "#Adding activity_score/Making input train data\n",
    "#making list of names etc.\n",
    "i = 0\n",
    "ecfp_names = ['Name', 'Activity']\n",
    "while (i < len(ecfp_fps[0])):\n",
    "    string = \"ECFP\" + str(i + 1)\n",
    "    ecfp_names.append(string)\n",
    "    i = i + 1\n",
    "\n",
    "first_row = []\n",
    "first_row.append(CID_list[0])\n",
    "first_row.append(act_list[0])\n",
    "first_row.extend([int(a) for a in str(ecfp_fps[0])])\n",
    "input_train_ecfp = pd.DataFrame(first_row).T\n",
    "x = 1\n",
    "row = []\n",
    "while (x < len(ecfp_fps)):\n",
    "    bit_row1 = [int(y) for y in str(ecfp_fps[x])]\n",
    "    row.append(CID_list[x])\n",
    "    row.append(act_list[x])\n",
    "    row.extend(bit_row1)\n",
    "    row1df = pd.DataFrame(row).T\n",
    "    input_train_ecfp = input_train_ecfp.append(row1df)\n",
    "    row.clear()   \n",
    "    x = x + 1\n",
    "    \n",
    "#Reindexing df, namesetc as column headers\n",
    "input_train_ecfp.columns = [ecfp_names]\n",
    "\n",
    "#removing decimals\n",
    "input_train_ecfp = input_train_ecfp.astype(int)"
   ]
  },
  {
   "cell_type": "code",
   "execution_count": 209,
   "metadata": {},
   "outputs": [],
   "source": [
    "#Writing TRAIN DATA(to TAB DELIMTED FILE?)\n",
    "input_train_ecfp.to_csv('input_train_ecfp.csv', index = False)"
   ]
  },
  {
   "cell_type": "markdown",
   "metadata": {},
   "source": [
    "# Formatting - Morgan (fcfp)"
   ]
  },
  {
   "cell_type": "code",
   "execution_count": 161,
   "metadata": {},
   "outputs": [],
   "source": [
    "#making list of names\n",
    "i = 0\n",
    "fcfp_names = ['Name']\n",
    "while (i < len(fcfp_fps[0])):\n",
    "    string = \"FCFP\" + str(i + 1)\n",
    "    fcfp_names.append(string)\n",
    "    i = i + 1"
   ]
  },
  {
   "cell_type": "code",
   "execution_count": 159,
   "metadata": {},
   "outputs": [
    {
     "data": {
      "text/plain": [
       "(1210, 1025)"
      ]
     },
     "execution_count": 159,
     "metadata": {},
     "output_type": "execute_result"
    }
   ],
   "source": [
    "#Splitting each bitstring fp into individual bits, and putting them in a df by row\n",
    "first_row = []\n",
    "first_row.append(CID_list[0])\n",
    "first_row.extend([int(a) for a in str(fcfp_fps[0])])\n",
    "fcfp_df = pd.DataFrame(first_row).T\n",
    "x = 1\n",
    "row = []\n",
    "while (x < len(fcfp_fps)):\n",
    "    bit_row1 = [int(y) for y in str(fcfp_fps[x])]\n",
    "    row.append(CID_list[x])\n",
    "    row.extend(bit_row1)\n",
    "    row1df = pd.DataFrame(row).T\n",
    "    fcfp_df = fcfp_df.append(row1df)\n",
    "    row.clear()   \n",
    "    x = x + 1\n",
    "fcfp_df.shape \n"
   ]
  },
  {
   "cell_type": "code",
   "execution_count": 162,
   "metadata": {},
   "outputs": [],
   "source": [
    "#Reindexing df, MACCS1, MACCS2, etc as column headers\n",
    "fcfp_df.columns = [fcfp_names]\n",
    "\n",
    "#removing decimals\n",
    "fcfp_df = fcfp_df.astype(int)\n"
   ]
  },
  {
   "cell_type": "code",
   "execution_count": 163,
   "metadata": {},
   "outputs": [],
   "source": [
    "#Writing to csv\n",
    "fcfp_df.to_csv('fcfp_fps.csv', index = False)"
   ]
  },
  {
   "cell_type": "code",
   "execution_count": 210,
   "metadata": {},
   "outputs": [],
   "source": [
    "#Adding activity_score/Making input train data\n",
    "#making list of names etc.\n",
    "i = 0\n",
    "fcfp_names = ['Name', 'Activity']\n",
    "while (i < len(fcfp_fps[0])):\n",
    "    string = \"FCFP\" + str(i + 1)\n",
    "    fcfp_names.append(string)\n",
    "    i = i + 1\n",
    "\n",
    "#Splitting each bitstring fp into individual bits, and putting them in a df by row\n",
    "first_row = []\n",
    "first_row.append(CID_list[0])\n",
    "first_row.append(act_list[0])\n",
    "first_row.extend([int(a) for a in str(fcfp_fps[0])])\n",
    "input_train_fcfp = pd.DataFrame(first_row).T\n",
    "x = 1\n",
    "row = []\n",
    "while (x < len(fcfp_fps)):\n",
    "    bit_row1 = [int(y) for y in str(fcfp_fps[x])]\n",
    "    row.append(CID_list[x])\n",
    "    row.append(act_list[x])\n",
    "    row.extend(bit_row1)\n",
    "    row1df = pd.DataFrame(row).T\n",
    "    input_train_fcfp = input_train_fcfp.append(row1df)\n",
    "    row.clear()   \n",
    "    x = x + 1\n",
    "\n",
    "    \n",
    "#Reindexing df, namesetc as column headers\n",
    "input_train_fcfp.columns = [fcfp_names]\n",
    "\n",
    "#removing decimals\n",
    "input_train_fcfp = input_train_fcfp.astype(int)"
   ]
  },
  {
   "cell_type": "code",
   "execution_count": 211,
   "metadata": {},
   "outputs": [],
   "source": [
    "#Writing TRAINING DATA to csv\n",
    "input_train_fcfp.to_csv('input_train_fcfp.csv', index = False)"
   ]
  },
  {
   "cell_type": "markdown",
   "metadata": {},
   "source": [
    "# Formatting - PubchemFP"
   ]
  },
  {
   "cell_type": "code",
   "execution_count": 172,
   "metadata": {},
   "outputs": [],
   "source": [
    "#making list of names\n",
    "i = 0\n",
    "pub_fp_names = ['Name']\n",
    "while (i < len(pub_fp_decoded[0])):\n",
    "    string = \"PubFP\" + str(i + 1)\n",
    "    pub_fp_names.append(string)\n",
    "    i = i + 1"
   ]
  },
  {
   "cell_type": "code",
   "execution_count": 171,
   "metadata": {},
   "outputs": [
    {
     "data": {
      "text/plain": [
       "(1210, 882)"
      ]
     },
     "execution_count": 171,
     "metadata": {},
     "output_type": "execute_result"
    }
   ],
   "source": [
    "#Splitting each bitstring fp into individual bits, and putting them in a df by row\n",
    "first_row = []\n",
    "first_row.append(CID_list[0])\n",
    "first_row.extend([int(a) for a in str(pub_fp_decoded[0])])\n",
    "pub_fp_df = pd.DataFrame(first_row).T\n",
    "x = 1\n",
    "row = []\n",
    "while (x < len(pub_fp_decoded)):\n",
    "    bit_row1 = [int(y) for y in str(pub_fp_decoded[x])]\n",
    "    row.append(CID_list[x])\n",
    "    row.extend(bit_row1)\n",
    "    row1df = pd.DataFrame(row).T\n",
    "    pub_fp_df = pub_fp_df.append(row1df)\n",
    "    row.clear()   \n",
    "    x = x + 1\n",
    "pub_fp_df.shape \n"
   ]
  },
  {
   "cell_type": "code",
   "execution_count": 173,
   "metadata": {},
   "outputs": [],
   "source": [
    "#Reindexing df, MACCS1, MACCS2, etc as column headers\n",
    "pub_fp_df.columns = [pub_fp_names]\n",
    "\n",
    "#removing decimals\n",
    "pub_fp_df = pub_fp_df.astype(int)"
   ]
  },
  {
   "cell_type": "code",
   "execution_count": 174,
   "metadata": {},
   "outputs": [],
   "source": [
    "#Writing to csv\n",
    "pub_fp_df.to_csv('pub_fps.csv', index = False)"
   ]
  },
  {
   "cell_type": "code",
   "execution_count": 212,
   "metadata": {},
   "outputs": [],
   "source": [
    "#Adding activity_score/Making input train data\n",
    "#making list of names etc.\n",
    "i = 0\n",
    "pub_fp_names = ['Name', 'Activity']\n",
    "while (i < len(pub_fp_decoded[0])):\n",
    "    string = \"PubFP\" + str(i + 1)\n",
    "    pub_fp_names.append(string)\n",
    "    i = i + 1\n",
    "\n",
    "first_row = []\n",
    "first_row.append(CID_list[0])\n",
    "first_row.append(act_list[0])\n",
    "first_row.extend([int(a) for a in str(pub_fp_decoded[0])])\n",
    "input_train_pub = pd.DataFrame(first_row).T\n",
    "x = 1\n",
    "row = []\n",
    "while (x < len(pub_fp_decoded)):\n",
    "    bit_row1 = [int(y) for y in str(pub_fp_decoded[x])]\n",
    "    row.append(CID_list[x])\n",
    "    row.append(act_list[x])\n",
    "    row.extend(bit_row1)\n",
    "    row1df = pd.DataFrame(row).T\n",
    "    input_train_pub = input_train_pub.append(row1df)\n",
    "    row.clear()   \n",
    "    x = x + 1\n",
    "\n",
    "    \n",
    "#Reindexing df, namesetc as column headers\n",
    "input_train_pub.columns = [pub_fp_names]\n",
    "\n",
    "#removing decimals\n",
    "input_train_pub = input_train_pub.astype(int)"
   ]
  },
  {
   "cell_type": "code",
   "execution_count": 213,
   "metadata": {},
   "outputs": [],
   "source": [
    "#Writing TRAINING DATA to csv\n",
    "input_train_pub.to_csv('input_train_pub.csv', index = False)"
   ]
  },
  {
   "cell_type": "code",
   "execution_count": null,
   "metadata": {},
   "outputs": [],
   "source": []
  }
 ],
 "metadata": {
  "kernelspec": {
   "display_name": "Python 3",
   "language": "python",
   "name": "python3"
  },
  "language_info": {
   "codemirror_mode": {
    "name": "ipython",
    "version": 3
   },
   "file_extension": ".py",
   "mimetype": "text/x-python",
   "name": "python",
   "nbconvert_exporter": "python",
   "pygments_lexer": "ipython3",
   "version": "3.6.8"
  }
 },
 "nbformat": 4,
 "nbformat_minor": 2
}

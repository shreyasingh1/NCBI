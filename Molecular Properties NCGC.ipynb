{
 "cells": [
  {
   "cell_type": "code",
   "execution_count": 1,
   "metadata": {},
   "outputs": [],
   "source": [
    "import numpy as np\n",
    "import pandas as pd\n",
    "import matplotlib.pyplot as plt\n",
    "import seaborn as sns\n",
    "import requests\n",
    "import re\n",
    "%matplotlib inline\n",
    "\n",
    "from urllib.request import urlopen\n",
    "from bs4 import BeautifulSoup\n",
    "\n",
    "import time\n",
    "\n",
    "#hiding warning messages\n",
    "import warnings\n",
    "warnings.filterwarnings(\"ignore\")\n",
    "\n",
    "#Reading in Summary MERGED CSV\n",
    "data = pd.read_csv('NCGC_clean')"
   ]
  },
  {
   "cell_type": "code",
   "execution_count": 6,
   "metadata": {},
   "outputs": [],
   "source": [
    "CID_list = data['PUBCHEM_CID'].tolist()\n",
    "\n",
    "#Making them integers (removing decimals)\n",
    "CID_list = [int(i) for i in CID_list]\n",
    "str1 = (str(CID_list)[1:-1])\n",
    "str1 = str1 .replace(' ', '')"
   ]
  },
  {
   "cell_type": "markdown",
   "metadata": {},
   "source": [
    "# Downloading Molecular Formulas"
   ]
  },
  {
   "cell_type": "code",
   "execution_count": 12,
   "metadata": {},
   "outputs": [
    {
     "data": {
      "text/plain": [
       "328"
      ]
     },
     "execution_count": 12,
     "metadata": {},
     "output_type": "execute_result"
    }
   ],
   "source": [
    "#opening and reading the 13 molecular formula URLs\n",
    "url1 = ('https://pubchem.ncbi.nlm.nih.gov/rest/pug/compound/cid/' + str1 + '/property/MolecularFormula/TXT')\n",
    "html1 = urlopen(url1) \n",
    "soup1 = BeautifulSoup(html1, 'lxml')\n",
    "\n",
    "formula = soup1.get_text()\n",
    "\n",
    "#formulas string to formulas list\n",
    "formula = formula.split()\n",
    "len(formula)"
   ]
  },
  {
   "cell_type": "markdown",
   "metadata": {},
   "source": [
    "# Downloading Molecular Weights"
   ]
  },
  {
   "cell_type": "code",
   "execution_count": 14,
   "metadata": {},
   "outputs": [
    {
     "data": {
      "text/plain": [
       "328"
      ]
     },
     "execution_count": 14,
     "metadata": {},
     "output_type": "execute_result"
    }
   ],
   "source": [
    "url1 = ('https://pubchem.ncbi.nlm.nih.gov/rest/pug/compound/cid/' + str1 + '/property/MolecularWeight/TXT')\n",
    "html1 = urlopen(url1) \n",
    "soup1 = BeautifulSoup(html1, 'lxml')\n",
    "\n",
    "weights = soup1.get_text()\n",
    "\n",
    "#weight string to weight list\n",
    "weights = weights.split()\n",
    "len(weights)"
   ]
  },
  {
   "cell_type": "markdown",
   "metadata": {},
   "source": [
    "# Downloading Hydrogen Bond Doner Count"
   ]
  },
  {
   "cell_type": "code",
   "execution_count": 15,
   "metadata": {},
   "outputs": [
    {
     "data": {
      "text/plain": [
       "328"
      ]
     },
     "execution_count": 15,
     "metadata": {},
     "output_type": "execute_result"
    }
   ],
   "source": [
    "url1 = ('https://pubchem.ncbi.nlm.nih.gov/rest/pug/compound/cid/' + str1 + '/property/HBondDonorCount/TXT')\n",
    "html1 = urlopen(url1) \n",
    "soup1 = BeautifulSoup(html1, 'lxml')\n",
    "\n",
    "HBondDonorCount = soup1.get_text()\n",
    "\n",
    "#weight string to HBondDonorCount list\n",
    "HBondDonorCount = HBondDonorCount.split()\n",
    "len(HBondDonorCount)"
   ]
  },
  {
   "cell_type": "markdown",
   "metadata": {},
   "source": [
    "# Downloading Hydrogen Bond Acceptor Count"
   ]
  },
  {
   "cell_type": "code",
   "execution_count": 16,
   "metadata": {},
   "outputs": [
    {
     "data": {
      "text/plain": [
       "328"
      ]
     },
     "execution_count": 16,
     "metadata": {},
     "output_type": "execute_result"
    }
   ],
   "source": [
    "url1 = ('https://pubchem.ncbi.nlm.nih.gov/rest/pug/compound/cid/' + str1 + '/property/HBondAcceptorCount/TXT')\n",
    "html1 = urlopen(url1) \n",
    "soup1 = BeautifulSoup(html1, 'lxml')\n",
    "\n",
    "HBondAcceptorCount = soup1.get_text()\n",
    "\n",
    "#weight string to Acceptor list\n",
    "HBondAcceptorCount = HBondAcceptorCount.split()\n",
    "len(HBondAcceptorCount)"
   ]
  },
  {
   "cell_type": "markdown",
   "metadata": {},
   "source": [
    "# Rotatable Bond Count"
   ]
  },
  {
   "cell_type": "code",
   "execution_count": 17,
   "metadata": {},
   "outputs": [
    {
     "data": {
      "text/plain": [
       "328"
      ]
     },
     "execution_count": 17,
     "metadata": {},
     "output_type": "execute_result"
    }
   ],
   "source": [
    "#Getting list of Rotatable Bond Count values for all CID\n",
    "#We do this because some values don't have Rotatable Bond Values values\n",
    "#takes like an hr to run\n",
    "\n",
    "RotatableBondCount = []\n",
    "i = 0\n",
    "while i < len(CID_list):\n",
    "    try:\n",
    "    # (list_cov_multi[i] == '2'):\n",
    "        url1 = 'https://pubchem.ncbi.nlm.nih.gov/rest/pug/compound/cid/' + str(CID_list[i]) + '/property/RotatableBondCount/TXT'\n",
    "        html1 = urlopen(url1) \n",
    "        soup1 = BeautifulSoup(html1, 'lxml')\n",
    "        parent1 = soup1.get_text()\n",
    "        RotatableBondCount.append(parent1)\n",
    "        i = i + 1\n",
    "       # else:\n",
    "        #    i = i + 1\n",
    "    except:\n",
    "        time.sleep(2)\n",
    "        i = i\n",
    "        #XLogP.append('None')\n",
    "        #i = i + 1\n",
    "\n",
    "len(RotatableBondCount)"
   ]
  },
  {
   "cell_type": "code",
   "execution_count": 18,
   "metadata": {},
   "outputs": [],
   "source": [
    "#Removing '\\n from the end of each XLogP value in list: XLogP'\n",
    "bad_chars = ['\\n']\n",
    "\n",
    "i = 0\n",
    "while i < len(RotatableBondCount):\n",
    "    if RotatableBondCount[i] == 'None':\n",
    "        i = i + 1\n",
    "    else:\n",
    "        for j in bad_chars: \n",
    "            RotatableBondCount[i] = RotatableBondCount[i].replace(j, '')\n",
    "            i = i + 1\n"
   ]
  },
  {
   "cell_type": "markdown",
   "metadata": {},
   "source": [
    "# Downloading Canonical Smiles"
   ]
  },
  {
   "cell_type": "code",
   "execution_count": 19,
   "metadata": {},
   "outputs": [
    {
     "data": {
      "text/plain": [
       "328"
      ]
     },
     "execution_count": 19,
     "metadata": {},
     "output_type": "execute_result"
    }
   ],
   "source": [
    "url1 = ('https://pubchem.ncbi.nlm.nih.gov/rest/pug/compound/cid/' + str1 + '/property/CanonicalSMILES/TXT')\n",
    "html1 = urlopen(url1) \n",
    "soup1 = BeautifulSoup(html1, 'lxml')\n",
    "\n",
    "cSMILES = soup1.get_text()\n",
    "\n",
    "#weight string to cSMILES list\n",
    "cSMILES = cSMILES.split()\n",
    "len(cSMILES)"
   ]
  },
  {
   "cell_type": "markdown",
   "metadata": {},
   "source": [
    "# Downloading Isomeric Smiles"
   ]
  },
  {
   "cell_type": "code",
   "execution_count": 20,
   "metadata": {},
   "outputs": [
    {
     "data": {
      "text/plain": [
       "328"
      ]
     },
     "execution_count": 20,
     "metadata": {},
     "output_type": "execute_result"
    }
   ],
   "source": [
    "url1 = ('https://pubchem.ncbi.nlm.nih.gov/rest/pug/compound/cid/' + str1 + '/property/IsomericSMILES/TXT')\n",
    "html1 = urlopen(url1) \n",
    "soup1 = BeautifulSoup(html1, 'lxml')\n",
    "\n",
    "iSMILES = soup1.get_text()\n",
    "\n",
    "#weight string to iSMILES list\n",
    "iSMILES = iSMILES.split()\n",
    "len(iSMILES)"
   ]
  },
  {
   "cell_type": "markdown",
   "metadata": {},
   "source": [
    "# Downloading InChI (international chemical identifier)"
   ]
  },
  {
   "cell_type": "code",
   "execution_count": 22,
   "metadata": {},
   "outputs": [
    {
     "data": {
      "text/plain": [
       "328"
      ]
     },
     "execution_count": 22,
     "metadata": {},
     "output_type": "execute_result"
    }
   ],
   "source": [
    "url1 = ('https://pubchem.ncbi.nlm.nih.gov/rest/pug/compound/cid/' + str1 + '/property/InChI/TXT')\n",
    "html1 = urlopen(url1) \n",
    "soup1 = BeautifulSoup(html1, 'lxml')\n",
    "\n",
    "InChI = soup1.get_text()\n",
    "\n",
    "#weight string to InChI list\n",
    "InChI = InChI.split()\n",
    "len(InChI)"
   ]
  },
  {
   "cell_type": "markdown",
   "metadata": {},
   "source": [
    "# Downloading XLogP"
   ]
  },
  {
   "cell_type": "code",
   "execution_count": 23,
   "metadata": {},
   "outputs": [
    {
     "data": {
      "text/plain": [
       "328"
      ]
     },
     "execution_count": 23,
     "metadata": {},
     "output_type": "execute_result"
    }
   ],
   "source": [
    "#Getting list of XLogP values for all CID\n",
    "#We do this because some values don't have XLogP values\n",
    "XLogP = []\n",
    "i = 0\n",
    "while i < len(CID_list):\n",
    "    try:\n",
    "    \n",
    "        url1 = 'https://pubchem.ncbi.nlm.nih.gov/rest/pug/compound/cid/' + str(CID_list[i]) + '/property/XLogP/TXT'\n",
    "        html1 = urlopen(url1) \n",
    "        soup1 = BeautifulSoup(html1, 'lxml')\n",
    "        parent1 = soup1.get_text()\n",
    "        XLogP.append(parent1)\n",
    "        i = i + 1\n",
    "     \n",
    "    except:\n",
    "        time.sleep(2)\n",
    "        i = i\n",
    "        \n",
    "\n",
    "len(XLogP)"
   ]
  },
  {
   "cell_type": "code",
   "execution_count": 25,
   "metadata": {},
   "outputs": [],
   "source": [
    "#Removing '\\n from the end of each XLogP value in list: XLogP'\n",
    "bad_chars = ['\\n']\n",
    "\n",
    "i = 0\n",
    "while i < len(XLogP):\n",
    "    if XLogP[i] == 'None':\n",
    "        i = i + 1\n",
    "    else:\n",
    "        for j in bad_chars: \n",
    "            XLogP[i] = XLogP[i].replace(j, '')\n",
    "            i = i + 1\n"
   ]
  },
  {
   "cell_type": "markdown",
   "metadata": {},
   "source": [
    "# Downloading Exact Mass"
   ]
  },
  {
   "cell_type": "code",
   "execution_count": 26,
   "metadata": {},
   "outputs": [
    {
     "data": {
      "text/plain": [
       "328"
      ]
     },
     "execution_count": 26,
     "metadata": {},
     "output_type": "execute_result"
    }
   ],
   "source": [
    "url1 = ('https://pubchem.ncbi.nlm.nih.gov/rest/pug/compound/cid/' + str1 + '/property/ExactMass/TXT')\n",
    "html1 = urlopen(url1) \n",
    "soup1 = BeautifulSoup(html1, 'lxml')\n",
    "\n",
    "eMass = soup1.get_text()\n",
    "\n",
    "#weight string to eMass list\n",
    "eMass = eMass.split()\n",
    "len(eMass)"
   ]
  },
  {
   "cell_type": "markdown",
   "metadata": {},
   "source": [
    "# Downloading Topological Polar Surface Area (TPSA)"
   ]
  },
  {
   "cell_type": "code",
   "execution_count": 28,
   "metadata": {},
   "outputs": [
    {
     "data": {
      "text/plain": [
       "328"
      ]
     },
     "execution_count": 28,
     "metadata": {},
     "output_type": "execute_result"
    }
   ],
   "source": [
    "url1 = ('https://pubchem.ncbi.nlm.nih.gov/rest/pug/compound/cid/' + str1 + '/property/TPSA/TXT')\n",
    "html1 = urlopen(url1) \n",
    "soup1 = BeautifulSoup(html1, 'lxml')\n",
    "\n",
    "TPSA = soup1.get_text()\n",
    "\n",
    "#weight string to TPSA list\n",
    "TPSA = TPSA.split()\n",
    "len(TPSA)"
   ]
  },
  {
   "cell_type": "markdown",
   "metadata": {},
   "source": [
    "# Downloading Heavy Atom Count"
   ]
  },
  {
   "cell_type": "code",
   "execution_count": 29,
   "metadata": {},
   "outputs": [
    {
     "data": {
      "text/plain": [
       "328"
      ]
     },
     "execution_count": 29,
     "metadata": {},
     "output_type": "execute_result"
    }
   ],
   "source": [
    "url1 = ('https://pubchem.ncbi.nlm.nih.gov/rest/pug/compound/cid/' + str1 + '/property/HeavyAtomCount/TXT')\n",
    "html1 = urlopen(url1) \n",
    "soup1 = BeautifulSoup(html1, 'lxml')\n",
    "\n",
    "HeavyAtomCount = soup1.get_text()\n",
    "\n",
    "#weight string to HeavyAtomCount list\n",
    "HeavyAtomCount = HeavyAtomCount.split()\n",
    "len(HeavyAtomCount)"
   ]
  },
  {
   "cell_type": "markdown",
   "metadata": {},
   "source": [
    "# Downloading Complexity"
   ]
  },
  {
   "cell_type": "code",
   "execution_count": 31,
   "metadata": {},
   "outputs": [
    {
     "data": {
      "text/plain": [
       "328"
      ]
     },
     "execution_count": 31,
     "metadata": {},
     "output_type": "execute_result"
    }
   ],
   "source": [
    "url1 = ('https://pubchem.ncbi.nlm.nih.gov/rest/pug/compound/cid/' + str1 + '/property/Complexity/TXT')\n",
    "html1 = urlopen(url1) \n",
    "soup1 = BeautifulSoup(html1, 'lxml')\n",
    "\n",
    "Complexity = soup1.get_text()\n",
    "\n",
    "#weight string to Complexity list\n",
    "Complexity = Complexity.split()\n",
    "len(Complexity)"
   ]
  },
  {
   "cell_type": "markdown",
   "metadata": {},
   "source": [
    "# Adding molecular properties into DF"
   ]
  },
  {
   "cell_type": "code",
   "execution_count": 33,
   "metadata": {},
   "outputs": [
    {
     "data": {
      "text/html": [
       "<div>\n",
       "<style scoped>\n",
       "    .dataframe tbody tr th:only-of-type {\n",
       "        vertical-align: middle;\n",
       "    }\n",
       "\n",
       "    .dataframe tbody tr th {\n",
       "        vertical-align: top;\n",
       "    }\n",
       "\n",
       "    .dataframe thead th {\n",
       "        text-align: right;\n",
       "    }\n",
       "</style>\n",
       "<table border=\"1\" class=\"dataframe\">\n",
       "  <thead>\n",
       "    <tr style=\"text-align: right;\">\n",
       "      <th></th>\n",
       "      <th>Activity Summary</th>\n",
       "      <th>PUBCHEM_CID</th>\n",
       "      <th>Ratio Efficacy (%)</th>\n",
       "      <th>Ratio Potency (uM)</th>\n",
       "      <th>MolecularFormula</th>\n",
       "      <th>MolecularWeight</th>\n",
       "      <th>HBondDonorCount</th>\n",
       "      <th>HBondAcceptorCount</th>\n",
       "      <th>RotatableBondCount</th>\n",
       "      <th>CanonicalSMILES</th>\n",
       "      <th>IsomericSMILES</th>\n",
       "      <th>InChI</th>\n",
       "      <th>XLogP</th>\n",
       "      <th>ExactMass</th>\n",
       "      <th>TPSA</th>\n",
       "      <th>HeavyAtomCount</th>\n",
       "      <th>Complexity</th>\n",
       "    </tr>\n",
       "  </thead>\n",
       "  <tbody>\n",
       "    <tr>\n",
       "      <th>0</th>\n",
       "      <td>inactive</td>\n",
       "      <td>6140</td>\n",
       "      <td>0.0000</td>\n",
       "      <td>0.0000</td>\n",
       "      <td>C9H11NO2</td>\n",
       "      <td>165.190000</td>\n",
       "      <td>2</td>\n",
       "      <td>3</td>\n",
       "      <td>3</td>\n",
       "      <td>C1=CC=C(C=C1)CC(C(=O)O)N</td>\n",
       "      <td>C1=CC=C(C=C1)C[C@@H](C(=O)O)N</td>\n",
       "      <td>InChI=1S/C9H11NO2/c10-8(9(11)12)6-7-4-2-1-3-5-...</td>\n",
       "      <td>-1.500</td>\n",
       "      <td>165.078979</td>\n",
       "      <td>63.3</td>\n",
       "      <td>12</td>\n",
       "      <td>153.0</td>\n",
       "    </tr>\n",
       "    <tr>\n",
       "      <th>1</th>\n",
       "      <td>inactive</td>\n",
       "      <td>7321</td>\n",
       "      <td>0.0000</td>\n",
       "      <td>0.0000</td>\n",
       "      <td>C6H5N3O4</td>\n",
       "      <td>183.120000</td>\n",
       "      <td>1</td>\n",
       "      <td>5</td>\n",
       "      <td>0</td>\n",
       "      <td>C1=CC(=C(C=C1[N+](=O)[O-])[N+](=O)[O-])N</td>\n",
       "      <td>C1=CC(=C(C=C1[N+](=O)[O-])[N+](=O)[O-])N</td>\n",
       "      <td>InChI=1S/C6H5N3O4/c7-5-2-1-4(8(10)11)3-6(5)9(1...</td>\n",
       "      <td>1.000</td>\n",
       "      <td>183.028006</td>\n",
       "      <td>118.0</td>\n",
       "      <td>13</td>\n",
       "      <td>221.0</td>\n",
       "    </tr>\n",
       "    <tr>\n",
       "      <th>2</th>\n",
       "      <td>inactive</td>\n",
       "      <td>7389</td>\n",
       "      <td>0.0000</td>\n",
       "      <td>0.0000</td>\n",
       "      <td>C6H8AsNO3</td>\n",
       "      <td>217.050000</td>\n",
       "      <td>3</td>\n",
       "      <td>4</td>\n",
       "      <td>1</td>\n",
       "      <td>C1=CC(=CC=C1N)[As](=O)(O)O</td>\n",
       "      <td>C1=CC(=CC=C1N)[As](=O)(O)O</td>\n",
       "      <td>InChI=1S/C6H8AsNO3/c8-6-3-1-5(2-4-6)7(9,10)11/...</td>\n",
       "      <td></td>\n",
       "      <td>216.972013</td>\n",
       "      <td>83.6</td>\n",
       "      <td>11</td>\n",
       "      <td>171.0</td>\n",
       "    </tr>\n",
       "    <tr>\n",
       "      <th>3</th>\n",
       "      <td>inactive</td>\n",
       "      <td>8030</td>\n",
       "      <td>0.0000</td>\n",
       "      <td>0.0000</td>\n",
       "      <td>C4H4S</td>\n",
       "      <td>84.140000</td>\n",
       "      <td>0</td>\n",
       "      <td>1</td>\n",
       "      <td>0</td>\n",
       "      <td>C1=CSC=C1</td>\n",
       "      <td>C1=CSC=C1</td>\n",
       "      <td>InChI=1S/C4H4S/c1-2-4-5-3-1/h1-4H</td>\n",
       "      <td>1.800</td>\n",
       "      <td>84.003371</td>\n",
       "      <td>28.2</td>\n",
       "      <td>5</td>\n",
       "      <td>22.8</td>\n",
       "    </tr>\n",
       "    <tr>\n",
       "      <th>4</th>\n",
       "      <td>active antagonist</td>\n",
       "      <td>8247</td>\n",
       "      <td>45.2209</td>\n",
       "      <td>3.5481</td>\n",
       "      <td>C8H10N2O</td>\n",
       "      <td>150.180000</td>\n",
       "      <td>2</td>\n",
       "      <td>2</td>\n",
       "      <td>2</td>\n",
       "      <td>CC(=O)NNC1=CC=CC=C1</td>\n",
       "      <td>CC(=O)NNC1=CC=CC=C1</td>\n",
       "      <td>InChI=1S/C8H10N2O/c1-7(11)9-10-8-5-3-2-4-6-8/h...</td>\n",
       "      <td>0.700</td>\n",
       "      <td>150.079313</td>\n",
       "      <td>41.1</td>\n",
       "      <td>11</td>\n",
       "      <td>130.0</td>\n",
       "    </tr>\n",
       "  </tbody>\n",
       "</table>\n",
       "</div>"
      ],
      "text/plain": [
       "    Activity Summary  PUBCHEM_CID  Ratio Efficacy (%)  Ratio Potency (uM)  \\\n",
       "0           inactive         6140              0.0000              0.0000   \n",
       "1           inactive         7321              0.0000              0.0000   \n",
       "2           inactive         7389              0.0000              0.0000   \n",
       "3           inactive         8030              0.0000              0.0000   \n",
       "4  active antagonist         8247             45.2209              3.5481   \n",
       "\n",
       "  MolecularFormula MolecularWeight HBondDonorCount HBondAcceptorCount  \\\n",
       "0         C9H11NO2      165.190000               2                  3   \n",
       "1         C6H5N3O4      183.120000               1                  5   \n",
       "2        C6H8AsNO3      217.050000               3                  4   \n",
       "3            C4H4S       84.140000               0                  1   \n",
       "4         C8H10N2O      150.180000               2                  2   \n",
       "\n",
       "  RotatableBondCount                           CanonicalSMILES  \\\n",
       "0                  3                  C1=CC=C(C=C1)CC(C(=O)O)N   \n",
       "1                  0  C1=CC(=C(C=C1[N+](=O)[O-])[N+](=O)[O-])N   \n",
       "2                  1                C1=CC(=CC=C1N)[As](=O)(O)O   \n",
       "3                  0                                 C1=CSC=C1   \n",
       "4                  2                       CC(=O)NNC1=CC=CC=C1   \n",
       "\n",
       "                             IsomericSMILES  \\\n",
       "0             C1=CC=C(C=C1)C[C@@H](C(=O)O)N   \n",
       "1  C1=CC(=C(C=C1[N+](=O)[O-])[N+](=O)[O-])N   \n",
       "2                C1=CC(=CC=C1N)[As](=O)(O)O   \n",
       "3                                 C1=CSC=C1   \n",
       "4                       CC(=O)NNC1=CC=CC=C1   \n",
       "\n",
       "                                               InChI   XLogP   ExactMass  \\\n",
       "0  InChI=1S/C9H11NO2/c10-8(9(11)12)6-7-4-2-1-3-5-...  -1.500  165.078979   \n",
       "1  InChI=1S/C6H5N3O4/c7-5-2-1-4(8(10)11)3-6(5)9(1...   1.000  183.028006   \n",
       "2  InChI=1S/C6H8AsNO3/c8-6-3-1-5(2-4-6)7(9,10)11/...          216.972013   \n",
       "3                  InChI=1S/C4H4S/c1-2-4-5-3-1/h1-4H   1.800   84.003371   \n",
       "4  InChI=1S/C8H10N2O/c1-7(11)9-10-8-5-3-2-4-6-8/h...   0.700  150.079313   \n",
       "\n",
       "    TPSA HeavyAtomCount Complexity  \n",
       "0   63.3             12      153.0  \n",
       "1  118.0             13      221.0  \n",
       "2   83.6             11      171.0  \n",
       "3   28.2              5       22.8  \n",
       "4   41.1             11      130.0  "
      ]
     },
     "execution_count": 33,
     "metadata": {},
     "output_type": "execute_result"
    }
   ],
   "source": [
    "#Making a copy of the original data dataframe\n",
    "df_full = data\n",
    "df_full['MolecularFormula'] = formula\n",
    "df_full['MolecularWeight'] = weights\n",
    "df_full['HBondDonorCount'] = HBondDonorCount\n",
    "df_full['HBondAcceptorCount'] = HBondAcceptorCount\n",
    "df_full['RotatableBondCount'] = RotatableBondCount\n",
    "df_full['CanonicalSMILES'] = cSMILES\n",
    "df_full['IsomericSMILES'] = iSMILES\n",
    "df_full['InChI'] = InChI\n",
    "df_full['XLogP'] = XLogP\n",
    "df_full['ExactMass'] = eMass\n",
    "df_full['TPSA'] = TPSA\n",
    "df_full['HeavyAtomCount'] = HeavyAtomCount\n",
    "df_full['Complexity'] = Complexity\n",
    "df_full.head()"
   ]
  },
  {
   "cell_type": "code",
   "execution_count": 34,
   "metadata": {},
   "outputs": [
    {
     "data": {
      "text/plain": [
       "(328, 17)"
      ]
     },
     "execution_count": 34,
     "metadata": {},
     "output_type": "execute_result"
    }
   ],
   "source": [
    "df_full.shape"
   ]
  },
  {
   "cell_type": "code",
   "execution_count": 36,
   "metadata": {},
   "outputs": [],
   "source": [
    "#Writing to csv\n",
    "df_full.to_csv('NCGC_Molecular_Properties_CSV', index = False)\n",
    "#final = pd.read_csv('NCGC_Molecular_Properties_CSV')\n",
    "#final.head()"
   ]
  },
  {
   "cell_type": "code",
   "execution_count": null,
   "metadata": {},
   "outputs": [],
   "source": []
  },
  {
   "cell_type": "code",
   "execution_count": null,
   "metadata": {},
   "outputs": [],
   "source": []
  }
 ],
 "metadata": {
  "kernelspec": {
   "display_name": "Python 3",
   "language": "python",
   "name": "python3"
  },
  "language_info": {
   "codemirror_mode": {
    "name": "ipython",
    "version": 3
   },
   "file_extension": ".py",
   "mimetype": "text/x-python",
   "name": "python",
   "nbconvert_exporter": "python",
   "pygments_lexer": "ipython3",
   "version": "3.6.8"
  }
 },
 "nbformat": 4,
 "nbformat_minor": 2
}
